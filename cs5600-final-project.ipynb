{
 "cells": [
  {
   "cell_type": "code",
   "execution_count": 7,
   "metadata": {},
   "outputs": [],
   "source": [
    "import numpy as np\n",
    "import pandas as pd\n",
    "import matplotlib.pyplot as plt \n",
    "import seaborn as sns\n",
    "import time\n",
    "import tensorflow as tf\n",
    "import metrics as mymetrics\n",
    "import sklearn.preprocessing as preprocessing\n",
    "from sklearn.model_selection import train_test_split\n",
    "from sklearn.ensemble import RandomForestClassifier as RF\n",
    "from sklearn.ensemble import AdaBoostClassifier as AdaBoost\n",
    "from sklearn.ensemble import BaggingClassifier\n",
    "from sklearn.svm import SVC\n",
    "from sklearn.svm import LinearSVC\n",
    "from sklearn.decomposition import PCA\n",
    "from sklearn.decomposition import IncrementalPCA\n",
    "from sklearn.cluster import KMeans\n",
    "from sklearn.mixture import GaussianMixture as GMM\n",
    "from sklearn.linear_model import LogisticRegression as LR\n",
    "from sklearn.metrics import plot_roc_curve, roc_curve, auc\n",
    "from tensorflow import keras\n",
    "from joblib import dump, load\n",
    "%matplotlib inline"
   ]
  },
  {
   "cell_type": "markdown",
   "metadata": {},
   "source": [
    "# CS5600 Final Project by Jeff Gradner\n",
    "***\n",
    "### About\n",
    "The goal of this project and notebook is to compare the performance of supervised and unsupervised machine learning techniques in classifying whether treatment of an animal will be successful. The data I'm using can be found in `data/raw_data.csv` and is provided by a Utah feedlot operation.\n",
    "***\n",
    "### Preprocesing\n",
    "I'll preprocess the data by adding calculated features, removing features, and performing feature engineering by normalization and standardization. \n",
    "***\n",
    "### Visualization\n",
    "I'll use Matplotlib to visualize and gain insight from the raw data, processed data and results from different algorithms.\n",
    "***\n",
    "### Algorithms\n",
    "I'll use a variety of different techniques and apply cross-validation and hyperparameter tuning where applicable:\n",
    "#### Supervised\n",
    "* Random Forests (RF)\n",
    "* AdaBoost\n",
    "* Support Vector Machines (SVM)\n",
    "* Logistic Regression\n",
    "* Neural Networks (NN)\n",
    "\n",
    "#### Unsupervised\n",
    "* Gaussian Mixed Models (GMM)\n",
    "* K-Means (KMeans)\n",
    "* Primary Component Analysis (PCA)\n",
    "* Kernel Primary Component Analysis (KPCA)\n",
    "***\n",
    "### Table of Contents\n",
    "\n",
    "* [Raw Data Visualization](#rawDataVis)\n",
    "* [Pre Processing](#preprocessing)\n",
    "* [Splitting the Data](#splitting)\n",
    "* [Supervised Algorithms](#supervised) \n",
    "    * [Random Forest](#rf)\n",
    "    * [AdaBoost](#ada)\n",
    "    * [Support Vecor Machine](#svm)\n",
    "    * [Logistic Regression](#lr)\n",
    "    * [Neural Network](#nn)\n",
    "* [Unsupervised Algorithms](#unsupervised)\n",
    "    * [Gaussian Mixed Models](#gmm)\n",
    "    * [K-Means](#kmean)\n",
    "    * [Primary Component Analysis](#pca)\n",
    "    * [Kernel Primary Component Analysis](#kpca)\n",
    "* [ROC Curves](#roc)"
   ]
  },
  {
   "cell_type": "markdown",
   "metadata": {},
   "source": [
    "<a id=\"rawDataVis\"></a>\n",
    "# Raw Data Visualization"
   ]
  },
  {
   "cell_type": "markdown",
   "metadata": {},
   "source": [
    "Below I'm reading the original data into a Pandas DataFrame and assign the dtype to each column based on observing the data in a spreadsheet."
   ]
  },
  {
   "cell_type": "code",
   "execution_count": null,
   "metadata": {},
   "outputs": [],
   "source": [
    "df_raw = pd.read_csv('data/raw_data.csv', dtype={'yard.lot.tag.date':'object',\n",
    "                                                            'Yard.Lot': 'object',\n",
    "                                                            'yard.lot.tag':'object',\n",
    "                                                            'Yard': 'string',\n",
    "                                                            'Lot': 'string',\n",
    "                                                            'Treat.Date':'string',\n",
    "                                                            'Drug': 'string',\n",
    "                                                            'Treat.Weight':'int64',\n",
    "                                                            'Treat.Temperature':'float64',\n",
    "                                                            'Sex': 'string',\n",
    "                                                            'Treatment.Number':'int64',\n",
    "                                                            'Head.Received': 'int64',\n",
    "                                                            'Arrival.Date': 'string',\n",
    "                                                            'Arrival.Weight':'float64',\n",
    "                                                            'Death.Date':'object',\n",
    "                                                            'Cause.Of.Death':'object'},)"
   ]
  },
  {
   "cell_type": "markdown",
   "metadata": {},
   "source": [
    "## Plotting of the Raw Data"
   ]
  },
  {
   "cell_type": "markdown",
   "metadata": {},
   "source": [
    "### Quantity of Deaths by Cause per Gender\n",
    "I see that both male and female cows die majorily from respiratory problems and that more males die than females. H is for hefer and S is for steer."
   ]
  },
  {
   "cell_type": "code",
   "execution_count": null,
   "metadata": {},
   "outputs": [],
   "source": [
    "plt.figure(figsize=(12,12))\n",
    "sns.countplot(x='Sex', hue ='Cause.Of.Death', data=df_raw)\n",
    "plt.title('Causes of Death per Gender')\n",
    "plt.legend(loc='best')\n",
    "plt.show()"
   ]
  },
  {
   "cell_type": "markdown",
   "metadata": {},
   "source": [
    "## Quantity of Causes of Death per Drug Type\n",
    "I'm checking for the the largest causes of death, RESPIRATORY, AIP, and OTHER, how many die while being treated with a given drug. \n",
    "\n",
    "Below I'm filtering the data to only include examples where the cause of death is one of the 3 top contributors."
   ]
  },
  {
   "cell_type": "code",
   "execution_count": null,
   "metadata": {},
   "outputs": [],
   "source": [
    "df_respiratory = df_raw.loc[df_raw['Cause.Of.Death'] == 'RESPIRATORY']\n",
    "df_aip = df_raw.loc[df_raw['Cause.Of.Death'] == 'AIP']\n",
    "df_other = df_raw.loc[df_raw['Cause.Of.Death'] == 'OTHER']\n",
    "df_deaths_drugs = pd.concat([df_respiratory, df_aip, df_other], axis=0)"
   ]
  },
  {
   "cell_type": "markdown",
   "metadata": {},
   "source": [
    "Plotting the number of deaths for each cause of death and with what treatment drug was used."
   ]
  },
  {
   "cell_type": "code",
   "execution_count": null,
   "metadata": {},
   "outputs": [],
   "source": [
    "plt.figure(figsize=(28,16))\n",
    "sns.countplot(x='Cause.Of.Death', hue ='Drug', data=df_deaths_drugs)\n",
    "plt.title('Causes of Death per Treament Drug',fontsize=15)\n",
    "plt.legend(loc='upper right',prop={'size':'15'})\n",
    "plt.xlabel('Drug', fontsize=15)\n",
    "plt.ylabel('Count', fontsize=15)\n",
    "plt.xticks(fontsize=15)\n",
    "plt.show()"
   ]
  },
  {
   "cell_type": "markdown",
   "metadata": {},
   "source": [
    "## Raw Data Insights"
   ]
  },
  {
   "cell_type": "markdown",
   "metadata": {},
   "source": [
    "Below is the shape of the original data and a sample of 3 examples."
   ]
  },
  {
   "cell_type": "code",
   "execution_count": null,
   "metadata": {},
   "outputs": [],
   "source": [
    "print(\"Original data shape:\", df_raw.shape)\n",
    "df_raw.sample(3)"
   ]
  },
  {
   "cell_type": "markdown",
   "metadata": {},
   "source": [
    "I'm checking if there are any null values and how many of each there are. I see that there are missing values for the Death Date and Cause of Death, this makes sense because not every animal who is treated for Bovine Respiratory Disease dies."
   ]
  },
  {
   "cell_type": "code",
   "execution_count": null,
   "metadata": {},
   "outputs": [],
   "source": [
    "df_raw.isna().sum()"
   ]
  },
  {
   "cell_type": "markdown",
   "metadata": {},
   "source": [
    "Checking how many deaths per Cause of Death. The majority of deaths reported are attributed to respiratory."
   ]
  },
  {
   "cell_type": "code",
   "execution_count": null,
   "metadata": {},
   "outputs": [],
   "source": [
    "df_raw['Cause.Of.Death'].value_counts()"
   ]
  },
  {
   "cell_type": "markdown",
   "metadata": {},
   "source": [
    "Viewing how many of each sex exist in the data. "
   ]
  },
  {
   "cell_type": "code",
   "execution_count": null,
   "metadata": {},
   "outputs": [],
   "source": [
    "df_raw['Sex'].value_counts()"
   ]
  },
  {
   "cell_type": "markdown",
   "metadata": {},
   "source": [
    "Viewing descriptive statistics from the original data."
   ]
  },
  {
   "cell_type": "code",
   "execution_count": null,
   "metadata": {},
   "outputs": [],
   "source": [
    "df_raw.describe().T"
   ]
  },
  {
   "cell_type": "markdown",
   "metadata": {},
   "source": [
    "<a id=\"preprocessing\"></a>\n",
    "# Pre-Processing"
   ]
  },
  {
   "cell_type": "code",
   "execution_count": null,
   "metadata": {},
   "outputs": [],
   "source": [
    "df_raw.sample(3)"
   ]
  },
  {
   "cell_type": "markdown",
   "metadata": {},
   "source": [
    "Feedlots are made up of yards that contain lots where the animals reside. Each animal has a unique tag. Below I'm taking the series of yard.lot.tag and splitting the data where there are periods to create three series for the yard, lot, and tag. I'm then combining yard and tag into one series named Yard.Tag adding it to the DataFrame and removing the yard and tag columns."
   ]
  },
  {
   "cell_type": "code",
   "execution_count": null,
   "metadata": {},
   "outputs": [],
   "source": [
    "ylt = df_raw['yard.lot.tag']\n",
    "ylt = ylt.str.split( '.', expand= True)\n",
    "ylt.rename(columns = {0:'yard', 1:'lot', 2:'tag'}, inplace = True)\n",
    "df_raw['yard'] = ylt['yard']\n",
    "df_raw['tag'] = ylt['tag']\n",
    "df_raw['Yard.Tag'] = df_raw['yard'] + '.' + df_raw['tag']\n",
    "df_raw = df_raw.drop(['yard', 'tag'], axis = 1)"
   ]
  },
  {
   "cell_type": "markdown",
   "metadata": {},
   "source": [
    "A target column doesn't exist in the raw data so I'm going to add one named DNF for Did Not Finish. If an example has 0 for its DNF value then the animal finished or lived. If DNF has a value of 1 then that animal died. I construct the DNF series by inserting the value 0 if there is no death date, otherwise 1."
   ]
  },
  {
   "cell_type": "code",
   "execution_count": null,
   "metadata": {},
   "outputs": [],
   "source": [
    "df_raw['DNF'] = ''\n",
    "df_raw['DNF'] = np.where(pd.isna(df_raw['Death.Date']), 0, 1)"
   ]
  },
  {
   "cell_type": "markdown",
   "metadata": {},
   "source": [
    "Thinking that the time of year an animal arrives on the feedlot and gets sick could be useful I'm adding features for the arrival month and quarter, and the treat month and quarter. I'm using Pandas to parse the month and quarter from the exising arrival and treat dates. "
   ]
  },
  {
   "cell_type": "code",
   "execution_count": null,
   "metadata": {},
   "outputs": [],
   "source": [
    "df_raw['Arrival.Month'] = pd.DatetimeIndex(df_raw['Arrival.Date']).month\n",
    "df_raw['Arrival.Quarter'] = pd.DatetimeIndex(df_raw['Arrival.Date']).quarter\n",
    "df_raw['Treat.Month'] = pd.DatetimeIndex(df_raw['Treat.Date']).month\n",
    "df_raw['Treat.Quarter'] = pd.DatetimeIndex(df_raw['Treat.Date']).quarter"
   ]
  },
  {
   "cell_type": "markdown",
   "metadata": {},
   "source": [
    "There will be examples that have the same Yard.Lot if they are treated more than once or are treated once and do not finish. I want all instances for a particular animal to reflect whether they died or not. For example if an animal is treated two times and there is a third input vector that reflects that the animal died then I want all of the instances for that animal to have a DNF value of 1. Below I sort the raw data by Yard.Lot and Treat.Date, I then get a boolean series where examples that have a dupilcate are marked True. These examples that are marked True reflect the cows that need to have their DNF values updated to match the end result for that animal. I then access the raw data with the boolean series and group by the Yard.Lot and Yard.Tag meaning I'm grouping all instances for each unique animal. I then access those groups at their DNF values and apply transform to each group so that if there is a value 1 in any of a groups DNF then all will have the value 1 for DNF. This returns a boolean series where True indicates that all the values were set to 1 and False means the cow finished and all examples for that cow have a DNF of 0. I used this boolean series to update the DNF column as integers 0 or 1."
   ]
  },
  {
   "cell_type": "code",
   "execution_count": null,
   "metadata": {},
   "outputs": [],
   "source": [
    "df_raw = df_raw.sort_values(['Yard.Lot', 'Treat.Date'])\n",
    "dup = df_raw.duplicated(['Yard.Lot', 'Yard.Tag'], keep=False)\n",
    "fixed_dnf = df_raw[dup].groupby(['Yard.Lot', 'Yard.Tag'])['DNF'].transform(any)\n",
    "df_raw['DNF'].update(fixed_dnf.astype(int))"
   ]
  },
  {
   "cell_type": "markdown",
   "metadata": {},
   "source": [
    "Similar to how I want the DNF value to be the same for all examples given a single unique animal I want the death date and cause of death to match for all examples of an animal. Below I use the boolean series `dup` from above which indicated which examples have duplicates or which animals have more than entry in the data. I then group by Yard.Lot and Yard.Tag again where each group consists of examples for a single animal and take the animal death date and fill backwards from the example so that all entries for a single animal have the same death date and then also fill forwards to ensure that any entries after the one marked with the death date also have the death date value. I repeat this process for the cause of death.  "
   ]
  },
  {
   "cell_type": "code",
   "execution_count": null,
   "metadata": {},
   "outputs": [],
   "source": [
    "death_date_fixed1 = df_raw[dup].groupby(['Yard.Lot', 'Yard.Tag'])['Death.Date'].fillna(method='bfill')\n",
    "df_raw['Death.Date'].update(death_date_fixed1)\n",
    "death_date_fixed2 = df_raw[dup].groupby(['Yard.Lot', 'Yard.Tag'])['Death.Date'].fillna(method='ffill')\n",
    "df_raw['Death.Date'].update(death_date_fixed2)\n",
    "\n",
    "death_cause_fixed1 = df_raw[dup].groupby(['Yard.Lot', 'Yard.Tag'])['Cause.Of.Death'].fillna(method='bfill')\n",
    "df_raw['Cause.Of.Death'].update(death_cause_fixed1)\n",
    "death_cause_fixed2 = df_raw[dup].groupby(['Yard.Lot', 'Yard.Tag'])['Cause.Of.Death'].fillna(method='ffill')\n",
    "df_raw['Cause.Of.Death'].update(death_cause_fixed2)"
   ]
  },
  {
   "cell_type": "markdown",
   "metadata": {},
   "source": [
    "So far all of the examples represent a treatment of a given animal and I want to make sure that the treatment number is correct for all examples. I again use the boolean series dup to get all the instances where they belong to an animal who have more than one entry in the data and group by the Yard.Lot and Yard.Tag and number each item in each group $0$ to $(len(group)-1)$ with Pandas cumcount() function. A treament number wouldn't ever be 0 the first treatment should have a treatment number of 1 so I increment all the values by 1. Finally the Treatment.Number column is replaced with the updated treatment number values."
   ]
  },
  {
   "cell_type": "code",
   "execution_count": null,
   "metadata": {},
   "outputs": [],
   "source": [
    "fixed_treat = df_raw[dup].groupby(['Yard.Lot', 'Yard.Tag']).cumcount()\n",
    "fixed_treat += 1\n",
    "df_raw['Treatment.Number'] = fixed_treat"
   ]
  },
  {
   "cell_type": "markdown",
   "metadata": {},
   "source": [
    "Adding a new row for the death event of each animal if they did not finish. I'm creating a DataFrame of all the examples where the death date is not null and dropping and duplicates of Yard.Lot and Yard.Tag so that the data has one example for each animal that did not finish. Set the treat date equal to the death date because these rows are the death event not a treatment instance. I also set the drug, treat weight, and treat temperature to null (nan). "
   ]
  },
  {
   "cell_type": "code",
   "execution_count": null,
   "metadata": {},
   "outputs": [],
   "source": [
    "df_dnf = df_raw.loc[df_raw['Death.Date'].notna()].drop_duplicates(['Yard.Lot', 'Yard.Tag'])\n",
    "df_dnf['Treat.Date'] = df_dnf['Death.Date']\n",
    "df_dnf.loc[:,['Drug', 'Treat.Weight','Treat.Temperature']] = np.nan"
   ]
  },
  {
   "cell_type": "markdown",
   "metadata": {},
   "source": [
    "Concatenating the death events to the raw data and sorting by Yard.Lot and Treat.Date to observe if it looks correct. It does and then I reset the index after sorting the DataFrame."
   ]
  },
  {
   "cell_type": "code",
   "execution_count": null,
   "metadata": {},
   "outputs": [],
   "source": [
    "df = pd.concat([df_raw, df_dnf], ignore_index=True)\n",
    "df = df.sort_values(['Yard.Lot', 'Treat.Date'])\n",
    "df = df.reset_index(drop=True)"
   ]
  },
  {
   "cell_type": "markdown",
   "metadata": {},
   "source": [
    "Adding another feature Brdcasestothispoint that is the number of BRD cases in a given lot for each example. "
   ]
  },
  {
   "cell_type": "code",
   "execution_count": null,
   "metadata": {},
   "outputs": [],
   "source": [
    "df.loc[:,'Brdcasestothispoint'] = df.groupby(df['Yard.Lot']).cumcount()"
   ]
  },
  {
   "cell_type": "markdown",
   "metadata": {},
   "source": [
    "Adding another feature that is the number of distinct cases of BRD for a given lot."
   ]
  },
  {
   "cell_type": "code",
   "execution_count": null,
   "metadata": {},
   "outputs": [],
   "source": [
    "unique_cases = df.drop_duplicates(['Yard.Lot', 'Yard.Tag']).groupby(df['Yard.Lot']).cumcount()\n",
    "distbrd = unique_cases.reindex(df.index).ffill().astype(int)\n",
    "df['Distbrdcasestothispoint'] = distbrd"
   ]
  },
  {
   "cell_type": "markdown",
   "metadata": {},
   "source": [
    "Adding two more features, one for the total treatment failures and another for the treatment failures for a given lot"
   ]
  },
  {
   "cell_type": "code",
   "execution_count": null,
   "metadata": {},
   "outputs": [],
   "source": [
    "dup = df.duplicated(['Yard.Lot', 'Yard.Tag'])\n",
    "df['Txfailure2'] = dup.astype(int)\n",
    "failtothispoint = df.groupby(df['Yard.Lot']).cumsum()['Txfailure2']\n",
    "df['Txfailure2tothispoint'] = failtothispoint"
   ]
  },
  {
   "cell_type": "markdown",
   "metadata": {},
   "source": [
    "Adding another feature that is the treatment success rate for a given lot. "
   ]
  },
  {
   "cell_type": "code",
   "execution_count": null,
   "metadata": {},
   "outputs": [],
   "source": [
    "success_rate = (df['Distbrdcasestothispoint']-df['Txfailure2tothispoint'])/df['Distbrdcasestothispoint']\n",
    "success_rate = success_rate.fillna(1)\n",
    "success_rate = success_rate.replace(np.NINF, 1)\n",
    "success_rate = success_rate.replace(np.inf, 1)\n",
    "df['Txsuccessrate2'] = success_rate"
   ]
  },
  {
   "cell_type": "markdown",
   "metadata": {},
   "source": [
    "Adding two more features, one for the proportion of BRD cases and another for the proportion of distinct BRD cases for a given lot. "
   ]
  },
  {
   "cell_type": "code",
   "execution_count": null,
   "metadata": {},
   "outputs": [],
   "source": [
    "df['Propbrdcasestothispoint'] = df['Brdcasestothispoint']/df['Head.Received']\n",
    "df['Propdistcasestothispoint'] = df['Distbrdcasestothispoint']/df['Head.Received']"
   ]
  },
  {
   "cell_type": "markdown",
   "metadata": {},
   "source": [
    "Adding a days since arrival feature to determine how long the animal has been in the feedlot."
   ]
  },
  {
   "cell_type": "code",
   "execution_count": null,
   "metadata": {},
   "outputs": [],
   "source": [
    "df['Dayssincearrival'] = (pd.to_datetime(df['Treat.Date'])-pd.to_datetime(df['Arrival.Date'])).dt.days"
   ]
  },
  {
   "cell_type": "markdown",
   "metadata": {},
   "source": [
    "Adding two more features, the amount of deaths and the proportion of deaths."
   ]
  },
  {
   "cell_type": "code",
   "execution_count": null,
   "metadata": {},
   "outputs": [],
   "source": [
    "dnf = df.loc[df['Death.Date'].notna()]\n",
    "deathcount = df.groupby(df['Yard.Lot'])['DNF'].cumsum()\n",
    "df['Deathstothispoint'] = deathcount\n",
    "df['Propdeathstothispoint'] = df['Deathstothispoint']/df['Head.Received']"
   ]
  },
  {
   "cell_type": "markdown",
   "metadata": {},
   "source": [
    "Adding two more features, the number of animals that were pulled and treated on a given day for a lot and the proportion of pulls for that lot. "
   ]
  },
  {
   "cell_type": "code",
   "execution_count": null,
   "metadata": {},
   "outputs": [],
   "source": [
    "df['Dailyallpulls'] = df.groupby(['Yard.Lot', 'Treat.Date'])['Treat.Date'].transform('size')\n",
    "df['Propdailyallpulls'] = df['Dailyallpulls']/df['Head.Received']"
   ]
  },
  {
   "cell_type": "markdown",
   "metadata": {},
   "source": [
    "Viewing a sample of the data."
   ]
  },
  {
   "cell_type": "code",
   "execution_count": null,
   "metadata": {},
   "outputs": [],
   "source": [
    "df.sample(3)"
   ]
  },
  {
   "cell_type": "markdown",
   "metadata": {},
   "source": [
    "Dropping columns from the data I won't use or need."
   ]
  },
  {
   "cell_type": "code",
   "execution_count": null,
   "metadata": {},
   "outputs": [],
   "source": [
    "df_reduced = df.drop(['yard.lot.tag.date','Yard', 'Yard.Lot','yard.lot.tag', 'Lot', 'Arrival.Date','Yard.Tag','Treat.Date', 'Death.Date', 'Cause.Of.Death'], axis=1)"
   ]
  },
  {
   "cell_type": "markdown",
   "metadata": {},
   "source": [
    "Creating a dataset with no one hot encoding for dimesionality reduction algorithms."
   ]
  },
  {
   "cell_type": "code",
   "execution_count": null,
   "metadata": {},
   "outputs": [],
   "source": [
    "no_one_hot = df_reduced.copy()"
   ]
  },
  {
   "cell_type": "markdown",
   "metadata": {},
   "source": [
    "One hot encoding nominal features and viewing a sample of the data."
   ]
  },
  {
   "cell_type": "code",
   "execution_count": null,
   "metadata": {},
   "outputs": [],
   "source": [
    "df_one_hot = pd.get_dummies(data=df_reduced, columns=['Arrival.Month', 'Arrival.Quarter', 'Treat.Month', 'Treat.Quarter', 'Drug', 'Sex'])\n",
    "pd.set_option('display.max_columns', 79)\n",
    "df_one_hot.sample(5)"
   ]
  },
  {
   "cell_type": "markdown",
   "metadata": {},
   "source": [
    "Filtering out the numeric features for feature engineering and viewing a sample."
   ]
  },
  {
   "cell_type": "code",
   "execution_count": null,
   "metadata": {},
   "outputs": [],
   "source": [
    "numeric_features = df_one_hot.drop(df_one_hot.iloc[:,17:], axis=1)\n",
    "numeric_features.drop(columns=['DNF'], axis=1, inplace=True)\n",
    "numeric_features.sample(5)"
   ]
  },
  {
   "cell_type": "markdown",
   "metadata": {},
   "source": [
    "Statistical details of the numeric features."
   ]
  },
  {
   "cell_type": "code",
   "execution_count": null,
   "metadata": {},
   "outputs": [],
   "source": [
    "numeric_features.describe().T"
   ]
  },
  {
   "cell_type": "markdown",
   "metadata": {},
   "source": [
    "Checking for null or missing data from the numeric features."
   ]
  },
  {
   "cell_type": "code",
   "execution_count": null,
   "metadata": {},
   "outputs": [],
   "source": [
    "numeric_features.isna().sum()"
   ]
  },
  {
   "cell_type": "markdown",
   "metadata": {},
   "source": [
    "Filling missing data with the mean of the feature it belongs to. The mean doesn't tell us anything statisically speaking"
   ]
  },
  {
   "cell_type": "code",
   "execution_count": null,
   "metadata": {},
   "outputs": [],
   "source": [
    "numeric_features['Treat.Weight'].fillna(value=numeric_features['Treat.Weight'].mean(), inplace=True)\n",
    "numeric_features['Treat.Temperature'].fillna(value=numeric_features['Treat.Temperature'].mean(), inplace=True)\n",
    "numeric_features['Treatment.Number'].fillna(value=numeric_features['Treatment.Number'].mean(), inplace=True)\n",
    "\n",
    "no_one_hot['Treat.Weight'].fillna(value=no_one_hot['Treat.Weight'].mean(), inplace=True)\n",
    "no_one_hot['Treat.Temperature'].fillna(value=no_one_hot['Treat.Temperature'].mean(), inplace=True)\n",
    "no_one_hot['Treatment.Number'].fillna(value=no_one_hot['Treatment.Number'].mean(), inplace=True)"
   ]
  },
  {
   "cell_type": "markdown",
   "metadata": {},
   "source": [
    "Using scikit-learn I'm going to normalize and standardize the numeric features. I'll create two datasets so that I can use the scaled or nomalized data depending on the algorithm. I'm storing the numeric feature column names so I can reconstruct a DataFrame with the transformed datasets."
   ]
  },
  {
   "cell_type": "code",
   "execution_count": null,
   "metadata": {},
   "outputs": [],
   "source": [
    "numeric_column_labels = numeric_features.columns\n",
    "normed_features = preprocessing.normalize(numeric_features)\n",
    "df_normed = pd.DataFrame((normed_features), columns=numeric_column_labels)\n",
    "scaled_features = preprocessing.scale(numeric_features)\n",
    "df_scaled = pd.DataFrame((scaled_features), columns = numeric_column_labels)"
   ]
  },
  {
   "cell_type": "markdown",
   "metadata": {},
   "source": [
    "Combining the transformed data from above with the nominal features that were one-hot encoded and saving them to CSV files."
   ]
  },
  {
   "cell_type": "code",
   "execution_count": null,
   "metadata": {},
   "outputs": [],
   "source": [
    "normed_processed = pd.concat([df_normed, df_one_hot.iloc[:,17:], df_reduced['DNF']], axis=1, sort=False)\n",
    "scaled_processed = pd.concat([df_scaled, df_one_hot.iloc[:,17:], df_reduced['DNF']], axis=1, sort=False)\n",
    "normed_processed.to_csv('data/normed_processed_data.csv', index=False)\n",
    "scaled_processed.to_csv('data/scaled_processed_data.csv', index=False)"
   ]
  },
  {
   "cell_type": "code",
   "execution_count": null,
   "metadata": {},
   "outputs": [],
   "source": [
    "dnf_tmp = no_one_hot[\"DNF\"]\n",
    "no_one_hot = no_one_hot.drop((\"DNF\"), axis=1)"
   ]
  },
  {
   "cell_type": "code",
   "execution_count": null,
   "metadata": {},
   "outputs": [],
   "source": [
    "no_one_hot[\"Drug\"] = no_one_hot[\"Drug\"].astype('category').cat.codes"
   ]
  },
  {
   "cell_type": "code",
   "execution_count": null,
   "metadata": {},
   "outputs": [],
   "source": [
    "no_one_hot = pd.concat((no_one_hot, dnf_tmp), axis=1)"
   ]
  },
  {
   "cell_type": "code",
   "execution_count": null,
   "metadata": {},
   "outputs": [],
   "source": [
    "no_one_hot[\"Sex\"] = no_one_hot[\"Sex\"].astype('category').cat.codes"
   ]
  },
  {
   "cell_type": "code",
   "execution_count": null,
   "metadata": {},
   "outputs": [],
   "source": [
    "no_one_hot.to_csv('data/no_one_hot_data.csv', index=False)"
   ]
  },
  {
   "cell_type": "markdown",
   "metadata": {},
   "source": [
    "<a id=\"splitting\"></a>\n",
    "# Splitting the Data\n",
    "\n",
    "Splitting the data into a training, validation and testing set with scikit-learn. Below I store the targets in a flattened array named target."
   ]
  },
  {
   "cell_type": "code",
   "execution_count": 8,
   "metadata": {},
   "outputs": [],
   "source": [
    "df_normed = pd.read_csv('data/normed_processed_data.csv')\n",
    "df_scaled = pd.read_csv('data/scaled_processed_data.csv')"
   ]
  },
  {
   "cell_type": "code",
   "execution_count": 9,
   "metadata": {},
   "outputs": [],
   "source": [
    "target_n = df_normed[['DNF']]\n",
    "target_s = df_scaled[['DNF']]"
   ]
  },
  {
   "cell_type": "markdown",
   "metadata": {},
   "source": [
    "Splititng the normalized data into a training and testing set with an 80-20 split."
   ]
  },
  {
   "cell_type": "code",
   "execution_count": 10,
   "metadata": {},
   "outputs": [],
   "source": [
    "x_train_n, x_test_n, y_train_n, y_test_n = train_test_split(df_normed.iloc[:, :-1], \n",
    "                                                    target_n, \n",
    "                                                    test_size = 0.3, \n",
    "                                                    random_state=8)\n",
    "x_train_s, x_test_s, y_train_s, y_test_s = train_test_split(df_scaled.iloc[:, :-1], \n",
    "                                                    target_s, \n",
    "                                                    test_size = 0.3, \n",
    "                                                    random_state=8)"
   ]
  },
  {
   "cell_type": "markdown",
   "metadata": {},
   "source": [
    "Splitting the training data into a training and validation sets with a 85-15 split."
   ]
  },
  {
   "cell_type": "code",
   "execution_count": 11,
   "metadata": {},
   "outputs": [],
   "source": [
    "x_train_n, x_val_n, y_train_n, y_val_n = train_test_split(x_train_n, \n",
    "                                                  y_train_n, \n",
    "                                                  test_size=0.2,\n",
    "                                                  random_state=10)\n",
    "x_train_s, x_val_s, y_train_s, y_val_s = train_test_split(x_train_s, \n",
    "                                                  y_train_s, \n",
    "                                                  test_size=0.2,\n",
    "                                                  random_state=10)"
   ]
  },
  {
   "cell_type": "markdown",
   "metadata": {},
   "source": [
    "Displaying the size of each dataset."
   ]
  },
  {
   "cell_type": "code",
   "execution_count": 12,
   "metadata": {},
   "outputs": [
    {
     "name": "stdout",
     "output_type": "stream",
     "text": [
      "Train Inputs Shape: (389600, 71) | Val Inputs Shape: (97401, 71) | Test Inputs Shape: (208715, 71)\n",
      "Train Target Shape: (389600, 1)  | Val Target Shape: (97401, 1)  | Test Target Shape: (208715, 1)\n"
     ]
    }
   ],
   "source": [
    "print(\"Train Inputs Shape:\", x_train_n.shape, \"| Val Inputs Shape:\", x_val_n.shape, \"| Test Inputs Shape:\", x_test_n.shape)\n",
    "print(\"Train Target Shape:\", y_train_n.shape, \" | Val Target Shape:\", y_val_n.shape, \" | Test Target Shape:\", y_test_n.shape)"
   ]
  },
  {
   "cell_type": "markdown",
   "metadata": {},
   "source": [
    "<a id=\"supervised\"></a>\n",
    "# Supervised Algorithms "
   ]
  },
  {
   "cell_type": "markdown",
   "metadata": {},
   "source": [
    "<a id=\"rf\"></a>\n",
    "## Random Forests\n",
    "From scikit-learn I'm going to use Random Forests. Below I create a list of possible values for the number of estimators to consider."
   ]
  },
  {
   "cell_type": "code",
   "execution_count": 7,
   "metadata": {},
   "outputs": [],
   "source": [
    "N = np.arange(100,251,step=50)"
   ]
  },
  {
   "cell_type": "markdown",
   "metadata": {},
   "source": [
    "Using cross-validation to determine the best number of esimators. For every value n in N I instantiate the Random Forest Classifier from scikit-learn, fit the model with the training data, then compute the accuracy and error of the model on the validation data."
   ]
  },
  {
   "cell_type": "code",
   "execution_count": 8,
   "metadata": {},
   "outputs": [
    {
     "name": "stdout",
     "output_type": "stream",
     "text": [
      "Training took: 133.39618349075317 seconds\n"
     ]
    }
   ],
   "source": [
    "starttime = time.time()\n",
    "rf_models = []\n",
    "rf_val_errors = []\n",
    "for n in N:\n",
    "    rf = RF(n_estimators=n, n_jobs=6)\n",
    "    rf.fit(x_train_s.values, y_train_s.values.ravel())\n",
    "    rf_models.append(rf)\n",
    "    rf_val_errors.append(1 - rf.score(x_val_s.values, y_val_s.values))\n",
    "print('Training took:', time.time() - starttime, 'seconds')"
   ]
  },
  {
   "cell_type": "markdown",
   "metadata": {},
   "source": [
    "Plotting the validation error vs. the number of estimators used. The error $E$ is calculated as $E = 1 - $accuracy."
   ]
  },
  {
   "cell_type": "code",
   "execution_count": 9,
   "metadata": {},
   "outputs": [
    {
     "data": {
      "image/png": "[encoded data removed]",
      "text/plain": [
       "<Figure size 1152x648 with 1 Axes>"
      ]
     },
     "metadata": {
      "needs_background": "light"
     },
     "output_type": "display_data"
    }
   ],
   "source": [
    "plt.figure(figsize=(16,9))\n",
    "plt.plot(N,rf_val_errors, 'g-', label='Validation Errors')\n",
    "plt.xlabel('Number of Estimators')\n",
    "plt.ylabel('Validation Error')\n",
    "plt.title('Number of Estimators vs Validation Error')\n",
    "plt.legend()\n",
    "plt.show()"
   ]
  },
  {
   "cell_type": "markdown",
   "metadata": {},
   "source": [
    "Below I'm observing the index that corresponds to the minimum validation error and storing that model in the variable `rf`."
   ]
  },
  {
   "cell_type": "code",
   "execution_count": 13,
   "metadata": {},
   "outputs": [],
   "source": [
    "idx = np.argmin(rf_val_errors)\n",
    "rf = rf_models[2]"
   ]
  },
  {
   "cell_type": "markdown",
   "metadata": {},
   "source": [
    "The model produced with 250 estimators produced the lowest validation error."
   ]
  },
  {
   "cell_type": "code",
   "execution_count": 14,
   "metadata": {},
   "outputs": [
    {
     "data": {
      "text/plain": [
       "250"
      ]
     },
     "execution_count": 14,
     "metadata": {},
     "output_type": "execute_result"
    }
   ],
   "source": [
    "N[idx]"
   ]
  },
  {
   "cell_type": "markdown",
   "metadata": {},
   "source": [
    "Printing results of the Random Forest model being evaluated on the test data."
   ]
  },
  {
   "cell_type": "code",
   "execution_count": 18,
   "metadata": {},
   "outputs": [
    {
     "name": "stdout",
     "output_type": "stream",
     "text": [
      "name: \n",
      "\n",
      "Untuned RF \n",
      "\n",
      "cm: \n",
      "\n",
      "actual       0      1\n",
      "pred                 \n",
      "0       156702  19291\n",
      "1         3525  29197 \n",
      "\n",
      "specificity: \n",
      "\n",
      "0.9779999625531277 \n",
      "\n",
      "sensitivity: \n",
      "\n",
      "0.6021489853159545 \n",
      "\n",
      "precision: \n",
      "\n",
      "0.8922743108611944 \n",
      "\n",
      "accuracy: \n",
      "\n",
      "0.8906834678868313 \n",
      "\n"
     ]
    }
   ],
   "source": [
    "mymetrics.print_metrics(mymetrics.get_metrics(rf, x_test_s, y_test_s, 'Untuned RF'))"
   ]
  },
  {
   "cell_type": "markdown",
   "metadata": {},
   "source": [
    "The training performed pretty slowly so I'm attempting to speed up the training process by reducing the number of samples to be drawn in each bootstrap sample from the total number of examples to 10%, 30%, and 50% of the total number of examples. I'm going to build the model with 250 estimators still and compare the results to the confusion matrix above."
   ]
  },
  {
   "cell_type": "code",
   "execution_count": 19,
   "metadata": {},
   "outputs": [],
   "source": [
    "sample_sizes = [.1, .3, .5]"
   ]
  },
  {
   "cell_type": "markdown",
   "metadata": {},
   "source": [
    "Below I am observing the validation errors produced from models fit with the train data and evaluated on the validation data. Three models are built each with 250 trees in the forest and with bootstrap sample sizes of 10%, 20%, and 30% respectively."
   ]
  },
  {
   "cell_type": "code",
   "execution_count": 21,
   "metadata": {},
   "outputs": [
    {
     "name": "stdout",
     "output_type": "stream",
     "text": [
      "Training took: 68.89317798614502 seconds\n"
     ]
    }
   ],
   "source": [
    "starttime = time.time()\n",
    "models = []\n",
    "val_errors = []\n",
    "for s in sample_sizes:\n",
    "    rf_smaller_bs_samples = RF(n_estimators=250, n_jobs=4, max_samples=s)\n",
    "    rf_smaller_bs_samples.fit(x_train_s.values, y_train_s.values.ravel())\n",
    "    models.append(rf_smaller_bs_samples)\n",
    "    val_errors.append(1 - rf_smaller_bs_samples.score(x_val_s.values, y_val_s.values))\n",
    "print('Training took:', time.time() - starttime, 'seconds')"
   ]
  },
  {
   "cell_type": "markdown",
   "metadata": {},
   "source": [
    "Below I observe that the model built with bootstrapped samples having 50% of the total number of examples resulted in the lowest validation error."
   ]
  },
  {
   "cell_type": "code",
   "execution_count": 22,
   "metadata": {},
   "outputs": [
    {
     "data": {
      "text/plain": [
       "0.5"
      ]
     },
     "execution_count": 22,
     "metadata": {},
     "output_type": "execute_result"
    }
   ],
   "source": [
    "idx = np.argmin(val_errors)\n",
    "sample_sizes[idx]"
   ]
  },
  {
   "cell_type": "markdown",
   "metadata": {},
   "source": [
    "Based on the plot below I'm going to use sample sizes of 50% the total number of examples."
   ]
  },
  {
   "cell_type": "code",
   "execution_count": 23,
   "metadata": {},
   "outputs": [
    {
     "data": {
      "image/png": "[encoded data removed]",
      "text/plain": [
       "<Figure size 1152x648 with 1 Axes>"
      ]
     },
     "metadata": {
      "needs_background": "light"
     },
     "output_type": "display_data"
    }
   ],
   "source": [
    "plt.figure(figsize=(16,9))\n",
    "plt.plot(sample_sizes,val_errors, 'g-', label='Validation Errors')\n",
    "plt.xlabel('% of Examples in Bootstrap Sample')\n",
    "plt.ylabel('Validation Error')\n",
    "plt.title('Size of Bootstrap Sample(%) vs Validation Error')\n",
    "plt.legend()\n",
    "plt.show()"
   ]
  },
  {
   "cell_type": "markdown",
   "metadata": {},
   "source": [
    "The confusion matrix result from evaluating the model built with 250 estimators and bootstrap samples having 50% of the total number of examples in the train data. The confusion matrix appears to have better results than using $N$ examples in the bootstrap samples where $N$ is the number of examples in the train data."
   ]
  },
  {
   "cell_type": "code",
   "execution_count": 24,
   "metadata": {},
   "outputs": [
    {
     "name": "stdout",
     "output_type": "stream",
     "text": [
      "name: \n",
      "\n",
      "Sample Size Tuned RF \n",
      "\n",
      "cm: \n",
      "\n",
      "actual       0      1\n",
      "pred                 \n",
      "0       157341  19858\n",
      "1         2886  28630 \n",
      "\n",
      "specificity: \n",
      "\n",
      "0.9819880544477523 \n",
      "\n",
      "sensitivity: \n",
      "\n",
      "0.5904553704009239 \n",
      "\n",
      "precision: \n",
      "\n",
      "0.9084274654143927 \n",
      "\n",
      "accuracy: \n",
      "\n",
      "0.8910284359054212 \n",
      "\n"
     ]
    }
   ],
   "source": [
    "mymetrics.print_metrics(mymetrics.get_metrics(models[idx], x_test_s, y_test_s, 'Sample Size Tuned RF'))"
   ]
  },
  {
   "cell_type": "markdown",
   "metadata": {},
   "source": [
    "Checking the specificity of the model and it is better than that of the earlier model with larger bootstrap samples."
   ]
  },
  {
   "cell_type": "markdown",
   "metadata": {},
   "source": [
    "Below I'm testing how long the training takes with 250 trees in the forest and sample sizes of $(0.50 \\cdot N)$ where N is the total number of examples in the train set. "
   ]
  },
  {
   "cell_type": "code",
   "execution_count": 25,
   "metadata": {},
   "outputs": [
    {
     "name": "stdout",
     "output_type": "stream",
     "text": [
      "Training took: 104.57492327690125 seconds\n"
     ]
    }
   ],
   "source": [
    "starttime = time.time()\n",
    "rf = RF(n_estimators=250, max_samples=.5, n_jobs=1)\n",
    "rf.fit(x_train_s.values, y_train_s.values.ravel())\n",
    "print('Training took:', time.time() - starttime, 'seconds')"
   ]
  },
  {
   "cell_type": "markdown",
   "metadata": {},
   "source": [
    "We can see that by increasing the number of jobs to run in parallel from 1 to 4 increased the time by $104.6 - 27.9 = 76.7$ seconds. I've updated training above to use more threads to decrease the time it takes when I re-run the notebook. "
   ]
  },
  {
   "cell_type": "code",
   "execution_count": 26,
   "metadata": {},
   "outputs": [
    {
     "name": "stdout",
     "output_type": "stream",
     "text": [
      "Training took: 27.88589310646057 seconds\n"
     ]
    }
   ],
   "source": [
    "starttime = time.time()\n",
    "rf = RF(n_estimators=250, max_samples=.5, n_jobs=6)\n",
    "rf.fit(x_train_s.values, y_train_s.values.ravel())\n",
    "print('Training took:', time.time() - starttime, 'seconds')"
   ]
  },
  {
   "cell_type": "markdown",
   "metadata": {},
   "source": [
    "I'm now going to tune the max depth of the trees that make up the forest."
   ]
  },
  {
   "cell_type": "code",
   "execution_count": 9,
   "metadata": {},
   "outputs": [],
   "source": [
    "max_depths = [50, 100, 150, 200, 350]"
   ]
  },
  {
   "cell_type": "markdown",
   "metadata": {},
   "source": [
    "Below I store the validation errors for models built with tree max depths of 50, 100, 250, 500, and 2000. I can compare the results to the confusion matrix and specificity above where the model was built with no max depth specified. Each model below is built with 250 estimators and sample sizes of 30% the total number of examples."
   ]
  },
  {
   "cell_type": "code",
   "execution_count": 10,
   "metadata": {},
   "outputs": [
    {
     "name": "stdout",
     "output_type": "stream",
     "text": [
      "Training took: 142.37521052360535 seconds\n"
     ]
    }
   ],
   "source": [
    "starttime = time.time()\n",
    "models = []\n",
    "val_errors = []\n",
    "for d in max_depths:\n",
    "    rf_max_depths = RF(n_estimators=250, n_jobs=6, max_samples=.50, max_depth=d)\n",
    "    rf_max_depths.fit(x_train_s.values, y_train_s.values.ravel())\n",
    "    models.append(rf_max_depths)\n",
    "    val_errors.append(1 - rf_max_depths.score(x_val_s.values, y_val_s.values))\n",
    "print('Training took:', time.time() - starttime, 'seconds')"
   ]
  },
  {
   "cell_type": "markdown",
   "metadata": {},
   "source": [
    "Plotting the Tree Max Depth vs. the Validation Error. Based on the plot below I'm selecting a max depth of 50 as the model built with 50 for the max depth produced the lowest validation error."
   ]
  },
  {
   "cell_type": "code",
   "execution_count": 11,
   "metadata": {},
   "outputs": [
    {
     "data": {
      "image/png": "[encoded data removed]",
      "text/plain": [
       "<Figure size 1152x648 with 1 Axes>"
      ]
     },
     "metadata": {
      "needs_background": "light"
     },
     "output_type": "display_data"
    }
   ],
   "source": [
    "plt.figure(figsize=(16,9))\n",
    "plt.plot(max_depths,val_errors, 'g-', label='Validation Errors')\n",
    "plt.xlabel('Tree Max Depth')\n",
    "plt.ylabel('Validation Error')\n",
    "plt.title('Tree Max Depth vs Validation Error')\n",
    "plt.legend()\n",
    "plt.show()"
   ]
  },
  {
   "cell_type": "markdown",
   "metadata": {},
   "source": [
    "Evaluating the tuned model on the test data."
   ]
  },
  {
   "cell_type": "code",
   "execution_count": 12,
   "metadata": {},
   "outputs": [
    {
     "name": "stdout",
     "output_type": "stream",
     "text": [
      "Name: Final RF\n",
      "cm: \n",
      "\n"
     ]
    },
    {
     "data": {
      "text/html": [
       "<div>\n",
       "<style scoped>\n",
       "    .dataframe tbody tr th:only-of-type {\n",
       "        vertical-align: middle;\n",
       "    }\n",
       "\n",
       "    .dataframe tbody tr th {\n",
       "        vertical-align: top;\n",
       "    }\n",
       "\n",
       "    .dataframe thead th {\n",
       "        text-align: right;\n",
       "    }\n",
       "</style>\n",
       "<table border=\"1\" class=\"dataframe\">\n",
       "  <thead>\n",
       "    <tr style=\"text-align: right;\">\n",
       "      <th>actual</th>\n",
       "      <th>0</th>\n",
       "      <th>1</th>\n",
       "    </tr>\n",
       "    <tr>\n",
       "      <th>pred</th>\n",
       "      <th></th>\n",
       "      <th></th>\n",
       "    </tr>\n",
       "  </thead>\n",
       "  <tbody>\n",
       "    <tr>\n",
       "      <th>0</th>\n",
       "      <td>157423</td>\n",
       "      <td>19870</td>\n",
       "    </tr>\n",
       "    <tr>\n",
       "      <th>1</th>\n",
       "      <td>2804</td>\n",
       "      <td>28618</td>\n",
       "    </tr>\n",
       "  </tbody>\n",
       "</table>\n",
       "</div>"
      ],
      "text/plain": [
       "actual       0      1\n",
       "pred                 \n",
       "0       157423  19870\n",
       "1         2804  28618"
      ]
     },
     "metadata": {},
     "output_type": "display_data"
    },
    {
     "data": {
      "text/plain": [
       "'\\n'"
      ]
     },
     "metadata": {},
     "output_type": "display_data"
    },
    {
     "name": "stdout",
     "output_type": "stream",
     "text": [
      "Specificity: \n",
      "\n",
      "0.9824998283685021 \n",
      "\n",
      "Sensitivity: \n",
      "\n",
      "0.5902078864873783 \n",
      "\n",
      "Precision: \n",
      "\n",
      "0.9107631595697282 \n",
      "\n",
      "Accuracy: \n",
      "\n",
      "0.8913638214790504 \n",
      "\n"
     ]
    }
   ],
   "source": [
    "# clf = load('fit-models/random-forest.joblib')\n",
    "rf_metrics = mymetrics.get_metrics(models[0], x_test_s, y_test_s, 'Final RF')\n",
    "mymetrics.print_metrics(rf_metrics)"
   ]
  },
  {
   "cell_type": "code",
   "execution_count": 16,
   "metadata": {},
   "outputs": [
    {
     "data": {
      "text/plain": [
       "['fit-models/random-forest.joblib']"
      ]
     },
     "execution_count": 16,
     "metadata": {},
     "output_type": "execute_result"
    }
   ],
   "source": [
    "dump(models[0], 'fit-models/random-forest.joblib')"
   ]
  },
  {
   "cell_type": "markdown",
   "metadata": {},
   "source": [
    "Memory Issues with\n",
    "RBF Net\n",
    "Kernel PCA\n"
   ]
  },
  {
   "cell_type": "markdown",
   "metadata": {},
   "source": [
    "<a id=\"ada\"></a>\n",
    "## AdaBoost\n",
    "\n",
    "Creating a list named `eta` of possible learning rates."
   ]
  },
  {
   "cell_type": "code",
   "execution_count": 13,
   "metadata": {},
   "outputs": [],
   "source": [
    "eta = np.arange(0.1,1.5,step=.2)"
   ]
  },
  {
   "cell_type": "markdown",
   "metadata": {},
   "source": [
    "Empty lists to store the various models and their validation errors. I'll be observing the validation error of models trained with the different learning rates defined above."
   ]
  },
  {
   "cell_type": "code",
   "execution_count": 14,
   "metadata": {},
   "outputs": [],
   "source": [
    "ada_models = []\n",
    "ada_val_errors = []"
   ]
  },
  {
   "cell_type": "markdown",
   "metadata": {},
   "source": [
    "Using cross-validation to determine the best learning rate. I'm observing the error produced from models trained with different learning rates to find the best learning rate for this data. "
   ]
  },
  {
   "cell_type": "code",
   "execution_count": 16,
   "metadata": {},
   "outputs": [
    {
     "name": "stdout",
     "output_type": "stream",
     "text": [
      "Training took: 174.4853196144104 seconds\n"
     ]
    }
   ],
   "source": [
    "starttime = time.time()\n",
    "for e in eta:\n",
    "    ada = AdaBoost(learning_rate=e, random_state=10)\n",
    "    ada.fit(x_train_s.values, y_train_s.values.ravel())\n",
    "    ada_models.append(ada)\n",
    "    ada_val_errors.append(1 - ada.score(x_val_s.values, y_val_s.values.ravel()))\n",
    "print('Training took:', time.time() - starttime, 'seconds')"
   ]
  },
  {
   "cell_type": "markdown",
   "metadata": {},
   "source": [
    "Plotting the learning rates vs the errors produced from evaluating the model on the validation data. From the error values I used above it looks like 1.3 produces the lowest validation error."
   ]
  },
  {
   "cell_type": "code",
   "execution_count": 17,
   "metadata": {},
   "outputs": [
    {
     "data": {
      "image/png": "[encoded data removed]",
      "text/plain": [
       "<Figure size 1152x648 with 1 Axes>"
      ]
     },
     "metadata": {
      "needs_background": "light"
     },
     "output_type": "display_data"
    }
   ],
   "source": [
    "plt.figure(figsize=(16,9))\n",
    "plt.plot(eta,ada_val_errors, 'g-', label='Validation Errors')\n",
    "plt.xlabel('Learning Rate')\n",
    "plt.ylabel('Validation Error')\n",
    "plt.title('Learning Rate vs Validation Error')\n",
    "plt.legend()\n",
    "plt.show()"
   ]
  },
  {
   "cell_type": "markdown",
   "metadata": {},
   "source": [
    "Getting the model built with a learning rate of 1.1"
   ]
  },
  {
   "cell_type": "code",
   "execution_count": 18,
   "metadata": {},
   "outputs": [],
   "source": [
    "idx = np.argmin(ada_val_errors)\n",
    "ada = ada_models[idx]"
   ]
  },
  {
   "cell_type": "markdown",
   "metadata": {},
   "source": [
    "The learning rate used that produced the lowest validation error is 1.1"
   ]
  },
  {
   "cell_type": "code",
   "execution_count": 19,
   "metadata": {},
   "outputs": [
    {
     "data": {
      "text/plain": [
       "1.1000000000000003"
      ]
     },
     "execution_count": 19,
     "metadata": {},
     "output_type": "execute_result"
    }
   ],
   "source": [
    "eta[idx]"
   ]
  },
  {
   "cell_type": "markdown",
   "metadata": {},
   "source": [
    "Evaluating the AdaBoost model, trained with a learning rate of 1.1, on the test data."
   ]
  },
  {
   "cell_type": "code",
   "execution_count": 20,
   "metadata": {},
   "outputs": [
    {
     "name": "stdout",
     "output_type": "stream",
     "text": [
      "Name: Learning Rate Tuned AdaBoost\n",
      "Cost Matrix: \n",
      "\n"
     ]
    },
    {
     "data": {
      "text/html": [
       "<div>\n",
       "<style scoped>\n",
       "    .dataframe tbody tr th:only-of-type {\n",
       "        vertical-align: middle;\n",
       "    }\n",
       "\n",
       "    .dataframe tbody tr th {\n",
       "        vertical-align: top;\n",
       "    }\n",
       "\n",
       "    .dataframe thead th {\n",
       "        text-align: right;\n",
       "    }\n",
       "</style>\n",
       "<table border=\"1\" class=\"dataframe\">\n",
       "  <thead>\n",
       "    <tr style=\"text-align: right;\">\n",
       "      <th>actual</th>\n",
       "      <th>0</th>\n",
       "      <th>1</th>\n",
       "    </tr>\n",
       "    <tr>\n",
       "      <th>pred</th>\n",
       "      <th></th>\n",
       "      <th></th>\n",
       "    </tr>\n",
       "  </thead>\n",
       "  <tbody>\n",
       "    <tr>\n",
       "      <th>0</th>\n",
       "      <td>156112</td>\n",
       "      <td>20684</td>\n",
       "    </tr>\n",
       "    <tr>\n",
       "      <th>1</th>\n",
       "      <td>4115</td>\n",
       "      <td>27804</td>\n",
       "    </tr>\n",
       "  </tbody>\n",
       "</table>\n",
       "</div>"
      ],
      "text/plain": [
       "actual       0      1\n",
       "pred                 \n",
       "0       156112  20684\n",
       "1         4115  27804"
      ]
     },
     "metadata": {},
     "output_type": "display_data"
    },
    {
     "name": "stdout",
     "output_type": "stream",
     "text": [
      "Specificity: \n",
      "\n",
      "0.9743176867818782 \n",
      "\n",
      "Sensitivity: \n",
      "\n",
      "0.5734202276852005 \n",
      "\n",
      "Precision: \n",
      "\n",
      "0.8710799210501582 \n",
      "\n",
      "Accuracy: \n",
      "\n",
      "0.8811824737081666 \n",
      "\n"
     ]
    }
   ],
   "source": [
    "mymetrics.print_metrics(mymetrics.get_metrics(ada, x_test_s, y_test_s, 'Learning Rate Tuned AdaBoost'))"
   ]
  },
  {
   "cell_type": "markdown",
   "metadata": {},
   "source": [
    "Tuning the number of max estimators used. The default value for max estimators is 50 so by increasing the value I could improve the performance and it could also increase the chance of overfitting. I'll choose the value for max estimators that produces the lowest validation error and evaluate that model against the test data. I can then compare the results with those listed just above as the results above are from a model built with the default value for max estimators, 50. "
   ]
  },
  {
   "cell_type": "code",
   "execution_count": 22,
   "metadata": {},
   "outputs": [
    {
     "name": "stdout",
     "output_type": "stream",
     "text": [
      "Training took: 1853.7832219600677 seconds\n"
     ]
    }
   ],
   "source": [
    "n_estimators = [100,200,500,1000,2000]\n",
    "models = []\n",
    "val_errors = []\n",
    "starttime = time.time()\n",
    "for n in n_estimators:\n",
    "    ada = AdaBoost(learning_rate=1.1, random_state=10, n_estimators=n)\n",
    "    ada.fit(x_train_s.values, y_train_s.values.ravel())\n",
    "    models.append(ada)\n",
    "    val_errors.append(1 - ada.score(x_val_s.values, y_val_s.values.ravel()))\n",
    "print('Training took:', time.time() - starttime, 'seconds')"
   ]
  },
  {
   "cell_type": "markdown",
   "metadata": {},
   "source": [
    "Plotting the values used for the number of max estimators against the validation errors. "
   ]
  },
  {
   "cell_type": "code",
   "execution_count": 23,
   "metadata": {},
   "outputs": [
    {
     "data": {
      "image/png": "[encoded data removed]",
      "text/plain": [
       "<Figure size 1152x648 with 1 Axes>"
      ]
     },
     "metadata": {
      "needs_background": "light"
     },
     "output_type": "display_data"
    }
   ],
   "source": [
    "plt.figure(figsize=(16,9))\n",
    "plt.plot(n_estimators,val_errors, 'g-', label='Validation Errors')\n",
    "plt.xlabel('Max # of Estimators')\n",
    "plt.ylabel('Validation Error')\n",
    "plt.title('Max # of Estimators vs Validation Error')\n",
    "plt.legend()\n",
    "plt.show()"
   ]
  },
  {
   "cell_type": "markdown",
   "metadata": {},
   "source": [
    "Based on the plot above I'm selecting the model that had 1000 for the max number of estimators and evaluating it against the test data. Below I show the metrics produced from evaluating the model on the test data."
   ]
  },
  {
   "cell_type": "code",
   "execution_count": 24,
   "metadata": {},
   "outputs": [
    {
     "name": "stdout",
     "output_type": "stream",
     "text": [
      "Name: Learning Rate Tuned AdaBoost\n",
      "Cost Matrix: \n",
      "\n"
     ]
    },
    {
     "data": {
      "text/html": [
       "<div>\n",
       "<style scoped>\n",
       "    .dataframe tbody tr th:only-of-type {\n",
       "        vertical-align: middle;\n",
       "    }\n",
       "\n",
       "    .dataframe tbody tr th {\n",
       "        vertical-align: top;\n",
       "    }\n",
       "\n",
       "    .dataframe thead th {\n",
       "        text-align: right;\n",
       "    }\n",
       "</style>\n",
       "<table border=\"1\" class=\"dataframe\">\n",
       "  <thead>\n",
       "    <tr style=\"text-align: right;\">\n",
       "      <th>actual</th>\n",
       "      <th>0</th>\n",
       "      <th>1</th>\n",
       "    </tr>\n",
       "    <tr>\n",
       "      <th>pred</th>\n",
       "      <th></th>\n",
       "      <th></th>\n",
       "    </tr>\n",
       "  </thead>\n",
       "  <tbody>\n",
       "    <tr>\n",
       "      <th>0</th>\n",
       "      <td>156018</td>\n",
       "      <td>19350</td>\n",
       "    </tr>\n",
       "    <tr>\n",
       "      <th>1</th>\n",
       "      <td>4209</td>\n",
       "      <td>29138</td>\n",
       "    </tr>\n",
       "  </tbody>\n",
       "</table>\n",
       "</div>"
      ],
      "text/plain": [
       "actual       0      1\n",
       "pred                 \n",
       "0       156018  19350\n",
       "1         4209  29138"
      ]
     },
     "metadata": {},
     "output_type": "display_data"
    },
    {
     "name": "stdout",
     "output_type": "stream",
     "text": [
      "Specificity: \n",
      "\n",
      "0.9737310191166283 \n",
      "\n",
      "Sensitivity: \n",
      "\n",
      "0.6009321894076886 \n",
      "\n",
      "Precision: \n",
      "\n",
      "0.873781749482712 \n",
      "\n",
      "Accuracy: \n",
      "\n",
      "0.8871235895838824 \n",
      "\n"
     ]
    }
   ],
   "source": [
    "ada = models[3]\n",
    "mymetrics.print_metrics(mymetrics.get_metrics(ada, x_test_s, y_test_s, 'Learning Rate Tuned AdaBoost'))"
   ]
  },
  {
   "cell_type": "markdown",
   "metadata": {},
   "source": [
    "The model didn't perform better than the one built with a max number of estimators at the default of 50. It produced a better accuracy but smaller specificity, this is likely due to overfitting from allowing too many estimators. I'm going to use the default value, 50, for the max number of estimators."
   ]
  },
  {
   "cell_type": "code",
   "execution_count": 26,
   "metadata": {},
   "outputs": [
    {
     "name": "stdout",
     "output_type": "stream",
     "text": [
      "Name: Final AdaBoost\n",
      "Cost Matrix: \n",
      "\n"
     ]
    },
    {
     "data": {
      "text/html": [
       "<div>\n",
       "<style scoped>\n",
       "    .dataframe tbody tr th:only-of-type {\n",
       "        vertical-align: middle;\n",
       "    }\n",
       "\n",
       "    .dataframe tbody tr th {\n",
       "        vertical-align: top;\n",
       "    }\n",
       "\n",
       "    .dataframe thead th {\n",
       "        text-align: right;\n",
       "    }\n",
       "</style>\n",
       "<table border=\"1\" class=\"dataframe\">\n",
       "  <thead>\n",
       "    <tr style=\"text-align: right;\">\n",
       "      <th>actual</th>\n",
       "      <th>0</th>\n",
       "      <th>1</th>\n",
       "    </tr>\n",
       "    <tr>\n",
       "      <th>pred</th>\n",
       "      <th></th>\n",
       "      <th></th>\n",
       "    </tr>\n",
       "  </thead>\n",
       "  <tbody>\n",
       "    <tr>\n",
       "      <th>0</th>\n",
       "      <td>156112</td>\n",
       "      <td>20684</td>\n",
       "    </tr>\n",
       "    <tr>\n",
       "      <th>1</th>\n",
       "      <td>4115</td>\n",
       "      <td>27804</td>\n",
       "    </tr>\n",
       "  </tbody>\n",
       "</table>\n",
       "</div>"
      ],
      "text/plain": [
       "actual       0      1\n",
       "pred                 \n",
       "0       156112  20684\n",
       "1         4115  27804"
      ]
     },
     "metadata": {},
     "output_type": "display_data"
    },
    {
     "name": "stdout",
     "output_type": "stream",
     "text": [
      "Specificity: \n",
      "\n",
      "0.9743176867818782 \n",
      "\n",
      "Sensitivity: \n",
      "\n",
      "0.5734202276852005 \n",
      "\n",
      "Precision: \n",
      "\n",
      "0.8710799210501582 \n",
      "\n",
      "Accuracy: \n",
      "\n",
      "0.8811824737081666 \n",
      "\n"
     ]
    }
   ],
   "source": [
    "ada = ada_models[5]\n",
    "ada_metrics = mymetrics.get_metrics(ada, x_test_s, y_test_s, 'Final AdaBoost')\n",
    "mymetrics.print_metrics(ada_metrics)"
   ]
  },
  {
   "cell_type": "code",
   "execution_count": 27,
   "metadata": {},
   "outputs": [
    {
     "data": {
      "text/plain": [
       "['fit-models/adaboost.joblib']"
      ]
     },
     "execution_count": 27,
     "metadata": {},
     "output_type": "execute_result"
    }
   ],
   "source": [
    "dump(ada, 'fit-models/adaboost.joblib')"
   ]
  },
  {
   "cell_type": "markdown",
   "metadata": {},
   "source": [
    "Memory Issues with\n",
    "RBF Net\n",
    "Kernel PCA\n"
   ]
  },
  {
   "cell_type": "markdown",
   "metadata": {},
   "source": [
    "<a id=\"svm\"></a>\n",
    "## Supprt Vector Machine"
   ]
  },
  {
   "cell_type": "markdown",
   "metadata": {},
   "source": [
    "Below I use sklearn's LinearSVC "
   ]
  },
  {
   "cell_type": "code",
   "execution_count": null,
   "metadata": {},
   "outputs": [],
   "source": [
    "starttime = time.time()\n",
    "svm = LinearSVC(dual=False, fit_intercept=False)\n",
    "svm.fit(x_train_s.values,y_train_s.values.ravel())\n",
    "print('Training took:', time.time() - starttime, 'seconds')"
   ]
  },
  {
   "cell_type": "markdown",
   "metadata": {},
   "source": [
    "The confusion matrix produced from evaluating the Linear SVC model on the test data."
   ]
  },
  {
   "cell_type": "code",
   "execution_count": null,
   "metadata": {},
   "outputs": [],
   "source": [
    "cm = pd.crosstab(svm.predict(x_test_s).ravel(), y_test_s.values.ravel(), rownames=['pred'], colnames=['actual'])\n",
    "cm"
   ]
  },
  {
   "cell_type": "markdown",
   "metadata": {},
   "source": [
    "The specificity score from evaluating the Linear SVC model above on the test data."
   ]
  },
  {
   "cell_type": "code",
   "execution_count": null,
   "metadata": {},
   "outputs": [],
   "source": [
    "tnr = cm[0][0] / (cm[0][0]+cm[0][1])\n",
    "tnr"
   ]
  },
  {
   "cell_type": "markdown",
   "metadata": {},
   "source": [
    "Testing the Linear SVC with `fit_intercept` as True. The fit_intercept argument determines whether or not to calculate the intercept for this model, if it's set to False then the data is expected to be centered.  "
   ]
  },
  {
   "cell_type": "code",
   "execution_count": null,
   "metadata": {},
   "outputs": [],
   "source": [
    "svm_fit_intercept = LinearSVC(dual=False, fit_intercept=True)\n",
    "svm_fit_intercept.fit(x_train_s.values,y_train_s.values.ravel())"
   ]
  },
  {
   "cell_type": "code",
   "execution_count": null,
   "metadata": {},
   "outputs": [],
   "source": [
    "cm = pd.crosstab(svm_fit_intercept.predict(x_test_s).ravel(), y_test_s.values.ravel(), rownames=['pred'], colnames=['actual'])\n",
    "cm"
   ]
  },
  {
   "cell_type": "markdown",
   "metadata": {},
   "source": [
    "The specificity for the above confusion matrix."
   ]
  },
  {
   "cell_type": "code",
   "execution_count": null,
   "metadata": {},
   "outputs": [],
   "source": [
    "lsvc_tnr = cm[0][0] / (cm[0][0]+cm[0][1])\n",
    "lsvc_tnr"
   ]
  },
  {
   "cell_type": "markdown",
   "metadata": {},
   "source": [
    "The sensitiviy for the final Linear SVC confusion matrix."
   ]
  },
  {
   "cell_type": "code",
   "execution_count": null,
   "metadata": {},
   "outputs": [],
   "source": [
    "lsvc_sens = cm[1][1] / (cm[1][1] + cm[1][0])\n",
    "lsvc_sens"
   ]
  },
  {
   "cell_type": "markdown",
   "metadata": {},
   "source": [
    "The precision for the confusion matrix above."
   ]
  },
  {
   "cell_type": "code",
   "execution_count": null,
   "metadata": {},
   "outputs": [],
   "source": [
    "lvsc_prec = precision_score(y_test_s, svm.predict(x_test_s))\n",
    "lvsc_prec"
   ]
  },
  {
   "cell_type": "markdown",
   "metadata": {},
   "source": [
    "The accuracy for the confusion matrix above."
   ]
  },
  {
   "cell_type": "code",
   "execution_count": null,
   "metadata": {},
   "outputs": [],
   "source": [
    "lvsc_acc = accuracy_score(y_test_n, svm.predict(x_test_s))\n",
    "lvsc_acc"
   ]
  },
  {
   "cell_type": "markdown",
   "metadata": {},
   "source": [
    "When setting the `fit_intercept` argument to False the specificity was slightly higher for the test data. The data is scaled already."
   ]
  },
  {
   "cell_type": "code",
   "execution_count": null,
   "metadata": {},
   "outputs": [],
   "source": [
    "dump(svm, 'linear-svc.joblib')"
   ]
  },
  {
   "cell_type": "markdown",
   "metadata": {},
   "source": [
    "### Testing the Kernel SVC from sklearn\n",
    "\n",
    "Below I create a list of possible values for gamma."
   ]
  },
  {
   "cell_type": "code",
   "execution_count": null,
   "metadata": {},
   "outputs": [],
   "source": [
    "Gamma = [0.001,0.1,1,5,10,15]"
   ]
  },
  {
   "cell_type": "markdown",
   "metadata": {},
   "source": [
    "I'm evaluating which value for gamma will be best by building models with the different values of gamma, fitting them with the train data, and storing the validation error produced from each model when evaluated on the validation data."
   ]
  },
  {
   "cell_type": "code",
   "execution_count": null,
   "metadata": {},
   "outputs": [],
   "source": [
    "models = []\n",
    "val_errors = []\n",
    "for g in Gamma:\n",
    "    svc = SVC(kernel=\"rbf\", gamma=g, cache_size=600)\n",
    "    svc.fit(x_train_s, y_train_s.values.ravel())\n",
    "    models.append(svc)\n",
    "    val_errors.append(1 - svc.score(x_val_s.values, y_val_s.values.ravel()))"
   ]
  },
  {
   "cell_type": "markdown",
   "metadata": {},
   "source": [
    "Plotting gamma vs the validation error."
   ]
  },
  {
   "cell_type": "code",
   "execution_count": null,
   "metadata": {},
   "outputs": [],
   "source": [
    "plt.figure(figsize=(16,9))\n",
    "plt.plot(Gamma, val_errors, label='Validation Errors')\n",
    "plt.xlabel('Gamma')\n",
    "plt.ylabel('Validation Error')\n",
    "plt.title('Gamma vs Validation Error')\n",
    "plt.legend()\n",
    "plt.show()"
   ]
  },
  {
   "cell_type": "markdown",
   "metadata": {},
   "source": [
    "The confusion matrix as a result of evaluating the Kernel SVC on the test data."
   ]
  },
  {
   "cell_type": "code",
   "execution_count": null,
   "metadata": {},
   "outputs": [],
   "source": [
    "cm = pd.crosstab(svc.predict(x_test_s).ravel(), y_test_s.values.ravel(), rownames=['pred'], colnames=['actual'])\n",
    "cm"
   ]
  },
  {
   "cell_type": "markdown",
   "metadata": {},
   "source": [
    "The specificity for the above confusion matrix"
   ]
  },
  {
   "cell_type": "code",
   "execution_count": null,
   "metadata": {},
   "outputs": [],
   "source": [
    "ksvc_tnr = cm[0][0] / (cm[0][0]+cm[0][1])\n",
    "ksvc_tnr"
   ]
  },
  {
   "cell_type": "markdown",
   "metadata": {},
   "source": [
    "The sensitiviy for the final Kernel SVC confusion matrix."
   ]
  },
  {
   "cell_type": "code",
   "execution_count": null,
   "metadata": {},
   "outputs": [],
   "source": [
    "ksvc_sens = cm[1][1] / (cm[1][1] + cm[1][0])\n",
    "ksvc_sens"
   ]
  },
  {
   "cell_type": "markdown",
   "metadata": {},
   "source": [
    "The precision for the confusion matrix above."
   ]
  },
  {
   "cell_type": "code",
   "execution_count": null,
   "metadata": {},
   "outputs": [],
   "source": [
    "kvsc_prec = precision_score(y_test_s, svc.predict(x_test_s))\n",
    "kvsc_prec"
   ]
  },
  {
   "cell_type": "markdown",
   "metadata": {},
   "source": [
    "The accuracy for the confusion matrix above."
   ]
  },
  {
   "cell_type": "code",
   "execution_count": null,
   "metadata": {},
   "outputs": [],
   "source": [
    "kvsc_acc = accuracy_score(y_test_n, svc.predict(x_test_s))\n",
    "kvsc_acc"
   ]
  },
  {
   "cell_type": "code",
   "execution_count": null,
   "metadata": {},
   "outputs": [],
   "source": [
    "dump(svc,'kernel-svc.joblib')"
   ]
  },
  {
   "cell_type": "markdown",
   "metadata": {},
   "source": [
    "SVC Ran very slowly"
   ]
  },
  {
   "cell_type": "markdown",
   "metadata": {},
   "source": [
    "Memory Issues with\n",
    "RBF Net\n",
    "Kernel PCA\n"
   ]
  },
  {
   "cell_type": "markdown",
   "metadata": {},
   "source": [
    "<a id=\"lr\"></a>\n",
    "## Logistic Regression"
   ]
  },
  {
   "cell_type": "code",
   "execution_count": null,
   "metadata": {},
   "outputs": [],
   "source": [
    "lr = LR(max_iter=1000, solver='saga', multi_class='ovr', num_jobs=4, random_state=10)\n",
    "lr.fit(x_train_n.values, y_train_n.values.ravel())"
   ]
  },
  {
   "cell_type": "code",
   "execution_count": null,
   "metadata": {},
   "outputs": [],
   "source": [
    "cm = pd.crosstab( lr.predict(x_test_n).ravel(), y_test_n.values.ravel(), rownames=['pred'], colnames=['actual'])\n",
    "cm"
   ]
  },
  {
   "cell_type": "code",
   "execution_count": null,
   "metadata": {},
   "outputs": [],
   "source": [
    "accuracy_score(y_test_n, lr.predict(x_test_n))"
   ]
  },
  {
   "cell_type": "code",
   "execution_count": null,
   "metadata": {},
   "outputs": [],
   "source": [
    "precision_score(y_test_n, lr.predict(x_test_n))"
   ]
  },
  {
   "cell_type": "code",
   "execution_count": null,
   "metadata": {},
   "outputs": [],
   "source": [
    "print(recall_score(y_test_n, lr.predict(x_test_n)))\n",
    "sens = cm[1][1] / (cm[1][1] + cm[1][0])\n",
    "print(sens)"
   ]
  },
  {
   "cell_type": "code",
   "execution_count": null,
   "metadata": {},
   "outputs": [],
   "source": [
    "log_tnr = cm[0][0] / (cm[0][0]+cm[0][1])\n",
    "log_tnr"
   ]
  },
  {
   "cell_type": "markdown",
   "metadata": {},
   "source": [
    "The sensitiviy for the final Logistic Regression confusion matrix."
   ]
  },
  {
   "cell_type": "code",
   "execution_count": null,
   "metadata": {},
   "outputs": [],
   "source": [
    "log_sens = cm[1][1] / (cm[1][1] + cm[1][0])\n",
    "log_sens"
   ]
  },
  {
   "cell_type": "markdown",
   "metadata": {},
   "source": [
    "The precision for the confusion matrix above."
   ]
  },
  {
   "cell_type": "code",
   "execution_count": null,
   "metadata": {},
   "outputs": [],
   "source": [
    "log_prec = precision_score(y_test_s, lr.predict(x_test_s))\n",
    "log_prec"
   ]
  },
  {
   "cell_type": "markdown",
   "metadata": {},
   "source": [
    "The accuracy for the confusion matrix above."
   ]
  },
  {
   "cell_type": "code",
   "execution_count": null,
   "metadata": {},
   "outputs": [],
   "source": [
    "log_acc = accuracy_score(y_test_n, lr.predict(x_test_s))\n",
    "log_acc"
   ]
  },
  {
   "cell_type": "code",
   "execution_count": null,
   "metadata": {},
   "outputs": [],
   "source": [
    "dump(lr,'logistic-regression.joblib')"
   ]
  },
  {
   "cell_type": "markdown",
   "metadata": {},
   "source": [
    "<a id=\"nn\"></a>\n",
    "## Neural Network"
   ]
  },
  {
   "cell_type": "code",
   "execution_count": null,
   "metadata": {},
   "outputs": [],
   "source": [
    "dataset_train = tf.data.Dataset.from_tensors((x_train_n, y_train_n))\n",
    "dataset_val = tf.data.Dataset.from_tensors((x_val_n, y_val_n))\n",
    "dataset_train.shuffle(5000)"
   ]
  },
  {
   "cell_type": "code",
   "execution_count": null,
   "metadata": {},
   "outputs": [],
   "source": [
    "def build_model():\n",
    "    \n",
    "    inputs = tf.keras.Input(shape=(x_train.shape[1]))\n",
    "    dense_layer1 = keras.layers.Dense(16, activation=tf.nn.relu)\n",
    "    x = dense_layer1(inputs)\n",
    "    dropout_layer = keras.layers.Dropout(0.3)\n",
    "    x = dropout_layer(x)\n",
    "    predictions_layer = keras.layers.Dense(1, activation=tf.nn.sigmoid)\n",
    "    predictions = predictions_layer(x)\n",
    "    model = tf.keras.Model(inputs=inputs, outputs=predictions)\n",
    "    model.summary()\n",
    "    model.compile(optimizer=tf.keras.optimizers.Adam(0.01),\n",
    "                  loss=tf.keras.losses.BinaryCrossentropy(),\n",
    "                  metrics=['accuracy', \n",
    "                           tf.keras.metrics.Precision(0.7),\n",
    "                           tf.keras.metrics.Recall(0.7)\n",
    "                          ])\n",
    "    return model"
   ]
  },
  {
   "cell_type": "code",
   "execution_count": null,
   "metadata": {},
   "outputs": [],
   "source": [
    "model = build_model()"
   ]
  },
  {
   "cell_type": "code",
   "execution_count": null,
   "metadata": {},
   "outputs": [],
   "source": [
    "num_epochs = tf.Variable(1000, dtype=tf.int64)\n",
    "num_epochs"
   ]
  },
  {
   "cell_type": "code",
   "execution_count": null,
   "metadata": {},
   "outputs": [],
   "source": [
    "with tf.device('/gpu:0'):\n",
    "    tf.keras.backend.clear_session()\n",
    "    training_history = model.fit(dataset_train, epochs=num_epochs.value(), validation_data=dataset_val)"
   ]
  },
  {
   "cell_type": "code",
   "execution_count": null,
   "metadata": {},
   "outputs": [],
   "source": [
    "training_history.history.keys()"
   ]
  },
  {
   "cell_type": "code",
   "execution_count": null,
   "metadata": {},
   "outputs": [],
   "source": [
    "train_acc = training_history.history['accuracy']\n",
    "train_loss = training_history.history['loss']\n",
    "\n",
    "precision = training_history.history['precision']\n",
    "recall = training_history.history['recall']\n",
    "\n",
    "epochs_range = range(num_epochs.value())\n",
    "\n",
    "plt.figure(figsize=(14, 8))\n",
    "\n",
    "plt.subplot(1, 2, 1)\n",
    "plt.xlabel('Epochs')\n",
    "plt.ylabel('Percent')\n",
    "plt.plot(epochs_range, train_acc, label='Training Accuracy')\n",
    "plt.plot(epochs_range, train_loss, label='Training Loss')\n",
    "\n",
    "plt.title('Accuracy and Loss')\n",
    "plt.legend()\n",
    "\n",
    "plt.subplot(1, 2, 2)\n",
    "\n",
    "plt.plot(epochs_range, precision, label='Precision')\n",
    "plt.plot(epochs_range, recall, label='Recall')\n",
    "plt.xlabel('Epochs')\n",
    "plt.ylabel('Percent')\n",
    "plt.title('Precision and Recall')\n",
    "plt.legend()"
   ]
  },
  {
   "cell_type": "code",
   "execution_count": null,
   "metadata": {},
   "outputs": [],
   "source": [
    "with tf.device('/cpu:0'):\n",
    "    score = model.evaluate(x_test_n, y_test_n)\n",
    "    score_df = pd.Series(score, index = model.metrics_names)\n",
    "\n",
    "score_df"
   ]
  },
  {
   "cell_type": "code",
   "execution_count": null,
   "metadata": {},
   "outputs": [],
   "source": [
    "y_pred = model.predict(x_test_n)\n",
    "y_pred = np.where(y_pred>=0.7, 1, y_pred)\n",
    "y_pred = np.where(y_pred<0.7, 0, y_pred)\n",
    "pred_results = pd.DataFrame({'y_test': y_test_n.values.flatten().astype('int32'),\n",
    "                             'y_pred': y_pred.flatten().astype('int32') }, index = range(len(y_pred)))\n",
    "pred_results.sample(5)"
   ]
  },
  {
   "cell_type": "code",
   "execution_count": null,
   "metadata": {},
   "outputs": [],
   "source": [
    "cm = pd.crosstab(pred_results.y_pred, pred_results.y_test)\n",
    "cm"
   ]
  },
  {
   "cell_type": "code",
   "execution_count": null,
   "metadata": {},
   "outputs": [],
   "source": [
    "fpr_mlp, tpr_mlp, thresholds_mlp = roc_curve(pred_results.y_test, pred_results.y_pred)\n",
    "auc_mlp = auc(fpr_mlp, tpr_mlp)"
   ]
  },
  {
   "cell_type": "markdown",
   "metadata": {},
   "source": [
    "The sensitiviy for the Neural Nets confusion matrix."
   ]
  },
  {
   "cell_type": "code",
   "execution_count": null,
   "metadata": {},
   "outputs": [],
   "source": [
    "# nn_sens = cm[1][1] / (cm[1][1] + cm[1][0])\n",
    "# nn_sens"
   ]
  },
  {
   "cell_type": "markdown",
   "metadata": {},
   "source": [
    "The precision for the confusion matrix above."
   ]
  },
  {
   "cell_type": "code",
   "execution_count": null,
   "metadata": {},
   "outputs": [],
   "source": [
    "# nn_prec = precision_score(y_test_s, svc.predict(x_test_s))\n",
    "# kvsc_prec"
   ]
  },
  {
   "cell_type": "markdown",
   "metadata": {},
   "source": [
    "The accuracy for the confusion matrix above."
   ]
  },
  {
   "cell_type": "code",
   "execution_count": null,
   "metadata": {},
   "outputs": [],
   "source": [
    "# kvsc_acc = accuracy_score(y_test_n, svc.predict(x_test_s))\n",
    "# kvsc_acc"
   ]
  },
  {
   "cell_type": "markdown",
   "metadata": {},
   "source": [
    "<a id=\"unsupervised\"></a>\n",
    "# Unsupervised"
   ]
  },
  {
   "cell_type": "markdown",
   "metadata": {},
   "source": [
    "<a id=\"gmm\"></a>\n",
    "## Gaussian Mixed Model"
   ]
  },
  {
   "cell_type": "markdown",
   "metadata": {},
   "source": [
    "Instantiating the GMM class for 2 components"
   ]
  },
  {
   "cell_type": "code",
   "execution_count": null,
   "metadata": {},
   "outputs": [],
   "source": [
    "gmm = GMM(2)"
   ]
  },
  {
   "cell_type": "markdown",
   "metadata": {},
   "source": [
    "Fitting the GMM instance with the train data"
   ]
  },
  {
   "cell_type": "code",
   "execution_count": null,
   "metadata": {},
   "outputs": [],
   "source": [
    "gmm.fit(x_train_s)"
   ]
  },
  {
   "cell_type": "markdown",
   "metadata": {},
   "source": [
    "Evaluating the GMM modle on the test data and observing the confusion matrix."
   ]
  },
  {
   "cell_type": "code",
   "execution_count": null,
   "metadata": {},
   "outputs": [],
   "source": [
    "cm = pd.crosstab(gmm.predict(x_test_n).ravel(), y_test_n.values.ravel(), rownames=['pred'], colnames=['actual'])"
   ]
  },
  {
   "cell_type": "markdown",
   "metadata": {},
   "source": [
    "Displaying the confusion matrix"
   ]
  },
  {
   "cell_type": "code",
   "execution_count": null,
   "metadata": {},
   "outputs": [],
   "source": [
    "cm"
   ]
  },
  {
   "cell_type": "markdown",
   "metadata": {},
   "source": [
    "Checking if the model converged during training and it did."
   ]
  },
  {
   "cell_type": "code",
   "execution_count": null,
   "metadata": {},
   "outputs": [],
   "source": [
    "gmm.converged_"
   ]
  },
  {
   "cell_type": "markdown",
   "metadata": {},
   "source": [
    "Accuracy score on the test data."
   ]
  },
  {
   "cell_type": "code",
   "execution_count": null,
   "metadata": {},
   "outputs": [],
   "source": [
    "accuracy_score(y_test_n, gmm.predict(x_test_n))"
   ]
  },
  {
   "cell_type": "markdown",
   "metadata": {},
   "source": [
    "Precision Score on the test data."
   ]
  },
  {
   "cell_type": "code",
   "execution_count": null,
   "metadata": {},
   "outputs": [],
   "source": [
    "precision_score(y_test_n, gmm.predict(x_test_n))"
   ]
  },
  {
   "cell_type": "markdown",
   "metadata": {},
   "source": [
    "Sensitivity of the test data."
   ]
  },
  {
   "cell_type": "code",
   "execution_count": null,
   "metadata": {},
   "outputs": [],
   "source": [
    "print(recall_score(y_test_n, gmm.predict(x_test_n)))\n",
    "sens = cm[1][1] / (cm[1][1] + cm[1][0])\n",
    "print(sens)"
   ]
  },
  {
   "cell_type": "markdown",
   "metadata": {},
   "source": [
    "Specificity of the Test Data."
   ]
  },
  {
   "cell_type": "code",
   "execution_count": null,
   "metadata": {},
   "outputs": [],
   "source": [
    "tnr = cm[0][0] / (cm[0][0]+cm[0][1])\n",
    "tnr"
   ]
  },
  {
   "cell_type": "markdown",
   "metadata": {},
   "source": [
    "Storing the model so I can graph it's ROC Curve later."
   ]
  },
  {
   "cell_type": "code",
   "execution_count": null,
   "metadata": {},
   "outputs": [],
   "source": [
    "gmm_model = gmm"
   ]
  },
  {
   "cell_type": "code",
   "execution_count": null,
   "metadata": {},
   "outputs": [],
   "source": [
    "dump(gmm, 'gmm.joblib')"
   ]
  },
  {
   "cell_type": "markdown",
   "metadata": {},
   "source": [
    "<a id=\"kmean\"></a>\n",
    "## K-Means"
   ]
  },
  {
   "cell_type": "code",
   "execution_count": null,
   "metadata": {},
   "outputs": [],
   "source": [
    "kmeans = KMeans(n_clusters=2, n_init=50, max_iter=500,random_state=10)"
   ]
  },
  {
   "cell_type": "code",
   "execution_count": null,
   "metadata": {},
   "outputs": [],
   "source": [
    "c_space_X = kmeans.fit_transform(x_train_n)"
   ]
  },
  {
   "cell_type": "code",
   "execution_count": null,
   "metadata": {},
   "outputs": [],
   "source": [
    "c_space_X"
   ]
  },
  {
   "cell_type": "code",
   "execution_count": null,
   "metadata": {},
   "outputs": [],
   "source": [
    "plt.scatter(c_space_X[:,0], c_space_X[:,1], c=y_train_n.values)"
   ]
  },
  {
   "cell_type": "code",
   "execution_count": null,
   "metadata": {},
   "outputs": [],
   "source": [
    "cm = pd.crosstab(kmeans.predict(x_test_n).ravel(), y_test_n.values.ravel(), rownames=['pred'], colnames=['actual'])\n",
    "cm"
   ]
  },
  {
   "cell_type": "code",
   "execution_count": null,
   "metadata": {},
   "outputs": [],
   "source": [
    "accuracy_score(y_test_n, kmeans.predict(x_test_n))"
   ]
  },
  {
   "cell_type": "code",
   "execution_count": null,
   "metadata": {},
   "outputs": [],
   "source": [
    "precision_score(y_test_n, kmeans.predict(x_test_n))"
   ]
  },
  {
   "cell_type": "code",
   "execution_count": null,
   "metadata": {},
   "outputs": [],
   "source": [
    "print(recall_score(y_test_n, kmeans.predict(x_test_n)))\n",
    "sens = cm[1][1] / (cm[1][1] + cm[1][0])\n",
    "print(sens)"
   ]
  },
  {
   "cell_type": "code",
   "execution_count": null,
   "metadata": {},
   "outputs": [],
   "source": [
    "tnr = cm[0][0] / (cm[0][0]+cm[0][1])\n",
    "tnr"
   ]
  },
  {
   "cell_type": "code",
   "execution_count": null,
   "metadata": {},
   "outputs": [],
   "source": [
    "dump(kmeans, 'kmeans.joblib')"
   ]
  },
  {
   "cell_type": "code",
   "execution_count": null,
   "metadata": {},
   "outputs": [],
   "source": [
    "df_not_one_hot = pd.read_csv('data/no_one_hot_data.csv')\n",
    "df_X = df_not_one_hot.sample(frac=.60)\n",
    "df_y = df_not_one_hot[\"DNF\"].loc[df_X.index]"
   ]
  },
  {
   "cell_type": "code",
   "execution_count": null,
   "metadata": {},
   "outputs": [],
   "source": [
    "c_space_X = kmeans.fit_transform(df_X.values[:,:-1])"
   ]
  },
  {
   "cell_type": "code",
   "execution_count": null,
   "metadata": {},
   "outputs": [],
   "source": [
    "plt.scatter(c_space_X[:,0], c_space_X[:,1], c=df_y.values)"
   ]
  },
  {
   "cell_type": "markdown",
   "metadata": {},
   "source": [
    "<a id=\"pca\"></a>\n",
    "## Primary Component Analysis"
   ]
  },
  {
   "cell_type": "code",
   "execution_count": null,
   "metadata": {},
   "outputs": [],
   "source": [
    "pca = PCA(2)"
   ]
  },
  {
   "cell_type": "code",
   "execution_count": null,
   "metadata": {},
   "outputs": [],
   "source": [
    "X_pca = pca.fit_transform(x_train_s)"
   ]
  },
  {
   "cell_type": "code",
   "execution_count": null,
   "metadata": {},
   "outputs": [],
   "source": [
    "X_pca"
   ]
  },
  {
   "cell_type": "code",
   "execution_count": null,
   "metadata": {},
   "outputs": [],
   "source": [
    "plt.scatter(X_pca[:,0], X_pca[:,1], c = y_train_s.values)"
   ]
  },
  {
   "cell_type": "code",
   "execution_count": null,
   "metadata": {},
   "outputs": [],
   "source": [
    "pca.score_samples(x_test_s)"
   ]
  },
  {
   "cell_type": "code",
   "execution_count": null,
   "metadata": {},
   "outputs": [],
   "source": [
    "X_pca = pca.fit_transform(df_X.values[:,:-1])"
   ]
  },
  {
   "cell_type": "code",
   "execution_count": null,
   "metadata": {},
   "outputs": [],
   "source": [
    "plt.scatter(X_pca[:,0], X_pca[:,1], c = df_y.values)"
   ]
  },
  {
   "cell_type": "code",
   "execution_count": null,
   "metadata": {},
   "outputs": [],
   "source": [
    "dump(pca,'pca.joblib')"
   ]
  },
  {
   "cell_type": "code",
   "execution_count": null,
   "metadata": {},
   "outputs": [],
   "source": []
  },
  {
   "cell_type": "markdown",
   "metadata": {},
   "source": [
    "<a id=\"ipca\"></a>\n",
    "## Incremental Primary Component Analysis"
   ]
  },
  {
   "cell_type": "code",
   "execution_count": null,
   "metadata": {},
   "outputs": [],
   "source": [
    "ipca = IncrementalPCA(2)"
   ]
  },
  {
   "cell_type": "code",
   "execution_count": null,
   "metadata": {},
   "outputs": [],
   "source": [
    "X_ipca = ipca.fit_transform(x_train_s)"
   ]
  },
  {
   "cell_type": "code",
   "execution_count": null,
   "metadata": {},
   "outputs": [],
   "source": [
    "plt.scatter(X_ipca[:,0], X_ipca[:,1], c = y_train_s.values)"
   ]
  },
  {
   "cell_type": "code",
   "execution_count": null,
   "metadata": {},
   "outputs": [],
   "source": [
    "dump(ipca,'ipca.joblib')"
   ]
  },
  {
   "cell_type": "markdown",
   "metadata": {},
   "source": [
    "<a id='roc'></a>\n",
    "## ROC Curves"
   ]
  },
  {
   "cell_type": "code",
   "execution_count": null,
   "metadata": {},
   "outputs": [],
   "source": [
    "fig, ax = plt.subplots() \n",
    "plot_roc_curve(lr, x_test_n, y_test_n, ax=ax)\n",
    "plot_roc_curve(ada, x_test_s, y_test_s, ax=ax)\n",
    "plot_roc_curve(rf, x_test_s, y_test_s, ax=ax)\n",
    "# ax.plot(fpr_mlp, tpr_mlp, label='Multilayer Perceptron (AUC = {:.2f})'.format(auc_mlp))\n",
    "ax.plot([0,1], [0,1], label='Pure Random Classifier', 'b-')\n",
    "plot_roc_curve(svm, x_test_n, y_test_n, ax=ax)\n",
    "plot_roc_curve(gmm, x_test_s,y_test_s, ax=ax)\n",
    "plt.legend()\n",
    "plt.show()"
   ]
  }
 ],
 "metadata": {
  "kernelspec": {
   "display_name": "Python 3",
   "language": "python",
   "name": "python3"
  },
  "language_info": {
   "codemirror_mode": {
    "name": "ipython",
    "version": 3
   },
   "file_extension": ".py",
   "mimetype": "text/x-python",
   "name": "python",
   "nbconvert_exporter": "python",
   "pygments_lexer": "ipython3",
   "version": "3.8.5"
  }
 },
 "nbformat": 4,
 "nbformat_minor": 4
}
