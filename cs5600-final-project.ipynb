{
 "cells": [
  {
   "cell_type": "code",
   "execution_count": 39,
   "metadata": {},
   "outputs": [],
   "source": [
    "import numpy as np\n",
    "import pandas as pd\n",
    "import matplotlib.pyplot as plt \n",
    "import seaborn as sns\n",
    "import time\n",
    "import os\n",
    "import tensorflow as tf\n",
    "import metrics as mymetrics\n",
    "import sklearn.preprocessing as preprocessing\n",
    "from sklearn.model_selection import train_test_split\n",
    "from sklearn.ensemble import RandomForestClassifier as RF\n",
    "from sklearn.ensemble import AdaBoostClassifier as AdaBoost\n",
    "from sklearn.ensemble import BaggingClassifier\n",
    "from sklearn.svm import SVC\n",
    "from sklearn.svm import LinearSVC\n",
    "from sklearn.decomposition import PCA\n",
    "from sklearn.decomposition import IncrementalPCA\n",
    "from sklearn.cluster import KMeans\n",
    "from sklearn.mixture import GaussianMixture as GMM\n",
    "from sklearn.linear_model import LogisticRegression as LR\n",
    "from sklearn.metrics import plot_roc_curve, roc_curve, auc\n",
    "from tensorflow import keras\n",
    "from joblib import dump, load\n",
    "%matplotlib inline"
   ]
  },
  {
   "cell_type": "markdown",
   "metadata": {},
   "source": [
    "# CS5600 Final Project by Jeff Gradner\n",
    "***\n",
    "### About\n",
    "The goal of this project and notebook is to compare the performance of supervised and unsupervised machine learning techniques in classifying whether treatment of an animal will be successful. The data I'm using can be found in `data/raw_data.csv` and is provided by a Utah feedlot operation.\n",
    "***\n",
    "### Preprocesing\n",
    "I'll preprocess the data by adding calculated features, removing features, and performing feature engineering by normalization and standardization. \n",
    "***\n",
    "### Visualization\n",
    "I'll use Matplotlib to visualize and gain insight from the raw data, processed data and results from different algorithms.\n",
    "***\n",
    "### Algorithms\n",
    "I'll use a variety of different techniques and apply cross-validation and hyperparameter tuning where applicable:\n",
    "#### Supervised\n",
    "* Random Forests (RF)\n",
    "* AdaBoost\n",
    "* Support Vector Machines (SVM)\n",
    "* Logistic Regression\n",
    "* Neural Networks (NN)\n",
    "\n",
    "#### Unsupervised\n",
    "* Gaussian Mixed Models (GMM)\n",
    "* K-Means (KMeans)\n",
    "* Primary Component Analysis (PCA)\n",
    "* Kernel Primary Component Analysis (KPCA)\n",
    "***\n",
    "### Table of Contents\n",
    "\n",
    "* [Raw Data Visualization](#rawDataVis)\n",
    "* [Pre Processing](#preprocessing)\n",
    "* [Splitting the Data](#splitting)\n",
    "***\n",
    "#### [Supervised Algorithms](#supervised) \n",
    "* [Random Forest](#rf)\n",
    "* [AdaBoost](#ada)\n",
    "* [Support Vecor Machine](#svm)\n",
    "* [Logistic Regression](#lr)\n",
    "* [Neural Network](#nn)\n",
    "***    \n",
    "#### [Unsupervised Algorithms](#unsupervised)\n",
    "* [Gaussian Mixed Models](#gmm)\n",
    "* [K-Means](#kmean)\n",
    "* [Primary Component Analysis](#pca)\n",
    "* [Kernel Primary Component Analysis](#kpca)\n",
    "***        \n",
    "#### [Results](#results)\n",
    "* [ROC Curves](#roc)"
   ]
  },
  {
   "cell_type": "markdown",
   "metadata": {},
   "source": [
    "<a id=\"rawDataVis\"></a>\n",
    "# Raw Data Visualization"
   ]
  },
  {
   "cell_type": "markdown",
   "metadata": {},
   "source": [
    "Below I'm reading the original data into a Pandas DataFrame and assign the dtype to each column based on observing the data in a spreadsheet."
   ]
  },
  {
   "cell_type": "code",
   "execution_count": null,
   "metadata": {},
   "outputs": [],
   "source": [
    "df_raw = pd.read_csv('data/raw_data.csv', dtype={'yard.lot.tag.date':'object',\n",
    "                                                            'Yard.Lot': 'object',\n",
    "                                                            'yard.lot.tag':'object',\n",
    "                                                            'Yard': 'string',\n",
    "                                                            'Lot': 'string',\n",
    "                                                            'Treat.Date':'string',\n",
    "                                                            'Drug': 'string',\n",
    "                                                            'Treat.Weight':'int64',\n",
    "                                                            'Treat.Temperature':'float64',\n",
    "                                                            'Sex': 'string',\n",
    "                                                            'Treatment.Number':'int64',\n",
    "                                                            'Head.Received': 'int64',\n",
    "                                                            'Arrival.Date': 'string',\n",
    "                                                            'Arrival.Weight':'float64',\n",
    "                                                            'Death.Date':'object',\n",
    "                                                            'Cause.Of.Death':'object'},)"
   ]
  },
  {
   "cell_type": "markdown",
   "metadata": {},
   "source": [
    "## Plotting of the Raw Data"
   ]
  },
  {
   "cell_type": "markdown",
   "metadata": {},
   "source": [
    "### Quantity of Deaths by Cause per Gender\n",
    "I see that both male and female cows die majorily from respiratory problems and that more males die than females. H is for hefer and S is for steer."
   ]
  },
  {
   "cell_type": "code",
   "execution_count": null,
   "metadata": {},
   "outputs": [],
   "source": [
    "plt.figure(figsize=(12,12))\n",
    "sns.countplot(x='Sex', hue ='Cause.Of.Death', data=df_raw)\n",
    "plt.title('Causes of Death per Gender')\n",
    "plt.legend(loc='best')\n",
    "plt.show()"
   ]
  },
  {
   "cell_type": "markdown",
   "metadata": {},
   "source": [
    "## Quantity of Causes of Death per Drug Type\n",
    "I'm checking for the the largest causes of death, RESPIRATORY, AIP, and OTHER, how many die while being treated with a given drug. \n",
    "\n",
    "Below I'm filtering the data to only include examples where the cause of death is one of the 3 top contributors."
   ]
  },
  {
   "cell_type": "code",
   "execution_count": null,
   "metadata": {},
   "outputs": [],
   "source": [
    "df_respiratory = df_raw.loc[df_raw['Cause.Of.Death'] == 'RESPIRATORY']\n",
    "df_aip = df_raw.loc[df_raw['Cause.Of.Death'] == 'AIP']\n",
    "df_other = df_raw.loc[df_raw['Cause.Of.Death'] == 'OTHER']\n",
    "df_deaths_drugs = pd.concat([df_respiratory, df_aip, df_other], axis=0)"
   ]
  },
  {
   "cell_type": "markdown",
   "metadata": {},
   "source": [
    "Plotting the number of deaths for each cause of death and with what treatment drug was used."
   ]
  },
  {
   "cell_type": "code",
   "execution_count": null,
   "metadata": {},
   "outputs": [],
   "source": [
    "plt.figure(figsize=(28,16))\n",
    "sns.countplot(x='Cause.Of.Death', hue ='Drug', data=df_deaths_drugs)\n",
    "plt.title('Causes of Death per Treament Drug',fontsize=15)\n",
    "plt.legend(loc='upper right',prop={'size':'15'})\n",
    "plt.xlabel('Drug', fontsize=15)\n",
    "plt.ylabel('Count', fontsize=15)\n",
    "plt.xticks(fontsize=15)\n",
    "plt.show()"
   ]
  },
  {
   "cell_type": "markdown",
   "metadata": {},
   "source": [
    "## Raw Data Insights"
   ]
  },
  {
   "cell_type": "markdown",
   "metadata": {},
   "source": [
    "Below is the shape of the original data and a sample of 3 examples."
   ]
  },
  {
   "cell_type": "code",
   "execution_count": null,
   "metadata": {},
   "outputs": [],
   "source": [
    "print(\"Original data shape:\", df_raw.shape)\n",
    "df_raw.sample(3)"
   ]
  },
  {
   "cell_type": "markdown",
   "metadata": {},
   "source": [
    "I'm checking if there are any null values and how many of each there are. I see that there are missing values for the Death Date and Cause of Death, this makes sense because not every animal who is treated for Bovine Respiratory Disease dies."
   ]
  },
  {
   "cell_type": "code",
   "execution_count": null,
   "metadata": {},
   "outputs": [],
   "source": [
    "df_raw.isna().sum()"
   ]
  },
  {
   "cell_type": "markdown",
   "metadata": {},
   "source": [
    "Checking how many deaths per Cause of Death. The majority of deaths reported are attributed to respiratory."
   ]
  },
  {
   "cell_type": "code",
   "execution_count": null,
   "metadata": {},
   "outputs": [],
   "source": [
    "df_raw['Cause.Of.Death'].value_counts()"
   ]
  },
  {
   "cell_type": "markdown",
   "metadata": {},
   "source": [
    "Viewing how many of each sex exist in the data. "
   ]
  },
  {
   "cell_type": "code",
   "execution_count": null,
   "metadata": {},
   "outputs": [],
   "source": [
    "df_raw['Sex'].value_counts()"
   ]
  },
  {
   "cell_type": "markdown",
   "metadata": {},
   "source": [
    "Viewing descriptive statistics from the original data."
   ]
  },
  {
   "cell_type": "code",
   "execution_count": null,
   "metadata": {},
   "outputs": [],
   "source": [
    "df_raw.describe().T"
   ]
  },
  {
   "cell_type": "markdown",
   "metadata": {},
   "source": [
    "<a id=\"preprocessing\"></a>\n",
    "# Pre-Processing"
   ]
  },
  {
   "cell_type": "code",
   "execution_count": null,
   "metadata": {},
   "outputs": [],
   "source": [
    "df_raw.sample(3)"
   ]
  },
  {
   "cell_type": "markdown",
   "metadata": {},
   "source": [
    "Feedlots are made up of yards that contain lots where the animals reside. Each animal has a unique tag. Below I'm taking the series of yard.lot.tag and splitting the data where there are periods to create three series for the yard, lot, and tag. I'm then combining yard and tag into one series named Yard.Tag adding it to the DataFrame and removing the yard and tag columns."
   ]
  },
  {
   "cell_type": "code",
   "execution_count": null,
   "metadata": {},
   "outputs": [],
   "source": [
    "ylt = df_raw['yard.lot.tag']\n",
    "ylt = ylt.str.split( '.', expand= True)\n",
    "ylt.rename(columns = {0:'yard', 1:'lot', 2:'tag'}, inplace = True)\n",
    "df_raw['yard'] = ylt['yard']\n",
    "df_raw['tag'] = ylt['tag']\n",
    "df_raw['Yard.Tag'] = df_raw['yard'] + '.' + df_raw['tag']\n",
    "df_raw = df_raw.drop(['yard', 'tag'], axis = 1)"
   ]
  },
  {
   "cell_type": "markdown",
   "metadata": {},
   "source": [
    "A target column doesn't exist in the raw data so I'm going to add one named DNF for Did Not Finish. If an example has 0 for its DNF value then the animal finished or lived. If DNF has a value of 1 then that animal died. I construct the DNF series by inserting the value 0 if there is no death date, otherwise 1."
   ]
  },
  {
   "cell_type": "code",
   "execution_count": null,
   "metadata": {},
   "outputs": [],
   "source": [
    "df_raw['DNF'] = ''\n",
    "df_raw['DNF'] = np.where(pd.isna(df_raw['Death.Date']), 0, 1)"
   ]
  },
  {
   "cell_type": "markdown",
   "metadata": {},
   "source": [
    "Thinking that the time of year an animal arrives on the feedlot and gets sick could be useful I'm adding features for the arrival month and quarter, and the treat month and quarter. I'm using Pandas to parse the month and quarter from the exising arrival and treat dates. "
   ]
  },
  {
   "cell_type": "code",
   "execution_count": null,
   "metadata": {},
   "outputs": [],
   "source": [
    "df_raw['Arrival.Month'] = pd.DatetimeIndex(df_raw['Arrival.Date']).month\n",
    "df_raw['Arrival.Quarter'] = pd.DatetimeIndex(df_raw['Arrival.Date']).quarter\n",
    "df_raw['Treat.Month'] = pd.DatetimeIndex(df_raw['Treat.Date']).month\n",
    "df_raw['Treat.Quarter'] = pd.DatetimeIndex(df_raw['Treat.Date']).quarter"
   ]
  },
  {
   "cell_type": "markdown",
   "metadata": {},
   "source": [
    "There will be examples that have the same Yard.Lot if they are treated more than once or are treated once and do not finish. I want all instances for a particular animal to reflect whether they died or not. For example if an animal is treated two times and there is a third input vector that reflects that the animal died then I want all of the instances for that animal to have a DNF value of 1. Below I sort the raw data by Yard.Lot and Treat.Date, I then get a boolean series where examples that have a dupilcate are marked True. These examples that are marked True reflect the cows that need to have their DNF values updated to match the end result for that animal. I then access the raw data with the boolean series and group by the Yard.Lot and Yard.Tag meaning I'm grouping all instances for each unique animal. I then access those groups at their DNF values and apply transform to each group so that if there is a value 1 in any of a groups DNF then all will have the value 1 for DNF. This returns a boolean series where True indicates that all the values were set to 1 and False means the cow finished and all examples for that cow have a DNF of 0. I used this boolean series to update the DNF column as integers 0 or 1."
   ]
  },
  {
   "cell_type": "code",
   "execution_count": null,
   "metadata": {},
   "outputs": [],
   "source": [
    "df_raw = df_raw.sort_values(['Yard.Lot', 'Treat.Date'])\n",
    "dup = df_raw.duplicated(['Yard.Lot', 'Yard.Tag'], keep=False)\n",
    "fixed_dnf = df_raw[dup].groupby(['Yard.Lot', 'Yard.Tag'])['DNF'].transform(any)\n",
    "df_raw['DNF'].update(fixed_dnf.astype(int))"
   ]
  },
  {
   "cell_type": "markdown",
   "metadata": {},
   "source": [
    "Similar to how I want the DNF value to be the same for all examples given a single unique animal I want the death date and cause of death to match for all examples of an animal. Below I use the boolean series `dup` from above which indicated which examples have duplicates or which animals have more than entry in the data. I then group by Yard.Lot and Yard.Tag again where each group consists of examples for a single animal and take the animal death date and fill backwards from the example so that all entries for a single animal have the same death date and then also fill forwards to ensure that any entries after the one marked with the death date also have the death date value. I repeat this process for the cause of death.  "
   ]
  },
  {
   "cell_type": "code",
   "execution_count": null,
   "metadata": {},
   "outputs": [],
   "source": [
    "death_date_fixed1 = df_raw[dup].groupby(['Yard.Lot', 'Yard.Tag'])['Death.Date'].fillna(method='bfill')\n",
    "df_raw['Death.Date'].update(death_date_fixed1)\n",
    "death_date_fixed2 = df_raw[dup].groupby(['Yard.Lot', 'Yard.Tag'])['Death.Date'].fillna(method='ffill')\n",
    "df_raw['Death.Date'].update(death_date_fixed2)\n",
    "\n",
    "death_cause_fixed1 = df_raw[dup].groupby(['Yard.Lot', 'Yard.Tag'])['Cause.Of.Death'].fillna(method='bfill')\n",
    "df_raw['Cause.Of.Death'].update(death_cause_fixed1)\n",
    "death_cause_fixed2 = df_raw[dup].groupby(['Yard.Lot', 'Yard.Tag'])['Cause.Of.Death'].fillna(method='ffill')\n",
    "df_raw['Cause.Of.Death'].update(death_cause_fixed2)"
   ]
  },
  {
   "cell_type": "markdown",
   "metadata": {},
   "source": [
    "So far all of the examples represent a treatment of a given animal and I want to make sure that the treatment number is correct for all examples. I again use the boolean series dup to get all the instances where they belong to an animal who have more than one entry in the data and group by the Yard.Lot and Yard.Tag and number each item in each group $0$ to $(len(group)-1)$ with Pandas cumcount() function. A treament number wouldn't ever be 0 the first treatment should have a treatment number of 1 so I increment all the values by 1. Finally the Treatment.Number column is replaced with the updated treatment number values."
   ]
  },
  {
   "cell_type": "code",
   "execution_count": null,
   "metadata": {},
   "outputs": [],
   "source": [
    "fixed_treat = df_raw[dup].groupby(['Yard.Lot', 'Yard.Tag']).cumcount()\n",
    "fixed_treat += 1\n",
    "df_raw['Treatment.Number'] = fixed_treat"
   ]
  },
  {
   "cell_type": "markdown",
   "metadata": {},
   "source": [
    "Adding a new row for the death event of each animal if they did not finish. I'm creating a DataFrame of all the examples where the death date is not null and dropping and duplicates of Yard.Lot and Yard.Tag so that the data has one example for each animal that did not finish. Set the treat date equal to the death date because these rows are the death event not a treatment instance. I also set the drug, treat weight, and treat temperature to null (nan). "
   ]
  },
  {
   "cell_type": "code",
   "execution_count": null,
   "metadata": {},
   "outputs": [],
   "source": [
    "df_dnf = df_raw.loc[df_raw['Death.Date'].notna()].drop_duplicates(['Yard.Lot', 'Yard.Tag'])\n",
    "df_dnf['Treat.Date'] = df_dnf['Death.Date']\n",
    "df_dnf.loc[:,['Drug', 'Treat.Weight','Treat.Temperature']] = np.nan"
   ]
  },
  {
   "cell_type": "markdown",
   "metadata": {},
   "source": [
    "Concatenating the death events to the raw data and sorting by Yard.Lot and Treat.Date to observe if it looks correct. It does and then I reset the index after sorting the DataFrame."
   ]
  },
  {
   "cell_type": "code",
   "execution_count": null,
   "metadata": {},
   "outputs": [],
   "source": [
    "df = pd.concat([df_raw, df_dnf], ignore_index=True)\n",
    "df = df.sort_values(['Yard.Lot', 'Treat.Date'])\n",
    "df = df.reset_index(drop=True)"
   ]
  },
  {
   "cell_type": "markdown",
   "metadata": {},
   "source": [
    "Adding another feature Brdcasestothispoint that is the number of BRD cases in a given lot for each example. "
   ]
  },
  {
   "cell_type": "code",
   "execution_count": null,
   "metadata": {},
   "outputs": [],
   "source": [
    "df.loc[:,'Brdcasestothispoint'] = df.groupby(df['Yard.Lot']).cumcount()"
   ]
  },
  {
   "cell_type": "markdown",
   "metadata": {},
   "source": [
    "Adding another feature that is the number of distinct cases of BRD for a given lot."
   ]
  },
  {
   "cell_type": "code",
   "execution_count": null,
   "metadata": {},
   "outputs": [],
   "source": [
    "unique_cases = df.drop_duplicates(['Yard.Lot', 'Yard.Tag']).groupby(df['Yard.Lot']).cumcount()\n",
    "distbrd = unique_cases.reindex(df.index).ffill().astype(int)\n",
    "df['Distbrdcasestothispoint'] = distbrd"
   ]
  },
  {
   "cell_type": "markdown",
   "metadata": {},
   "source": [
    "Adding two more features, one for the total treatment failures and another for the treatment failures for a given lot"
   ]
  },
  {
   "cell_type": "code",
   "execution_count": null,
   "metadata": {},
   "outputs": [],
   "source": [
    "dup = df.duplicated(['Yard.Lot', 'Yard.Tag'])\n",
    "df['Txfailure2'] = dup.astype(int)\n",
    "failtothispoint = df.groupby(df['Yard.Lot']).cumsum()['Txfailure2']\n",
    "df['Txfailure2tothispoint'] = failtothispoint"
   ]
  },
  {
   "cell_type": "markdown",
   "metadata": {},
   "source": [
    "Adding another feature that is the treatment success rate for a given lot. "
   ]
  },
  {
   "cell_type": "code",
   "execution_count": null,
   "metadata": {},
   "outputs": [],
   "source": [
    "success_rate = (df['Distbrdcasestothispoint']-df['Txfailure2tothispoint'])/df['Distbrdcasestothispoint']\n",
    "success_rate = success_rate.fillna(1)\n",
    "success_rate = success_rate.replace(np.NINF, 1)\n",
    "success_rate = success_rate.replace(np.inf, 1)\n",
    "df['Txsuccessrate2'] = success_rate"
   ]
  },
  {
   "cell_type": "markdown",
   "metadata": {},
   "source": [
    "Adding two more features, one for the proportion of BRD cases and another for the proportion of distinct BRD cases for a given lot. "
   ]
  },
  {
   "cell_type": "code",
   "execution_count": null,
   "metadata": {},
   "outputs": [],
   "source": [
    "df['Propbrdcasestothispoint'] = df['Brdcasestothispoint']/df['Head.Received']\n",
    "df['Propdistcasestothispoint'] = df['Distbrdcasestothispoint']/df['Head.Received']"
   ]
  },
  {
   "cell_type": "markdown",
   "metadata": {},
   "source": [
    "Adding a days since arrival feature to determine how long the animal has been in the feedlot."
   ]
  },
  {
   "cell_type": "code",
   "execution_count": null,
   "metadata": {},
   "outputs": [],
   "source": [
    "df['Dayssincearrival'] = (pd.to_datetime(df['Treat.Date'])-pd.to_datetime(df['Arrival.Date'])).dt.days"
   ]
  },
  {
   "cell_type": "markdown",
   "metadata": {},
   "source": [
    "Adding two more features, the amount of deaths and the proportion of deaths."
   ]
  },
  {
   "cell_type": "code",
   "execution_count": null,
   "metadata": {},
   "outputs": [],
   "source": [
    "dnf = df.loc[df['Death.Date'].notna()]\n",
    "deathcount = df.groupby(df['Yard.Lot'])['DNF'].cumsum()\n",
    "df['Deathstothispoint'] = deathcount\n",
    "df['Propdeathstothispoint'] = df['Deathstothispoint']/df['Head.Received']"
   ]
  },
  {
   "cell_type": "markdown",
   "metadata": {},
   "source": [
    "Adding two more features, the number of animals that were pulled and treated on a given day for a lot and the proportion of pulls for that lot. "
   ]
  },
  {
   "cell_type": "code",
   "execution_count": null,
   "metadata": {},
   "outputs": [],
   "source": [
    "df['Dailyallpulls'] = df.groupby(['Yard.Lot', 'Treat.Date'])['Treat.Date'].transform('size')\n",
    "df['Propdailyallpulls'] = df['Dailyallpulls']/df['Head.Received']"
   ]
  },
  {
   "cell_type": "markdown",
   "metadata": {},
   "source": [
    "Viewing a sample of the data."
   ]
  },
  {
   "cell_type": "code",
   "execution_count": null,
   "metadata": {},
   "outputs": [],
   "source": [
    "df.sample(3)"
   ]
  },
  {
   "cell_type": "markdown",
   "metadata": {},
   "source": [
    "Dropping columns from the data I won't use or need."
   ]
  },
  {
   "cell_type": "code",
   "execution_count": null,
   "metadata": {},
   "outputs": [],
   "source": [
    "df_reduced = df.drop(['yard.lot.tag.date','Yard', 'Yard.Lot','yard.lot.tag', 'Lot', 'Arrival.Date','Yard.Tag','Treat.Date', 'Death.Date', 'Cause.Of.Death'], axis=1)"
   ]
  },
  {
   "cell_type": "markdown",
   "metadata": {},
   "source": [
    "Creating a dataset with no one hot encoding for dimesionality reduction algorithms."
   ]
  },
  {
   "cell_type": "code",
   "execution_count": null,
   "metadata": {},
   "outputs": [],
   "source": [
    "no_one_hot = df_reduced.copy()"
   ]
  },
  {
   "cell_type": "markdown",
   "metadata": {},
   "source": [
    "One hot encoding nominal features and viewing a sample of the data."
   ]
  },
  {
   "cell_type": "code",
   "execution_count": null,
   "metadata": {},
   "outputs": [],
   "source": [
    "df_one_hot = pd.get_dummies(data=df_reduced, columns=['Arrival.Month', 'Arrival.Quarter', 'Treat.Month', 'Treat.Quarter', 'Drug', 'Sex'])\n",
    "pd.set_option('display.max_columns', 79)\n",
    "df_one_hot.sample(5)"
   ]
  },
  {
   "cell_type": "markdown",
   "metadata": {},
   "source": [
    "Filtering out the numeric features for feature engineering and viewing a sample."
   ]
  },
  {
   "cell_type": "code",
   "execution_count": null,
   "metadata": {},
   "outputs": [],
   "source": [
    "numeric_features = df_one_hot.drop(df_one_hot.iloc[:,17:], axis=1)\n",
    "numeric_features.drop(columns=['DNF'], axis=1, inplace=True)\n",
    "numeric_features.sample(5)"
   ]
  },
  {
   "cell_type": "markdown",
   "metadata": {},
   "source": [
    "Statistical details of the numeric features."
   ]
  },
  {
   "cell_type": "code",
   "execution_count": null,
   "metadata": {},
   "outputs": [],
   "source": [
    "numeric_features.describe().T"
   ]
  },
  {
   "cell_type": "markdown",
   "metadata": {},
   "source": [
    "Checking for null or missing data from the numeric features."
   ]
  },
  {
   "cell_type": "code",
   "execution_count": null,
   "metadata": {},
   "outputs": [],
   "source": [
    "numeric_features.isna().sum()"
   ]
  },
  {
   "cell_type": "markdown",
   "metadata": {},
   "source": [
    "Filling missing data with the mean of the feature it belongs to. The mean doesn't tell us anything statisically speaking"
   ]
  },
  {
   "cell_type": "code",
   "execution_count": null,
   "metadata": {},
   "outputs": [],
   "source": [
    "numeric_features['Treat.Weight'].fillna(value=numeric_features['Treat.Weight'].mean(), inplace=True)\n",
    "numeric_features['Treat.Temperature'].fillna(value=numeric_features['Treat.Temperature'].mean(), inplace=True)\n",
    "numeric_features['Treatment.Number'].fillna(value=numeric_features['Treatment.Number'].mean(), inplace=True)\n",
    "\n",
    "no_one_hot['Treat.Weight'].fillna(value=no_one_hot['Treat.Weight'].mean(), inplace=True)\n",
    "no_one_hot['Treat.Temperature'].fillna(value=no_one_hot['Treat.Temperature'].mean(), inplace=True)\n",
    "no_one_hot['Treatment.Number'].fillna(value=no_one_hot['Treatment.Number'].mean(), inplace=True)"
   ]
  },
  {
   "cell_type": "markdown",
   "metadata": {},
   "source": [
    "Using scikit-learn I'm going to normalize and standardize the numeric features. I'll create two datasets so that I can use the scaled or nomalized data depending on the algorithm. I'm storing the numeric feature column names so I can reconstruct a DataFrame with the transformed datasets."
   ]
  },
  {
   "cell_type": "code",
   "execution_count": null,
   "metadata": {},
   "outputs": [],
   "source": [
    "numeric_column_labels = numeric_features.columns\n",
    "normed_features = preprocessing.normalize(numeric_features)\n",
    "df_normed = pd.DataFrame((normed_features), columns=numeric_column_labels)\n",
    "scaled_features = preprocessing.scale(numeric_features)\n",
    "df_scaled = pd.DataFrame((scaled_features), columns = numeric_column_labels)"
   ]
  },
  {
   "cell_type": "markdown",
   "metadata": {},
   "source": [
    "Combining the transformed data from above with the nominal features that were one-hot encoded and saving them to CSV files."
   ]
  },
  {
   "cell_type": "code",
   "execution_count": null,
   "metadata": {},
   "outputs": [],
   "source": [
    "normed_processed = pd.concat([df_normed, df_one_hot.iloc[:,17:], df_reduced['DNF']], axis=1, sort=False)\n",
    "scaled_processed = pd.concat([df_scaled, df_one_hot.iloc[:,17:], df_reduced['DNF']], axis=1, sort=False)\n",
    "normed_processed.to_csv('data/normed_processed_data.csv', index=False)\n",
    "scaled_processed.to_csv('data/scaled_processed_data.csv', index=False)"
   ]
  },
  {
   "cell_type": "code",
   "execution_count": null,
   "metadata": {},
   "outputs": [],
   "source": [
    "dnf_tmp = no_one_hot[\"DNF\"]\n",
    "no_one_hot = no_one_hot.drop((\"DNF\"), axis=1)"
   ]
  },
  {
   "cell_type": "code",
   "execution_count": null,
   "metadata": {},
   "outputs": [],
   "source": [
    "no_one_hot[\"Drug\"] = no_one_hot[\"Drug\"].astype('category').cat.codes"
   ]
  },
  {
   "cell_type": "code",
   "execution_count": null,
   "metadata": {},
   "outputs": [],
   "source": [
    "no_one_hot = pd.concat((no_one_hot, dnf_tmp), axis=1)"
   ]
  },
  {
   "cell_type": "code",
   "execution_count": null,
   "metadata": {},
   "outputs": [],
   "source": [
    "no_one_hot[\"Sex\"] = no_one_hot[\"Sex\"].astype('category').cat.codes"
   ]
  },
  {
   "cell_type": "code",
   "execution_count": null,
   "metadata": {},
   "outputs": [],
   "source": [
    "no_one_hot.to_csv('data/no_one_hot_data.csv', index=False)"
   ]
  },
  {
   "cell_type": "markdown",
   "metadata": {},
   "source": [
    "<a id=\"splitting\"></a>\n",
    "# Splitting the Data\n",
    "\n",
    "Splitting the data into a training, validation and testing set with scikit-learn. Below I store the targets in a flattened array named target."
   ]
  },
  {
   "cell_type": "code",
   "execution_count": 3,
   "metadata": {},
   "outputs": [],
   "source": [
    "df_normed = pd.read_csv('data/normed_processed_data.csv')\n",
    "df_scaled = pd.read_csv('data/scaled_processed_data.csv')"
   ]
  },
  {
   "cell_type": "code",
   "execution_count": 4,
   "metadata": {},
   "outputs": [],
   "source": [
    "target_n = df_normed[['DNF']]\n",
    "target_s = df_scaled[['DNF']]"
   ]
  },
  {
   "cell_type": "markdown",
   "metadata": {},
   "source": [
    "Splititng the normalized data into a training and testing set with an 80-20 split."
   ]
  },
  {
   "cell_type": "code",
   "execution_count": 5,
   "metadata": {},
   "outputs": [],
   "source": [
    "x_train_n, x_test_n, y_train_n, y_test_n = train_test_split(df_normed.iloc[:, :-1], \n",
    "                                                    target_n, \n",
    "                                                    test_size = 0.35, \n",
    "                                                    random_state=8)\n",
    "x_train_s, x_test_s, y_train_s, y_test_s = train_test_split(df_scaled.iloc[:, :-1], \n",
    "                                                    target_s, \n",
    "                                                    test_size = 0.3, \n",
    "                                                    random_state=8)"
   ]
  },
  {
   "cell_type": "markdown",
   "metadata": {},
   "source": [
    "Splitting the training data into a training and validation sets with a 85-15 split."
   ]
  },
  {
   "cell_type": "code",
   "execution_count": 6,
   "metadata": {},
   "outputs": [],
   "source": [
    "x_train_n, x_val_n, y_train_n, y_val_n = train_test_split(x_train_n, \n",
    "                                                  y_train_n, \n",
    "                                                  test_size=0.2,\n",
    "                                                  random_state=10)\n",
    "x_train_s, x_val_s, y_train_s, y_val_s = train_test_split(x_train_s, \n",
    "                                                  y_train_s, \n",
    "                                                  test_size=0.2,\n",
    "                                                  random_state=10)"
   ]
  },
  {
   "cell_type": "markdown",
   "metadata": {},
   "source": [
    "Displaying the size of each dataset."
   ]
  },
  {
   "cell_type": "code",
   "execution_count": 7,
   "metadata": {},
   "outputs": [
    {
     "name": "stdout",
     "output_type": "stream",
     "text": [
      "Train Inputs Shape: (361772, 71) | Val Inputs Shape: (90443, 71) | Test Inputs Shape: (243501, 71)\n",
      "Train Target Shape: (361772, 1)  | Val Target Shape: (90443, 1)  | Test Target Shape: (243501, 1)\n"
     ]
    }
   ],
   "source": [
    "print(\"Train Inputs Shape:\", x_train_n.shape, \"| Val Inputs Shape:\", x_val_n.shape, \"| Test Inputs Shape:\", x_test_n.shape)\n",
    "print(\"Train Target Shape:\", y_train_n.shape, \" | Val Target Shape:\", y_val_n.shape, \" | Test Target Shape:\", y_test_n.shape)"
   ]
  },
  {
   "cell_type": "markdown",
   "metadata": {},
   "source": [
    "<a id=\"supervised\"></a>\n",
    "# Supervised Algorithms "
   ]
  },
  {
   "cell_type": "markdown",
   "metadata": {},
   "source": [
    "<a id=\"rf\"></a>\n",
    "## Random Forests\n",
    "From scikit-learn I'm going to use Random Forests. Below I create a list of possible values for the number of estimators to consider."
   ]
  },
  {
   "cell_type": "code",
   "execution_count": 7,
   "metadata": {},
   "outputs": [],
   "source": [
    "N = np.arange(100,251,step=50)"
   ]
  },
  {
   "cell_type": "markdown",
   "metadata": {},
   "source": [
    "Using cross-validation to determine the best number of esimators. For every value n in N I instantiate the Random Forest Classifier from scikit-learn, fit the model with the training data, then compute the accuracy and error of the model on the validation data."
   ]
  },
  {
   "cell_type": "code",
   "execution_count": 8,
   "metadata": {},
   "outputs": [
    {
     "name": "stdout",
     "output_type": "stream",
     "text": [
      "Training took: 133.39618349075317 seconds\n"
     ]
    }
   ],
   "source": [
    "starttime = time.time()\n",
    "rf_models = []\n",
    "rf_val_errors = []\n",
    "for n in N:\n",
    "    rf = RF(n_estimators=n, n_jobs=6)\n",
    "    rf.fit(x_train_s.values, y_train_s.values.ravel())\n",
    "    rf_models.append(rf)\n",
    "    rf_val_errors.append(1 - rf.score(x_val_s.values, y_val_s.values))\n",
    "print('Training took:', time.time() - starttime, 'seconds')"
   ]
  },
  {
   "cell_type": "markdown",
   "metadata": {},
   "source": [
    "Plotting the validation error vs. the number of estimators used. The error $E$ is calculated as $E = 1 - $accuracy."
   ]
  },
  {
   "cell_type": "code",
   "execution_count": 9,
   "metadata": {},
   "outputs": [
    {
     "data": {
      "image/png": "[encoded data removed]",
      "text/plain": [
       "<Figure size 1152x648 with 1 Axes>"
      ]
     },
     "metadata": {
      "needs_background": "light"
     },
     "output_type": "display_data"
    }
   ],
   "source": [
    "plt.figure(figsize=(16,9))\n",
    "plt.plot(N,rf_val_errors, 'g-', label='Validation Errors')\n",
    "plt.xlabel('Number of Estimators')\n",
    "plt.ylabel('Validation Error')\n",
    "plt.title('Number of Estimators vs Validation Error')\n",
    "plt.legend()\n",
    "plt.show()"
   ]
  },
  {
   "cell_type": "markdown",
   "metadata": {},
   "source": [
    "Below I'm observing the index that corresponds to the minimum validation error and storing that model in the variable `rf`."
   ]
  },
  {
   "cell_type": "code",
   "execution_count": 13,
   "metadata": {},
   "outputs": [],
   "source": [
    "idx = np.argmin(rf_val_errors)\n",
    "rf = rf_models[2]"
   ]
  },
  {
   "cell_type": "markdown",
   "metadata": {},
   "source": [
    "The model produced with 250 estimators produced the lowest validation error."
   ]
  },
  {
   "cell_type": "code",
   "execution_count": 14,
   "metadata": {},
   "outputs": [
    {
     "data": {
      "text/plain": [
       "250"
      ]
     },
     "execution_count": 14,
     "metadata": {},
     "output_type": "execute_result"
    }
   ],
   "source": [
    "N[idx]"
   ]
  },
  {
   "cell_type": "markdown",
   "metadata": {},
   "source": [
    "Printing results of the Random Forest model being evaluated on the test data."
   ]
  },
  {
   "cell_type": "code",
   "execution_count": 18,
   "metadata": {},
   "outputs": [
    {
     "name": "stdout",
     "output_type": "stream",
     "text": [
      "name: \n",
      "\n",
      "Untuned RF \n",
      "\n",
      "cm: \n",
      "\n",
      "actual       0      1\n",
      "pred                 \n",
      "0       156702  19291\n",
      "1         3525  29197 \n",
      "\n",
      "specificity: \n",
      "\n",
      "0.9779999625531277 \n",
      "\n",
      "sensitivity: \n",
      "\n",
      "0.6021489853159545 \n",
      "\n",
      "precision: \n",
      "\n",
      "0.8922743108611944 \n",
      "\n",
      "accuracy: \n",
      "\n",
      "0.8906834678868313 \n",
      "\n"
     ]
    }
   ],
   "source": [
    "mymetrics.print_metrics(mymetrics.get_metrics(rf, x_test_s, y_test_s, 'Untuned RF'))"
   ]
  },
  {
   "cell_type": "markdown",
   "metadata": {},
   "source": [
    "The training performed pretty slowly so I'm attempting to speed up the training process by reducing the number of samples to be drawn in each bootstrap sample from the total number of examples to 10%, 30%, and 50% of the total number of examples. I'm going to build the model with 250 estimators still and compare the results to the confusion matrix above."
   ]
  },
  {
   "cell_type": "code",
   "execution_count": 19,
   "metadata": {},
   "outputs": [],
   "source": [
    "sample_sizes = [.1, .3, .5]"
   ]
  },
  {
   "cell_type": "markdown",
   "metadata": {},
   "source": [
    "Below I am observing the validation errors produced from models fit with the train data and evaluated on the validation data. Three models are built each with 250 trees in the forest and with bootstrap sample sizes of 10%, 20%, and 30% respectively."
   ]
  },
  {
   "cell_type": "code",
   "execution_count": 21,
   "metadata": {},
   "outputs": [
    {
     "name": "stdout",
     "output_type": "stream",
     "text": [
      "Training took: 68.89317798614502 seconds\n"
     ]
    }
   ],
   "source": [
    "starttime = time.time()\n",
    "models = []\n",
    "val_errors = []\n",
    "for s in sample_sizes:\n",
    "    rf_smaller_bs_samples = RF(n_estimators=250, n_jobs=4, max_samples=s)\n",
    "    rf_smaller_bs_samples.fit(x_train_s.values, y_train_s.values.ravel())\n",
    "    models.append(rf_smaller_bs_samples)\n",
    "    val_errors.append(1 - rf_smaller_bs_samples.score(x_val_s.values, y_val_s.values))\n",
    "print('Training took:', time.time() - starttime, 'seconds')"
   ]
  },
  {
   "cell_type": "markdown",
   "metadata": {},
   "source": [
    "Below I observe that the model built with bootstrapped samples having 50% of the total number of examples resulted in the lowest validation error."
   ]
  },
  {
   "cell_type": "code",
   "execution_count": 22,
   "metadata": {},
   "outputs": [
    {
     "data": {
      "text/plain": [
       "0.5"
      ]
     },
     "execution_count": 22,
     "metadata": {},
     "output_type": "execute_result"
    }
   ],
   "source": [
    "idx = np.argmin(val_errors)\n",
    "sample_sizes[idx]"
   ]
  },
  {
   "cell_type": "markdown",
   "metadata": {},
   "source": [
    "Based on the plot below I'm going to use sample sizes of 50% the total number of examples."
   ]
  },
  {
   "cell_type": "code",
   "execution_count": 23,
   "metadata": {},
   "outputs": [
    {
     "data": {
      "image/png": "[encoded data removed]",
      "text/plain": [
       "<Figure size 1152x648 with 1 Axes>"
      ]
     },
     "metadata": {
      "needs_background": "light"
     },
     "output_type": "display_data"
    }
   ],
   "source": [
    "plt.figure(figsize=(16,9))\n",
    "plt.plot(sample_sizes,val_errors, 'g-', label='Validation Errors')\n",
    "plt.xlabel('% of Examples in Bootstrap Sample')\n",
    "plt.ylabel('Validation Error')\n",
    "plt.title('Size of Bootstrap Sample(%) vs Validation Error')\n",
    "plt.legend()\n",
    "plt.show()"
   ]
  },
  {
   "cell_type": "markdown",
   "metadata": {},
   "source": [
    "The confusion matrix result from evaluating the model built with 250 estimators and bootstrap samples having 50% of the total number of examples in the train data. The confusion matrix appears to have better results than using $N$ examples in the bootstrap samples where $N$ is the number of examples in the train data."
   ]
  },
  {
   "cell_type": "code",
   "execution_count": 24,
   "metadata": {},
   "outputs": [
    {
     "name": "stdout",
     "output_type": "stream",
     "text": [
      "name: \n",
      "\n",
      "Sample Size Tuned RF \n",
      "\n",
      "cm: \n",
      "\n",
      "actual       0      1\n",
      "pred                 \n",
      "0       157341  19858\n",
      "1         2886  28630 \n",
      "\n",
      "specificity: \n",
      "\n",
      "0.9819880544477523 \n",
      "\n",
      "sensitivity: \n",
      "\n",
      "0.5904553704009239 \n",
      "\n",
      "precision: \n",
      "\n",
      "0.9084274654143927 \n",
      "\n",
      "accuracy: \n",
      "\n",
      "0.8910284359054212 \n",
      "\n"
     ]
    }
   ],
   "source": [
    "mymetrics.print_metrics(mymetrics.get_metrics(models[idx], x_test_s, y_test_s, 'Sample Size Tuned RF'))"
   ]
  },
  {
   "cell_type": "markdown",
   "metadata": {},
   "source": [
    "Checking the specificity of the model and it is better than that of the earlier model with larger bootstrap samples."
   ]
  },
  {
   "cell_type": "markdown",
   "metadata": {},
   "source": [
    "Below I'm testing how long the training takes with 250 trees in the forest and sample sizes of $(0.50 \\cdot N)$ where N is the total number of examples in the train set. "
   ]
  },
  {
   "cell_type": "code",
   "execution_count": 25,
   "metadata": {},
   "outputs": [
    {
     "name": "stdout",
     "output_type": "stream",
     "text": [
      "Training took: 104.57492327690125 seconds\n"
     ]
    }
   ],
   "source": [
    "starttime = time.time()\n",
    "rf = RF(n_estimators=250, max_samples=.5, n_jobs=1)\n",
    "rf.fit(x_train_s.values, y_train_s.values.ravel())\n",
    "print('Training took:', time.time() - starttime, 'seconds')"
   ]
  },
  {
   "cell_type": "markdown",
   "metadata": {},
   "source": [
    "We can see that by increasing the number of jobs to run in parallel from 1 to 4 increased the time by $104.6 - 27.9 = 76.7$ seconds. I've updated training above to use more threads to decrease the time it takes when I re-run the notebook. "
   ]
  },
  {
   "cell_type": "code",
   "execution_count": 26,
   "metadata": {},
   "outputs": [
    {
     "name": "stdout",
     "output_type": "stream",
     "text": [
      "Training took: 27.88589310646057 seconds\n"
     ]
    }
   ],
   "source": [
    "starttime = time.time()\n",
    "rf = RF(n_estimators=250, max_samples=.5, n_jobs=6)\n",
    "rf.fit(x_train_s.values, y_train_s.values.ravel())\n",
    "print('Training took:', time.time() - starttime, 'seconds')"
   ]
  },
  {
   "cell_type": "markdown",
   "metadata": {},
   "source": [
    "I'm now going to tune the max depth of the trees that make up the forest."
   ]
  },
  {
   "cell_type": "code",
   "execution_count": 9,
   "metadata": {},
   "outputs": [],
   "source": [
    "max_depths = [50, 100, 150, 200, 350]"
   ]
  },
  {
   "cell_type": "markdown",
   "metadata": {},
   "source": [
    "Below I store the validation errors for models built with tree max depths of 50, 100, 250, 500, and 2000. I can compare the results to the confusion matrix and specificity above where the model was built with no max depth specified. Each model below is built with 250 estimators and sample sizes of 30% the total number of examples."
   ]
  },
  {
   "cell_type": "code",
   "execution_count": 10,
   "metadata": {},
   "outputs": [
    {
     "name": "stdout",
     "output_type": "stream",
     "text": [
      "Training took: 142.37521052360535 seconds\n"
     ]
    }
   ],
   "source": [
    "starttime = time.time()\n",
    "models = []\n",
    "val_errors = []\n",
    "for d in max_depths:\n",
    "    rf_max_depths = RF(n_estimators=250, n_jobs=6, max_samples=.50, max_depth=d)\n",
    "    rf_max_depths.fit(x_train_s.values, y_train_s.values.ravel())\n",
    "    models.append(rf_max_depths)\n",
    "    val_errors.append(1 - rf_max_depths.score(x_val_s.values, y_val_s.values))\n",
    "print('Training took:', time.time() - starttime, 'seconds')"
   ]
  },
  {
   "cell_type": "markdown",
   "metadata": {},
   "source": [
    "Plotting the Tree Max Depth vs. the Validation Error. Based on the plot below I'm selecting a max depth of 50 as the model built with 50 for the max depth produced the lowest validation error."
   ]
  },
  {
   "cell_type": "code",
   "execution_count": 11,
   "metadata": {},
   "outputs": [
    {
     "data": {
      "image/png": "[encoded data removed]",
      "text/plain": [
       "<Figure size 1152x648 with 1 Axes>"
      ]
     },
     "metadata": {
      "needs_background": "light"
     },
     "output_type": "display_data"
    }
   ],
   "source": [
    "plt.figure(figsize=(16,9))\n",
    "plt.plot(max_depths,val_errors, 'g-', label='Validation Errors')\n",
    "plt.xlabel('Tree Max Depth')\n",
    "plt.ylabel('Validation Error')\n",
    "plt.title('Tree Max Depth vs Validation Error')\n",
    "plt.legend()\n",
    "plt.show()"
   ]
  },
  {
   "cell_type": "markdown",
   "metadata": {},
   "source": [
    "Evaluating the tuned model on the test data."
   ]
  },
  {
   "cell_type": "code",
   "execution_count": 12,
   "metadata": {},
   "outputs": [
    {
     "name": "stdout",
     "output_type": "stream",
     "text": [
      "Name: Final RF\n",
      "cm: \n",
      "\n"
     ]
    },
    {
     "data": {
      "text/html": [
       "<div>\n",
       "<style scoped>\n",
       "    .dataframe tbody tr th:only-of-type {\n",
       "        vertical-align: middle;\n",
       "    }\n",
       "\n",
       "    .dataframe tbody tr th {\n",
       "        vertical-align: top;\n",
       "    }\n",
       "\n",
       "    .dataframe thead th {\n",
       "        text-align: right;\n",
       "    }\n",
       "</style>\n",
       "<table border=\"1\" class=\"dataframe\">\n",
       "  <thead>\n",
       "    <tr style=\"text-align: right;\">\n",
       "      <th>actual</th>\n",
       "      <th>0</th>\n",
       "      <th>1</th>\n",
       "    </tr>\n",
       "    <tr>\n",
       "      <th>pred</th>\n",
       "      <th></th>\n",
       "      <th></th>\n",
       "    </tr>\n",
       "  </thead>\n",
       "  <tbody>\n",
       "    <tr>\n",
       "      <th>0</th>\n",
       "      <td>157423</td>\n",
       "      <td>19870</td>\n",
       "    </tr>\n",
       "    <tr>\n",
       "      <th>1</th>\n",
       "      <td>2804</td>\n",
       "      <td>28618</td>\n",
       "    </tr>\n",
       "  </tbody>\n",
       "</table>\n",
       "</div>"
      ],
      "text/plain": [
       "actual       0      1\n",
       "pred                 \n",
       "0       157423  19870\n",
       "1         2804  28618"
      ]
     },
     "metadata": {},
     "output_type": "display_data"
    },
    {
     "data": {
      "text/plain": [
       "'\\n'"
      ]
     },
     "metadata": {},
     "output_type": "display_data"
    },
    {
     "name": "stdout",
     "output_type": "stream",
     "text": [
      "Specificity: \n",
      "\n",
      "0.9824998283685021 \n",
      "\n",
      "Sensitivity: \n",
      "\n",
      "0.5902078864873783 \n",
      "\n",
      "Precision: \n",
      "\n",
      "0.9107631595697282 \n",
      "\n",
      "Accuracy: \n",
      "\n",
      "0.8913638214790504 \n",
      "\n"
     ]
    }
   ],
   "source": [
    "# clf = load('fit-models/random-forest.joblib')\n",
    "rf_metrics = mymetrics.get_metrics(models[0], x_test_s, y_test_s, 'Final RF')\n",
    "mymetrics.print_metrics(rf_metrics)"
   ]
  },
  {
   "cell_type": "code",
   "execution_count": 16,
   "metadata": {},
   "outputs": [
    {
     "data": {
      "text/plain": [
       "['fit-models/random-forest.joblib']"
      ]
     },
     "execution_count": 16,
     "metadata": {},
     "output_type": "execute_result"
    }
   ],
   "source": [
    "dump(models[0], 'fit-models/random-forest.joblib')"
   ]
  },
  {
   "cell_type": "markdown",
   "metadata": {},
   "source": [
    "Memory Issues with\n",
    "RBF Net\n",
    "Kernel PCA\n"
   ]
  },
  {
   "cell_type": "markdown",
   "metadata": {},
   "source": [
    "<a id=\"ada\"></a>\n",
    "## AdaBoost\n",
    "\n",
    "Creating a list named `eta` of possible learning rates."
   ]
  },
  {
   "cell_type": "code",
   "execution_count": 13,
   "metadata": {},
   "outputs": [],
   "source": [
    "eta = np.arange(0.1,1.5,step=.2)"
   ]
  },
  {
   "cell_type": "markdown",
   "metadata": {},
   "source": [
    "Empty lists to store the various models and their validation errors. I'll be observing the validation error of models trained with the different learning rates defined above."
   ]
  },
  {
   "cell_type": "code",
   "execution_count": 14,
   "metadata": {},
   "outputs": [],
   "source": [
    "ada_models = []\n",
    "ada_val_errors = []"
   ]
  },
  {
   "cell_type": "markdown",
   "metadata": {},
   "source": [
    "Using cross-validation to determine the best learning rate. I'm observing the error produced from models trained with different learning rates to find the best learning rate for this data. "
   ]
  },
  {
   "cell_type": "code",
   "execution_count": 16,
   "metadata": {},
   "outputs": [
    {
     "name": "stdout",
     "output_type": "stream",
     "text": [
      "Training took: 174.4853196144104 seconds\n"
     ]
    }
   ],
   "source": [
    "starttime = time.time()\n",
    "for e in eta:\n",
    "    ada = AdaBoost(learning_rate=e, random_state=10)\n",
    "    ada.fit(x_train_s.values, y_train_s.values.ravel())\n",
    "    ada_models.append(ada)\n",
    "    ada_val_errors.append(1 - ada.score(x_val_s.values, y_val_s.values.ravel()))\n",
    "print('Training took:', time.time() - starttime, 'seconds')"
   ]
  },
  {
   "cell_type": "markdown",
   "metadata": {},
   "source": [
    "Plotting the learning rates vs the errors produced from evaluating the model on the validation data. From the error values I used above it looks like 1.3 produces the lowest validation error."
   ]
  },
  {
   "cell_type": "code",
   "execution_count": 17,
   "metadata": {},
   "outputs": [
    {
     "data": {
      "image/png": "[encoded data removed]",
      "text/plain": [
       "<Figure size 1152x648 with 1 Axes>"
      ]
     },
     "metadata": {
      "needs_background": "light"
     },
     "output_type": "display_data"
    }
   ],
   "source": [
    "plt.figure(figsize=(16,9))\n",
    "plt.plot(eta,ada_val_errors, 'g-', label='Validation Errors')\n",
    "plt.xlabel('Learning Rate')\n",
    "plt.ylabel('Validation Error')\n",
    "plt.title('Learning Rate vs Validation Error')\n",
    "plt.legend()\n",
    "plt.show()"
   ]
  },
  {
   "cell_type": "markdown",
   "metadata": {},
   "source": [
    "Getting the model built with a learning rate of 1.1"
   ]
  },
  {
   "cell_type": "code",
   "execution_count": 18,
   "metadata": {},
   "outputs": [],
   "source": [
    "idx = np.argmin(ada_val_errors)\n",
    "ada = ada_models[idx]"
   ]
  },
  {
   "cell_type": "markdown",
   "metadata": {},
   "source": [
    "The learning rate used that produced the lowest validation error is 1.1"
   ]
  },
  {
   "cell_type": "code",
   "execution_count": 19,
   "metadata": {},
   "outputs": [
    {
     "data": {
      "text/plain": [
       "1.1000000000000003"
      ]
     },
     "execution_count": 19,
     "metadata": {},
     "output_type": "execute_result"
    }
   ],
   "source": [
    "eta[idx]"
   ]
  },
  {
   "cell_type": "markdown",
   "metadata": {},
   "source": [
    "Evaluating the AdaBoost model, trained with a learning rate of 1.1, on the test data."
   ]
  },
  {
   "cell_type": "code",
   "execution_count": 20,
   "metadata": {},
   "outputs": [
    {
     "name": "stdout",
     "output_type": "stream",
     "text": [
      "Name: Learning Rate Tuned AdaBoost\n",
      "Cost Matrix: \n",
      "\n"
     ]
    },
    {
     "data": {
      "text/html": [
       "<div>\n",
       "<style scoped>\n",
       "    .dataframe tbody tr th:only-of-type {\n",
       "        vertical-align: middle;\n",
       "    }\n",
       "\n",
       "    .dataframe tbody tr th {\n",
       "        vertical-align: top;\n",
       "    }\n",
       "\n",
       "    .dataframe thead th {\n",
       "        text-align: right;\n",
       "    }\n",
       "</style>\n",
       "<table border=\"1\" class=\"dataframe\">\n",
       "  <thead>\n",
       "    <tr style=\"text-align: right;\">\n",
       "      <th>actual</th>\n",
       "      <th>0</th>\n",
       "      <th>1</th>\n",
       "    </tr>\n",
       "    <tr>\n",
       "      <th>pred</th>\n",
       "      <th></th>\n",
       "      <th></th>\n",
       "    </tr>\n",
       "  </thead>\n",
       "  <tbody>\n",
       "    <tr>\n",
       "      <th>0</th>\n",
       "      <td>156112</td>\n",
       "      <td>20684</td>\n",
       "    </tr>\n",
       "    <tr>\n",
       "      <th>1</th>\n",
       "      <td>4115</td>\n",
       "      <td>27804</td>\n",
       "    </tr>\n",
       "  </tbody>\n",
       "</table>\n",
       "</div>"
      ],
      "text/plain": [
       "actual       0      1\n",
       "pred                 \n",
       "0       156112  20684\n",
       "1         4115  27804"
      ]
     },
     "metadata": {},
     "output_type": "display_data"
    },
    {
     "name": "stdout",
     "output_type": "stream",
     "text": [
      "Specificity: \n",
      "\n",
      "0.9743176867818782 \n",
      "\n",
      "Sensitivity: \n",
      "\n",
      "0.5734202276852005 \n",
      "\n",
      "Precision: \n",
      "\n",
      "0.8710799210501582 \n",
      "\n",
      "Accuracy: \n",
      "\n",
      "0.8811824737081666 \n",
      "\n"
     ]
    }
   ],
   "source": [
    "mymetrics.print_metrics(mymetrics.get_metrics(ada, x_test_s, y_test_s, 'Learning Rate Tuned AdaBoost'))"
   ]
  },
  {
   "cell_type": "markdown",
   "metadata": {},
   "source": [
    "Tuning the number of max estimators used. The default value for max estimators is 50 so by increasing the value I could improve the performance and it could also increase the chance of overfitting. I'll choose the value for max estimators that produces the lowest validation error and evaluate that model against the test data. I can then compare the results with those listed just above as the results above are from a model built with the default value for max estimators, 50. "
   ]
  },
  {
   "cell_type": "code",
   "execution_count": 22,
   "metadata": {},
   "outputs": [
    {
     "name": "stdout",
     "output_type": "stream",
     "text": [
      "Training took: 1853.7832219600677 seconds\n"
     ]
    }
   ],
   "source": [
    "n_estimators = [100,200,500,1000,2000]\n",
    "models = []\n",
    "val_errors = []\n",
    "starttime = time.time()\n",
    "for n in n_estimators:\n",
    "    ada = AdaBoost(learning_rate=1.1, random_state=10, n_estimators=n)\n",
    "    ada.fit(x_train_s.values, y_train_s.values.ravel())\n",
    "    models.append(ada)\n",
    "    val_errors.append(1 - ada.score(x_val_s.values, y_val_s.values.ravel()))\n",
    "print('Training took:', time.time() - starttime, 'seconds')"
   ]
  },
  {
   "cell_type": "markdown",
   "metadata": {},
   "source": [
    "Plotting the values used for the number of max estimators against the validation errors. "
   ]
  },
  {
   "cell_type": "code",
   "execution_count": 23,
   "metadata": {},
   "outputs": [
    {
     "data": {
      "image/png": "[encoded data removed]",
      "text/plain": [
       "<Figure size 1152x648 with 1 Axes>"
      ]
     },
     "metadata": {
      "needs_background": "light"
     },
     "output_type": "display_data"
    }
   ],
   "source": [
    "plt.figure(figsize=(16,9))\n",
    "plt.plot(n_estimators,val_errors, 'g-', label='Validation Errors')\n",
    "plt.xlabel('Max # of Estimators')\n",
    "plt.ylabel('Validation Error')\n",
    "plt.title('Max # of Estimators vs Validation Error')\n",
    "plt.legend()\n",
    "plt.show()"
   ]
  },
  {
   "cell_type": "markdown",
   "metadata": {},
   "source": [
    "Based on the plot above I'm selecting the model that had 1000 for the max number of estimators and evaluating it against the test data. Below I show the metrics produced from evaluating the model on the test data."
   ]
  },
  {
   "cell_type": "code",
   "execution_count": 24,
   "metadata": {},
   "outputs": [
    {
     "name": "stdout",
     "output_type": "stream",
     "text": [
      "Name: Learning Rate Tuned AdaBoost\n",
      "Cost Matrix: \n",
      "\n"
     ]
    },
    {
     "data": {
      "text/html": [
       "<div>\n",
       "<style scoped>\n",
       "    .dataframe tbody tr th:only-of-type {\n",
       "        vertical-align: middle;\n",
       "    }\n",
       "\n",
       "    .dataframe tbody tr th {\n",
       "        vertical-align: top;\n",
       "    }\n",
       "\n",
       "    .dataframe thead th {\n",
       "        text-align: right;\n",
       "    }\n",
       "</style>\n",
       "<table border=\"1\" class=\"dataframe\">\n",
       "  <thead>\n",
       "    <tr style=\"text-align: right;\">\n",
       "      <th>actual</th>\n",
       "      <th>0</th>\n",
       "      <th>1</th>\n",
       "    </tr>\n",
       "    <tr>\n",
       "      <th>pred</th>\n",
       "      <th></th>\n",
       "      <th></th>\n",
       "    </tr>\n",
       "  </thead>\n",
       "  <tbody>\n",
       "    <tr>\n",
       "      <th>0</th>\n",
       "      <td>156018</td>\n",
       "      <td>19350</td>\n",
       "    </tr>\n",
       "    <tr>\n",
       "      <th>1</th>\n",
       "      <td>4209</td>\n",
       "      <td>29138</td>\n",
       "    </tr>\n",
       "  </tbody>\n",
       "</table>\n",
       "</div>"
      ],
      "text/plain": [
       "actual       0      1\n",
       "pred                 \n",
       "0       156018  19350\n",
       "1         4209  29138"
      ]
     },
     "metadata": {},
     "output_type": "display_data"
    },
    {
     "name": "stdout",
     "output_type": "stream",
     "text": [
      "Specificity: \n",
      "\n",
      "0.9737310191166283 \n",
      "\n",
      "Sensitivity: \n",
      "\n",
      "0.6009321894076886 \n",
      "\n",
      "Precision: \n",
      "\n",
      "0.873781749482712 \n",
      "\n",
      "Accuracy: \n",
      "\n",
      "0.8871235895838824 \n",
      "\n"
     ]
    }
   ],
   "source": [
    "ada = models[3]\n",
    "mymetrics.print_metrics(mymetrics.get_metrics(ada, x_test_s, y_test_s, 'Learning Rate Tuned AdaBoost'))"
   ]
  },
  {
   "cell_type": "markdown",
   "metadata": {},
   "source": [
    "The model didn't perform better than the one built with a max number of estimators at the default of 50. It produced a better accuracy but smaller specificity, this is likely due to overfitting from allowing too many estimators. I'm going to use the default value, 50, for the max number of estimators."
   ]
  },
  {
   "cell_type": "code",
   "execution_count": 26,
   "metadata": {},
   "outputs": [
    {
     "name": "stdout",
     "output_type": "stream",
     "text": [
      "Name: Final AdaBoost\n",
      "Cost Matrix: \n",
      "\n"
     ]
    },
    {
     "data": {
      "text/html": [
       "<div>\n",
       "<style scoped>\n",
       "    .dataframe tbody tr th:only-of-type {\n",
       "        vertical-align: middle;\n",
       "    }\n",
       "\n",
       "    .dataframe tbody tr th {\n",
       "        vertical-align: top;\n",
       "    }\n",
       "\n",
       "    .dataframe thead th {\n",
       "        text-align: right;\n",
       "    }\n",
       "</style>\n",
       "<table border=\"1\" class=\"dataframe\">\n",
       "  <thead>\n",
       "    <tr style=\"text-align: right;\">\n",
       "      <th>actual</th>\n",
       "      <th>0</th>\n",
       "      <th>1</th>\n",
       "    </tr>\n",
       "    <tr>\n",
       "      <th>pred</th>\n",
       "      <th></th>\n",
       "      <th></th>\n",
       "    </tr>\n",
       "  </thead>\n",
       "  <tbody>\n",
       "    <tr>\n",
       "      <th>0</th>\n",
       "      <td>156112</td>\n",
       "      <td>20684</td>\n",
       "    </tr>\n",
       "    <tr>\n",
       "      <th>1</th>\n",
       "      <td>4115</td>\n",
       "      <td>27804</td>\n",
       "    </tr>\n",
       "  </tbody>\n",
       "</table>\n",
       "</div>"
      ],
      "text/plain": [
       "actual       0      1\n",
       "pred                 \n",
       "0       156112  20684\n",
       "1         4115  27804"
      ]
     },
     "metadata": {},
     "output_type": "display_data"
    },
    {
     "name": "stdout",
     "output_type": "stream",
     "text": [
      "Specificity: \n",
      "\n",
      "0.9743176867818782 \n",
      "\n",
      "Sensitivity: \n",
      "\n",
      "0.5734202276852005 \n",
      "\n",
      "Precision: \n",
      "\n",
      "0.8710799210501582 \n",
      "\n",
      "Accuracy: \n",
      "\n",
      "0.8811824737081666 \n",
      "\n"
     ]
    }
   ],
   "source": [
    "ada = ada_models[5]\n",
    "ada_metrics = mymetrics.get_metrics(ada, x_test_s, y_test_s, 'Final AdaBoost')\n",
    "mymetrics.print_metrics(ada_metrics)"
   ]
  },
  {
   "cell_type": "code",
   "execution_count": 27,
   "metadata": {},
   "outputs": [
    {
     "data": {
      "text/plain": [
       "['fit-models/adaboost.joblib']"
      ]
     },
     "execution_count": 27,
     "metadata": {},
     "output_type": "execute_result"
    }
   ],
   "source": [
    "dump(ada, 'fit-models/adaboost.joblib')"
   ]
  },
  {
   "cell_type": "markdown",
   "metadata": {},
   "source": [
    "Memory Issues with\n",
    "RBF Net\n",
    "Kernel PCA\n"
   ]
  },
  {
   "cell_type": "markdown",
   "metadata": {},
   "source": [
    "<a id=\"svm\"></a>\n",
    "## Supprt Vector Machine"
   ]
  },
  {
   "cell_type": "markdown",
   "metadata": {},
   "source": [
    "Below I use sklearn's LinearSVC "
   ]
  },
  {
   "cell_type": "code",
   "execution_count": 8,
   "metadata": {},
   "outputs": [
    {
     "name": "stdout",
     "output_type": "stream",
     "text": [
      "Training took: 14.336856842041016 seconds\n"
     ]
    }
   ],
   "source": [
    "starttime = time.time()\n",
    "linear_svc = LinearSVC(dual=False, fit_intercept=False)\n",
    "linear_svc.fit(x_train_s.values,y_train_s.values.ravel())\n",
    "print('Training took:', time.time() - starttime, 'seconds')"
   ]
  },
  {
   "cell_type": "markdown",
   "metadata": {},
   "source": [
    "Evaluating the Linear SVC on the test data."
   ]
  },
  {
   "cell_type": "code",
   "execution_count": 9,
   "metadata": {},
   "outputs": [
    {
     "name": "stdout",
     "output_type": "stream",
     "text": [
      "Name: Fit Intercept False LinearSVC\n",
      "Cost Matrix: \n",
      "\n"
     ]
    },
    {
     "data": {
      "text/html": [
       "<div>\n",
       "<style scoped>\n",
       "    .dataframe tbody tr th:only-of-type {\n",
       "        vertical-align: middle;\n",
       "    }\n",
       "\n",
       "    .dataframe tbody tr th {\n",
       "        vertical-align: top;\n",
       "    }\n",
       "\n",
       "    .dataframe thead th {\n",
       "        text-align: right;\n",
       "    }\n",
       "</style>\n",
       "<table border=\"1\" class=\"dataframe\">\n",
       "  <thead>\n",
       "    <tr style=\"text-align: right;\">\n",
       "      <th>actual</th>\n",
       "      <th>0</th>\n",
       "      <th>1</th>\n",
       "    </tr>\n",
       "    <tr>\n",
       "      <th>pred</th>\n",
       "      <th></th>\n",
       "      <th></th>\n",
       "    </tr>\n",
       "  </thead>\n",
       "  <tbody>\n",
       "    <tr>\n",
       "      <th>0</th>\n",
       "      <td>159186</td>\n",
       "      <td>29720</td>\n",
       "    </tr>\n",
       "    <tr>\n",
       "      <th>1</th>\n",
       "      <td>1041</td>\n",
       "      <td>18768</td>\n",
       "    </tr>\n",
       "  </tbody>\n",
       "</table>\n",
       "</div>"
      ],
      "text/plain": [
       "actual       0      1\n",
       "pred                 \n",
       "0       159186  29720\n",
       "1         1041  18768"
      ]
     },
     "metadata": {},
     "output_type": "display_data"
    },
    {
     "name": "stdout",
     "output_type": "stream",
     "text": [
      "Specificity: \n",
      "\n",
      "0.9935029676646258 \n",
      "\n",
      "Sensitivity: \n",
      "\n",
      "0.387064840785349 \n",
      "\n",
      "Precision: \n",
      "\n",
      "0.9474481296380434 \n",
      "\n",
      "Accuracy: \n",
      "\n",
      "0.8526172052799271 \n",
      "\n"
     ]
    }
   ],
   "source": [
    "linear_svc_metrics = mymetrics.get_metrics(linear_svc, x_test_s, y_test_s, 'Fit Intercept False LinearSVC')\n",
    "mymetrics.print_metrics(linear_svc_metrics)"
   ]
  },
  {
   "cell_type": "markdown",
   "metadata": {},
   "source": [
    "Testing the Linear SVC with `fit_intercept` as True. The fit_intercept argument determines whether or not to calculate the intercept for this model, if it's set to False then the data is expected to be centered.  "
   ]
  },
  {
   "cell_type": "code",
   "execution_count": 11,
   "metadata": {},
   "outputs": [
    {
     "name": "stdout",
     "output_type": "stream",
     "text": [
      "Training took: 15.622894763946533 seconds\n"
     ]
    }
   ],
   "source": [
    "starttime = time.time()\n",
    "svm_fit_intercept = LinearSVC(dual=False, fit_intercept=True)\n",
    "svm_fit_intercept.fit(x_train_s.values,y_train_s.values.ravel())\n",
    "print('Training took:', time.time() - starttime, 'seconds')"
   ]
  },
  {
   "cell_type": "code",
   "execution_count": 12,
   "metadata": {},
   "outputs": [
    {
     "name": "stdout",
     "output_type": "stream",
     "text": [
      "Name: Fit Intercept False LinearSVC\n",
      "Cost Matrix: \n",
      "\n"
     ]
    },
    {
     "data": {
      "text/html": [
       "<div>\n",
       "<style scoped>\n",
       "    .dataframe tbody tr th:only-of-type {\n",
       "        vertical-align: middle;\n",
       "    }\n",
       "\n",
       "    .dataframe tbody tr th {\n",
       "        vertical-align: top;\n",
       "    }\n",
       "\n",
       "    .dataframe thead th {\n",
       "        text-align: right;\n",
       "    }\n",
       "</style>\n",
       "<table border=\"1\" class=\"dataframe\">\n",
       "  <thead>\n",
       "    <tr style=\"text-align: right;\">\n",
       "      <th>actual</th>\n",
       "      <th>0</th>\n",
       "      <th>1</th>\n",
       "    </tr>\n",
       "    <tr>\n",
       "      <th>pred</th>\n",
       "      <th></th>\n",
       "      <th></th>\n",
       "    </tr>\n",
       "  </thead>\n",
       "  <tbody>\n",
       "    <tr>\n",
       "      <th>0</th>\n",
       "      <td>159185</td>\n",
       "      <td>29720</td>\n",
       "    </tr>\n",
       "    <tr>\n",
       "      <th>1</th>\n",
       "      <td>1042</td>\n",
       "      <td>18768</td>\n",
       "    </tr>\n",
       "  </tbody>\n",
       "</table>\n",
       "</div>"
      ],
      "text/plain": [
       "actual       0      1\n",
       "pred                 \n",
       "0       159185  29720\n",
       "1         1042  18768"
      ]
     },
     "metadata": {},
     "output_type": "display_data"
    },
    {
     "name": "stdout",
     "output_type": "stream",
     "text": [
      "Specificity: \n",
      "\n",
      "0.9934967265192508 \n",
      "\n",
      "Sensitivity: \n",
      "\n",
      "0.387064840785349 \n",
      "\n",
      "Precision: \n",
      "\n",
      "0.9474003028773347 \n",
      "\n",
      "Accuracy: \n",
      "\n",
      "0.8526124140574468 \n",
      "\n"
     ]
    }
   ],
   "source": [
    "fit_intercept_metrics = mymetrics.get_metrics(svm_fit_intercept, x_test_s, y_test_s, 'Fit Intercept False LinearSVC')\n",
    "mymetrics.print_metrics(fit_intercept_metrics)"
   ]
  },
  {
   "cell_type": "markdown",
   "metadata": {},
   "source": [
    "When setting the `fit_intercept` argument to False the specificity was slightly higher for the test data. The data is scaled already."
   ]
  },
  {
   "cell_type": "code",
   "execution_count": 14,
   "metadata": {},
   "outputs": [
    {
     "data": {
      "text/plain": [
       "['fit-models/linear-svc.joblib']"
      ]
     },
     "execution_count": 14,
     "metadata": {},
     "output_type": "execute_result"
    }
   ],
   "source": [
    "dump(linear_svc, 'fit-models/linear-svc.joblib')"
   ]
  },
  {
   "cell_type": "markdown",
   "metadata": {},
   "source": [
    "### Testing the Kernel SVC from sklearn\n",
    "\n",
    "Below I create a list of possible values for gamma."
   ]
  },
  {
   "cell_type": "code",
   "execution_count": 11,
   "metadata": {},
   "outputs": [],
   "source": [
    "Gamma = [0.01,0.1,1,10,15]"
   ]
  },
  {
   "cell_type": "markdown",
   "metadata": {},
   "source": [
    "I'm evaluating which value for gamma will be best by building models with the different values of gamma, fitting them with the train data, and storing the validation error produced from each model when evaluated on the validation data."
   ]
  },
  {
   "cell_type": "code",
   "execution_count": 13,
   "metadata": {},
   "outputs": [
    {
     "name": "stderr",
     "output_type": "stream",
     "text": [
      "/home/jeff/miniconda3/envs/ml/lib/python3.8/site-packages/sklearn/svm/_base.py:246: ConvergenceWarning: Solver terminated early (max_iter=2000).  Consider pre-processing your data with StandardScaler or MinMaxScaler.\n",
      "  warnings.warn('Solver terminated early (max_iter=%i).'\n",
      "/home/jeff/miniconda3/envs/ml/lib/python3.8/site-packages/sklearn/svm/_base.py:246: ConvergenceWarning: Solver terminated early (max_iter=2000).  Consider pre-processing your data with StandardScaler or MinMaxScaler.\n",
      "  warnings.warn('Solver terminated early (max_iter=%i).'\n",
      "/home/jeff/miniconda3/envs/ml/lib/python3.8/site-packages/sklearn/svm/_base.py:246: ConvergenceWarning: Solver terminated early (max_iter=2000).  Consider pre-processing your data with StandardScaler or MinMaxScaler.\n",
      "  warnings.warn('Solver terminated early (max_iter=%i).'\n",
      "/home/jeff/miniconda3/envs/ml/lib/python3.8/site-packages/sklearn/svm/_base.py:246: ConvergenceWarning: Solver terminated early (max_iter=2000).  Consider pre-processing your data with StandardScaler or MinMaxScaler.\n",
      "  warnings.warn('Solver terminated early (max_iter=%i).'\n",
      "/home/jeff/miniconda3/envs/ml/lib/python3.8/site-packages/sklearn/svm/_base.py:246: ConvergenceWarning: Solver terminated early (max_iter=2000).  Consider pre-processing your data with StandardScaler or MinMaxScaler.\n",
      "  warnings.warn('Solver terminated early (max_iter=%i).'\n",
      "/home/jeff/miniconda3/envs/ml/lib/python3.8/site-packages/sklearn/svm/_base.py:246: ConvergenceWarning: Solver terminated early (max_iter=2000).  Consider pre-processing your data with StandardScaler or MinMaxScaler.\n",
      "  warnings.warn('Solver terminated early (max_iter=%i).'\n"
     ]
    },
    {
     "name": "stdout",
     "output_type": "stream",
     "text": [
      "Training took: 966.99236369133 seconds\n"
     ]
    }
   ],
   "source": [
    "models = []\n",
    "val_errors = []\n",
    "starttime = time.time()\n",
    "for g in Gamma:\n",
    "    svc = SVC(kernel=\"rbf\", gamma=g, cache_size=6000, max_iter=2000)\n",
    "    svc.fit(x_train_s, y_train_s.values.ravel())\n",
    "    models.append(svc)\n",
    "    val_errors.append(1 - svc.score(x_val_s.values, y_val_s.values.ravel()))\n",
    "print('Training took:', time.time() - starttime, 'seconds')"
   ]
  },
  {
   "cell_type": "markdown",
   "metadata": {},
   "source": [
    "Plotting gamma vs the validation error."
   ]
  },
  {
   "cell_type": "code",
   "execution_count": 14,
   "metadata": {},
   "outputs": [
    {
     "data": {
      "image/png": "[encoded data removed]",
      "text/plain": [
       "<Figure size 1152x648 with 1 Axes>"
      ]
     },
     "metadata": {
      "needs_background": "light"
     },
     "output_type": "display_data"
    }
   ],
   "source": [
    "plt.figure(figsize=(16,9))\n",
    "plt.plot(Gamma, val_errors, label='Validation Errors')\n",
    "plt.xlabel('Gamma')\n",
    "plt.ylabel('Validation Error')\n",
    "plt.title('Gamma vs Validation Error')\n",
    "plt.legend()\n",
    "plt.show()"
   ]
  },
  {
   "cell_type": "markdown",
   "metadata": {},
   "source": [
    "Kernel SVC Ran very slowly, I had to increase the cache size to avoid a memory error and decrease the number of max iterations so that I could run the tests in a reasonable time. After attempting unsupervised dimensionality reduction such as K-means and Kernel PCA I know that the data does not respond well to non-linear transformations and isn't easily transformed to a linearly separable space. It appears with 2000 max iterations none and for all the used values of gamma the training did not converge."
   ]
  },
  {
   "cell_type": "markdown",
   "metadata": {},
   "source": [
    "Based on the plot above I observe that when gamma is greater than 1 the validation error doesn't imporve significantly. This observation leads me to select 1 for the hyperparameter gamma. I'm selecting the model that was built with gamma=1 below."
   ]
  },
  {
   "cell_type": "code",
   "execution_count": 15,
   "metadata": {},
   "outputs": [],
   "source": [
    "ksvc = models[2]"
   ]
  },
  {
   "cell_type": "markdown",
   "metadata": {},
   "source": [
    "Evaluating the Kernel SVC on the test data and displaying the confusion matrix and metrics below."
   ]
  },
  {
   "cell_type": "code",
   "execution_count": 16,
   "metadata": {},
   "outputs": [
    {
     "name": "stdout",
     "output_type": "stream",
     "text": [
      "Name: Kernel SVC\n",
      "Cost Matrix: \n",
      "\n"
     ]
    },
    {
     "data": {
      "text/html": [
       "<div>\n",
       "<style scoped>\n",
       "    .dataframe tbody tr th:only-of-type {\n",
       "        vertical-align: middle;\n",
       "    }\n",
       "\n",
       "    .dataframe tbody tr th {\n",
       "        vertical-align: top;\n",
       "    }\n",
       "\n",
       "    .dataframe thead th {\n",
       "        text-align: right;\n",
       "    }\n",
       "</style>\n",
       "<table border=\"1\" class=\"dataframe\">\n",
       "  <thead>\n",
       "    <tr style=\"text-align: right;\">\n",
       "      <th>actual</th>\n",
       "      <th>0</th>\n",
       "      <th>1</th>\n",
       "    </tr>\n",
       "    <tr>\n",
       "      <th>pred</th>\n",
       "      <th></th>\n",
       "      <th></th>\n",
       "    </tr>\n",
       "  </thead>\n",
       "  <tbody>\n",
       "    <tr>\n",
       "      <th>0</th>\n",
       "      <td>159887</td>\n",
       "      <td>47959</td>\n",
       "    </tr>\n",
       "    <tr>\n",
       "      <th>1</th>\n",
       "      <td>340</td>\n",
       "      <td>529</td>\n",
       "    </tr>\n",
       "  </tbody>\n",
       "</table>\n",
       "</div>"
      ],
      "text/plain": [
       "actual       0      1\n",
       "pred                 \n",
       "0       159887  47959\n",
       "1          340    529"
      ]
     },
     "metadata": {},
     "output_type": "display_data"
    },
    {
     "name": "stdout",
     "output_type": "stream",
     "text": [
      "Specificity: \n",
      "\n",
      "0.9978780105725003 \n",
      "\n",
      "Sensitivity: \n",
      "\n",
      "0.010909915855469394 \n",
      "\n",
      "Precision: \n",
      "\n",
      "0.6087456846950517 \n",
      "\n",
      "Accuracy: \n",
      "\n",
      "0.7685887454183935 \n",
      "\n"
     ]
    }
   ],
   "source": [
    "ksvc_metrics = mymetrics.get_metrics(ksvc, x_test_s, y_test_s, 'Kernel SVC')\n",
    "mymetrics.print_metrics(ksvc_metrics)"
   ]
  },
  {
   "cell_type": "markdown",
   "metadata": {},
   "source": [
    "The results above show that the model did well at not incorrectly predicting a death when the animal lives and has a really high specificity but on the other hand the model captured realtively few actual deaths and predicted mostly \"Finish\" or 0, meaning the animal lives."
   ]
  },
  {
   "cell_type": "markdown",
   "metadata": {},
   "source": [
    "Saving the fit Kernel SVC to disk."
   ]
  },
  {
   "cell_type": "code",
   "execution_count": 18,
   "metadata": {},
   "outputs": [
    {
     "data": {
      "text/plain": [
       "['fit-models/kernel-svc.joblib']"
      ]
     },
     "execution_count": 18,
     "metadata": {},
     "output_type": "execute_result"
    }
   ],
   "source": [
    "dump(ksvc,'fit-models/kernel-svc.joblib')"
   ]
  },
  {
   "cell_type": "markdown",
   "metadata": {},
   "source": [
    "<a id=\"lr\"></a>\n",
    "## Logistic Regression"
   ]
  },
  {
   "cell_type": "markdown",
   "metadata": {},
   "source": [
    "Below I'm using the Logistic Regression (LR) class from sklearn. I instantiate the LR model with an extension of Stochastic Average Gradient descent (saga) for the optimizer. The saga optimizer is supposed to generally train faster than standard Stochastic Average Gradient descent and work well with very large datasets. I'm setting the `multi_class` to one-vs.-rest so that I can run the training in parallel with the argument `n_jobs`. I've also set the argument `dual` to False because in the API documentation for sklearn it is advised to set it to False if the number of samples is greater than the number of features. With the default value for max iterations at 100 the training did not converge so I upped the max iterations argument `max_iters` to 1000."
   ]
  },
  {
   "cell_type": "code",
   "execution_count": 25,
   "metadata": {},
   "outputs": [
    {
     "name": "stdout",
     "output_type": "stream",
     "text": [
      "Training took: 310.2446074485779 seconds\n"
     ]
    },
    {
     "name": "stderr",
     "output_type": "stream",
     "text": [
      "/home/jeff/miniconda3/envs/ml/lib/python3.8/site-packages/sklearn/linear_model/_sag.py:329: ConvergenceWarning: The max_iter was reached which means the coef_ did not converge\n",
      "  warnings.warn(\"The max_iter was reached which means \"\n"
     ]
    }
   ],
   "source": [
    "starttime = time.time()\n",
    "lr = LR(max_iter=1000, solver='saga', multi_class='ovr', n_jobs=6, random_state=10, dual=False)\n",
    "lr.fit(x_train_s.values, y_train_s.values.ravel())\n",
    "print('Training took:', time.time() - starttime, 'seconds')"
   ]
  },
  {
   "cell_type": "code",
   "execution_count": 27,
   "metadata": {},
   "outputs": [
    {
     "name": "stdout",
     "output_type": "stream",
     "text": [
      "Name: L2 Penalty Logistic Regression\n",
      "Cost Matrix: \n",
      "\n"
     ]
    },
    {
     "data": {
      "text/html": [
       "<div>\n",
       "<style scoped>\n",
       "    .dataframe tbody tr th:only-of-type {\n",
       "        vertical-align: middle;\n",
       "    }\n",
       "\n",
       "    .dataframe tbody tr th {\n",
       "        vertical-align: top;\n",
       "    }\n",
       "\n",
       "    .dataframe thead th {\n",
       "        text-align: right;\n",
       "    }\n",
       "</style>\n",
       "<table border=\"1\" class=\"dataframe\">\n",
       "  <thead>\n",
       "    <tr style=\"text-align: right;\">\n",
       "      <th>actual</th>\n",
       "      <th>0</th>\n",
       "      <th>1</th>\n",
       "    </tr>\n",
       "    <tr>\n",
       "      <th>pred</th>\n",
       "      <th></th>\n",
       "      <th></th>\n",
       "    </tr>\n",
       "  </thead>\n",
       "  <tbody>\n",
       "    <tr>\n",
       "      <th>0</th>\n",
       "      <td>73630</td>\n",
       "      <td>12735</td>\n",
       "    </tr>\n",
       "    <tr>\n",
       "      <th>1</th>\n",
       "      <td>1250</td>\n",
       "      <td>9786</td>\n",
       "    </tr>\n",
       "  </tbody>\n",
       "</table>\n",
       "</div>"
      ],
      "text/plain": [
       "actual      0      1\n",
       "pred                \n",
       "0       73630  12735\n",
       "1        1250   9786"
      ]
     },
     "metadata": {},
     "output_type": "display_data"
    },
    {
     "name": "stdout",
     "output_type": "stream",
     "text": [
      "Specificity: \n",
      "\n",
      "0.9833066239316239 \n",
      "\n",
      "Sensitivity: \n",
      "\n",
      "0.43452777407752763 \n",
      "\n",
      "Precision: \n",
      "\n",
      "0.8867343240304458 \n",
      "\n",
      "Accuracy: \n",
      "\n",
      "0.8564183119269823 \n",
      "\n"
     ]
    }
   ],
   "source": [
    "L2_lr_metrics = mymetrics.get_metrics(lr, x_val_s, y_val_s, 'L2 Penalty Logistic Regression')\n",
    "mymetrics.print_metrics(L2_lr_metrics)"
   ]
  },
  {
   "cell_type": "markdown",
   "metadata": {},
   "source": [
    "Since I'm using the `saga` solver I've decided to compare the performance on the validation set when a `l2` and `elasticnet` solver is used. `l2` was used in the model trained and evaluated above. By setting the `l_ratio` argument to a value between 0 and 1.  ($0 <$ `l1_ratio` $< 1$) the l1 and l2 penalties are used in combination. the `elasticnet` penalty is only supported with a `saga` solver and setting `l1_ratio` to 0 is the same as using a `l2` penalty and setting the ratio to 1 is equivalent to useing a `l1` penalty."
   ]
  },
  {
   "cell_type": "code",
   "execution_count": 29,
   "metadata": {},
   "outputs": [
    {
     "name": "stdout",
     "output_type": "stream",
     "text": [
      "Training took: 382.25754952430725 seconds\n"
     ]
    },
    {
     "name": "stderr",
     "output_type": "stream",
     "text": [
      "/home/jeff/miniconda3/envs/ml/lib/python3.8/site-packages/sklearn/linear_model/_sag.py:329: ConvergenceWarning: The max_iter was reached which means the coef_ did not converge\n",
      "  warnings.warn(\"The max_iter was reached which means \"\n"
     ]
    }
   ],
   "source": [
    "starttime = time.time()\n",
    "lr = LR(max_iter=1000, solver='saga', multi_class='ovr', n_jobs=6, random_state=10, dual=False, penalty='elasticnet', l1_ratio=.5)\n",
    "lr.fit(x_train_s.values, y_train_s.values.ravel())\n",
    "print('Training took:', time.time() - starttime, 'seconds')"
   ]
  },
  {
   "cell_type": "markdown",
   "metadata": {},
   "source": [
    "Evaluating the logistic regression model, trained with an `elasticnet` penalty, on the validation data."
   ]
  },
  {
   "cell_type": "code",
   "execution_count": 30,
   "metadata": {},
   "outputs": [
    {
     "name": "stdout",
     "output_type": "stream",
     "text": [
      "Name: Elasticnet Penalty Logistic Regression\n",
      "Cost Matrix: \n",
      "\n"
     ]
    },
    {
     "data": {
      "text/html": [
       "<div>\n",
       "<style scoped>\n",
       "    .dataframe tbody tr th:only-of-type {\n",
       "        vertical-align: middle;\n",
       "    }\n",
       "\n",
       "    .dataframe tbody tr th {\n",
       "        vertical-align: top;\n",
       "    }\n",
       "\n",
       "    .dataframe thead th {\n",
       "        text-align: right;\n",
       "    }\n",
       "</style>\n",
       "<table border=\"1\" class=\"dataframe\">\n",
       "  <thead>\n",
       "    <tr style=\"text-align: right;\">\n",
       "      <th>actual</th>\n",
       "      <th>0</th>\n",
       "      <th>1</th>\n",
       "    </tr>\n",
       "    <tr>\n",
       "      <th>pred</th>\n",
       "      <th></th>\n",
       "      <th></th>\n",
       "    </tr>\n",
       "  </thead>\n",
       "  <tbody>\n",
       "    <tr>\n",
       "      <th>0</th>\n",
       "      <td>73630</td>\n",
       "      <td>12738</td>\n",
       "    </tr>\n",
       "    <tr>\n",
       "      <th>1</th>\n",
       "      <td>1250</td>\n",
       "      <td>9783</td>\n",
       "    </tr>\n",
       "  </tbody>\n",
       "</table>\n",
       "</div>"
      ],
      "text/plain": [
       "actual      0      1\n",
       "pred                \n",
       "0       73630  12738\n",
       "1        1250   9783"
      ]
     },
     "metadata": {},
     "output_type": "display_data"
    },
    {
     "name": "stdout",
     "output_type": "stream",
     "text": [
      "Specificity: \n",
      "\n",
      "0.9833066239316239 \n",
      "\n",
      "Sensitivity: \n",
      "\n",
      "0.4343945650725989 \n",
      "\n",
      "Precision: \n",
      "\n",
      "0.8867035257862775 \n",
      "\n",
      "Accuracy: \n",
      "\n",
      "0.856387511421854 \n",
      "\n"
     ]
    }
   ],
   "source": [
    "elasticnet_metrics = mymetrics.get_metrics(lr, x_val_s, y_val_s, 'Elasticnet Penalty Logistic Regression')\n",
    "mymetrics.print_metrics(elasticnet_metrics)"
   ]
  },
  {
   "cell_type": "markdown",
   "metadata": {},
   "source": [
    "Based on the results above the logistic regression model trained with an 'elasticnet' penalty peformed slightly worse in terms of accuracy than that of the model trained with an 'l2' penalty and the 'elasticnet' model took longer to train."
   ]
  },
  {
   "cell_type": "markdown",
   "metadata": {},
   "source": [
    "I'm going to compare different strenghths of regularization to see if I can get better performance."
   ]
  },
  {
   "cell_type": "code",
   "execution_count": 31,
   "metadata": {},
   "outputs": [
    {
     "name": "stderr",
     "output_type": "stream",
     "text": [
      "/home/jeff/miniconda3/envs/ml/lib/python3.8/site-packages/sklearn/linear_model/_sag.py:329: ConvergenceWarning: The max_iter was reached which means the coef_ did not converge\n",
      "  warnings.warn(\"The max_iter was reached which means \"\n",
      "/home/jeff/miniconda3/envs/ml/lib/python3.8/site-packages/sklearn/linear_model/_sag.py:329: ConvergenceWarning: The max_iter was reached which means the coef_ did not converge\n",
      "  warnings.warn(\"The max_iter was reached which means \"\n",
      "/home/jeff/miniconda3/envs/ml/lib/python3.8/site-packages/sklearn/linear_model/_sag.py:329: ConvergenceWarning: The max_iter was reached which means the coef_ did not converge\n",
      "  warnings.warn(\"The max_iter was reached which means \"\n"
     ]
    },
    {
     "name": "stdout",
     "output_type": "stream",
     "text": [
      "Training took: 1256.1523294448853 seconds\n"
     ]
    },
    {
     "name": "stderr",
     "output_type": "stream",
     "text": [
      "/home/jeff/miniconda3/envs/ml/lib/python3.8/site-packages/sklearn/linear_model/_sag.py:329: ConvergenceWarning: The max_iter was reached which means the coef_ did not converge\n",
      "  warnings.warn(\"The max_iter was reached which means \"\n"
     ]
    }
   ],
   "source": [
    "C = [0.1, 0.5, 2, 5]\n",
    "models = []\n",
    "metrics = []\n",
    "starttime = time.time()\n",
    "for c in C:\n",
    "    lr = LR(max_iter=1000, solver='saga', multi_class='ovr', n_jobs=6, random_state=10, dual=False, C=c)\n",
    "    lr.fit(x_train_s.values, y_train_s.values.ravel())\n",
    "    models.append(lr)\n",
    "    metrics.append(mymetrics.get_metrics(lr, x_val_s, y_val_s, 'Regularization C=' + str(c)))\n",
    "print('Training took:', time.time() - starttime, 'seconds')"
   ]
  },
  {
   "cell_type": "markdown",
   "metadata": {},
   "source": [
    "Below I'm storing the validation errors and specificities for the 4 models trained above so I can plot them against the value used for the regularization term C."
   ]
  },
  {
   "cell_type": "code",
   "execution_count": 37,
   "metadata": {},
   "outputs": [],
   "source": [
    "val_errors = []\n",
    "specificities = []\n",
    "for m in metrics:\n",
    "    val_errors.append(1 - m['Accuracy'])\n",
    "    specificities.append(m['Specificity'])"
   ]
  },
  {
   "cell_type": "markdown",
   "metadata": {},
   "source": [
    "Plotting the regularization term C against the validation error produced from each model."
   ]
  },
  {
   "cell_type": "code",
   "execution_count": 45,
   "metadata": {},
   "outputs": [
    {
     "data": {
      "image/png": "[encoded data removed]",
      "text/plain": [
       "<Figure size 1152x648 with 1 Axes>"
      ]
     },
     "metadata": {
      "needs_background": "light"
     },
     "output_type": "display_data"
    }
   ],
   "source": [
    "plt.figure(figsize=(16,9))\n",
    "plt.plot(C, accuracies, label='Validation Errors')\n",
    "plt.xlabel('Regularization Value C')\n",
    "plt.ylabel('Validation Error')\n",
    "plt.title('Regularization Value C vs. Validation Error')\n",
    "plt.legend()\n",
    "plt.show()"
   ]
  },
  {
   "cell_type": "markdown",
   "metadata": {},
   "source": [
    "Below I plot the regularization value C against it's respective specificity. Based on the plot above and the plot below using a higher value for regularization, in this case 5, I produce a lower validation error and higher specificity. By using 5 for the regulariztion term I'm decreasing the strength of regularization."
   ]
  },
  {
   "cell_type": "code",
   "execution_count": 44,
   "metadata": {},
   "outputs": [
    {
     "data": {
      "image/png": "[encoded data removed]",
      "text/plain": [
       "<Figure size 1152x648 with 1 Axes>"
      ]
     },
     "metadata": {
      "needs_background": "light"
     },
     "output_type": "display_data"
    }
   ],
   "source": [
    "plt.figure(figsize=(16,9))\n",
    "plt.plot(C, specificities, 'g', label='Specificity')\n",
    "plt.xlabel('Regularization Value C')\n",
    "plt.ylabel('Specificity')\n",
    "plt.title('Regularization Value C vs. Val. Data Specificity')\n",
    "plt.legend()\n",
    "plt.show()"
   ]
  },
  {
   "cell_type": "markdown",
   "metadata": {},
   "source": [
    "Below I take the model that was trained with a regularization term of 5 and evaluate it on the test data. The results in form a of the confusion matrix and metrics are displayed below."
   ]
  },
  {
   "cell_type": "code",
   "execution_count": 49,
   "metadata": {},
   "outputs": [
    {
     "name": "stdout",
     "output_type": "stream",
     "text": [
      "Name: Final/Tuned Logistic Regression\n",
      "Cost Matrix: \n",
      "\n"
     ]
    },
    {
     "data": {
      "text/html": [
       "<div>\n",
       "<style scoped>\n",
       "    .dataframe tbody tr th:only-of-type {\n",
       "        vertical-align: middle;\n",
       "    }\n",
       "\n",
       "    .dataframe tbody tr th {\n",
       "        vertical-align: top;\n",
       "    }\n",
       "\n",
       "    .dataframe thead th {\n",
       "        text-align: right;\n",
       "    }\n",
       "</style>\n",
       "<table border=\"1\" class=\"dataframe\">\n",
       "  <thead>\n",
       "    <tr style=\"text-align: right;\">\n",
       "      <th>actual</th>\n",
       "      <th>0</th>\n",
       "      <th>1</th>\n",
       "    </tr>\n",
       "    <tr>\n",
       "      <th>pred</th>\n",
       "      <th></th>\n",
       "      <th></th>\n",
       "    </tr>\n",
       "  </thead>\n",
       "  <tbody>\n",
       "    <tr>\n",
       "      <th>0</th>\n",
       "      <td>157611</td>\n",
       "      <td>27449</td>\n",
       "    </tr>\n",
       "    <tr>\n",
       "      <th>1</th>\n",
       "      <td>2616</td>\n",
       "      <td>21039</td>\n",
       "    </tr>\n",
       "  </tbody>\n",
       "</table>\n",
       "</div>"
      ],
      "text/plain": [
       "actual       0      1\n",
       "pred                 \n",
       "0       157611  27449\n",
       "1         2616  21039"
      ]
     },
     "metadata": {},
     "output_type": "display_data"
    },
    {
     "name": "stdout",
     "output_type": "stream",
     "text": [
      "Specificity: \n",
      "\n",
      "0.983673163699002 \n",
      "\n",
      "Sensitivity: \n",
      "\n",
      "0.4339011714238574 \n",
      "\n",
      "Precision: \n",
      "\n",
      "0.8894102726696259 \n",
      "\n",
      "Accuracy: \n",
      "\n",
      "0.8559518961262966 \n",
      "\n"
     ]
    }
   ],
   "source": [
    "lr = models[3]\n",
    "lr_metrics = mymetrics.get_metrics(lr, x_test_s, y_test_s, 'Final/Tuned Logistic Regression')\n",
    "mymetrics.print_metrics(lr_metrics)"
   ]
  },
  {
   "cell_type": "markdown",
   "metadata": {},
   "source": [
    "Saving the tuned logistic regression model to disk. "
   ]
  },
  {
   "cell_type": "code",
   "execution_count": 51,
   "metadata": {},
   "outputs": [
    {
     "data": {
      "text/plain": [
       "['fit-models/logistic-regression.joblib']"
      ]
     },
     "execution_count": 51,
     "metadata": {},
     "output_type": "execute_result"
    }
   ],
   "source": [
    "dump(lr,'fit-models/logistic-regression.joblib')"
   ]
  },
  {
   "cell_type": "markdown",
   "metadata": {},
   "source": [
    "<a id=\"nn\"></a>\n",
    "## Neural Network"
   ]
  },
  {
   "cell_type": "markdown",
   "metadata": {},
   "source": [
    "Below I'm using TensorFlow to build a neural network. \n",
    "I'm using the normalized dataset instead of the standardizing data because neural nets assume no distribution. The normalized data should help speed up the training process also. I'm creating tensor datasets with tensorflow's API for the train, validation, and test data. Using tensors allow me to take advantage of TensorFlows Hardware acceleration support and reduce the training and prediciting time."
   ]
  },
  {
   "cell_type": "code",
   "execution_count": 8,
   "metadata": {},
   "outputs": [
    {
     "data": {
      "text/plain": [
       "<ShuffleDataset shapes: ((361772, 71), (361772, 1)), types: (tf.float64, tf.int64)>"
      ]
     },
     "execution_count": 8,
     "metadata": {},
     "output_type": "execute_result"
    }
   ],
   "source": [
    "dataset_train = tf.data.Dataset.from_tensors((x_train_n, y_train_n))\n",
    "dataset_val = tf.data.Dataset.from_tensors((x_val_n, y_val_n))\n",
    "dataset_tets = tf.data.Dataset.from_tensors((x_test_n, y_test_n))\n",
    "dataset_train.shuffle(5000)"
   ]
  },
  {
   "cell_type": "markdown",
   "metadata": {},
   "source": [
    "I'm using TensorFlow's Functional API to construct the neural net model below. I'm starting off only one hidden layer. I've also added a dropout layer to help combat overfitting. The dropout layer is passed the float .30 representing the fraction of input units to drop in each forward-pass. The hidden layer has 16 nodes that are using the ReLu activation function. I've selected ReLu to help reduce the chance of vanishing gradients. The output layer has a single node and uses a sigmoid activation function as this is for binary classification. When compiling the model I set the optimizer to use the Adam algorithm and the learning rate to 0.01. The loss function used below is Binary Crossenropy and the model tracks the accuracy, precision, and recall. "
   ]
  },
  {
   "cell_type": "code",
   "execution_count": 14,
   "metadata": {},
   "outputs": [],
   "source": [
    "def build_model():\n",
    "    \n",
    "    inputs = tf.keras.Input(shape=(x_train_n.shape[1]))\n",
    "    dense_layer1 = keras.layers.Dense(16, activation=tf.nn.relu)\n",
    "    x = dense_layer1(inputs)\n",
    "    dropout_layer = keras.layers.Dropout(0.3)\n",
    "    x = dropout_layer(x)\n",
    "    predictions_layer = keras.layers.Dense(1, activation=tf.nn.sigmoid)\n",
    "    predictions = predictions_layer(x)\n",
    "    model = tf.keras.Model(inputs=inputs, outputs=predictions)\n",
    "    model.summary()\n",
    "    model.compile(optimizer=tf.keras.optimizers.Adam(0.01),\n",
    "                  loss=tf.keras.losses.BinaryCrossentropy(),\n",
    "                  metrics=['accuracy', \n",
    "                           tf.keras.metrics.Precision(0.7),\n",
    "                           tf.keras.metrics.Recall(0.7)\n",
    "                          ])\n",
    "    return model"
   ]
  },
  {
   "cell_type": "markdown",
   "metadata": {},
   "source": [
    "Below I instantiate the model by calling the function `build_model()` which compiles the configuration as described above. A summary of the model is displayed below."
   ]
  },
  {
   "cell_type": "code",
   "execution_count": 15,
   "metadata": {},
   "outputs": [
    {
     "name": "stdout",
     "output_type": "stream",
     "text": [
      "Model: \"model_2\"\n",
      "_________________________________________________________________\n",
      "Layer (type)                 Output Shape              Param #   \n",
      "=================================================================\n",
      "input_3 (InputLayer)         [(None, 71)]              0         \n",
      "_________________________________________________________________\n",
      "dense_4 (Dense)              (None, 16)                1152      \n",
      "_________________________________________________________________\n",
      "dropout_2 (Dropout)          (None, 16)                0         \n",
      "_________________________________________________________________\n",
      "dense_5 (Dense)              (None, 1)                 17        \n",
      "=================================================================\n",
      "Total params: 1,169\n",
      "Trainable params: 1,169\n",
      "Non-trainable params: 0\n",
      "_________________________________________________________________\n"
     ]
    }
   ],
   "source": [
    "model = build_model()"
   ]
  },
  {
   "cell_type": "markdown",
   "metadata": {},
   "source": [
    "I'm also display a graph that represents the model built above. We can see that the input layer takes any number of examples with 71 features. The input layer feeds into the hidden layer that takes the number of features from 71 to 16 as there are 16 nodes in that layer. The dropout layer removes input units and then feeds the output layer with takes examples with 16 features and outputs a single value, the prediction."
   ]
  },
  {
   "cell_type": "code",
   "execution_count": 11,
   "metadata": {},
   "outputs": [
    {
     "data": {
      "image/png": "[encoded data removed]",
      "text/plain": [
       "<IPython.core.display.Image object>"
      ]
     },
     "execution_count": 11,
     "metadata": {},
     "output_type": "execute_result"
    }
   ],
   "source": [
    "keras.utils.plot_model(model, \"Neural_Net_1.png\", show_shapes=True)"
   ]
  },
  {
   "cell_type": "markdown",
   "metadata": {},
   "source": [
    "I'm setting the number of epochs for training to 1000. I create a tensor of tensor type int64 to store the value."
   ]
  },
  {
   "cell_type": "code",
   "execution_count": 16,
   "metadata": {},
   "outputs": [
    {
     "data": {
      "text/plain": [
       "<tf.Variable 'Variable:0' shape=() dtype=int64, numpy=1000>"
      ]
     },
     "execution_count": 16,
     "metadata": {},
     "output_type": "execute_result"
    }
   ],
   "source": [
    "num_epochs = tf.Variable(1000, dtype=tf.int64)\n",
    "num_epochs"
   ]
  },
  {
   "cell_type": "markdown",
   "metadata": {},
   "source": [
    "I have an Nvidia graphics card and have set up my machine so I can take advantage of TensorFlow's GPU support (hardware accleration). If you do not have GPU support, comment out line 1 and untab lines 2 and 3.\n",
    "\n",
    "I pass in the train data and the number of epochs to the fit function. The fit function also takes the validation dataset and evaluates the model on it and checks the loss value and metric values after each epoch. The validation data is not used in training."
   ]
  },
  {
   "cell_type": "code",
   "execution_count": 17,
   "metadata": {},
   "outputs": [
    {
     "name": "stdout",
     "output_type": "stream",
     "text": [
      "Epoch 1/1000\n",
      "1/1 [==============================] - 0s 341ms/step - loss: 0.7615 - accuracy: 0.3903 - precision_2: 0.1785 - recall_2: 0.0195 - val_loss: 0.6784 - val_accuracy: 0.5813 - val_precision_2: 0.0000e+00 - val_recall_2: 0.0000e+00\n",
      "Epoch 2/1000\n",
      "1/1 [==============================] - 0s 33ms/step - loss: 0.6863 - accuracy: 0.5501 - precision_2: 0.1723 - recall_2: 0.0014 - val_loss: 0.6216 - val_accuracy: 0.7331 - val_precision_2: 0.0000e+00 - val_recall_2: 0.0000e+00\n",
      "Epoch 3/1000\n",
      "1/1 [==============================] - 0s 36ms/step - loss: 0.6302 - accuracy: 0.6810 - precision_2: 0.0000e+00 - recall_2: 0.0000e+00 - val_loss: 0.5819 - val_accuracy: 0.7675 - val_precision_2: 0.0000e+00 - val_recall_2: 0.0000e+00\n",
      "Epoch 4/1000\n",
      "1/1 [==============================] - 0s 36ms/step - loss: 0.5916 - accuracy: 0.7418 - precision_2: 0.0000e+00 - recall_2: 0.0000e+00 - val_loss: 0.5574 - val_accuracy: 0.7685 - val_precision_2: 0.0000e+00 - val_recall_2: 0.0000e+00\n",
      "Epoch 5/1000\n",
      "1/1 [==============================] - 0s 38ms/step - loss: 0.5696 - accuracy: 0.7608 - precision_2: 0.0000e+00 - recall_2: 0.0000e+00 - val_loss: 0.5454 - val_accuracy: 0.7685 - val_precision_2: 0.0000e+00 - val_recall_2: 0.0000e+00\n",
      "Epoch 6/1000\n",
      "1/1 [==============================] - 0s 54ms/step - loss: 0.5596 - accuracy: 0.7655 - precision_2: 0.0000e+00 - recall_2: 0.0000e+00 - val_loss: 0.5425 - val_accuracy: 0.7685 - val_precision_2: 0.0000e+00 - val_recall_2: 0.0000e+00\n",
      "Epoch 7/1000\n",
      "1/1 [==============================] - 0s 34ms/step - loss: 0.5587 - accuracy: 0.7669 - precision_2: 0.0000e+00 - recall_2: 0.0000e+00 - val_loss: 0.5447 - val_accuracy: 0.7685 - val_precision_2: 0.0000e+00 - val_recall_2: 0.0000e+00\n",
      "Epoch 8/1000\n",
      "1/1 [==============================] - 0s 39ms/step - loss: 0.5616 - accuracy: 0.7671 - precision_2: 0.0000e+00 - recall_2: 0.0000e+00 - val_loss: 0.5479 - val_accuracy: 0.7685 - val_precision_2: 0.0000e+00 - val_recall_2: 0.0000e+00\n",
      "Epoch 9/1000\n",
      "1/1 [==============================] - 0s 41ms/step - loss: 0.5658 - accuracy: 0.7672 - precision_2: 0.0000e+00 - recall_2: 0.0000e+00 - val_loss: 0.5493 - val_accuracy: 0.7685 - val_precision_2: 0.0000e+00 - val_recall_2: 0.0000e+00\n",
      "Epoch 10/1000\n",
      "1/1 [==============================] - 0s 49ms/step - loss: 0.5676 - accuracy: 0.7672 - precision_2: 0.0000e+00 - recall_2: 0.0000e+00 - val_loss: 0.5481 - val_accuracy: 0.7685 - val_precision_2: 0.0000e+00 - val_recall_2: 0.0000e+00\n",
      "Epoch 11/1000\n",
      "1/1 [==============================] - 0s 54ms/step - loss: 0.5658 - accuracy: 0.7672 - precision_2: 0.0000e+00 - recall_2: 0.0000e+00 - val_loss: 0.5448 - val_accuracy: 0.7685 - val_precision_2: 0.0000e+00 - val_recall_2: 0.0000e+00\n",
      "Epoch 12/1000\n",
      "1/1 [==============================] - 0s 39ms/step - loss: 0.5628 - accuracy: 0.7672 - precision_2: 0.0000e+00 - recall_2: 0.0000e+00 - val_loss: 0.5401 - val_accuracy: 0.7685 - val_precision_2: 0.0000e+00 - val_recall_2: 0.0000e+00\n",
      "Epoch 13/1000\n",
      "1/1 [==============================] - 0s 60ms/step - loss: 0.5576 - accuracy: 0.7673 - precision_2: 0.0000e+00 - recall_2: 0.0000e+00 - val_loss: 0.5352 - val_accuracy: 0.7685 - val_precision_2: 0.0000e+00 - val_recall_2: 0.0000e+00\n",
      "Epoch 14/1000\n",
      "1/1 [==============================] - 0s 38ms/step - loss: 0.5523 - accuracy: 0.7673 - precision_2: 0.0000e+00 - recall_2: 0.0000e+00 - val_loss: 0.5307 - val_accuracy: 0.7685 - val_precision_2: 0.0000e+00 - val_recall_2: 0.0000e+00\n",
      "Epoch 15/1000\n",
      "1/1 [==============================] - 0s 40ms/step - loss: 0.5470 - accuracy: 0.7673 - precision_2: 0.0000e+00 - recall_2: 0.0000e+00 - val_loss: 0.5272 - val_accuracy: 0.7685 - val_precision_2: 0.0000e+00 - val_recall_2: 0.0000e+00\n",
      "Epoch 16/1000\n",
      "1/1 [==============================] - 0s 38ms/step - loss: 0.5420 - accuracy: 0.7673 - precision_2: 0.0000e+00 - recall_2: 0.0000e+00 - val_loss: 0.5248 - val_accuracy: 0.7685 - val_precision_2: 0.0000e+00 - val_recall_2: 0.0000e+00\n",
      "Epoch 17/1000\n",
      "1/1 [==============================] - 0s 42ms/step - loss: 0.5398 - accuracy: 0.7673 - precision_2: 0.0000e+00 - recall_2: 0.0000e+00 - val_loss: 0.5234 - val_accuracy: 0.7685 - val_precision_2: 0.0000e+00 - val_recall_2: 0.0000e+00\n",
      "Epoch 18/1000\n",
      "1/1 [==============================] - 0s 40ms/step - loss: 0.5366 - accuracy: 0.7673 - precision_2: 0.0000e+00 - recall_2: 0.0000e+00 - val_loss: 0.5229 - val_accuracy: 0.7685 - val_precision_2: 0.0000e+00 - val_recall_2: 0.0000e+00\n",
      "Epoch 19/1000\n",
      "1/1 [==============================] - 0s 33ms/step - loss: 0.5357 - accuracy: 0.7673 - precision_2: 0.0000e+00 - recall_2: 0.0000e+00 - val_loss: 0.5228 - val_accuracy: 0.7685 - val_precision_2: 0.0000e+00 - val_recall_2: 0.0000e+00\n",
      "Epoch 20/1000\n",
      "1/1 [==============================] - 0s 36ms/step - loss: 0.5350 - accuracy: 0.7673 - precision_2: 0.0000e+00 - recall_2: 0.0000e+00 - val_loss: 0.5228 - val_accuracy: 0.7685 - val_precision_2: 0.0000e+00 - val_recall_2: 0.0000e+00\n",
      "Epoch 21/1000\n",
      "1/1 [==============================] - 0s 41ms/step - loss: 0.5342 - accuracy: 0.7673 - precision_2: 0.0000e+00 - recall_2: 0.0000e+00 - val_loss: 0.5225 - val_accuracy: 0.7685 - val_precision_2: 0.0000e+00 - val_recall_2: 0.0000e+00\n",
      "Epoch 22/1000\n",
      "1/1 [==============================] - 0s 64ms/step - loss: 0.5335 - accuracy: 0.7673 - precision_2: 0.0000e+00 - recall_2: 0.0000e+00 - val_loss: 0.5219 - val_accuracy: 0.7685 - val_precision_2: 0.0000e+00 - val_recall_2: 0.0000e+00\n",
      "Epoch 23/1000\n",
      "1/1 [==============================] - 0s 40ms/step - loss: 0.5325 - accuracy: 0.7673 - precision_2: 0.0000e+00 - recall_2: 0.0000e+00 - val_loss: 0.5208 - val_accuracy: 0.7685 - val_precision_2: 0.0000e+00 - val_recall_2: 0.0000e+00\n",
      "Epoch 24/1000\n",
      "1/1 [==============================] - 0s 37ms/step - loss: 0.5311 - accuracy: 0.7673 - precision_2: 0.0000e+00 - recall_2: 0.0000e+00 - val_loss: 0.5193 - val_accuracy: 0.7685 - val_precision_2: 0.0000e+00 - val_recall_2: 0.0000e+00\n",
      "Epoch 25/1000\n",
      "1/1 [==============================] - 0s 57ms/step - loss: 0.5297 - accuracy: 0.7673 - precision_2: 0.0000e+00 - recall_2: 0.0000e+00 - val_loss: 0.5174 - val_accuracy: 0.7685 - val_precision_2: 0.0000e+00 - val_recall_2: 0.0000e+00\n",
      "Epoch 26/1000\n",
      "1/1 [==============================] - 0s 38ms/step - loss: 0.5278 - accuracy: 0.7673 - precision_2: 0.0000e+00 - recall_2: 0.0000e+00 - val_loss: 0.5153 - val_accuracy: 0.7685 - val_precision_2: 0.0000e+00 - val_recall_2: 0.0000e+00\n",
      "Epoch 27/1000\n",
      "1/1 [==============================] - 0s 38ms/step - loss: 0.5257 - accuracy: 0.7673 - precision_2: 0.0000e+00 - recall_2: 0.0000e+00 - val_loss: 0.5133 - val_accuracy: 0.7685 - val_precision_2: 0.0000e+00 - val_recall_2: 0.0000e+00\n",
      "Epoch 28/1000\n",
      "1/1 [==============================] - 0s 39ms/step - loss: 0.5240 - accuracy: 0.7673 - precision_2: 0.0000e+00 - recall_2: 0.0000e+00 - val_loss: 0.5114 - val_accuracy: 0.7685 - val_precision_2: 0.0000e+00 - val_recall_2: 0.0000e+00\n",
      "Epoch 29/1000\n",
      "1/1 [==============================] - 0s 39ms/step - loss: 0.5225 - accuracy: 0.7673 - precision_2: 0.0000e+00 - recall_2: 0.0000e+00 - val_loss: 0.5098 - val_accuracy: 0.7685 - val_precision_2: 0.0000e+00 - val_recall_2: 0.0000e+00\n",
      "Epoch 30/1000\n",
      "1/1 [==============================] - 0s 48ms/step - loss: 0.5208 - accuracy: 0.7673 - precision_2: 0.0000e+00 - recall_2: 0.0000e+00 - val_loss: 0.5085 - val_accuracy: 0.7685 - val_precision_2: 0.0000e+00 - val_recall_2: 0.0000e+00\n",
      "Epoch 31/1000\n",
      "1/1 [==============================] - 0s 52ms/step - loss: 0.5203 - accuracy: 0.7673 - precision_2: 0.0000e+00 - recall_2: 0.0000e+00 - val_loss: 0.5074 - val_accuracy: 0.7685 - val_precision_2: 0.0000e+00 - val_recall_2: 0.0000e+00\n",
      "Epoch 32/1000\n",
      "1/1 [==============================] - 0s 57ms/step - loss: 0.5194 - accuracy: 0.7673 - precision_2: 0.0000e+00 - recall_2: 0.0000e+00 - val_loss: 0.5065 - val_accuracy: 0.7685 - val_precision_2: 0.0000e+00 - val_recall_2: 0.0000e+00\n",
      "Epoch 33/1000\n",
      "1/1 [==============================] - 0s 43ms/step - loss: 0.5190 - accuracy: 0.7673 - precision_2: 0.0000e+00 - recall_2: 0.0000e+00 - val_loss: 0.5055 - val_accuracy: 0.7685 - val_precision_2: 0.0000e+00 - val_recall_2: 0.0000e+00\n",
      "Epoch 34/1000\n"
     ]
    },
    {
     "name": "stdout",
     "output_type": "stream",
     "text": [
      "1/1 [==============================] - 0s 56ms/step - loss: 0.5182 - accuracy: 0.7673 - precision_2: 0.0000e+00 - recall_2: 0.0000e+00 - val_loss: 0.5045 - val_accuracy: 0.7685 - val_precision_2: 0.0000e+00 - val_recall_2: 0.0000e+00\n",
      "Epoch 35/1000\n",
      "1/1 [==============================] - 0s 37ms/step - loss: 0.5168 - accuracy: 0.7673 - precision_2: 0.0000e+00 - recall_2: 0.0000e+00 - val_loss: 0.5033 - val_accuracy: 0.7685 - val_precision_2: 0.0000e+00 - val_recall_2: 0.0000e+00\n",
      "Epoch 36/1000\n",
      "1/1 [==============================] - 0s 35ms/step - loss: 0.5156 - accuracy: 0.7673 - precision_2: 0.0000e+00 - recall_2: 0.0000e+00 - val_loss: 0.5020 - val_accuracy: 0.7685 - val_precision_2: 0.0000e+00 - val_recall_2: 0.0000e+00\n",
      "Epoch 37/1000\n",
      "1/1 [==============================] - 0s 57ms/step - loss: 0.5142 - accuracy: 0.7673 - precision_2: 0.0000e+00 - recall_2: 0.0000e+00 - val_loss: 0.5008 - val_accuracy: 0.7685 - val_precision_2: 0.0000e+00 - val_recall_2: 0.0000e+00\n",
      "Epoch 38/1000\n",
      "1/1 [==============================] - 0s 39ms/step - loss: 0.5126 - accuracy: 0.7673 - precision_2: 0.0000e+00 - recall_2: 0.0000e+00 - val_loss: 0.4995 - val_accuracy: 0.7685 - val_precision_2: 0.0000e+00 - val_recall_2: 0.0000e+00\n",
      "Epoch 39/1000\n",
      "1/1 [==============================] - 0s 37ms/step - loss: 0.5110 - accuracy: 0.7673 - precision_2: 0.0000e+00 - recall_2: 0.0000e+00 - val_loss: 0.4983 - val_accuracy: 0.7685 - val_precision_2: 0.0000e+00 - val_recall_2: 0.0000e+00\n",
      "Epoch 40/1000\n",
      "1/1 [==============================] - 0s 37ms/step - loss: 0.5091 - accuracy: 0.7673 - precision_2: 0.0000e+00 - recall_2: 0.0000e+00 - val_loss: 0.4973 - val_accuracy: 0.7685 - val_precision_2: 0.0000e+00 - val_recall_2: 0.0000e+00\n",
      "Epoch 41/1000\n",
      "1/1 [==============================] - 0s 40ms/step - loss: 0.5082 - accuracy: 0.7673 - precision_2: 0.0000e+00 - recall_2: 0.0000e+00 - val_loss: 0.4963 - val_accuracy: 0.7685 - val_precision_2: 0.0000e+00 - val_recall_2: 0.0000e+00\n",
      "Epoch 42/1000\n",
      "1/1 [==============================] - 0s 45ms/step - loss: 0.5068 - accuracy: 0.7673 - precision_2: 0.0000e+00 - recall_2: 0.0000e+00 - val_loss: 0.4954 - val_accuracy: 0.7685 - val_precision_2: 0.0000e+00 - val_recall_2: 0.0000e+00\n",
      "Epoch 43/1000\n",
      "1/1 [==============================] - 0s 66ms/step - loss: 0.5057 - accuracy: 0.7673 - precision_2: 0.0000e+00 - recall_2: 0.0000e+00 - val_loss: 0.4946 - val_accuracy: 0.7685 - val_precision_2: 0.0000e+00 - val_recall_2: 0.0000e+00\n",
      "Epoch 44/1000\n",
      "1/1 [==============================] - 0s 38ms/step - loss: 0.5044 - accuracy: 0.7673 - precision_2: 0.0000e+00 - recall_2: 0.0000e+00 - val_loss: 0.4937 - val_accuracy: 0.7685 - val_precision_2: 0.0000e+00 - val_recall_2: 0.0000e+00\n",
      "Epoch 45/1000\n",
      "1/1 [==============================] - 0s 38ms/step - loss: 0.5038 - accuracy: 0.7673 - precision_2: 0.0000e+00 - recall_2: 0.0000e+00 - val_loss: 0.4926 - val_accuracy: 0.7685 - val_precision_2: 0.0000e+00 - val_recall_2: 0.0000e+00\n",
      "Epoch 46/1000\n",
      "1/1 [==============================] - 0s 41ms/step - loss: 0.5028 - accuracy: 0.7673 - precision_2: 0.0000e+00 - recall_2: 0.0000e+00 - val_loss: 0.4914 - val_accuracy: 0.7685 - val_precision_2: 0.0000e+00 - val_recall_2: 0.0000e+00\n",
      "Epoch 47/1000\n",
      "1/1 [==============================] - 0s 57ms/step - loss: 0.5014 - accuracy: 0.7673 - precision_2: 0.0000e+00 - recall_2: 0.0000e+00 - val_loss: 0.4900 - val_accuracy: 0.7685 - val_precision_2: 0.0000e+00 - val_recall_2: 0.0000e+00\n",
      "Epoch 48/1000\n",
      "1/1 [==============================] - 0s 40ms/step - loss: 0.5004 - accuracy: 0.7673 - precision_2: 0.0000e+00 - recall_2: 0.0000e+00 - val_loss: 0.4885 - val_accuracy: 0.7685 - val_precision_2: 0.0000e+00 - val_recall_2: 0.0000e+00\n",
      "Epoch 49/1000\n",
      "1/1 [==============================] - 0s 53ms/step - loss: 0.4988 - accuracy: 0.7673 - precision_2: 0.0000e+00 - recall_2: 0.0000e+00 - val_loss: 0.4871 - val_accuracy: 0.7685 - val_precision_2: 0.0000e+00 - val_recall_2: 0.0000e+00\n",
      "Epoch 50/1000\n",
      "1/1 [==============================] - 0s 45ms/step - loss: 0.4978 - accuracy: 0.7673 - precision_2: 0.0000e+00 - recall_2: 0.0000e+00 - val_loss: 0.4856 - val_accuracy: 0.7685 - val_precision_2: 0.0000e+00 - val_recall_2: 0.0000e+00\n",
      "Epoch 51/1000\n",
      "1/1 [==============================] - 0s 34ms/step - loss: 0.4965 - accuracy: 0.7673 - precision_2: 0.0000e+00 - recall_2: 0.0000e+00 - val_loss: 0.4842 - val_accuracy: 0.7685 - val_precision_2: 0.0000e+00 - val_recall_2: 0.0000e+00\n",
      "Epoch 52/1000\n",
      "1/1 [==============================] - 0s 32ms/step - loss: 0.4951 - accuracy: 0.7673 - precision_2: 0.0000e+00 - recall_2: 0.0000e+00 - val_loss: 0.4829 - val_accuracy: 0.7685 - val_precision_2: 0.0000e+00 - val_recall_2: 0.0000e+00\n",
      "Epoch 53/1000\n",
      "1/1 [==============================] - 0s 37ms/step - loss: 0.4936 - accuracy: 0.7673 - precision_2: 0.0000e+00 - recall_2: 0.0000e+00 - val_loss: 0.4815 - val_accuracy: 0.7685 - val_precision_2: 0.0000e+00 - val_recall_2: 0.0000e+00\n",
      "Epoch 54/1000\n",
      "1/1 [==============================] - 0s 40ms/step - loss: 0.4930 - accuracy: 0.7673 - precision_2: 0.0000e+00 - recall_2: 0.0000e+00 - val_loss: 0.4802 - val_accuracy: 0.7685 - val_precision_2: 0.0000e+00 - val_recall_2: 0.0000e+00\n",
      "Epoch 55/1000\n",
      "1/1 [==============================] - 0s 36ms/step - loss: 0.4915 - accuracy: 0.7673 - precision_2: 0.0000e+00 - recall_2: 0.0000e+00 - val_loss: 0.4788 - val_accuracy: 0.7685 - val_precision_2: 0.0000e+00 - val_recall_2: 0.0000e+00\n",
      "Epoch 56/1000\n",
      "1/1 [==============================] - 0s 32ms/step - loss: 0.4900 - accuracy: 0.7674 - precision_2: 0.0000e+00 - recall_2: 0.0000e+00 - val_loss: 0.4775 - val_accuracy: 0.7686 - val_precision_2: 0.0000e+00 - val_recall_2: 0.0000e+00\n",
      "Epoch 57/1000\n",
      "1/1 [==============================] - 0s 46ms/step - loss: 0.4890 - accuracy: 0.7674 - precision_2: 0.0000e+00 - recall_2: 0.0000e+00 - val_loss: 0.4762 - val_accuracy: 0.7686 - val_precision_2: 0.0000e+00 - val_recall_2: 0.0000e+00\n",
      "Epoch 58/1000\n",
      "1/1 [==============================] - 0s 46ms/step - loss: 0.4875 - accuracy: 0.7674 - precision_2: 0.0000e+00 - recall_2: 0.0000e+00 - val_loss: 0.4750 - val_accuracy: 0.7686 - val_precision_2: 0.0000e+00 - val_recall_2: 0.0000e+00\n",
      "Epoch 59/1000\n",
      "1/1 [==============================] - 0s 31ms/step - loss: 0.4862 - accuracy: 0.7676 - precision_2: 0.0000e+00 - recall_2: 0.0000e+00 - val_loss: 0.4738 - val_accuracy: 0.7686 - val_precision_2: 0.0000e+00 - val_recall_2: 0.0000e+00\n",
      "Epoch 60/1000\n",
      "1/1 [==============================] - 0s 39ms/step - loss: 0.4852 - accuracy: 0.7680 - precision_2: 0.0000e+00 - recall_2: 0.0000e+00 - val_loss: 0.4726 - val_accuracy: 0.7686 - val_precision_2: 0.0000e+00 - val_recall_2: 0.0000e+00\n",
      "Epoch 61/1000\n",
      "1/1 [==============================] - 0s 36ms/step - loss: 0.4837 - accuracy: 0.7686 - precision_2: 0.0000e+00 - recall_2: 0.0000e+00 - val_loss: 0.4712 - val_accuracy: 0.7689 - val_precision_2: 0.0000e+00 - val_recall_2: 0.0000e+00\n",
      "Epoch 62/1000\n",
      "1/1 [==============================] - 0s 39ms/step - loss: 0.4828 - accuracy: 0.7690 - precision_2: 0.0000e+00 - recall_2: 0.0000e+00 - val_loss: 0.4697 - val_accuracy: 0.7691 - val_precision_2: 0.0000e+00 - val_recall_2: 0.0000e+00\n",
      "Epoch 63/1000\n",
      "1/1 [==============================] - 0s 45ms/step - loss: 0.4813 - accuracy: 0.7696 - precision_2: 0.0000e+00 - recall_2: 0.0000e+00 - val_loss: 0.4682 - val_accuracy: 0.7694 - val_precision_2: 0.0000e+00 - val_recall_2: 0.0000e+00\n",
      "Epoch 64/1000\n",
      "1/1 [==============================] - 0s 54ms/step - loss: 0.4801 - accuracy: 0.7704 - precision_2: 0.0000e+00 - recall_2: 0.0000e+00 - val_loss: 0.4667 - val_accuracy: 0.7702 - val_precision_2: 0.0000e+00 - val_recall_2: 0.0000e+00\n",
      "Epoch 65/1000\n",
      "1/1 [==============================] - 0s 50ms/step - loss: 0.4790 - accuracy: 0.7711 - precision_2: 0.0000e+00 - recall_2: 0.0000e+00 - val_loss: 0.4653 - val_accuracy: 0.7713 - val_precision_2: 0.0000e+00 - val_recall_2: 0.0000e+00\n",
      "Epoch 66/1000\n",
      "1/1 [==============================] - 0s 33ms/step - loss: 0.4774 - accuracy: 0.7719 - precision_2: 0.0000e+00 - recall_2: 0.0000e+00 - val_loss: 0.4639 - val_accuracy: 0.7722 - val_precision_2: 0.0000e+00 - val_recall_2: 0.0000e+00\n",
      "Epoch 67/1000\n"
     ]
    },
    {
     "name": "stdout",
     "output_type": "stream",
     "text": [
      "1/1 [==============================] - 0s 47ms/step - loss: 0.4768 - accuracy: 0.7730 - precision_2: 0.0000e+00 - recall_2: 0.0000e+00 - val_loss: 0.4626 - val_accuracy: 0.7732 - val_precision_2: 0.0000e+00 - val_recall_2: 0.0000e+00\n",
      "Epoch 68/1000\n",
      "1/1 [==============================] - 0s 36ms/step - loss: 0.4751 - accuracy: 0.7742 - precision_2: 0.0000e+00 - recall_2: 0.0000e+00 - val_loss: 0.4614 - val_accuracy: 0.7748 - val_precision_2: 0.0000e+00 - val_recall_2: 0.0000e+00\n",
      "Epoch 69/1000\n",
      "1/1 [==============================] - 0s 41ms/step - loss: 0.4740 - accuracy: 0.7756 - precision_2: 0.0000e+00 - recall_2: 0.0000e+00 - val_loss: 0.4602 - val_accuracy: 0.7760 - val_precision_2: 0.0000e+00 - val_recall_2: 0.0000e+00\n",
      "Epoch 70/1000\n",
      "1/1 [==============================] - 0s 38ms/step - loss: 0.4725 - accuracy: 0.7773 - precision_2: 0.0000e+00 - recall_2: 0.0000e+00 - val_loss: 0.4591 - val_accuracy: 0.7772 - val_precision_2: 0.0000e+00 - val_recall_2: 0.0000e+00\n",
      "Epoch 71/1000\n",
      "1/1 [==============================] - 0s 33ms/step - loss: 0.4719 - accuracy: 0.7794 - precision_2: 0.0000e+00 - recall_2: 0.0000e+00 - val_loss: 0.4579 - val_accuracy: 0.7792 - val_precision_2: 0.0000e+00 - val_recall_2: 0.0000e+00\n",
      "Epoch 72/1000\n",
      "1/1 [==============================] - 0s 30ms/step - loss: 0.4707 - accuracy: 0.7823 - precision_2: 0.0000e+00 - recall_2: 0.0000e+00 - val_loss: 0.4567 - val_accuracy: 0.7821 - val_precision_2: 0.0000e+00 - val_recall_2: 0.0000e+00\n",
      "Epoch 73/1000\n",
      "1/1 [==============================] - 0s 39ms/step - loss: 0.4696 - accuracy: 0.7854 - precision_2: 0.0000e+00 - recall_2: 0.0000e+00 - val_loss: 0.4555 - val_accuracy: 0.7863 - val_precision_2: 0.0000e+00 - val_recall_2: 0.0000e+00\n",
      "Epoch 74/1000\n",
      "1/1 [==============================] - 0s 37ms/step - loss: 0.4683 - accuracy: 0.7888 - precision_2: 0.0000e+00 - recall_2: 0.0000e+00 - val_loss: 0.4542 - val_accuracy: 0.7911 - val_precision_2: 0.0000e+00 - val_recall_2: 0.0000e+00\n",
      "Epoch 75/1000\n",
      "1/1 [==============================] - 0s 40ms/step - loss: 0.4673 - accuracy: 0.7919 - precision_2: 0.0000e+00 - recall_2: 0.0000e+00 - val_loss: 0.4530 - val_accuracy: 0.7961 - val_precision_2: 0.0000e+00 - val_recall_2: 0.0000e+00\n",
      "Epoch 76/1000\n",
      "1/1 [==============================] - 0s 35ms/step - loss: 0.4660 - accuracy: 0.7948 - precision_2: 0.0000e+00 - recall_2: 0.0000e+00 - val_loss: 0.4517 - val_accuracy: 0.8010 - val_precision_2: 0.0000e+00 - val_recall_2: 0.0000e+00\n",
      "Epoch 77/1000\n",
      "1/1 [==============================] - 0s 59ms/step - loss: 0.4659 - accuracy: 0.7980 - precision_2: 0.0000e+00 - recall_2: 0.0000e+00 - val_loss: 0.4505 - val_accuracy: 0.8054 - val_precision_2: 0.0000e+00 - val_recall_2: 0.0000e+00\n",
      "Epoch 78/1000\n",
      "1/1 [==============================] - 0s 48ms/step - loss: 0.4643 - accuracy: 0.8011 - precision_2: 0.0000e+00 - recall_2: 0.0000e+00 - val_loss: 0.4494 - val_accuracy: 0.8093 - val_precision_2: 0.0000e+00 - val_recall_2: 0.0000e+00\n",
      "Epoch 79/1000\n",
      "1/1 [==============================] - 0s 44ms/step - loss: 0.4636 - accuracy: 0.8046 - precision_2: 0.0000e+00 - recall_2: 0.0000e+00 - val_loss: 0.4483 - val_accuracy: 0.8143 - val_precision_2: 0.0000e+00 - val_recall_2: 0.0000e+00\n",
      "Epoch 80/1000\n",
      "1/1 [==============================] - 0s 30ms/step - loss: 0.4633 - accuracy: 0.8083 - precision_2: 0.0000e+00 - recall_2: 0.0000e+00 - val_loss: 0.4474 - val_accuracy: 0.8202 - val_precision_2: 0.0000e+00 - val_recall_2: 0.0000e+00\n",
      "Epoch 81/1000\n",
      "1/1 [==============================] - 0s 38ms/step - loss: 0.4619 - accuracy: 0.8114 - precision_2: 0.0000e+00 - recall_2: 0.0000e+00 - val_loss: 0.4464 - val_accuracy: 0.8250 - val_precision_2: 0.0000e+00 - val_recall_2: 0.0000e+00\n",
      "Epoch 82/1000\n",
      "1/1 [==============================] - 0s 38ms/step - loss: 0.4611 - accuracy: 0.8143 - precision_2: 0.0000e+00 - recall_2: 0.0000e+00 - val_loss: 0.4455 - val_accuracy: 0.8300 - val_precision_2: 0.0000e+00 - val_recall_2: 0.0000e+00\n",
      "Epoch 83/1000\n",
      "1/1 [==============================] - 0s 34ms/step - loss: 0.4604 - accuracy: 0.8170 - precision_2: 0.0000e+00 - recall_2: 0.0000e+00 - val_loss: 0.4446 - val_accuracy: 0.8346 - val_precision_2: 0.0000e+00 - val_recall_2: 0.0000e+00\n",
      "Epoch 84/1000\n",
      "1/1 [==============================] - 0s 31ms/step - loss: 0.4596 - accuracy: 0.8189 - precision_2: 0.0000e+00 - recall_2: 0.0000e+00 - val_loss: 0.4436 - val_accuracy: 0.8376 - val_precision_2: 0.0000e+00 - val_recall_2: 0.0000e+00\n",
      "Epoch 85/1000\n",
      "1/1 [==============================] - 0s 29ms/step - loss: 0.4581 - accuracy: 0.8206 - precision_2: 0.0000e+00 - recall_2: 0.0000e+00 - val_loss: 0.4427 - val_accuracy: 0.8396 - val_precision_2: 0.0000e+00 - val_recall_2: 0.0000e+00\n",
      "Epoch 86/1000\n",
      "1/1 [==============================] - 0s 32ms/step - loss: 0.4578 - accuracy: 0.8226 - precision_2: 0.0000e+00 - recall_2: 0.0000e+00 - val_loss: 0.4417 - val_accuracy: 0.8417 - val_precision_2: 0.0000e+00 - val_recall_2: 0.0000e+00\n",
      "Epoch 87/1000\n",
      "1/1 [==============================] - 0s 36ms/step - loss: 0.4572 - accuracy: 0.8245 - precision_2: 0.0000e+00 - recall_2: 0.0000e+00 - val_loss: 0.4407 - val_accuracy: 0.8447 - val_precision_2: 0.0000e+00 - val_recall_2: 0.0000e+00\n",
      "Epoch 88/1000\n",
      "1/1 [==============================] - 0s 37ms/step - loss: 0.4562 - accuracy: 0.8265 - precision_2: 0.0000e+00 - recall_2: 0.0000e+00 - val_loss: 0.4398 - val_accuracy: 0.8467 - val_precision_2: 0.0000e+00 - val_recall_2: 0.0000e+00\n",
      "Epoch 89/1000\n",
      "1/1 [==============================] - 0s 39ms/step - loss: 0.4562 - accuracy: 0.8276 - precision_2: 0.0000e+00 - recall_2: 0.0000e+00 - val_loss: 0.4388 - val_accuracy: 0.8488 - val_precision_2: 0.0000e+00 - val_recall_2: 0.0000e+00\n",
      "Epoch 90/1000\n",
      "1/1 [==============================] - 0s 35ms/step - loss: 0.4546 - accuracy: 0.8286 - precision_2: 0.0000e+00 - recall_2: 0.0000e+00 - val_loss: 0.4379 - val_accuracy: 0.8500 - val_precision_2: 0.0000e+00 - val_recall_2: 0.0000e+00\n",
      "Epoch 91/1000\n",
      "1/1 [==============================] - 0s 38ms/step - loss: 0.4542 - accuracy: 0.8293 - precision_2: 0.0000e+00 - recall_2: 0.0000e+00 - val_loss: 0.4370 - val_accuracy: 0.8505 - val_precision_2: 0.0000e+00 - val_recall_2: 0.0000e+00\n",
      "Epoch 92/1000\n",
      "1/1 [==============================] - 0s 45ms/step - loss: 0.4535 - accuracy: 0.8299 - precision_2: 1.0000 - recall_2: 2.3754e-05 - val_loss: 0.4360 - val_accuracy: 0.8508 - val_precision_2: 0.0000e+00 - val_recall_2: 0.0000e+00\n",
      "Epoch 93/1000\n",
      "1/1 [==============================] - 0s 50ms/step - loss: 0.4531 - accuracy: 0.8306 - precision_2: 1.0000 - recall_2: 0.0013 - val_loss: 0.4351 - val_accuracy: 0.8509 - val_precision_2: 0.0000e+00 - val_recall_2: 0.0000e+00\n",
      "Epoch 94/1000\n",
      "1/1 [==============================] - 0s 36ms/step - loss: 0.4521 - accuracy: 0.8308 - precision_2: 1.0000 - recall_2: 0.0023 - val_loss: 0.4341 - val_accuracy: 0.8511 - val_precision_2: 0.0000e+00 - val_recall_2: 0.0000e+00\n",
      "Epoch 95/1000\n",
      "1/1 [==============================] - 0s 32ms/step - loss: 0.4519 - accuracy: 0.8316 - precision_2: 1.0000 - recall_2: 0.0029 - val_loss: 0.4332 - val_accuracy: 0.8512 - val_precision_2: 0.0000e+00 - val_recall_2: 0.0000e+00\n",
      "Epoch 96/1000\n",
      "1/1 [==============================] - 0s 29ms/step - loss: 0.4514 - accuracy: 0.8324 - precision_2: 1.0000 - recall_2: 0.0055 - val_loss: 0.4323 - val_accuracy: 0.8513 - val_precision_2: 0.0000e+00 - val_recall_2: 0.0000e+00\n",
      "Epoch 97/1000\n",
      "1/1 [==============================] - 0s 39ms/step - loss: 0.4505 - accuracy: 0.8331 - precision_2: 1.0000 - recall_2: 0.0081 - val_loss: 0.4314 - val_accuracy: 0.8515 - val_precision_2: 0.0000e+00 - val_recall_2: 0.0000e+00\n",
      "Epoch 98/1000\n",
      "1/1 [==============================] - 0s 31ms/step - loss: 0.4504 - accuracy: 0.8341 - precision_2: 1.0000 - recall_2: 0.0105 - val_loss: 0.4306 - val_accuracy: 0.8517 - val_precision_2: 0.0000e+00 - val_recall_2: 0.0000e+00\n",
      "Epoch 99/1000\n",
      "1/1 [==============================] - 0s 36ms/step - loss: 0.4489 - accuracy: 0.8348 - precision_2: 1.0000 - recall_2: 0.0163 - val_loss: 0.4298 - val_accuracy: 0.8518 - val_precision_2: 0.0000e+00 - val_recall_2: 0.0000e+00\n",
      "Epoch 100/1000\n"
     ]
    },
    {
     "name": "stdout",
     "output_type": "stream",
     "text": [
      "1/1 [==============================] - 0s 35ms/step - loss: 0.4484 - accuracy: 0.8352 - precision_2: 1.0000 - recall_2: 0.0214 - val_loss: 0.4290 - val_accuracy: 0.8519 - val_precision_2: 0.0000e+00 - val_recall_2: 0.0000e+00\n",
      "Epoch 101/1000\n",
      "1/1 [==============================] - 0s 31ms/step - loss: 0.4480 - accuracy: 0.8358 - precision_2: 1.0000 - recall_2: 0.0297 - val_loss: 0.4283 - val_accuracy: 0.8521 - val_precision_2: 0.0000e+00 - val_recall_2: 0.0000e+00\n",
      "Epoch 102/1000\n",
      "1/1 [==============================] - 0s 37ms/step - loss: 0.4479 - accuracy: 0.8364 - precision_2: 1.0000 - recall_2: 0.0387 - val_loss: 0.4276 - val_accuracy: 0.8521 - val_precision_2: 1.0000 - val_recall_2: 3.8214e-04\n",
      "Epoch 103/1000\n",
      "1/1 [==============================] - 0s 31ms/step - loss: 0.4474 - accuracy: 0.8366 - precision_2: 1.0000 - recall_2: 0.0438 - val_loss: 0.4269 - val_accuracy: 0.8522 - val_precision_2: 1.0000 - val_recall_2: 0.0024\n",
      "Epoch 104/1000\n",
      "1/1 [==============================] - 0s 46ms/step - loss: 0.4457 - accuracy: 0.8379 - precision_2: 1.0000 - recall_2: 0.0545 - val_loss: 0.4263 - val_accuracy: 0.8523 - val_precision_2: 1.0000 - val_recall_2: 0.0044\n",
      "Epoch 105/1000\n",
      "1/1 [==============================] - 0s 41ms/step - loss: 0.4458 - accuracy: 0.8385 - precision_2: 1.0000 - recall_2: 0.0642 - val_loss: 0.4257 - val_accuracy: 0.8524 - val_precision_2: 1.0000 - val_recall_2: 0.0051\n",
      "Epoch 106/1000\n",
      "1/1 [==============================] - 0s 35ms/step - loss: 0.4455 - accuracy: 0.8392 - precision_2: 0.9998 - recall_2: 0.0722 - val_loss: 0.4251 - val_accuracy: 0.8524 - val_precision_2: 1.0000 - val_recall_2: 0.0062\n",
      "Epoch 107/1000\n",
      "1/1 [==============================] - 0s 30ms/step - loss: 0.4458 - accuracy: 0.8439 - precision_2: 0.9997 - recall_2: 0.0809 - val_loss: 0.4245 - val_accuracy: 0.8525 - val_precision_2: 1.0000 - val_recall_2: 0.0098\n",
      "Epoch 108/1000\n",
      "1/1 [==============================] - 0s 30ms/step - loss: 0.4448 - accuracy: 0.8446 - precision_2: 0.9999 - recall_2: 0.0900 - val_loss: 0.4240 - val_accuracy: 0.8525 - val_precision_2: 1.0000 - val_recall_2: 0.0146\n",
      "Epoch 109/1000\n",
      "1/1 [==============================] - 0s 30ms/step - loss: 0.4436 - accuracy: 0.8454 - precision_2: 1.0000 - recall_2: 0.0981 - val_loss: 0.4234 - val_accuracy: 0.8525 - val_precision_2: 1.0000 - val_recall_2: 0.0174\n",
      "Epoch 110/1000\n",
      "1/1 [==============================] - 0s 40ms/step - loss: 0.4434 - accuracy: 0.8461 - precision_2: 1.0000 - recall_2: 0.1045 - val_loss: 0.4229 - val_accuracy: 0.8525 - val_precision_2: 1.0000 - val_recall_2: 0.0209\n",
      "Epoch 111/1000\n",
      "1/1 [==============================] - 0s 34ms/step - loss: 0.4424 - accuracy: 0.8466 - precision_2: 1.0000 - recall_2: 0.1130 - val_loss: 0.4224 - val_accuracy: 0.8525 - val_precision_2: 1.0000 - val_recall_2: 0.0247\n",
      "Epoch 112/1000\n",
      "1/1 [==============================] - 0s 36ms/step - loss: 0.4420 - accuracy: 0.8471 - precision_2: 1.0000 - recall_2: 0.1204 - val_loss: 0.4219 - val_accuracy: 0.8526 - val_precision_2: 1.0000 - val_recall_2: 0.0314\n",
      "Epoch 113/1000\n",
      "1/1 [==============================] - 0s 37ms/step - loss: 0.4419 - accuracy: 0.8472 - precision_2: 1.0000 - recall_2: 0.1281 - val_loss: 0.4214 - val_accuracy: 0.8527 - val_precision_2: 1.0000 - val_recall_2: 0.0388\n",
      "Epoch 114/1000\n",
      "1/1 [==============================] - 0s 35ms/step - loss: 0.4416 - accuracy: 0.8475 - precision_2: 1.0000 - recall_2: 0.1356 - val_loss: 0.4209 - val_accuracy: 0.8527 - val_precision_2: 1.0000 - val_recall_2: 0.0492\n",
      "Epoch 115/1000\n",
      "1/1 [==============================] - 0s 36ms/step - loss: 0.4404 - accuracy: 0.8481 - precision_2: 1.0000 - recall_2: 0.1413 - val_loss: 0.4204 - val_accuracy: 0.8527 - val_precision_2: 1.0000 - val_recall_2: 0.0598\n",
      "Epoch 116/1000\n",
      "1/1 [==============================] - 0s 40ms/step - loss: 0.4403 - accuracy: 0.8486 - precision_2: 0.9999 - recall_2: 0.1480 - val_loss: 0.4199 - val_accuracy: 0.8527 - val_precision_2: 1.0000 - val_recall_2: 0.0718\n",
      "Epoch 117/1000\n",
      "1/1 [==============================] - 0s 31ms/step - loss: 0.4393 - accuracy: 0.8484 - precision_2: 0.9998 - recall_2: 0.1571 - val_loss: 0.4194 - val_accuracy: 0.8527 - val_precision_2: 1.0000 - val_recall_2: 0.0826\n",
      "Epoch 118/1000\n",
      "1/1 [==============================] - 0s 63ms/step - loss: 0.4387 - accuracy: 0.8488 - precision_2: 1.0000 - recall_2: 0.1632 - val_loss: 0.4188 - val_accuracy: 0.8527 - val_precision_2: 1.0000 - val_recall_2: 0.0949\n",
      "Epoch 119/1000\n",
      "1/1 [==============================] - 0s 40ms/step - loss: 0.4381 - accuracy: 0.8488 - precision_2: 0.9999 - recall_2: 0.1674 - val_loss: 0.4183 - val_accuracy: 0.8527 - val_precision_2: 1.0000 - val_recall_2: 0.1127\n",
      "Epoch 120/1000\n",
      "1/1 [==============================] - 0s 38ms/step - loss: 0.4372 - accuracy: 0.8489 - precision_2: 1.0000 - recall_2: 0.1750 - val_loss: 0.4177 - val_accuracy: 0.8527 - val_precision_2: 1.0000 - val_recall_2: 0.1269\n",
      "Epoch 121/1000\n",
      "1/1 [==============================] - 0s 75ms/step - loss: 0.4370 - accuracy: 0.8491 - precision_2: 0.9999 - recall_2: 0.1782 - val_loss: 0.4172 - val_accuracy: 0.8527 - val_precision_2: 1.0000 - val_recall_2: 0.1452\n",
      "Epoch 122/1000\n",
      "1/1 [==============================] - 0s 32ms/step - loss: 0.4366 - accuracy: 0.8490 - precision_2: 0.9999 - recall_2: 0.1850 - val_loss: 0.4166 - val_accuracy: 0.8527 - val_precision_2: 1.0000 - val_recall_2: 0.1632\n",
      "Epoch 123/1000\n",
      "1/1 [==============================] - 0s 42ms/step - loss: 0.4358 - accuracy: 0.8491 - precision_2: 1.0000 - recall_2: 0.1946 - val_loss: 0.4160 - val_accuracy: 0.8527 - val_precision_2: 1.0000 - val_recall_2: 0.1797\n",
      "Epoch 124/1000\n",
      "1/1 [==============================] - 0s 35ms/step - loss: 0.4349 - accuracy: 0.8491 - precision_2: 1.0000 - recall_2: 0.2015 - val_loss: 0.4153 - val_accuracy: 0.8527 - val_precision_2: 1.0000 - val_recall_2: 0.1960\n",
      "Epoch 125/1000\n",
      "1/1 [==============================] - 0s 44ms/step - loss: 0.4346 - accuracy: 0.8493 - precision_2: 0.9999 - recall_2: 0.2085 - val_loss: 0.4146 - val_accuracy: 0.8527 - val_precision_2: 1.0000 - val_recall_2: 0.2165\n",
      "Epoch 126/1000\n",
      "1/1 [==============================] - 0s 40ms/step - loss: 0.4338 - accuracy: 0.8492 - precision_2: 1.0000 - recall_2: 0.2130 - val_loss: 0.4139 - val_accuracy: 0.8527 - val_precision_2: 1.0000 - val_recall_2: 0.2383\n",
      "Epoch 127/1000\n",
      "1/1 [==============================] - 0s 29ms/step - loss: 0.4341 - accuracy: 0.8491 - precision_2: 1.0000 - recall_2: 0.2169 - val_loss: 0.4132 - val_accuracy: 0.8528 - val_precision_2: 1.0000 - val_recall_2: 0.2602\n",
      "Epoch 128/1000\n",
      "1/1 [==============================] - 0s 31ms/step - loss: 0.4333 - accuracy: 0.8490 - precision_2: 0.9999 - recall_2: 0.2232 - val_loss: 0.4125 - val_accuracy: 0.8528 - val_precision_2: 1.0000 - val_recall_2: 0.2818\n",
      "Epoch 129/1000\n",
      "1/1 [==============================] - 0s 35ms/step - loss: 0.4322 - accuracy: 0.8492 - precision_2: 0.9999 - recall_2: 0.2287 - val_loss: 0.4118 - val_accuracy: 0.8528 - val_precision_2: 1.0000 - val_recall_2: 0.3071\n",
      "Epoch 130/1000\n",
      "1/1 [==============================] - 0s 34ms/step - loss: 0.4325 - accuracy: 0.8492 - precision_2: 0.9999 - recall_2: 0.2301 - val_loss: 0.4112 - val_accuracy: 0.8528 - val_precision_2: 1.0000 - val_recall_2: 0.3275\n",
      "Epoch 131/1000\n",
      "1/1 [==============================] - 0s 58ms/step - loss: 0.4318 - accuracy: 0.8491 - precision_2: 0.9999 - recall_2: 0.2372 - val_loss: 0.4105 - val_accuracy: 0.8528 - val_precision_2: 1.0000 - val_recall_2: 0.3389\n",
      "Epoch 132/1000\n",
      "1/1 [==============================] - 0s 35ms/step - loss: 0.4307 - accuracy: 0.8491 - precision_2: 1.0000 - recall_2: 0.2431 - val_loss: 0.4099 - val_accuracy: 0.8528 - val_precision_2: 1.0000 - val_recall_2: 0.3445\n",
      "Epoch 133/1000\n",
      "1/1 [==============================] - 0s 43ms/step - loss: 0.4299 - accuracy: 0.8494 - precision_2: 0.9999 - recall_2: 0.2462 - val_loss: 0.4092 - val_accuracy: 0.8528 - val_precision_2: 1.0000 - val_recall_2: 0.3475\n",
      "Epoch 134/1000\n",
      "1/1 [==============================] - 0s 39ms/step - loss: 0.4298 - accuracy: 0.8493 - precision_2: 0.9999 - recall_2: 0.2476 - val_loss: 0.4085 - val_accuracy: 0.8528 - val_precision_2: 1.0000 - val_recall_2: 0.3499\n",
      "Epoch 135/1000\n"
     ]
    },
    {
     "name": "stdout",
     "output_type": "stream",
     "text": [
      "1/1 [==============================] - 0s 48ms/step - loss: 0.4291 - accuracy: 0.8494 - precision_2: 0.9999 - recall_2: 0.2499 - val_loss: 0.4079 - val_accuracy: 0.8528 - val_precision_2: 1.0000 - val_recall_2: 0.3507\n",
      "Epoch 136/1000\n",
      "1/1 [==============================] - 0s 38ms/step - loss: 0.4282 - accuracy: 0.8492 - precision_2: 0.9998 - recall_2: 0.2499 - val_loss: 0.4072 - val_accuracy: 0.8528 - val_precision_2: 1.0000 - val_recall_2: 0.3516\n",
      "Epoch 137/1000\n",
      "1/1 [==============================] - 0s 32ms/step - loss: 0.4280 - accuracy: 0.8495 - precision_2: 0.9999 - recall_2: 0.2522 - val_loss: 0.4066 - val_accuracy: 0.8528 - val_precision_2: 1.0000 - val_recall_2: 0.3521\n",
      "Epoch 138/1000\n",
      "1/1 [==============================] - 0s 35ms/step - loss: 0.4275 - accuracy: 0.8491 - precision_2: 0.9999 - recall_2: 0.2535 - val_loss: 0.4059 - val_accuracy: 0.8528 - val_precision_2: 0.9999 - val_recall_2: 0.3529\n",
      "Epoch 139/1000\n",
      "1/1 [==============================] - 0s 32ms/step - loss: 0.4270 - accuracy: 0.8493 - precision_2: 0.9998 - recall_2: 0.2555 - val_loss: 0.4053 - val_accuracy: 0.8528 - val_precision_2: 0.9999 - val_recall_2: 0.3533\n",
      "Epoch 140/1000\n",
      "1/1 [==============================] - 0s 31ms/step - loss: 0.4266 - accuracy: 0.8492 - precision_2: 0.9999 - recall_2: 0.2596 - val_loss: 0.4046 - val_accuracy: 0.8528 - val_precision_2: 0.9999 - val_recall_2: 0.3541\n",
      "Epoch 141/1000\n",
      "1/1 [==============================] - 0s 44ms/step - loss: 0.4252 - accuracy: 0.8492 - precision_2: 0.9999 - recall_2: 0.2658 - val_loss: 0.4039 - val_accuracy: 0.8528 - val_precision_2: 0.9999 - val_recall_2: 0.3549\n",
      "Epoch 142/1000\n",
      "1/1 [==============================] - 0s 34ms/step - loss: 0.4241 - accuracy: 0.8492 - precision_2: 0.9997 - recall_2: 0.2701 - val_loss: 0.4031 - val_accuracy: 0.8528 - val_precision_2: 0.9999 - val_recall_2: 0.3556\n",
      "Epoch 143/1000\n",
      "1/1 [==============================] - 0s 34ms/step - loss: 0.4241 - accuracy: 0.8493 - precision_2: 0.9999 - recall_2: 0.2723 - val_loss: 0.4024 - val_accuracy: 0.8528 - val_precision_2: 0.9999 - val_recall_2: 0.3560\n",
      "Epoch 144/1000\n",
      "1/1 [==============================] - 0s 35ms/step - loss: 0.4235 - accuracy: 0.8492 - precision_2: 0.9999 - recall_2: 0.2791 - val_loss: 0.4016 - val_accuracy: 0.8528 - val_precision_2: 0.9999 - val_recall_2: 0.3564\n",
      "Epoch 145/1000\n",
      "1/1 [==============================] - 0s 33ms/step - loss: 0.4226 - accuracy: 0.8493 - precision_2: 0.9999 - recall_2: 0.2832 - val_loss: 0.4009 - val_accuracy: 0.8528 - val_precision_2: 0.9999 - val_recall_2: 0.3569\n",
      "Epoch 146/1000\n",
      "1/1 [==============================] - 0s 32ms/step - loss: 0.4223 - accuracy: 0.8494 - precision_2: 0.9999 - recall_2: 0.2847 - val_loss: 0.4003 - val_accuracy: 0.8528 - val_precision_2: 0.9999 - val_recall_2: 0.3573\n",
      "Epoch 147/1000\n",
      "1/1 [==============================] - 0s 30ms/step - loss: 0.4218 - accuracy: 0.8493 - precision_2: 0.9997 - recall_2: 0.2894 - val_loss: 0.3997 - val_accuracy: 0.8528 - val_precision_2: 0.9999 - val_recall_2: 0.3575\n",
      "Epoch 148/1000\n",
      "1/1 [==============================] - 0s 37ms/step - loss: 0.4211 - accuracy: 0.8494 - precision_2: 1.0000 - recall_2: 0.2912 - val_loss: 0.3992 - val_accuracy: 0.8529 - val_precision_2: 0.9999 - val_recall_2: 0.3581\n",
      "Epoch 149/1000\n",
      "1/1 [==============================] - 0s 34ms/step - loss: 0.4205 - accuracy: 0.8494 - precision_2: 0.9999 - recall_2: 0.2919 - val_loss: 0.3987 - val_accuracy: 0.8529 - val_precision_2: 0.9999 - val_recall_2: 0.3587\n",
      "Epoch 150/1000\n",
      "1/1 [==============================] - 0s 32ms/step - loss: 0.4197 - accuracy: 0.8496 - precision_2: 0.9999 - recall_2: 0.2942 - val_loss: 0.3983 - val_accuracy: 0.8529 - val_precision_2: 0.9999 - val_recall_2: 0.3593\n",
      "Epoch 151/1000\n",
      "1/1 [==============================] - 0s 33ms/step - loss: 0.4195 - accuracy: 0.8496 - precision_2: 1.0000 - recall_2: 0.2950 - val_loss: 0.3979 - val_accuracy: 0.8529 - val_precision_2: 0.9999 - val_recall_2: 0.3596\n",
      "Epoch 152/1000\n",
      "1/1 [==============================] - 0s 31ms/step - loss: 0.4181 - accuracy: 0.8497 - precision_2: 0.9999 - recall_2: 0.2943 - val_loss: 0.3975 - val_accuracy: 0.8529 - val_precision_2: 0.9999 - val_recall_2: 0.3602\n",
      "Epoch 153/1000\n",
      "1/1 [==============================] - 0s 30ms/step - loss: 0.4173 - accuracy: 0.8498 - precision_2: 0.9999 - recall_2: 0.2975 - val_loss: 0.3970 - val_accuracy: 0.8529 - val_precision_2: 0.9999 - val_recall_2: 0.3608\n",
      "Epoch 154/1000\n",
      "1/1 [==============================] - 0s 36ms/step - loss: 0.4169 - accuracy: 0.8500 - precision_2: 0.9999 - recall_2: 0.3005 - val_loss: 0.3964 - val_accuracy: 0.8529 - val_precision_2: 0.9999 - val_recall_2: 0.3616\n",
      "Epoch 155/1000\n",
      "1/1 [==============================] - 0s 32ms/step - loss: 0.4167 - accuracy: 0.8498 - precision_2: 0.9999 - recall_2: 0.3041 - val_loss: 0.3958 - val_accuracy: 0.8529 - val_precision_2: 0.9999 - val_recall_2: 0.3621\n",
      "Epoch 156/1000\n",
      "1/1 [==============================] - 0s 37ms/step - loss: 0.4157 - accuracy: 0.8500 - precision_2: 0.9999 - recall_2: 0.3076 - val_loss: 0.3951 - val_accuracy: 0.8529 - val_precision_2: 0.9999 - val_recall_2: 0.3629\n",
      "Epoch 157/1000\n",
      "1/1 [==============================] - 0s 33ms/step - loss: 0.4151 - accuracy: 0.8499 - precision_2: 0.9998 - recall_2: 0.3118 - val_loss: 0.3944 - val_accuracy: 0.8529 - val_precision_2: 0.9999 - val_recall_2: 0.3636\n",
      "Epoch 158/1000\n",
      "1/1 [==============================] - 0s 29ms/step - loss: 0.4148 - accuracy: 0.8499 - precision_2: 0.9998 - recall_2: 0.3158 - val_loss: 0.3938 - val_accuracy: 0.8529 - val_precision_2: 0.9999 - val_recall_2: 0.3638\n",
      "Epoch 159/1000\n",
      "1/1 [==============================] - 0s 35ms/step - loss: 0.4141 - accuracy: 0.8499 - precision_2: 0.9999 - recall_2: 0.3197 - val_loss: 0.3932 - val_accuracy: 0.8529 - val_precision_2: 0.9999 - val_recall_2: 0.3638\n",
      "Epoch 160/1000\n",
      "1/1 [==============================] - 0s 34ms/step - loss: 0.4137 - accuracy: 0.8499 - precision_2: 0.9999 - recall_2: 0.3219 - val_loss: 0.3928 - val_accuracy: 0.8529 - val_precision_2: 0.9999 - val_recall_2: 0.3639\n",
      "Epoch 161/1000\n",
      "1/1 [==============================] - 0s 33ms/step - loss: 0.4126 - accuracy: 0.8500 - precision_2: 0.9999 - recall_2: 0.3228 - val_loss: 0.3924 - val_accuracy: 0.8529 - val_precision_2: 0.9999 - val_recall_2: 0.3639\n",
      "Epoch 162/1000\n",
      "1/1 [==============================] - 0s 38ms/step - loss: 0.4120 - accuracy: 0.8500 - precision_2: 0.9999 - recall_2: 0.3247 - val_loss: 0.3920 - val_accuracy: 0.8529 - val_precision_2: 0.9999 - val_recall_2: 0.3640\n",
      "Epoch 163/1000\n",
      "1/1 [==============================] - 0s 43ms/step - loss: 0.4117 - accuracy: 0.8501 - precision_2: 0.9999 - recall_2: 0.3257 - val_loss: 0.3916 - val_accuracy: 0.8529 - val_precision_2: 0.9999 - val_recall_2: 0.3640\n",
      "Epoch 164/1000\n",
      "1/1 [==============================] - 0s 45ms/step - loss: 0.4114 - accuracy: 0.8501 - precision_2: 0.9998 - recall_2: 0.3280 - val_loss: 0.3911 - val_accuracy: 0.8529 - val_precision_2: 0.9999 - val_recall_2: 0.3640\n",
      "Epoch 165/1000\n",
      "1/1 [==============================] - 0s 37ms/step - loss: 0.4104 - accuracy: 0.8501 - precision_2: 0.9997 - recall_2: 0.3291 - val_loss: 0.3906 - val_accuracy: 0.8529 - val_precision_2: 0.9999 - val_recall_2: 0.3640\n",
      "Epoch 166/1000\n",
      "1/1 [==============================] - 0s 32ms/step - loss: 0.4103 - accuracy: 0.8503 - precision_2: 0.9997 - recall_2: 0.3300 - val_loss: 0.3901 - val_accuracy: 0.8529 - val_precision_2: 0.9999 - val_recall_2: 0.3640\n",
      "Epoch 167/1000\n",
      "1/1 [==============================] - 0s 44ms/step - loss: 0.4096 - accuracy: 0.8503 - precision_2: 0.9998 - recall_2: 0.3311 - val_loss: 0.3896 - val_accuracy: 0.8529 - val_precision_2: 0.9999 - val_recall_2: 0.3640\n",
      "Epoch 168/1000\n",
      "1/1 [==============================] - 0s 33ms/step - loss: 0.4086 - accuracy: 0.8503 - precision_2: 0.9997 - recall_2: 0.3329 - val_loss: 0.3892 - val_accuracy: 0.8528 - val_precision_2: 0.9999 - val_recall_2: 0.3640\n",
      "Epoch 169/1000\n",
      "1/1 [==============================] - 0s 34ms/step - loss: 0.4095 - accuracy: 0.8503 - precision_2: 0.9997 - recall_2: 0.3319 - val_loss: 0.3888 - val_accuracy: 0.8529 - val_precision_2: 0.9999 - val_recall_2: 0.3640\n",
      "Epoch 170/1000\n"
     ]
    },
    {
     "name": "stdout",
     "output_type": "stream",
     "text": [
      "1/1 [==============================] - 0s 45ms/step - loss: 0.4077 - accuracy: 0.8503 - precision_2: 0.9997 - recall_2: 0.3318 - val_loss: 0.3884 - val_accuracy: 0.8529 - val_precision_2: 0.9999 - val_recall_2: 0.3640\n",
      "Epoch 171/1000\n",
      "1/1 [==============================] - 0s 38ms/step - loss: 0.4078 - accuracy: 0.8504 - precision_2: 0.9998 - recall_2: 0.3331 - val_loss: 0.3880 - val_accuracy: 0.8529 - val_precision_2: 0.9999 - val_recall_2: 0.3640\n",
      "Epoch 172/1000\n",
      "1/1 [==============================] - 0s 57ms/step - loss: 0.4068 - accuracy: 0.8504 - precision_2: 0.9998 - recall_2: 0.3328 - val_loss: 0.3876 - val_accuracy: 0.8529 - val_precision_2: 0.9999 - val_recall_2: 0.3640\n",
      "Epoch 173/1000\n",
      "1/1 [==============================] - 0s 41ms/step - loss: 0.4061 - accuracy: 0.8504 - precision_2: 0.9997 - recall_2: 0.3340 - val_loss: 0.3873 - val_accuracy: 0.8529 - val_precision_2: 0.9999 - val_recall_2: 0.3640\n",
      "Epoch 174/1000\n",
      "1/1 [==============================] - 0s 37ms/step - loss: 0.4063 - accuracy: 0.8504 - precision_2: 0.9999 - recall_2: 0.3341 - val_loss: 0.3869 - val_accuracy: 0.8529 - val_precision_2: 0.9999 - val_recall_2: 0.3640\n",
      "Epoch 175/1000\n",
      "1/1 [==============================] - 0s 46ms/step - loss: 0.4056 - accuracy: 0.8504 - precision_2: 0.9998 - recall_2: 0.3339 - val_loss: 0.3865 - val_accuracy: 0.8529 - val_precision_2: 0.9999 - val_recall_2: 0.3640\n",
      "Epoch 176/1000\n",
      "1/1 [==============================] - 0s 45ms/step - loss: 0.4055 - accuracy: 0.8503 - precision_2: 0.9996 - recall_2: 0.3349 - val_loss: 0.3861 - val_accuracy: 0.8529 - val_precision_2: 0.9999 - val_recall_2: 0.3641\n",
      "Epoch 177/1000\n",
      "1/1 [==============================] - 0s 37ms/step - loss: 0.4049 - accuracy: 0.8506 - precision_2: 0.9996 - recall_2: 0.3353 - val_loss: 0.3858 - val_accuracy: 0.8529 - val_precision_2: 0.9999 - val_recall_2: 0.3641\n",
      "Epoch 178/1000\n",
      "1/1 [==============================] - 0s 34ms/step - loss: 0.4040 - accuracy: 0.8506 - precision_2: 0.9996 - recall_2: 0.3350 - val_loss: 0.3854 - val_accuracy: 0.8528 - val_precision_2: 0.9999 - val_recall_2: 0.3641\n",
      "Epoch 179/1000\n",
      "1/1 [==============================] - 0s 30ms/step - loss: 0.4044 - accuracy: 0.8505 - precision_2: 0.9996 - recall_2: 0.3365 - val_loss: 0.3853 - val_accuracy: 0.8529 - val_precision_2: 0.9999 - val_recall_2: 0.3641\n",
      "Epoch 180/1000\n",
      "1/1 [==============================] - 0s 28ms/step - loss: 0.4036 - accuracy: 0.8505 - precision_2: 0.9996 - recall_2: 0.3354 - val_loss: 0.3849 - val_accuracy: 0.8528 - val_precision_2: 0.9999 - val_recall_2: 0.3641\n",
      "Epoch 181/1000\n",
      "1/1 [==============================] - 0s 30ms/step - loss: 0.4037 - accuracy: 0.8504 - precision_2: 0.9996 - recall_2: 0.3358 - val_loss: 0.3846 - val_accuracy: 0.8529 - val_precision_2: 0.9999 - val_recall_2: 0.3641\n",
      "Epoch 182/1000\n",
      "1/1 [==============================] - 0s 43ms/step - loss: 0.4036 - accuracy: 0.8505 - precision_2: 0.9996 - recall_2: 0.3370 - val_loss: 0.3844 - val_accuracy: 0.8529 - val_precision_2: 0.9997 - val_recall_2: 0.3641\n",
      "Epoch 183/1000\n",
      "1/1 [==============================] - 0s 43ms/step - loss: 0.4028 - accuracy: 0.8505 - precision_2: 0.9996 - recall_2: 0.3372 - val_loss: 0.3840 - val_accuracy: 0.8528 - val_precision_2: 0.9996 - val_recall_2: 0.3642\n",
      "Epoch 184/1000\n",
      "1/1 [==============================] - 0s 40ms/step - loss: 0.4025 - accuracy: 0.8504 - precision_2: 0.9992 - recall_2: 0.3382 - val_loss: 0.3838 - val_accuracy: 0.8528 - val_precision_2: 0.9996 - val_recall_2: 0.3642\n",
      "Epoch 185/1000\n",
      "1/1 [==============================] - 0s 50ms/step - loss: 0.4019 - accuracy: 0.8506 - precision_2: 0.9995 - recall_2: 0.3381 - val_loss: 0.3835 - val_accuracy: 0.8528 - val_precision_2: 0.9996 - val_recall_2: 0.3642\n",
      "Epoch 186/1000\n",
      "1/1 [==============================] - 0s 41ms/step - loss: 0.4019 - accuracy: 0.8506 - precision_2: 0.9994 - recall_2: 0.3381 - val_loss: 0.3833 - val_accuracy: 0.8528 - val_precision_2: 0.9996 - val_recall_2: 0.3643\n",
      "Epoch 187/1000\n",
      "1/1 [==============================] - 0s 44ms/step - loss: 0.4019 - accuracy: 0.8505 - precision_2: 0.9994 - recall_2: 0.3385 - val_loss: 0.3832 - val_accuracy: 0.8528 - val_precision_2: 0.9996 - val_recall_2: 0.3643\n",
      "Epoch 188/1000\n",
      "1/1 [==============================] - 0s 39ms/step - loss: 0.4016 - accuracy: 0.8506 - precision_2: 0.9994 - recall_2: 0.3383 - val_loss: 0.3829 - val_accuracy: 0.8528 - val_precision_2: 0.9995 - val_recall_2: 0.3643\n",
      "Epoch 189/1000\n",
      "1/1 [==============================] - 0s 34ms/step - loss: 0.4010 - accuracy: 0.8506 - precision_2: 0.9994 - recall_2: 0.3386 - val_loss: 0.3827 - val_accuracy: 0.8528 - val_precision_2: 0.9995 - val_recall_2: 0.3643\n",
      "Epoch 190/1000\n",
      "1/1 [==============================] - 0s 45ms/step - loss: 0.4010 - accuracy: 0.8505 - precision_2: 0.9996 - recall_2: 0.3391 - val_loss: 0.3825 - val_accuracy: 0.8528 - val_precision_2: 0.9995 - val_recall_2: 0.3643\n",
      "Epoch 191/1000\n",
      "1/1 [==============================] - 0s 35ms/step - loss: 0.4005 - accuracy: 0.8507 - precision_2: 0.9995 - recall_2: 0.3397 - val_loss: 0.3822 - val_accuracy: 0.8528 - val_precision_2: 0.9995 - val_recall_2: 0.3644\n",
      "Epoch 192/1000\n",
      "1/1 [==============================] - 0s 38ms/step - loss: 0.4006 - accuracy: 0.8505 - precision_2: 0.9990 - recall_2: 0.3387 - val_loss: 0.3822 - val_accuracy: 0.8528 - val_precision_2: 0.9995 - val_recall_2: 0.3644\n",
      "Epoch 193/1000\n",
      "1/1 [==============================] - 0s 48ms/step - loss: 0.4006 - accuracy: 0.8507 - precision_2: 0.9992 - recall_2: 0.3390 - val_loss: 0.3819 - val_accuracy: 0.8528 - val_precision_2: 0.9991 - val_recall_2: 0.3644\n",
      "Epoch 194/1000\n",
      "1/1 [==============================] - 0s 36ms/step - loss: 0.4002 - accuracy: 0.8506 - precision_2: 0.9992 - recall_2: 0.3407 - val_loss: 0.3818 - val_accuracy: 0.8528 - val_precision_2: 0.9992 - val_recall_2: 0.3644\n",
      "Epoch 195/1000\n",
      "1/1 [==============================] - 0s 47ms/step - loss: 0.4003 - accuracy: 0.8506 - precision_2: 0.9994 - recall_2: 0.3398 - val_loss: 0.3815 - val_accuracy: 0.8528 - val_precision_2: 0.9991 - val_recall_2: 0.3645\n",
      "Epoch 196/1000\n",
      "1/1 [==============================] - 0s 36ms/step - loss: 0.3995 - accuracy: 0.8505 - precision_2: 0.9990 - recall_2: 0.3410 - val_loss: 0.3814 - val_accuracy: 0.8528 - val_precision_2: 0.9991 - val_recall_2: 0.3645\n",
      "Epoch 197/1000\n",
      "1/1 [==============================] - 0s 31ms/step - loss: 0.3995 - accuracy: 0.8506 - precision_2: 0.9990 - recall_2: 0.3404 - val_loss: 0.3814 - val_accuracy: 0.8528 - val_precision_2: 0.9991 - val_recall_2: 0.3645\n",
      "Epoch 198/1000\n",
      "1/1 [==============================] - 0s 41ms/step - loss: 0.3994 - accuracy: 0.8507 - precision_2: 0.9992 - recall_2: 0.3413 - val_loss: 0.3811 - val_accuracy: 0.8527 - val_precision_2: 0.9991 - val_recall_2: 0.3645\n",
      "Epoch 199/1000\n",
      "1/1 [==============================] - 0s 44ms/step - loss: 0.3991 - accuracy: 0.8506 - precision_2: 0.9990 - recall_2: 0.3413 - val_loss: 0.3809 - val_accuracy: 0.8528 - val_precision_2: 0.9991 - val_recall_2: 0.3645\n",
      "Epoch 200/1000\n",
      "1/1 [==============================] - 0s 43ms/step - loss: 0.3988 - accuracy: 0.8506 - precision_2: 0.9989 - recall_2: 0.3411 - val_loss: 0.3808 - val_accuracy: 0.8528 - val_precision_2: 0.9991 - val_recall_2: 0.3645\n",
      "Epoch 201/1000\n",
      "1/1 [==============================] - 0s 34ms/step - loss: 0.3989 - accuracy: 0.8506 - precision_2: 0.9990 - recall_2: 0.3411 - val_loss: 0.3807 - val_accuracy: 0.8528 - val_precision_2: 0.9990 - val_recall_2: 0.3646\n",
      "Epoch 202/1000\n",
      "1/1 [==============================] - 0s 46ms/step - loss: 0.3990 - accuracy: 0.8504 - precision_2: 0.9987 - recall_2: 0.3414 - val_loss: 0.3807 - val_accuracy: 0.8528 - val_precision_2: 0.9990 - val_recall_2: 0.3646\n",
      "Epoch 203/1000\n",
      "1/1 [==============================] - 0s 50ms/step - loss: 0.3985 - accuracy: 0.8507 - precision_2: 0.9987 - recall_2: 0.3416 - val_loss: 0.3804 - val_accuracy: 0.8528 - val_precision_2: 0.9988 - val_recall_2: 0.3646\n",
      "Epoch 204/1000\n",
      "1/1 [==============================] - 0s 43ms/step - loss: 0.3979 - accuracy: 0.8505 - precision_2: 0.9988 - recall_2: 0.3420 - val_loss: 0.3802 - val_accuracy: 0.8528 - val_precision_2: 0.9987 - val_recall_2: 0.3646\n",
      "Epoch 205/1000\n"
     ]
    },
    {
     "name": "stdout",
     "output_type": "stream",
     "text": [
      "1/1 [==============================] - 0s 37ms/step - loss: 0.3983 - accuracy: 0.8505 - precision_2: 0.9987 - recall_2: 0.3420 - val_loss: 0.3802 - val_accuracy: 0.8528 - val_precision_2: 0.9988 - val_recall_2: 0.3646\n",
      "Epoch 206/1000\n",
      "1/1 [==============================] - 0s 44ms/step - loss: 0.3982 - accuracy: 0.8507 - precision_2: 0.9988 - recall_2: 0.3424 - val_loss: 0.3801 - val_accuracy: 0.8528 - val_precision_2: 0.9983 - val_recall_2: 0.3646\n",
      "Epoch 207/1000\n",
      "1/1 [==============================] - 0s 35ms/step - loss: 0.3981 - accuracy: 0.8505 - precision_2: 0.9987 - recall_2: 0.3427 - val_loss: 0.3800 - val_accuracy: 0.8528 - val_precision_2: 0.9984 - val_recall_2: 0.3646\n",
      "Epoch 208/1000\n",
      "1/1 [==============================] - 0s 36ms/step - loss: 0.3981 - accuracy: 0.8506 - precision_2: 0.9987 - recall_2: 0.3431 - val_loss: 0.3799 - val_accuracy: 0.8528 - val_precision_2: 0.9986 - val_recall_2: 0.3646\n",
      "Epoch 209/1000\n",
      "1/1 [==============================] - 0s 34ms/step - loss: 0.3978 - accuracy: 0.8506 - precision_2: 0.9987 - recall_2: 0.3424 - val_loss: 0.3797 - val_accuracy: 0.8529 - val_precision_2: 0.9980 - val_recall_2: 0.3646\n",
      "Epoch 210/1000\n",
      "1/1 [==============================] - 0s 36ms/step - loss: 0.3977 - accuracy: 0.8505 - precision_2: 0.9987 - recall_2: 0.3430 - val_loss: 0.3796 - val_accuracy: 0.8529 - val_precision_2: 0.9980 - val_recall_2: 0.3646\n",
      "Epoch 211/1000\n",
      "1/1 [==============================] - 0s 31ms/step - loss: 0.3977 - accuracy: 0.8505 - precision_2: 0.9988 - recall_2: 0.3435 - val_loss: 0.3794 - val_accuracy: 0.8529 - val_precision_2: 0.9980 - val_recall_2: 0.3647\n",
      "Epoch 212/1000\n",
      "1/1 [==============================] - 0s 35ms/step - loss: 0.3977 - accuracy: 0.8505 - precision_2: 0.9987 - recall_2: 0.3437 - val_loss: 0.3793 - val_accuracy: 0.8529 - val_precision_2: 0.9980 - val_recall_2: 0.3647\n",
      "Epoch 213/1000\n",
      "1/1 [==============================] - 0s 82ms/step - loss: 0.3974 - accuracy: 0.8506 - precision_2: 0.9985 - recall_2: 0.3436 - val_loss: 0.3794 - val_accuracy: 0.8528 - val_precision_2: 0.9980 - val_recall_2: 0.3647\n",
      "Epoch 214/1000\n",
      "1/1 [==============================] - 0s 39ms/step - loss: 0.3973 - accuracy: 0.8507 - precision_2: 0.9987 - recall_2: 0.3438 - val_loss: 0.3792 - val_accuracy: 0.8528 - val_precision_2: 0.9978 - val_recall_2: 0.3647\n",
      "Epoch 215/1000\n",
      "1/1 [==============================] - 0s 38ms/step - loss: 0.3970 - accuracy: 0.8505 - precision_2: 0.9983 - recall_2: 0.3435 - val_loss: 0.3791 - val_accuracy: 0.8529 - val_precision_2: 0.9982 - val_recall_2: 0.3647\n",
      "Epoch 216/1000\n",
      "1/1 [==============================] - 0s 40ms/step - loss: 0.3967 - accuracy: 0.8507 - precision_2: 0.9983 - recall_2: 0.3437 - val_loss: 0.3790 - val_accuracy: 0.8529 - val_precision_2: 0.9980 - val_recall_2: 0.3647\n",
      "Epoch 217/1000\n",
      "1/1 [==============================] - 0s 36ms/step - loss: 0.3967 - accuracy: 0.8506 - precision_2: 0.9983 - recall_2: 0.3432 - val_loss: 0.3789 - val_accuracy: 0.8528 - val_precision_2: 0.9980 - val_recall_2: 0.3647\n",
      "Epoch 218/1000\n",
      "1/1 [==============================] - 0s 36ms/step - loss: 0.3968 - accuracy: 0.8507 - precision_2: 0.9982 - recall_2: 0.3442 - val_loss: 0.3788 - val_accuracy: 0.8529 - val_precision_2: 0.9980 - val_recall_2: 0.3647\n",
      "Epoch 219/1000\n",
      "1/1 [==============================] - 0s 40ms/step - loss: 0.3964 - accuracy: 0.8506 - precision_2: 0.9984 - recall_2: 0.3439 - val_loss: 0.3787 - val_accuracy: 0.8529 - val_precision_2: 0.9979 - val_recall_2: 0.3647\n",
      "Epoch 220/1000\n",
      "1/1 [==============================] - 0s 32ms/step - loss: 0.3962 - accuracy: 0.8506 - precision_2: 0.9986 - recall_2: 0.3440 - val_loss: 0.3787 - val_accuracy: 0.8528 - val_precision_2: 0.9979 - val_recall_2: 0.3647\n",
      "Epoch 221/1000\n",
      "1/1 [==============================] - 0s 32ms/step - loss: 0.3961 - accuracy: 0.8505 - precision_2: 0.9982 - recall_2: 0.3451 - val_loss: 0.3786 - val_accuracy: 0.8528 - val_precision_2: 0.9979 - val_recall_2: 0.3647\n",
      "Epoch 222/1000\n",
      "1/1 [==============================] - 0s 42ms/step - loss: 0.3966 - accuracy: 0.8507 - precision_2: 0.9984 - recall_2: 0.3440 - val_loss: 0.3785 - val_accuracy: 0.8528 - val_precision_2: 0.9978 - val_recall_2: 0.3647\n",
      "Epoch 223/1000\n",
      "1/1 [==============================] - 0s 40ms/step - loss: 0.3962 - accuracy: 0.8505 - precision_2: 0.9982 - recall_2: 0.3447 - val_loss: 0.3784 - val_accuracy: 0.8529 - val_precision_2: 0.9978 - val_recall_2: 0.3647\n",
      "Epoch 224/1000\n",
      "1/1 [==============================] - 0s 40ms/step - loss: 0.3958 - accuracy: 0.8506 - precision_2: 0.9983 - recall_2: 0.3447 - val_loss: 0.3783 - val_accuracy: 0.8528 - val_precision_2: 0.9978 - val_recall_2: 0.3647\n",
      "Epoch 225/1000\n",
      "1/1 [==============================] - 0s 40ms/step - loss: 0.3957 - accuracy: 0.8507 - precision_2: 0.9983 - recall_2: 0.3447 - val_loss: 0.3782 - val_accuracy: 0.8527 - val_precision_2: 0.9978 - val_recall_2: 0.3649\n",
      "Epoch 226/1000\n",
      "1/1 [==============================] - 0s 31ms/step - loss: 0.3957 - accuracy: 0.8505 - precision_2: 0.9985 - recall_2: 0.3443 - val_loss: 0.3782 - val_accuracy: 0.8529 - val_precision_2: 0.9978 - val_recall_2: 0.3647\n",
      "Epoch 227/1000\n",
      "1/1 [==============================] - 0s 41ms/step - loss: 0.3953 - accuracy: 0.8508 - precision_2: 0.9985 - recall_2: 0.3448 - val_loss: 0.3781 - val_accuracy: 0.8528 - val_precision_2: 0.9978 - val_recall_2: 0.3648\n",
      "Epoch 228/1000\n",
      "1/1 [==============================] - 0s 35ms/step - loss: 0.3956 - accuracy: 0.8506 - precision_2: 0.9984 - recall_2: 0.3457 - val_loss: 0.3781 - val_accuracy: 0.8528 - val_precision_2: 0.9978 - val_recall_2: 0.3650\n",
      "Epoch 229/1000\n",
      "1/1 [==============================] - 0s 33ms/step - loss: 0.3954 - accuracy: 0.8505 - precision_2: 0.9982 - recall_2: 0.3453 - val_loss: 0.3781 - val_accuracy: 0.8528 - val_precision_2: 0.9978 - val_recall_2: 0.3647\n",
      "Epoch 230/1000\n",
      "1/1 [==============================] - 0s 32ms/step - loss: 0.3952 - accuracy: 0.8507 - precision_2: 0.9983 - recall_2: 0.3459 - val_loss: 0.3779 - val_accuracy: 0.8528 - val_precision_2: 0.9978 - val_recall_2: 0.3650\n",
      "Epoch 231/1000\n",
      "1/1 [==============================] - 0s 38ms/step - loss: 0.3946 - accuracy: 0.8506 - precision_2: 0.9984 - recall_2: 0.3468 - val_loss: 0.3778 - val_accuracy: 0.8528 - val_precision_2: 0.9978 - val_recall_2: 0.3650\n",
      "Epoch 232/1000\n",
      "1/1 [==============================] - 0s 32ms/step - loss: 0.3953 - accuracy: 0.8506 - precision_2: 0.9981 - recall_2: 0.3456 - val_loss: 0.3778 - val_accuracy: 0.8528 - val_precision_2: 0.9978 - val_recall_2: 0.3649\n",
      "Epoch 233/1000\n",
      "1/1 [==============================] - 0s 42ms/step - loss: 0.3949 - accuracy: 0.8500 - precision_2: 0.9984 - recall_2: 0.3457 - val_loss: 0.3777 - val_accuracy: 0.8528 - val_precision_2: 0.9978 - val_recall_2: 0.3650\n",
      "Epoch 234/1000\n",
      "1/1 [==============================] - 0s 41ms/step - loss: 0.3947 - accuracy: 0.8500 - precision_2: 0.9979 - recall_2: 0.3462 - val_loss: 0.3777 - val_accuracy: 0.8528 - val_precision_2: 0.9978 - val_recall_2: 0.3650\n",
      "Epoch 235/1000\n",
      "1/1 [==============================] - 0s 35ms/step - loss: 0.3951 - accuracy: 0.8499 - precision_2: 0.9978 - recall_2: 0.3459 - val_loss: 0.3777 - val_accuracy: 0.8528 - val_precision_2: 0.9978 - val_recall_2: 0.3650\n",
      "Epoch 236/1000\n",
      "1/1 [==============================] - 0s 66ms/step - loss: 0.3946 - accuracy: 0.8501 - precision_2: 0.9981 - recall_2: 0.3460 - val_loss: 0.3775 - val_accuracy: 0.8528 - val_precision_2: 0.9978 - val_recall_2: 0.3650\n",
      "Epoch 237/1000\n",
      "1/1 [==============================] - 0s 41ms/step - loss: 0.3945 - accuracy: 0.8497 - precision_2: 0.9983 - recall_2: 0.3463 - val_loss: 0.3774 - val_accuracy: 0.8529 - val_precision_2: 0.9977 - val_recall_2: 0.3651\n",
      "Epoch 238/1000\n",
      "1/1 [==============================] - 0s 42ms/step - loss: 0.3943 - accuracy: 0.8500 - precision_2: 0.9980 - recall_2: 0.3464 - val_loss: 0.3774 - val_accuracy: 0.8529 - val_precision_2: 0.9977 - val_recall_2: 0.3650\n",
      "Epoch 239/1000\n",
      "1/1 [==============================] - 0s 47ms/step - loss: 0.3948 - accuracy: 0.8498 - precision_2: 0.9983 - recall_2: 0.3464 - val_loss: 0.3774 - val_accuracy: 0.8529 - val_precision_2: 0.9977 - val_recall_2: 0.3651\n",
      "Epoch 240/1000\n"
     ]
    },
    {
     "name": "stdout",
     "output_type": "stream",
     "text": [
      "1/1 [==============================] - 0s 39ms/step - loss: 0.3942 - accuracy: 0.8500 - precision_2: 0.9983 - recall_2: 0.3468 - val_loss: 0.3773 - val_accuracy: 0.8528 - val_precision_2: 0.9977 - val_recall_2: 0.3651\n",
      "Epoch 241/1000\n",
      "1/1 [==============================] - 0s 31ms/step - loss: 0.3944 - accuracy: 0.8500 - precision_2: 0.9979 - recall_2: 0.3477 - val_loss: 0.3772 - val_accuracy: 0.8529 - val_precision_2: 0.9977 - val_recall_2: 0.3651\n",
      "Epoch 242/1000\n",
      "1/1 [==============================] - 0s 35ms/step - loss: 0.3939 - accuracy: 0.8501 - precision_2: 0.9978 - recall_2: 0.3472 - val_loss: 0.3770 - val_accuracy: 0.8528 - val_precision_2: 0.9977 - val_recall_2: 0.3652\n",
      "Epoch 243/1000\n",
      "1/1 [==============================] - 0s 45ms/step - loss: 0.3942 - accuracy: 0.8499 - precision_2: 0.9979 - recall_2: 0.3472 - val_loss: 0.3769 - val_accuracy: 0.8529 - val_precision_2: 0.9977 - val_recall_2: 0.3652\n",
      "Epoch 244/1000\n",
      "1/1 [==============================] - 0s 41ms/step - loss: 0.3940 - accuracy: 0.8500 - precision_2: 0.9978 - recall_2: 0.3470 - val_loss: 0.3770 - val_accuracy: 0.8529 - val_precision_2: 0.9977 - val_recall_2: 0.3651\n",
      "Epoch 245/1000\n",
      "1/1 [==============================] - 0s 35ms/step - loss: 0.3939 - accuracy: 0.8500 - precision_2: 0.9980 - recall_2: 0.3482 - val_loss: 0.3769 - val_accuracy: 0.8528 - val_precision_2: 0.9977 - val_recall_2: 0.3652\n",
      "Epoch 246/1000\n",
      "1/1 [==============================] - 0s 35ms/step - loss: 0.3941 - accuracy: 0.8500 - precision_2: 0.9979 - recall_2: 0.3473 - val_loss: 0.3769 - val_accuracy: 0.8528 - val_precision_2: 0.9977 - val_recall_2: 0.3652\n",
      "Epoch 247/1000\n",
      "1/1 [==============================] - 0s 49ms/step - loss: 0.3937 - accuracy: 0.8500 - precision_2: 0.9981 - recall_2: 0.3483 - val_loss: 0.3768 - val_accuracy: 0.8529 - val_precision_2: 0.9977 - val_recall_2: 0.3651\n",
      "Epoch 248/1000\n",
      "1/1 [==============================] - 0s 37ms/step - loss: 0.3936 - accuracy: 0.8501 - precision_2: 0.9981 - recall_2: 0.3477 - val_loss: 0.3766 - val_accuracy: 0.8529 - val_precision_2: 0.9977 - val_recall_2: 0.3652\n",
      "Epoch 249/1000\n",
      "1/1 [==============================] - 0s 33ms/step - loss: 0.3935 - accuracy: 0.8499 - precision_2: 0.9977 - recall_2: 0.3479 - val_loss: 0.3765 - val_accuracy: 0.8528 - val_precision_2: 0.9975 - val_recall_2: 0.3652\n",
      "Epoch 250/1000\n",
      "1/1 [==============================] - 0s 35ms/step - loss: 0.3931 - accuracy: 0.8501 - precision_2: 0.9983 - recall_2: 0.3484 - val_loss: 0.3765 - val_accuracy: 0.8528 - val_precision_2: 0.9975 - val_recall_2: 0.3652\n",
      "Epoch 251/1000\n",
      "1/1 [==============================] - 0s 37ms/step - loss: 0.3933 - accuracy: 0.8502 - precision_2: 0.9980 - recall_2: 0.3486 - val_loss: 0.3765 - val_accuracy: 0.8528 - val_precision_2: 0.9975 - val_recall_2: 0.3652\n",
      "Epoch 252/1000\n",
      "1/1 [==============================] - 0s 32ms/step - loss: 0.3930 - accuracy: 0.8499 - precision_2: 0.9974 - recall_2: 0.3480 - val_loss: 0.3765 - val_accuracy: 0.8528 - val_precision_2: 0.9975 - val_recall_2: 0.3651\n",
      "Epoch 253/1000\n",
      "1/1 [==============================] - 0s 39ms/step - loss: 0.3924 - accuracy: 0.8500 - precision_2: 0.9979 - recall_2: 0.3482 - val_loss: 0.3764 - val_accuracy: 0.8528 - val_precision_2: 0.9975 - val_recall_2: 0.3651\n",
      "Epoch 254/1000\n",
      "1/1 [==============================] - 0s 39ms/step - loss: 0.3929 - accuracy: 0.8501 - precision_2: 0.9978 - recall_2: 0.3480 - val_loss: 0.3762 - val_accuracy: 0.8528 - val_precision_2: 0.9975 - val_recall_2: 0.3651\n",
      "Epoch 255/1000\n",
      "1/1 [==============================] - 0s 45ms/step - loss: 0.3925 - accuracy: 0.8500 - precision_2: 0.9976 - recall_2: 0.3472 - val_loss: 0.3762 - val_accuracy: 0.8529 - val_precision_2: 0.9977 - val_recall_2: 0.3651\n",
      "Epoch 256/1000\n",
      "1/1 [==============================] - 0s 36ms/step - loss: 0.3921 - accuracy: 0.8501 - precision_2: 0.9982 - recall_2: 0.3481 - val_loss: 0.3761 - val_accuracy: 0.8528 - val_precision_2: 0.9975 - val_recall_2: 0.3652\n",
      "Epoch 257/1000\n",
      "1/1 [==============================] - 0s 29ms/step - loss: 0.3925 - accuracy: 0.8501 - precision_2: 0.9980 - recall_2: 0.3484 - val_loss: 0.3761 - val_accuracy: 0.8528 - val_precision_2: 0.9975 - val_recall_2: 0.3652\n",
      "Epoch 258/1000\n",
      "1/1 [==============================] - 0s 33ms/step - loss: 0.3923 - accuracy: 0.8500 - precision_2: 0.9979 - recall_2: 0.3479 - val_loss: 0.3761 - val_accuracy: 0.8528 - val_precision_2: 0.9975 - val_recall_2: 0.3652\n",
      "Epoch 259/1000\n",
      "1/1 [==============================] - 0s 31ms/step - loss: 0.3922 - accuracy: 0.8502 - precision_2: 0.9979 - recall_2: 0.3488 - val_loss: 0.3759 - val_accuracy: 0.8528 - val_precision_2: 0.9975 - val_recall_2: 0.3652\n",
      "Epoch 260/1000\n",
      "1/1 [==============================] - 0s 31ms/step - loss: 0.3921 - accuracy: 0.8501 - precision_2: 0.9978 - recall_2: 0.3483 - val_loss: 0.3758 - val_accuracy: 0.8529 - val_precision_2: 0.9975 - val_recall_2: 0.3652\n",
      "Epoch 261/1000\n",
      "1/1 [==============================] - 0s 42ms/step - loss: 0.3920 - accuracy: 0.8501 - precision_2: 0.9978 - recall_2: 0.3481 - val_loss: 0.3758 - val_accuracy: 0.8528 - val_precision_2: 0.9975 - val_recall_2: 0.3652\n",
      "Epoch 262/1000\n",
      "1/1 [==============================] - 0s 34ms/step - loss: 0.3922 - accuracy: 0.8501 - precision_2: 0.9977 - recall_2: 0.3482 - val_loss: 0.3757 - val_accuracy: 0.8528 - val_precision_2: 0.9975 - val_recall_2: 0.3652\n",
      "Epoch 263/1000\n",
      "1/1 [==============================] - 0s 37ms/step - loss: 0.3920 - accuracy: 0.8501 - precision_2: 0.9980 - recall_2: 0.3487 - val_loss: 0.3757 - val_accuracy: 0.8528 - val_precision_2: 0.9975 - val_recall_2: 0.3652\n",
      "Epoch 264/1000\n",
      "1/1 [==============================] - 0s 33ms/step - loss: 0.3922 - accuracy: 0.8501 - precision_2: 0.9978 - recall_2: 0.3481 - val_loss: 0.3756 - val_accuracy: 0.8528 - val_precision_2: 0.9975 - val_recall_2: 0.3652\n",
      "Epoch 265/1000\n",
      "1/1 [==============================] - 0s 30ms/step - loss: 0.3918 - accuracy: 0.8502 - precision_2: 0.9975 - recall_2: 0.3480 - val_loss: 0.3755 - val_accuracy: 0.8528 - val_precision_2: 0.9975 - val_recall_2: 0.3652\n",
      "Epoch 266/1000\n",
      "1/1 [==============================] - 0s 31ms/step - loss: 0.3918 - accuracy: 0.8501 - precision_2: 0.9979 - recall_2: 0.3483 - val_loss: 0.3755 - val_accuracy: 0.8528 - val_precision_2: 0.9975 - val_recall_2: 0.3652\n",
      "Epoch 267/1000\n",
      "1/1 [==============================] - 0s 37ms/step - loss: 0.3915 - accuracy: 0.8503 - precision_2: 0.9979 - recall_2: 0.3488 - val_loss: 0.3755 - val_accuracy: 0.8528 - val_precision_2: 0.9974 - val_recall_2: 0.3652\n",
      "Epoch 268/1000\n",
      "1/1 [==============================] - 0s 31ms/step - loss: 0.3918 - accuracy: 0.8501 - precision_2: 0.9978 - recall_2: 0.3485 - val_loss: 0.3754 - val_accuracy: 0.8528 - val_precision_2: 0.9975 - val_recall_2: 0.3652\n",
      "Epoch 269/1000\n",
      "1/1 [==============================] - 0s 36ms/step - loss: 0.3919 - accuracy: 0.8500 - precision_2: 0.9975 - recall_2: 0.3482 - val_loss: 0.3754 - val_accuracy: 0.8528 - val_precision_2: 0.9975 - val_recall_2: 0.3652\n",
      "Epoch 270/1000\n",
      "1/1 [==============================] - 0s 34ms/step - loss: 0.3916 - accuracy: 0.8502 - precision_2: 0.9978 - recall_2: 0.3488 - val_loss: 0.3753 - val_accuracy: 0.8528 - val_precision_2: 0.9974 - val_recall_2: 0.3652\n",
      "Epoch 271/1000\n",
      "1/1 [==============================] - 0s 48ms/step - loss: 0.3915 - accuracy: 0.8500 - precision_2: 0.9976 - recall_2: 0.3481 - val_loss: 0.3753 - val_accuracy: 0.8528 - val_precision_2: 0.9975 - val_recall_2: 0.3652\n",
      "Epoch 272/1000\n",
      "1/1 [==============================] - 0s 28ms/step - loss: 0.3912 - accuracy: 0.8502 - precision_2: 0.9979 - recall_2: 0.3484 - val_loss: 0.3751 - val_accuracy: 0.8528 - val_precision_2: 0.9974 - val_recall_2: 0.3652\n",
      "Epoch 273/1000\n",
      "1/1 [==============================] - 0s 29ms/step - loss: 0.3911 - accuracy: 0.8499 - precision_2: 0.9976 - recall_2: 0.3489 - val_loss: 0.3750 - val_accuracy: 0.8528 - val_precision_2: 0.9975 - val_recall_2: 0.3652\n",
      "Epoch 274/1000\n",
      "1/1 [==============================] - 0s 31ms/step - loss: 0.3906 - accuracy: 0.8503 - precision_2: 0.9979 - recall_2: 0.3496 - val_loss: 0.3751 - val_accuracy: 0.8528 - val_precision_2: 0.9975 - val_recall_2: 0.3652\n",
      "Epoch 275/1000\n"
     ]
    },
    {
     "name": "stdout",
     "output_type": "stream",
     "text": [
      "1/1 [==============================] - 0s 36ms/step - loss: 0.3908 - accuracy: 0.8502 - precision_2: 0.9980 - recall_2: 0.3492 - val_loss: 0.3750 - val_accuracy: 0.8528 - val_precision_2: 0.9973 - val_recall_2: 0.3652\n",
      "Epoch 276/1000\n",
      "1/1 [==============================] - 0s 38ms/step - loss: 0.3907 - accuracy: 0.8500 - precision_2: 0.9977 - recall_2: 0.3482 - val_loss: 0.3750 - val_accuracy: 0.8528 - val_precision_2: 0.9973 - val_recall_2: 0.3652\n",
      "Epoch 277/1000\n",
      "1/1 [==============================] - 0s 43ms/step - loss: 0.3912 - accuracy: 0.8500 - precision_2: 0.9976 - recall_2: 0.3482 - val_loss: 0.3748 - val_accuracy: 0.8528 - val_precision_2: 0.9971 - val_recall_2: 0.3652\n",
      "Epoch 278/1000\n",
      "1/1 [==============================] - 0s 34ms/step - loss: 0.3906 - accuracy: 0.8502 - precision_2: 0.9976 - recall_2: 0.3489 - val_loss: 0.3748 - val_accuracy: 0.8529 - val_precision_2: 0.9973 - val_recall_2: 0.3652\n",
      "Epoch 279/1000\n",
      "1/1 [==============================] - 0s 39ms/step - loss: 0.3906 - accuracy: 0.8504 - precision_2: 0.9978 - recall_2: 0.3485 - val_loss: 0.3748 - val_accuracy: 0.8528 - val_precision_2: 0.9973 - val_recall_2: 0.3652\n",
      "Epoch 280/1000\n",
      "1/1 [==============================] - 0s 44ms/step - loss: 0.3904 - accuracy: 0.8503 - precision_2: 0.9979 - recall_2: 0.3489 - val_loss: 0.3748 - val_accuracy: 0.8528 - val_precision_2: 0.9971 - val_recall_2: 0.3652\n",
      "Epoch 281/1000\n",
      "1/1 [==============================] - 0s 43ms/step - loss: 0.3904 - accuracy: 0.8503 - precision_2: 0.9974 - recall_2: 0.3488 - val_loss: 0.3747 - val_accuracy: 0.8528 - val_precision_2: 0.9971 - val_recall_2: 0.3652\n",
      "Epoch 282/1000\n",
      "1/1 [==============================] - 0s 46ms/step - loss: 0.3902 - accuracy: 0.8503 - precision_2: 0.9979 - recall_2: 0.3487 - val_loss: 0.3746 - val_accuracy: 0.8528 - val_precision_2: 0.9971 - val_recall_2: 0.3652\n",
      "Epoch 283/1000\n",
      "1/1 [==============================] - 0s 30ms/step - loss: 0.3901 - accuracy: 0.8502 - precision_2: 0.9976 - recall_2: 0.3488 - val_loss: 0.3745 - val_accuracy: 0.8528 - val_precision_2: 0.9971 - val_recall_2: 0.3652\n",
      "Epoch 284/1000\n",
      "1/1 [==============================] - 0s 28ms/step - loss: 0.3904 - accuracy: 0.8502 - precision_2: 0.9974 - recall_2: 0.3486 - val_loss: 0.3746 - val_accuracy: 0.8528 - val_precision_2: 0.9974 - val_recall_2: 0.3652\n",
      "Epoch 285/1000\n",
      "1/1 [==============================] - 0s 31ms/step - loss: 0.3900 - accuracy: 0.8502 - precision_2: 0.9979 - recall_2: 0.3490 - val_loss: 0.3745 - val_accuracy: 0.8528 - val_precision_2: 0.9973 - val_recall_2: 0.3652\n",
      "Epoch 286/1000\n",
      "1/1 [==============================] - 0s 39ms/step - loss: 0.3898 - accuracy: 0.8502 - precision_2: 0.9978 - recall_2: 0.3490 - val_loss: 0.3744 - val_accuracy: 0.8528 - val_precision_2: 0.9973 - val_recall_2: 0.3652\n",
      "Epoch 287/1000\n",
      "1/1 [==============================] - 0s 43ms/step - loss: 0.3900 - accuracy: 0.8504 - precision_2: 0.9974 - recall_2: 0.3491 - val_loss: 0.3744 - val_accuracy: 0.8528 - val_precision_2: 0.9971 - val_recall_2: 0.3652\n",
      "Epoch 288/1000\n",
      "1/1 [==============================] - 0s 39ms/step - loss: 0.3900 - accuracy: 0.8501 - precision_2: 0.9976 - recall_2: 0.3491 - val_loss: 0.3744 - val_accuracy: 0.8528 - val_precision_2: 0.9971 - val_recall_2: 0.3653\n",
      "Epoch 289/1000\n",
      "1/1 [==============================] - 0s 36ms/step - loss: 0.3897 - accuracy: 0.8501 - precision_2: 0.9973 - recall_2: 0.3490 - val_loss: 0.3742 - val_accuracy: 0.8528 - val_precision_2: 0.9971 - val_recall_2: 0.3652\n",
      "Epoch 290/1000\n",
      "1/1 [==============================] - 0s 35ms/step - loss: 0.3897 - accuracy: 0.8502 - precision_2: 0.9977 - recall_2: 0.3486 - val_loss: 0.3741 - val_accuracy: 0.8528 - val_precision_2: 0.9971 - val_recall_2: 0.3652\n",
      "Epoch 291/1000\n",
      "1/1 [==============================] - 0s 37ms/step - loss: 0.3893 - accuracy: 0.8502 - precision_2: 0.9977 - recall_2: 0.3489 - val_loss: 0.3740 - val_accuracy: 0.8528 - val_precision_2: 0.9971 - val_recall_2: 0.3653\n",
      "Epoch 292/1000\n",
      "1/1 [==============================] - 0s 36ms/step - loss: 0.3897 - accuracy: 0.8504 - precision_2: 0.9975 - recall_2: 0.3494 - val_loss: 0.3741 - val_accuracy: 0.8528 - val_precision_2: 0.9971 - val_recall_2: 0.3653\n",
      "Epoch 293/1000\n",
      "1/1 [==============================] - 0s 41ms/step - loss: 0.3894 - accuracy: 0.8502 - precision_2: 0.9975 - recall_2: 0.3494 - val_loss: 0.3741 - val_accuracy: 0.8528 - val_precision_2: 0.9971 - val_recall_2: 0.3653\n",
      "Epoch 294/1000\n",
      "1/1 [==============================] - 0s 38ms/step - loss: 0.3890 - accuracy: 0.8504 - precision_2: 0.9976 - recall_2: 0.3489 - val_loss: 0.3740 - val_accuracy: 0.8528 - val_precision_2: 0.9971 - val_recall_2: 0.3653\n",
      "Epoch 295/1000\n",
      "1/1 [==============================] - 0s 30ms/step - loss: 0.3892 - accuracy: 0.8502 - precision_2: 0.9974 - recall_2: 0.3489 - val_loss: 0.3739 - val_accuracy: 0.8528 - val_precision_2: 0.9971 - val_recall_2: 0.3653\n",
      "Epoch 296/1000\n",
      "1/1 [==============================] - 0s 32ms/step - loss: 0.3893 - accuracy: 0.8503 - precision_2: 0.9976 - recall_2: 0.3492 - val_loss: 0.3739 - val_accuracy: 0.8528 - val_precision_2: 0.9971 - val_recall_2: 0.3653\n",
      "Epoch 297/1000\n",
      "1/1 [==============================] - 0s 32ms/step - loss: 0.3890 - accuracy: 0.8502 - precision_2: 0.9975 - recall_2: 0.3491 - val_loss: 0.3738 - val_accuracy: 0.8528 - val_precision_2: 0.9971 - val_recall_2: 0.3654\n",
      "Epoch 298/1000\n",
      "1/1 [==============================] - 0s 33ms/step - loss: 0.3894 - accuracy: 0.8505 - precision_2: 0.9974 - recall_2: 0.3496 - val_loss: 0.3738 - val_accuracy: 0.8528 - val_precision_2: 0.9971 - val_recall_2: 0.3652\n",
      "Epoch 299/1000\n",
      "1/1 [==============================] - 0s 48ms/step - loss: 0.3888 - accuracy: 0.8503 - precision_2: 0.9973 - recall_2: 0.3496 - val_loss: 0.3738 - val_accuracy: 0.8528 - val_precision_2: 0.9971 - val_recall_2: 0.3652\n",
      "Epoch 300/1000\n",
      "1/1 [==============================] - 0s 41ms/step - loss: 0.3888 - accuracy: 0.8504 - precision_2: 0.9972 - recall_2: 0.3495 - val_loss: 0.3737 - val_accuracy: 0.8528 - val_precision_2: 0.9971 - val_recall_2: 0.3653\n",
      "Epoch 301/1000\n",
      "1/1 [==============================] - 0s 34ms/step - loss: 0.3889 - accuracy: 0.8502 - precision_2: 0.9974 - recall_2: 0.3489 - val_loss: 0.3736 - val_accuracy: 0.8528 - val_precision_2: 0.9971 - val_recall_2: 0.3654\n",
      "Epoch 302/1000\n",
      "1/1 [==============================] - 0s 33ms/step - loss: 0.3885 - accuracy: 0.8502 - precision_2: 0.9974 - recall_2: 0.3496 - val_loss: 0.3735 - val_accuracy: 0.8528 - val_precision_2: 0.9971 - val_recall_2: 0.3654\n",
      "Epoch 303/1000\n",
      "1/1 [==============================] - 0s 49ms/step - loss: 0.3887 - accuracy: 0.8504 - precision_2: 0.9975 - recall_2: 0.3490 - val_loss: 0.3735 - val_accuracy: 0.8528 - val_precision_2: 0.9971 - val_recall_2: 0.3654\n",
      "Epoch 304/1000\n",
      "1/1 [==============================] - 0s 29ms/step - loss: 0.3883 - accuracy: 0.8504 - precision_2: 0.9976 - recall_2: 0.3493 - val_loss: 0.3735 - val_accuracy: 0.8528 - val_precision_2: 0.9971 - val_recall_2: 0.3654\n",
      "Epoch 305/1000\n",
      "1/1 [==============================] - 0s 44ms/step - loss: 0.3886 - accuracy: 0.8503 - precision_2: 0.9977 - recall_2: 0.3497 - val_loss: 0.3735 - val_accuracy: 0.8528 - val_precision_2: 0.9971 - val_recall_2: 0.3654\n",
      "Epoch 306/1000\n",
      "1/1 [==============================] - 0s 49ms/step - loss: 0.3886 - accuracy: 0.8503 - precision_2: 0.9976 - recall_2: 0.3498 - val_loss: 0.3734 - val_accuracy: 0.8529 - val_precision_2: 0.9971 - val_recall_2: 0.3654\n",
      "Epoch 307/1000\n",
      "1/1 [==============================] - 0s 35ms/step - loss: 0.3882 - accuracy: 0.8504 - precision_2: 0.9976 - recall_2: 0.3496 - val_loss: 0.3733 - val_accuracy: 0.8529 - val_precision_2: 0.9971 - val_recall_2: 0.3654\n",
      "Epoch 308/1000\n",
      "1/1 [==============================] - 0s 43ms/step - loss: 0.3881 - accuracy: 0.8504 - precision_2: 0.9973 - recall_2: 0.3494 - val_loss: 0.3733 - val_accuracy: 0.8529 - val_precision_2: 0.9971 - val_recall_2: 0.3653\n",
      "Epoch 309/1000\n",
      "1/1 [==============================] - 0s 33ms/step - loss: 0.3879 - accuracy: 0.8503 - precision_2: 0.9977 - recall_2: 0.3494 - val_loss: 0.3732 - val_accuracy: 0.8529 - val_precision_2: 0.9971 - val_recall_2: 0.3654\n",
      "Epoch 310/1000\n"
     ]
    },
    {
     "name": "stdout",
     "output_type": "stream",
     "text": [
      "1/1 [==============================] - 0s 36ms/step - loss: 0.3882 - accuracy: 0.8505 - precision_2: 0.9973 - recall_2: 0.3497 - val_loss: 0.3732 - val_accuracy: 0.8529 - val_precision_2: 0.9971 - val_recall_2: 0.3654\n",
      "Epoch 311/1000\n",
      "1/1 [==============================] - 0s 30ms/step - loss: 0.3879 - accuracy: 0.8503 - precision_2: 0.9975 - recall_2: 0.3493 - val_loss: 0.3731 - val_accuracy: 0.8529 - val_precision_2: 0.9971 - val_recall_2: 0.3654\n",
      "Epoch 312/1000\n",
      "1/1 [==============================] - 0s 39ms/step - loss: 0.3879 - accuracy: 0.8504 - precision_2: 0.9975 - recall_2: 0.3492 - val_loss: 0.3731 - val_accuracy: 0.8529 - val_precision_2: 0.9971 - val_recall_2: 0.3654\n",
      "Epoch 313/1000\n",
      "1/1 [==============================] - 0s 33ms/step - loss: 0.3880 - accuracy: 0.8502 - precision_2: 0.9972 - recall_2: 0.3494 - val_loss: 0.3730 - val_accuracy: 0.8529 - val_precision_2: 0.9971 - val_recall_2: 0.3655\n",
      "Epoch 314/1000\n",
      "1/1 [==============================] - 0s 30ms/step - loss: 0.3879 - accuracy: 0.8503 - precision_2: 0.9973 - recall_2: 0.3495 - val_loss: 0.3730 - val_accuracy: 0.8529 - val_precision_2: 0.9971 - val_recall_2: 0.3654\n",
      "Epoch 315/1000\n",
      "1/1 [==============================] - 0s 46ms/step - loss: 0.3877 - accuracy: 0.8504 - precision_2: 0.9975 - recall_2: 0.3496 - val_loss: 0.3730 - val_accuracy: 0.8529 - val_precision_2: 0.9971 - val_recall_2: 0.3655\n",
      "Epoch 316/1000\n",
      "1/1 [==============================] - 0s 40ms/step - loss: 0.3874 - accuracy: 0.8504 - precision_2: 0.9973 - recall_2: 0.3500 - val_loss: 0.3729 - val_accuracy: 0.8529 - val_precision_2: 0.9971 - val_recall_2: 0.3655\n",
      "Epoch 317/1000\n",
      "1/1 [==============================] - 0s 46ms/step - loss: 0.3873 - accuracy: 0.8502 - precision_2: 0.9973 - recall_2: 0.3502 - val_loss: 0.3728 - val_accuracy: 0.8529 - val_precision_2: 0.9971 - val_recall_2: 0.3655\n",
      "Epoch 318/1000\n",
      "1/1 [==============================] - 0s 46ms/step - loss: 0.3874 - accuracy: 0.8503 - precision_2: 0.9973 - recall_2: 0.3493 - val_loss: 0.3727 - val_accuracy: 0.8529 - val_precision_2: 0.9971 - val_recall_2: 0.3655\n",
      "Epoch 319/1000\n",
      "1/1 [==============================] - 0s 42ms/step - loss: 0.3873 - accuracy: 0.8505 - precision_2: 0.9972 - recall_2: 0.3501 - val_loss: 0.3728 - val_accuracy: 0.8529 - val_precision_2: 0.9971 - val_recall_2: 0.3654\n",
      "Epoch 320/1000\n",
      "1/1 [==============================] - 0s 32ms/step - loss: 0.3869 - accuracy: 0.8505 - precision_2: 0.9972 - recall_2: 0.3500 - val_loss: 0.3728 - val_accuracy: 0.8529 - val_precision_2: 0.9971 - val_recall_2: 0.3655\n",
      "Epoch 321/1000\n",
      "1/1 [==============================] - 0s 33ms/step - loss: 0.3869 - accuracy: 0.8503 - precision_2: 0.9976 - recall_2: 0.3492 - val_loss: 0.3727 - val_accuracy: 0.8529 - val_precision_2: 0.9971 - val_recall_2: 0.3655\n",
      "Epoch 322/1000\n",
      "1/1 [==============================] - 0s 34ms/step - loss: 0.3871 - accuracy: 0.8505 - precision_2: 0.9974 - recall_2: 0.3502 - val_loss: 0.3725 - val_accuracy: 0.8529 - val_precision_2: 0.9971 - val_recall_2: 0.3655\n",
      "Epoch 323/1000\n",
      "1/1 [==============================] - 0s 34ms/step - loss: 0.3873 - accuracy: 0.8504 - precision_2: 0.9972 - recall_2: 0.3499 - val_loss: 0.3725 - val_accuracy: 0.8529 - val_precision_2: 0.9971 - val_recall_2: 0.3655\n",
      "Epoch 324/1000\n",
      "1/1 [==============================] - 0s 34ms/step - loss: 0.3868 - accuracy: 0.8505 - precision_2: 0.9970 - recall_2: 0.3502 - val_loss: 0.3725 - val_accuracy: 0.8529 - val_precision_2: 0.9971 - val_recall_2: 0.3655\n",
      "Epoch 325/1000\n",
      "1/1 [==============================] - 0s 37ms/step - loss: 0.3867 - accuracy: 0.8507 - precision_2: 0.9972 - recall_2: 0.3513 - val_loss: 0.3725 - val_accuracy: 0.8529 - val_precision_2: 0.9971 - val_recall_2: 0.3655\n",
      "Epoch 326/1000\n",
      "1/1 [==============================] - 0s 45ms/step - loss: 0.3867 - accuracy: 0.8503 - precision_2: 0.9970 - recall_2: 0.3499 - val_loss: 0.3724 - val_accuracy: 0.8529 - val_precision_2: 0.9971 - val_recall_2: 0.3655\n",
      "Epoch 327/1000\n",
      "1/1 [==============================] - 0s 53ms/step - loss: 0.3865 - accuracy: 0.8505 - precision_2: 0.9976 - recall_2: 0.3504 - val_loss: 0.3723 - val_accuracy: 0.8529 - val_precision_2: 0.9971 - val_recall_2: 0.3655\n",
      "Epoch 328/1000\n",
      "1/1 [==============================] - 0s 50ms/step - loss: 0.3867 - accuracy: 0.8505 - precision_2: 0.9971 - recall_2: 0.3497 - val_loss: 0.3723 - val_accuracy: 0.8529 - val_precision_2: 0.9971 - val_recall_2: 0.3655\n",
      "Epoch 329/1000\n",
      "1/1 [==============================] - 0s 31ms/step - loss: 0.3865 - accuracy: 0.8503 - precision_2: 0.9970 - recall_2: 0.3509 - val_loss: 0.3722 - val_accuracy: 0.8529 - val_precision_2: 0.9971 - val_recall_2: 0.3655\n",
      "Epoch 330/1000\n",
      "1/1 [==============================] - 0s 32ms/step - loss: 0.3862 - accuracy: 0.8504 - precision_2: 0.9971 - recall_2: 0.3505 - val_loss: 0.3722 - val_accuracy: 0.8529 - val_precision_2: 0.9971 - val_recall_2: 0.3655\n",
      "Epoch 331/1000\n",
      "1/1 [==============================] - 0s 36ms/step - loss: 0.3861 - accuracy: 0.8504 - precision_2: 0.9973 - recall_2: 0.3499 - val_loss: 0.3722 - val_accuracy: 0.8529 - val_precision_2: 0.9971 - val_recall_2: 0.3655\n",
      "Epoch 332/1000\n",
      "1/1 [==============================] - 0s 37ms/step - loss: 0.3866 - accuracy: 0.8505 - precision_2: 0.9972 - recall_2: 0.3501 - val_loss: 0.3722 - val_accuracy: 0.8529 - val_precision_2: 0.9971 - val_recall_2: 0.3655\n",
      "Epoch 333/1000\n",
      "1/1 [==============================] - 0s 37ms/step - loss: 0.3861 - accuracy: 0.8504 - precision_2: 0.9971 - recall_2: 0.3503 - val_loss: 0.3721 - val_accuracy: 0.8529 - val_precision_2: 0.9971 - val_recall_2: 0.3655\n",
      "Epoch 334/1000\n",
      "1/1 [==============================] - 0s 43ms/step - loss: 0.3862 - accuracy: 0.8505 - precision_2: 0.9971 - recall_2: 0.3501 - val_loss: 0.3720 - val_accuracy: 0.8530 - val_precision_2: 0.9971 - val_recall_2: 0.3655\n",
      "Epoch 335/1000\n",
      "1/1 [==============================] - 0s 40ms/step - loss: 0.3863 - accuracy: 0.8506 - precision_2: 0.9973 - recall_2: 0.3504 - val_loss: 0.3720 - val_accuracy: 0.8529 - val_precision_2: 0.9971 - val_recall_2: 0.3655\n",
      "Epoch 336/1000\n",
      "1/1 [==============================] - 0s 33ms/step - loss: 0.3861 - accuracy: 0.8505 - precision_2: 0.9970 - recall_2: 0.3504 - val_loss: 0.3720 - val_accuracy: 0.8529 - val_precision_2: 0.9971 - val_recall_2: 0.3655\n",
      "Epoch 337/1000\n",
      "1/1 [==============================] - 0s 37ms/step - loss: 0.3857 - accuracy: 0.8504 - precision_2: 0.9971 - recall_2: 0.3507 - val_loss: 0.3719 - val_accuracy: 0.8530 - val_precision_2: 0.9971 - val_recall_2: 0.3655\n",
      "Epoch 338/1000\n",
      "1/1 [==============================] - 0s 32ms/step - loss: 0.3858 - accuracy: 0.8505 - precision_2: 0.9972 - recall_2: 0.3502 - val_loss: 0.3718 - val_accuracy: 0.8530 - val_precision_2: 0.9971 - val_recall_2: 0.3655\n",
      "Epoch 339/1000\n",
      "1/1 [==============================] - 0s 37ms/step - loss: 0.3857 - accuracy: 0.8505 - precision_2: 0.9970 - recall_2: 0.3506 - val_loss: 0.3718 - val_accuracy: 0.8529 - val_precision_2: 0.9971 - val_recall_2: 0.3656\n",
      "Epoch 340/1000\n",
      "1/1 [==============================] - 0s 34ms/step - loss: 0.3855 - accuracy: 0.8504 - precision_2: 0.9968 - recall_2: 0.3509 - val_loss: 0.3718 - val_accuracy: 0.8530 - val_precision_2: 0.9971 - val_recall_2: 0.3655\n",
      "Epoch 341/1000\n",
      "1/1 [==============================] - 0s 39ms/step - loss: 0.3858 - accuracy: 0.8505 - precision_2: 0.9975 - recall_2: 0.3507 - val_loss: 0.3717 - val_accuracy: 0.8530 - val_precision_2: 0.9971 - val_recall_2: 0.3656\n",
      "Epoch 342/1000\n",
      "1/1 [==============================] - 0s 38ms/step - loss: 0.3856 - accuracy: 0.8507 - precision_2: 0.9969 - recall_2: 0.3507 - val_loss: 0.3717 - val_accuracy: 0.8530 - val_precision_2: 0.9971 - val_recall_2: 0.3656\n",
      "Epoch 343/1000\n",
      "1/1 [==============================] - 0s 35ms/step - loss: 0.3855 - accuracy: 0.8504 - precision_2: 0.9970 - recall_2: 0.3508 - val_loss: 0.3717 - val_accuracy: 0.8530 - val_precision_2: 0.9971 - val_recall_2: 0.3657\n",
      "Epoch 344/1000\n",
      "1/1 [==============================] - 0s 31ms/step - loss: 0.3854 - accuracy: 0.8505 - precision_2: 0.9969 - recall_2: 0.3512 - val_loss: 0.3716 - val_accuracy: 0.8530 - val_precision_2: 0.9971 - val_recall_2: 0.3656\n",
      "Epoch 345/1000\n"
     ]
    },
    {
     "name": "stdout",
     "output_type": "stream",
     "text": [
      "1/1 [==============================] - 0s 31ms/step - loss: 0.3853 - accuracy: 0.8504 - precision_2: 0.9972 - recall_2: 0.3506 - val_loss: 0.3715 - val_accuracy: 0.8529 - val_precision_2: 0.9971 - val_recall_2: 0.3657\n",
      "Epoch 346/1000\n",
      "1/1 [==============================] - 0s 44ms/step - loss: 0.3854 - accuracy: 0.8506 - precision_2: 0.9969 - recall_2: 0.3515 - val_loss: 0.3715 - val_accuracy: 0.8530 - val_precision_2: 0.9971 - val_recall_2: 0.3656\n",
      "Epoch 347/1000\n",
      "1/1 [==============================] - 0s 46ms/step - loss: 0.3854 - accuracy: 0.8504 - precision_2: 0.9967 - recall_2: 0.3513 - val_loss: 0.3715 - val_accuracy: 0.8530 - val_precision_2: 0.9971 - val_recall_2: 0.3656\n",
      "Epoch 348/1000\n",
      "1/1 [==============================] - 0s 31ms/step - loss: 0.3852 - accuracy: 0.8505 - precision_2: 0.9968 - recall_2: 0.3513 - val_loss: 0.3715 - val_accuracy: 0.8529 - val_precision_2: 0.9971 - val_recall_2: 0.3657\n",
      "Epoch 349/1000\n",
      "1/1 [==============================] - 0s 43ms/step - loss: 0.3853 - accuracy: 0.8507 - precision_2: 0.9969 - recall_2: 0.3518 - val_loss: 0.3715 - val_accuracy: 0.8530 - val_precision_2: 0.9971 - val_recall_2: 0.3656\n",
      "Epoch 350/1000\n",
      "1/1 [==============================] - 0s 36ms/step - loss: 0.3850 - accuracy: 0.8505 - precision_2: 0.9969 - recall_2: 0.3514 - val_loss: 0.3714 - val_accuracy: 0.8529 - val_precision_2: 0.9969 - val_recall_2: 0.3657\n",
      "Epoch 351/1000\n",
      "1/1 [==============================] - 0s 30ms/step - loss: 0.3849 - accuracy: 0.8505 - precision_2: 0.9969 - recall_2: 0.3521 - val_loss: 0.3713 - val_accuracy: 0.8530 - val_precision_2: 0.9971 - val_recall_2: 0.3657\n",
      "Epoch 352/1000\n",
      "1/1 [==============================] - 0s 32ms/step - loss: 0.3845 - accuracy: 0.8506 - precision_2: 0.9970 - recall_2: 0.3521 - val_loss: 0.3712 - val_accuracy: 0.8530 - val_precision_2: 0.9971 - val_recall_2: 0.3657\n",
      "Epoch 353/1000\n",
      "1/1 [==============================] - 0s 31ms/step - loss: 0.3846 - accuracy: 0.8508 - precision_2: 0.9971 - recall_2: 0.3527 - val_loss: 0.3712 - val_accuracy: 0.8530 - val_precision_2: 0.9971 - val_recall_2: 0.3657\n",
      "Epoch 354/1000\n",
      "1/1 [==============================] - 0s 46ms/step - loss: 0.3844 - accuracy: 0.8507 - precision_2: 0.9967 - recall_2: 0.3527 - val_loss: 0.3711 - val_accuracy: 0.8530 - val_precision_2: 0.9971 - val_recall_2: 0.3657\n",
      "Epoch 355/1000\n",
      "1/1 [==============================] - 0s 43ms/step - loss: 0.3844 - accuracy: 0.8504 - precision_2: 0.9970 - recall_2: 0.3526 - val_loss: 0.3711 - val_accuracy: 0.8529 - val_precision_2: 0.9970 - val_recall_2: 0.3657\n",
      "Epoch 356/1000\n",
      "1/1 [==============================] - 0s 67ms/step - loss: 0.3848 - accuracy: 0.8506 - precision_2: 0.9964 - recall_2: 0.3531 - val_loss: 0.3710 - val_accuracy: 0.8531 - val_precision_2: 0.9971 - val_recall_2: 0.3656\n",
      "Epoch 357/1000\n",
      "1/1 [==============================] - 0s 39ms/step - loss: 0.3841 - accuracy: 0.8508 - precision_2: 0.9972 - recall_2: 0.3536 - val_loss: 0.3710 - val_accuracy: 0.8531 - val_precision_2: 0.9971 - val_recall_2: 0.3657\n",
      "Epoch 358/1000\n",
      "1/1 [==============================] - 0s 46ms/step - loss: 0.3841 - accuracy: 0.8505 - precision_2: 0.9974 - recall_2: 0.3534 - val_loss: 0.3709 - val_accuracy: 0.8530 - val_precision_2: 0.9970 - val_recall_2: 0.3657\n",
      "Epoch 359/1000\n",
      "1/1 [==============================] - 0s 68ms/step - loss: 0.3844 - accuracy: 0.8506 - precision_2: 0.9967 - recall_2: 0.3531 - val_loss: 0.3709 - val_accuracy: 0.8530 - val_precision_2: 0.9971 - val_recall_2: 0.3657\n",
      "Epoch 360/1000\n",
      "1/1 [==============================] - 0s 29ms/step - loss: 0.3843 - accuracy: 0.8506 - precision_2: 0.9970 - recall_2: 0.3538 - val_loss: 0.3708 - val_accuracy: 0.8530 - val_precision_2: 0.9969 - val_recall_2: 0.3658\n",
      "Epoch 361/1000\n",
      "1/1 [==============================] - 0s 38ms/step - loss: 0.3840 - accuracy: 0.8506 - precision_2: 0.9965 - recall_2: 0.3537 - val_loss: 0.3707 - val_accuracy: 0.8530 - val_precision_2: 0.9969 - val_recall_2: 0.3657\n",
      "Epoch 362/1000\n",
      "1/1 [==============================] - 0s 35ms/step - loss: 0.3840 - accuracy: 0.8506 - precision_2: 0.9968 - recall_2: 0.3537 - val_loss: 0.3707 - val_accuracy: 0.8531 - val_precision_2: 0.9970 - val_recall_2: 0.3657\n",
      "Epoch 363/1000\n",
      "1/1 [==============================] - 0s 37ms/step - loss: 0.3841 - accuracy: 0.8506 - precision_2: 0.9966 - recall_2: 0.3540 - val_loss: 0.3709 - val_accuracy: 0.8530 - val_precision_2: 0.9969 - val_recall_2: 0.3657\n",
      "Epoch 364/1000\n",
      "1/1 [==============================] - 0s 40ms/step - loss: 0.3839 - accuracy: 0.8508 - precision_2: 0.9967 - recall_2: 0.3540 - val_loss: 0.3708 - val_accuracy: 0.8530 - val_precision_2: 0.9970 - val_recall_2: 0.3657\n",
      "Epoch 365/1000\n",
      "1/1 [==============================] - 0s 55ms/step - loss: 0.3836 - accuracy: 0.8507 - precision_2: 0.9967 - recall_2: 0.3536 - val_loss: 0.3706 - val_accuracy: 0.8530 - val_precision_2: 0.9966 - val_recall_2: 0.3658\n",
      "Epoch 366/1000\n",
      "1/1 [==============================] - 0s 32ms/step - loss: 0.3833 - accuracy: 0.8506 - precision_2: 0.9966 - recall_2: 0.3541 - val_loss: 0.3705 - val_accuracy: 0.8530 - val_precision_2: 0.9970 - val_recall_2: 0.3657\n",
      "Epoch 367/1000\n",
      "1/1 [==============================] - 0s 45ms/step - loss: 0.3832 - accuracy: 0.8506 - precision_2: 0.9969 - recall_2: 0.3542 - val_loss: 0.3705 - val_accuracy: 0.8530 - val_precision_2: 0.9966 - val_recall_2: 0.3658\n",
      "Epoch 368/1000\n",
      "1/1 [==============================] - 0s 31ms/step - loss: 0.3839 - accuracy: 0.8506 - precision_2: 0.9965 - recall_2: 0.3543 - val_loss: 0.3706 - val_accuracy: 0.8531 - val_precision_2: 0.9967 - val_recall_2: 0.3657\n",
      "Epoch 369/1000\n",
      "1/1 [==============================] - 0s 38ms/step - loss: 0.3833 - accuracy: 0.8506 - precision_2: 0.9968 - recall_2: 0.3545 - val_loss: 0.3705 - val_accuracy: 0.8530 - val_precision_2: 0.9967 - val_recall_2: 0.3658\n",
      "Epoch 370/1000\n",
      "1/1 [==============================] - 0s 33ms/step - loss: 0.3834 - accuracy: 0.8506 - precision_2: 0.9966 - recall_2: 0.3540 - val_loss: 0.3704 - val_accuracy: 0.8530 - val_precision_2: 0.9967 - val_recall_2: 0.3657\n",
      "Epoch 371/1000\n",
      "1/1 [==============================] - 0s 37ms/step - loss: 0.3832 - accuracy: 0.8508 - precision_2: 0.9966 - recall_2: 0.3542 - val_loss: 0.3702 - val_accuracy: 0.8530 - val_precision_2: 0.9967 - val_recall_2: 0.3658\n",
      "Epoch 372/1000\n",
      "1/1 [==============================] - 0s 35ms/step - loss: 0.3833 - accuracy: 0.8507 - precision_2: 0.9968 - recall_2: 0.3548 - val_loss: 0.3703 - val_accuracy: 0.8530 - val_precision_2: 0.9967 - val_recall_2: 0.3658\n",
      "Epoch 373/1000\n",
      "1/1 [==============================] - 0s 45ms/step - loss: 0.3834 - accuracy: 0.8506 - precision_2: 0.9964 - recall_2: 0.3543 - val_loss: 0.3703 - val_accuracy: 0.8530 - val_precision_2: 0.9967 - val_recall_2: 0.3658\n",
      "Epoch 374/1000\n",
      "1/1 [==============================] - 0s 31ms/step - loss: 0.3830 - accuracy: 0.8507 - precision_2: 0.9967 - recall_2: 0.3545 - val_loss: 0.3702 - val_accuracy: 0.8530 - val_precision_2: 0.9966 - val_recall_2: 0.3658\n",
      "Epoch 375/1000\n",
      "1/1 [==============================] - 0s 41ms/step - loss: 0.3833 - accuracy: 0.8509 - precision_2: 0.9967 - recall_2: 0.3545 - val_loss: 0.3702 - val_accuracy: 0.8530 - val_precision_2: 0.9967 - val_recall_2: 0.3658\n",
      "Epoch 376/1000\n",
      "1/1 [==============================] - 0s 43ms/step - loss: 0.3828 - accuracy: 0.8505 - precision_2: 0.9967 - recall_2: 0.3547 - val_loss: 0.3702 - val_accuracy: 0.8531 - val_precision_2: 0.9966 - val_recall_2: 0.3658\n",
      "Epoch 377/1000\n",
      "1/1 [==============================] - 0s 35ms/step - loss: 0.3829 - accuracy: 0.8508 - precision_2: 0.9965 - recall_2: 0.3543 - val_loss: 0.3701 - val_accuracy: 0.8531 - val_precision_2: 0.9967 - val_recall_2: 0.3658\n",
      "Epoch 378/1000\n",
      "1/1 [==============================] - 0s 31ms/step - loss: 0.3826 - accuracy: 0.8508 - precision_2: 0.9968 - recall_2: 0.3547 - val_loss: 0.3699 - val_accuracy: 0.8531 - val_precision_2: 0.9965 - val_recall_2: 0.3658\n",
      "Epoch 379/1000\n",
      "1/1 [==============================] - 0s 36ms/step - loss: 0.3827 - accuracy: 0.8507 - precision_2: 0.9965 - recall_2: 0.3549 - val_loss: 0.3699 - val_accuracy: 0.8531 - val_precision_2: 0.9965 - val_recall_2: 0.3658\n",
      "Epoch 380/1000\n"
     ]
    },
    {
     "name": "stdout",
     "output_type": "stream",
     "text": [
      "1/1 [==============================] - 0s 39ms/step - loss: 0.3829 - accuracy: 0.8509 - precision_2: 0.9966 - recall_2: 0.3547 - val_loss: 0.3699 - val_accuracy: 0.8530 - val_precision_2: 0.9967 - val_recall_2: 0.3658\n",
      "Epoch 381/1000\n",
      "1/1 [==============================] - 0s 32ms/step - loss: 0.3826 - accuracy: 0.8507 - precision_2: 0.9971 - recall_2: 0.3549 - val_loss: 0.3700 - val_accuracy: 0.8530 - val_precision_2: 0.9965 - val_recall_2: 0.3658\n",
      "Epoch 382/1000\n",
      "1/1 [==============================] - 0s 32ms/step - loss: 0.3827 - accuracy: 0.8507 - precision_2: 0.9964 - recall_2: 0.3542 - val_loss: 0.3698 - val_accuracy: 0.8531 - val_precision_2: 0.9967 - val_recall_2: 0.3658\n",
      "Epoch 383/1000\n",
      "1/1 [==============================] - 0s 37ms/step - loss: 0.3821 - accuracy: 0.8507 - precision_2: 0.9966 - recall_2: 0.3551 - val_loss: 0.3697 - val_accuracy: 0.8530 - val_precision_2: 0.9964 - val_recall_2: 0.3658\n",
      "Epoch 384/1000\n",
      "1/1 [==============================] - 0s 34ms/step - loss: 0.3823 - accuracy: 0.8508 - precision_2: 0.9960 - recall_2: 0.3548 - val_loss: 0.3697 - val_accuracy: 0.8530 - val_precision_2: 0.9964 - val_recall_2: 0.3658\n",
      "Epoch 385/1000\n",
      "1/1 [==============================] - 0s 34ms/step - loss: 0.3822 - accuracy: 0.8507 - precision_2: 0.9966 - recall_2: 0.3553 - val_loss: 0.3697 - val_accuracy: 0.8530 - val_precision_2: 0.9964 - val_recall_2: 0.3658\n",
      "Epoch 386/1000\n",
      "1/1 [==============================] - 0s 38ms/step - loss: 0.3819 - accuracy: 0.8506 - precision_2: 0.9965 - recall_2: 0.3548 - val_loss: 0.3697 - val_accuracy: 0.8531 - val_precision_2: 0.9964 - val_recall_2: 0.3658\n",
      "Epoch 387/1000\n",
      "1/1 [==============================] - 0s 36ms/step - loss: 0.3823 - accuracy: 0.8508 - precision_2: 0.9965 - recall_2: 0.3549 - val_loss: 0.3696 - val_accuracy: 0.8532 - val_precision_2: 0.9966 - val_recall_2: 0.3658\n",
      "Epoch 388/1000\n",
      "1/1 [==============================] - 0s 52ms/step - loss: 0.3818 - accuracy: 0.8506 - precision_2: 0.9964 - recall_2: 0.3549 - val_loss: 0.3696 - val_accuracy: 0.8530 - val_precision_2: 0.9962 - val_recall_2: 0.3659\n",
      "Epoch 389/1000\n",
      "1/1 [==============================] - 0s 42ms/step - loss: 0.3821 - accuracy: 0.8507 - precision_2: 0.9964 - recall_2: 0.3550 - val_loss: 0.3696 - val_accuracy: 0.8531 - val_precision_2: 0.9966 - val_recall_2: 0.3658\n",
      "Epoch 390/1000\n",
      "1/1 [==============================] - 0s 41ms/step - loss: 0.3822 - accuracy: 0.8507 - precision_2: 0.9964 - recall_2: 0.3553 - val_loss: 0.3697 - val_accuracy: 0.8531 - val_precision_2: 0.9962 - val_recall_2: 0.3659\n",
      "Epoch 391/1000\n",
      "1/1 [==============================] - 0s 42ms/step - loss: 0.3822 - accuracy: 0.8508 - precision_2: 0.9963 - recall_2: 0.3551 - val_loss: 0.3695 - val_accuracy: 0.8531 - val_precision_2: 0.9966 - val_recall_2: 0.3658\n",
      "Epoch 392/1000\n",
      "1/1 [==============================] - 0s 45ms/step - loss: 0.3815 - accuracy: 0.8507 - precision_2: 0.9969 - recall_2: 0.3550 - val_loss: 0.3693 - val_accuracy: 0.8530 - val_precision_2: 0.9964 - val_recall_2: 0.3659\n",
      "Epoch 393/1000\n",
      "1/1 [==============================] - 0s 41ms/step - loss: 0.3817 - accuracy: 0.8509 - precision_2: 0.9962 - recall_2: 0.3547 - val_loss: 0.3693 - val_accuracy: 0.8529 - val_precision_2: 0.9961 - val_recall_2: 0.3659\n",
      "Epoch 394/1000\n",
      "1/1 [==============================] - 0s 35ms/step - loss: 0.3814 - accuracy: 0.8509 - precision_2: 0.9967 - recall_2: 0.3550 - val_loss: 0.3692 - val_accuracy: 0.8531 - val_precision_2: 0.9964 - val_recall_2: 0.3659\n",
      "Epoch 395/1000\n",
      "1/1 [==============================] - 0s 35ms/step - loss: 0.3815 - accuracy: 0.8508 - precision_2: 0.9965 - recall_2: 0.3551 - val_loss: 0.3693 - val_accuracy: 0.8530 - val_precision_2: 0.9960 - val_recall_2: 0.3659\n",
      "Epoch 396/1000\n",
      "1/1 [==============================] - 0s 33ms/step - loss: 0.3815 - accuracy: 0.8508 - precision_2: 0.9960 - recall_2: 0.3551 - val_loss: 0.3693 - val_accuracy: 0.8532 - val_precision_2: 0.9964 - val_recall_2: 0.3658\n",
      "Epoch 397/1000\n",
      "1/1 [==============================] - 0s 32ms/step - loss: 0.3811 - accuracy: 0.8508 - precision_2: 0.9964 - recall_2: 0.3554 - val_loss: 0.3692 - val_accuracy: 0.8530 - val_precision_2: 0.9964 - val_recall_2: 0.3659\n",
      "Epoch 398/1000\n",
      "1/1 [==============================] - 0s 30ms/step - loss: 0.3814 - accuracy: 0.8509 - precision_2: 0.9964 - recall_2: 0.3557 - val_loss: 0.3691 - val_accuracy: 0.8531 - val_precision_2: 0.9964 - val_recall_2: 0.3659\n",
      "Epoch 399/1000\n",
      "1/1 [==============================] - 0s 31ms/step - loss: 0.3812 - accuracy: 0.8509 - precision_2: 0.9966 - recall_2: 0.3549 - val_loss: 0.3690 - val_accuracy: 0.8530 - val_precision_2: 0.9964 - val_recall_2: 0.3659\n",
      "Epoch 400/1000\n",
      "1/1 [==============================] - 0s 35ms/step - loss: 0.3813 - accuracy: 0.8508 - precision_2: 0.9962 - recall_2: 0.3553 - val_loss: 0.3690 - val_accuracy: 0.8530 - val_precision_2: 0.9962 - val_recall_2: 0.3659\n",
      "Epoch 401/1000\n",
      "1/1 [==============================] - 0s 37ms/step - loss: 0.3811 - accuracy: 0.8510 - precision_2: 0.9958 - recall_2: 0.3550 - val_loss: 0.3690 - val_accuracy: 0.8531 - val_precision_2: 0.9964 - val_recall_2: 0.3658\n",
      "Epoch 402/1000\n",
      "1/1 [==============================] - 0s 36ms/step - loss: 0.3811 - accuracy: 0.8509 - precision_2: 0.9967 - recall_2: 0.3551 - val_loss: 0.3690 - val_accuracy: 0.8530 - val_precision_2: 0.9961 - val_recall_2: 0.3659\n",
      "Epoch 403/1000\n",
      "1/1 [==============================] - 0s 34ms/step - loss: 0.3813 - accuracy: 0.8508 - precision_2: 0.9963 - recall_2: 0.3549 - val_loss: 0.3690 - val_accuracy: 0.8531 - val_precision_2: 0.9964 - val_recall_2: 0.3658\n",
      "Epoch 404/1000\n",
      "1/1 [==============================] - 0s 36ms/step - loss: 0.3812 - accuracy: 0.8508 - precision_2: 0.9963 - recall_2: 0.3548 - val_loss: 0.3688 - val_accuracy: 0.8530 - val_precision_2: 0.9960 - val_recall_2: 0.3659\n",
      "Epoch 405/1000\n",
      "1/1 [==============================] - 0s 35ms/step - loss: 0.3809 - accuracy: 0.8509 - precision_2: 0.9959 - recall_2: 0.3555 - val_loss: 0.3687 - val_accuracy: 0.8531 - val_precision_2: 0.9962 - val_recall_2: 0.3659\n",
      "Epoch 406/1000\n",
      "1/1 [==============================] - 0s 44ms/step - loss: 0.3810 - accuracy: 0.8508 - precision_2: 0.9964 - recall_2: 0.3556 - val_loss: 0.3687 - val_accuracy: 0.8531 - val_precision_2: 0.9962 - val_recall_2: 0.3659\n",
      "Epoch 407/1000\n",
      "1/1 [==============================] - 0s 45ms/step - loss: 0.3807 - accuracy: 0.8509 - precision_2: 0.9962 - recall_2: 0.3553 - val_loss: 0.3688 - val_accuracy: 0.8531 - val_precision_2: 0.9962 - val_recall_2: 0.3659\n",
      "Epoch 408/1000\n",
      "1/1 [==============================] - 0s 39ms/step - loss: 0.3809 - accuracy: 0.8511 - precision_2: 0.9963 - recall_2: 0.3555 - val_loss: 0.3687 - val_accuracy: 0.8531 - val_precision_2: 0.9962 - val_recall_2: 0.3659\n",
      "Epoch 409/1000\n",
      "1/1 [==============================] - 0s 61ms/step - loss: 0.3809 - accuracy: 0.8507 - precision_2: 0.9963 - recall_2: 0.3552 - val_loss: 0.3686 - val_accuracy: 0.8531 - val_precision_2: 0.9962 - val_recall_2: 0.3660\n",
      "Epoch 410/1000\n",
      "1/1 [==============================] - 0s 35ms/step - loss: 0.3803 - accuracy: 0.8509 - precision_2: 0.9962 - recall_2: 0.3556 - val_loss: 0.3685 - val_accuracy: 0.8531 - val_precision_2: 0.9962 - val_recall_2: 0.3659\n",
      "Epoch 411/1000\n",
      "1/1 [==============================] - 0s 31ms/step - loss: 0.3805 - accuracy: 0.8509 - precision_2: 0.9960 - recall_2: 0.3553 - val_loss: 0.3686 - val_accuracy: 0.8530 - val_precision_2: 0.9962 - val_recall_2: 0.3660\n",
      "Epoch 412/1000\n",
      "1/1 [==============================] - 0s 29ms/step - loss: 0.3806 - accuracy: 0.8510 - precision_2: 0.9960 - recall_2: 0.3554 - val_loss: 0.3686 - val_accuracy: 0.8531 - val_precision_2: 0.9962 - val_recall_2: 0.3659\n",
      "Epoch 413/1000\n",
      "1/1 [==============================] - 0s 33ms/step - loss: 0.3803 - accuracy: 0.8510 - precision_2: 0.9965 - recall_2: 0.3562 - val_loss: 0.3684 - val_accuracy: 0.8530 - val_precision_2: 0.9962 - val_recall_2: 0.3660\n",
      "Epoch 414/1000\n",
      "1/1 [==============================] - 0s 48ms/step - loss: 0.3802 - accuracy: 0.8509 - precision_2: 0.9961 - recall_2: 0.3556 - val_loss: 0.3683 - val_accuracy: 0.8531 - val_precision_2: 0.9962 - val_recall_2: 0.3660\n",
      "Epoch 415/1000\n"
     ]
    },
    {
     "name": "stdout",
     "output_type": "stream",
     "text": [
      "1/1 [==============================] - 0s 32ms/step - loss: 0.3804 - accuracy: 0.8509 - precision_2: 0.9962 - recall_2: 0.3553 - val_loss: 0.3683 - val_accuracy: 0.8531 - val_precision_2: 0.9962 - val_recall_2: 0.3660\n",
      "Epoch 416/1000\n",
      "1/1 [==============================] - 0s 38ms/step - loss: 0.3803 - accuracy: 0.8508 - precision_2: 0.9958 - recall_2: 0.3557 - val_loss: 0.3683 - val_accuracy: 0.8531 - val_precision_2: 0.9962 - val_recall_2: 0.3660\n",
      "Epoch 417/1000\n",
      "1/1 [==============================] - 0s 39ms/step - loss: 0.3803 - accuracy: 0.8509 - precision_2: 0.9964 - recall_2: 0.3554 - val_loss: 0.3683 - val_accuracy: 0.8531 - val_precision_2: 0.9964 - val_recall_2: 0.3658\n",
      "Epoch 418/1000\n",
      "1/1 [==============================] - 0s 44ms/step - loss: 0.3799 - accuracy: 0.8507 - precision_2: 0.9961 - recall_2: 0.3551 - val_loss: 0.3683 - val_accuracy: 0.8531 - val_precision_2: 0.9962 - val_recall_2: 0.3660\n",
      "Epoch 419/1000\n",
      "1/1 [==============================] - 0s 37ms/step - loss: 0.3804 - accuracy: 0.8509 - precision_2: 0.9960 - recall_2: 0.3555 - val_loss: 0.3682 - val_accuracy: 0.8531 - val_precision_2: 0.9964 - val_recall_2: 0.3659\n",
      "Epoch 420/1000\n",
      "1/1 [==============================] - 0s 53ms/step - loss: 0.3799 - accuracy: 0.8510 - precision_2: 0.9961 - recall_2: 0.3554 - val_loss: 0.3682 - val_accuracy: 0.8532 - val_precision_2: 0.9961 - val_recall_2: 0.3661\n",
      "Epoch 421/1000\n",
      "1/1 [==============================] - 0s 43ms/step - loss: 0.3799 - accuracy: 0.8511 - precision_2: 0.9959 - recall_2: 0.3559 - val_loss: 0.3680 - val_accuracy: 0.8531 - val_precision_2: 0.9964 - val_recall_2: 0.3660\n",
      "Epoch 422/1000\n",
      "1/1 [==============================] - 0s 34ms/step - loss: 0.3796 - accuracy: 0.8509 - precision_2: 0.9962 - recall_2: 0.3557 - val_loss: 0.3680 - val_accuracy: 0.8531 - val_precision_2: 0.9960 - val_recall_2: 0.3661\n",
      "Epoch 423/1000\n",
      "1/1 [==============================] - 0s 39ms/step - loss: 0.3797 - accuracy: 0.8509 - precision_2: 0.9959 - recall_2: 0.3558 - val_loss: 0.3679 - val_accuracy: 0.8531 - val_precision_2: 0.9964 - val_recall_2: 0.3660\n",
      "Epoch 424/1000\n",
      "1/1 [==============================] - 0s 37ms/step - loss: 0.3797 - accuracy: 0.8510 - precision_2: 0.9966 - recall_2: 0.3555 - val_loss: 0.3680 - val_accuracy: 0.8531 - val_precision_2: 0.9961 - val_recall_2: 0.3661\n",
      "Epoch 425/1000\n",
      "1/1 [==============================] - 0s 35ms/step - loss: 0.3796 - accuracy: 0.8510 - precision_2: 0.9961 - recall_2: 0.3559 - val_loss: 0.3681 - val_accuracy: 0.8531 - val_precision_2: 0.9962 - val_recall_2: 0.3660\n",
      "Epoch 426/1000\n",
      "1/1 [==============================] - 0s 37ms/step - loss: 0.3795 - accuracy: 0.8509 - precision_2: 0.9965 - recall_2: 0.3549 - val_loss: 0.3679 - val_accuracy: 0.8531 - val_precision_2: 0.9962 - val_recall_2: 0.3660\n",
      "Epoch 427/1000\n",
      "1/1 [==============================] - 0s 30ms/step - loss: 0.3791 - accuracy: 0.8511 - precision_2: 0.9959 - recall_2: 0.3560 - val_loss: 0.3677 - val_accuracy: 0.8531 - val_precision_2: 0.9962 - val_recall_2: 0.3661\n",
      "Epoch 428/1000\n",
      "1/1 [==============================] - 0s 33ms/step - loss: 0.3797 - accuracy: 0.8510 - precision_2: 0.9958 - recall_2: 0.3558 - val_loss: 0.3677 - val_accuracy: 0.8531 - val_precision_2: 0.9964 - val_recall_2: 0.3661\n",
      "Epoch 429/1000\n",
      "1/1 [==============================] - 0s 31ms/step - loss: 0.3794 - accuracy: 0.8510 - precision_2: 0.9962 - recall_2: 0.3558 - val_loss: 0.3678 - val_accuracy: 0.8532 - val_precision_2: 0.9958 - val_recall_2: 0.3661\n",
      "Epoch 430/1000\n",
      "1/1 [==============================] - 0s 32ms/step - loss: 0.3792 - accuracy: 0.8511 - precision_2: 0.9959 - recall_2: 0.3564 - val_loss: 0.3677 - val_accuracy: 0.8532 - val_precision_2: 0.9962 - val_recall_2: 0.3661\n",
      "Epoch 431/1000\n",
      "1/1 [==============================] - 0s 37ms/step - loss: 0.3790 - accuracy: 0.8510 - precision_2: 0.9955 - recall_2: 0.3560 - val_loss: 0.3676 - val_accuracy: 0.8532 - val_precision_2: 0.9958 - val_recall_2: 0.3661\n",
      "Epoch 432/1000\n",
      "1/1 [==============================] - 0s 42ms/step - loss: 0.3792 - accuracy: 0.8510 - precision_2: 0.9954 - recall_2: 0.3559 - val_loss: 0.3675 - val_accuracy: 0.8531 - val_precision_2: 0.9962 - val_recall_2: 0.3661\n",
      "Epoch 433/1000\n",
      "1/1 [==============================] - 0s 41ms/step - loss: 0.3793 - accuracy: 0.8508 - precision_2: 0.9961 - recall_2: 0.3558 - val_loss: 0.3675 - val_accuracy: 0.8531 - val_precision_2: 0.9961 - val_recall_2: 0.3661\n",
      "Epoch 434/1000\n",
      "1/1 [==============================] - 0s 50ms/step - loss: 0.3792 - accuracy: 0.8511 - precision_2: 0.9959 - recall_2: 0.3558 - val_loss: 0.3675 - val_accuracy: 0.8531 - val_precision_2: 0.9960 - val_recall_2: 0.3661\n",
      "Epoch 435/1000\n",
      "1/1 [==============================] - 0s 37ms/step - loss: 0.3788 - accuracy: 0.8512 - precision_2: 0.9958 - recall_2: 0.3561 - val_loss: 0.3674 - val_accuracy: 0.8531 - val_precision_2: 0.9962 - val_recall_2: 0.3661\n",
      "Epoch 436/1000\n",
      "1/1 [==============================] - 0s 29ms/step - loss: 0.3786 - accuracy: 0.8509 - precision_2: 0.9960 - recall_2: 0.3557 - val_loss: 0.3674 - val_accuracy: 0.8532 - val_precision_2: 0.9958 - val_recall_2: 0.3661\n",
      "Epoch 437/1000\n",
      "1/1 [==============================] - 0s 33ms/step - loss: 0.3787 - accuracy: 0.8510 - precision_2: 0.9958 - recall_2: 0.3559 - val_loss: 0.3674 - val_accuracy: 0.8532 - val_precision_2: 0.9964 - val_recall_2: 0.3661\n",
      "Epoch 438/1000\n",
      "1/1 [==============================] - 0s 36ms/step - loss: 0.3785 - accuracy: 0.8510 - precision_2: 0.9959 - recall_2: 0.3563 - val_loss: 0.3674 - val_accuracy: 0.8532 - val_precision_2: 0.9961 - val_recall_2: 0.3661\n",
      "Epoch 439/1000\n",
      "1/1 [==============================] - 0s 40ms/step - loss: 0.3784 - accuracy: 0.8512 - precision_2: 0.9959 - recall_2: 0.3560 - val_loss: 0.3672 - val_accuracy: 0.8531 - val_precision_2: 0.9962 - val_recall_2: 0.3661\n",
      "Epoch 440/1000\n",
      "1/1 [==============================] - 0s 32ms/step - loss: 0.3788 - accuracy: 0.8510 - precision_2: 0.9960 - recall_2: 0.3558 - val_loss: 0.3672 - val_accuracy: 0.8532 - val_precision_2: 0.9960 - val_recall_2: 0.3662\n",
      "Epoch 441/1000\n",
      "1/1 [==============================] - 0s 30ms/step - loss: 0.3787 - accuracy: 0.8510 - precision_2: 0.9959 - recall_2: 0.3558 - val_loss: 0.3672 - val_accuracy: 0.8531 - val_precision_2: 0.9961 - val_recall_2: 0.3661\n",
      "Epoch 442/1000\n",
      "1/1 [==============================] - 0s 38ms/step - loss: 0.3788 - accuracy: 0.8508 - precision_2: 0.9960 - recall_2: 0.3557 - val_loss: 0.3673 - val_accuracy: 0.8533 - val_precision_2: 0.9958 - val_recall_2: 0.3663\n",
      "Epoch 443/1000\n",
      "1/1 [==============================] - 0s 34ms/step - loss: 0.3780 - accuracy: 0.8511 - precision_2: 0.9957 - recall_2: 0.3563 - val_loss: 0.3671 - val_accuracy: 0.8531 - val_precision_2: 0.9964 - val_recall_2: 0.3661\n",
      "Epoch 444/1000\n",
      "1/1 [==============================] - 0s 32ms/step - loss: 0.3781 - accuracy: 0.8511 - precision_2: 0.9961 - recall_2: 0.3559 - val_loss: 0.3670 - val_accuracy: 0.8534 - val_precision_2: 0.9958 - val_recall_2: 0.3663\n",
      "Epoch 445/1000\n",
      "1/1 [==============================] - 0s 31ms/step - loss: 0.3783 - accuracy: 0.8509 - precision_2: 0.9952 - recall_2: 0.3563 - val_loss: 0.3670 - val_accuracy: 0.8530 - val_precision_2: 0.9962 - val_recall_2: 0.3661\n",
      "Epoch 446/1000\n",
      "1/1 [==============================] - 0s 32ms/step - loss: 0.3783 - accuracy: 0.8508 - precision_2: 0.9962 - recall_2: 0.3558 - val_loss: 0.3671 - val_accuracy: 0.8533 - val_precision_2: 0.9958 - val_recall_2: 0.3662\n",
      "Epoch 447/1000\n",
      "1/1 [==============================] - 0s 35ms/step - loss: 0.3784 - accuracy: 0.8512 - precision_2: 0.9958 - recall_2: 0.3563 - val_loss: 0.3670 - val_accuracy: 0.8531 - val_precision_2: 0.9962 - val_recall_2: 0.3661\n",
      "Epoch 448/1000\n",
      "1/1 [==============================] - 0s 32ms/step - loss: 0.3781 - accuracy: 0.8510 - precision_2: 0.9958 - recall_2: 0.3556 - val_loss: 0.3669 - val_accuracy: 0.8533 - val_precision_2: 0.9958 - val_recall_2: 0.3661\n",
      "Epoch 449/1000\n",
      "1/1 [==============================] - 0s 40ms/step - loss: 0.3779 - accuracy: 0.8512 - precision_2: 0.9961 - recall_2: 0.3557 - val_loss: 0.3667 - val_accuracy: 0.8533 - val_precision_2: 0.9958 - val_recall_2: 0.3662\n",
      "Epoch 450/1000\n"
     ]
    },
    {
     "name": "stdout",
     "output_type": "stream",
     "text": [
      "1/1 [==============================] - 0s 43ms/step - loss: 0.3781 - accuracy: 0.8513 - precision_2: 0.9958 - recall_2: 0.3566 - val_loss: 0.3667 - val_accuracy: 0.8532 - val_precision_2: 0.9958 - val_recall_2: 0.3662\n",
      "Epoch 451/1000\n",
      "1/1 [==============================] - 0s 33ms/step - loss: 0.3778 - accuracy: 0.8510 - precision_2: 0.9958 - recall_2: 0.3559 - val_loss: 0.3668 - val_accuracy: 0.8532 - val_precision_2: 0.9958 - val_recall_2: 0.3663\n",
      "Epoch 452/1000\n",
      "1/1 [==============================] - 0s 31ms/step - loss: 0.3773 - accuracy: 0.8512 - precision_2: 0.9957 - recall_2: 0.3560 - val_loss: 0.3667 - val_accuracy: 0.8532 - val_precision_2: 0.9964 - val_recall_2: 0.3661\n",
      "Epoch 453/1000\n",
      "1/1 [==============================] - 0s 32ms/step - loss: 0.3776 - accuracy: 0.8510 - precision_2: 0.9960 - recall_2: 0.3560 - val_loss: 0.3667 - val_accuracy: 0.8534 - val_precision_2: 0.9958 - val_recall_2: 0.3663\n",
      "Epoch 454/1000\n",
      "1/1 [==============================] - 0s 41ms/step - loss: 0.3777 - accuracy: 0.8513 - precision_2: 0.9956 - recall_2: 0.3564 - val_loss: 0.3668 - val_accuracy: 0.8531 - val_precision_2: 0.9964 - val_recall_2: 0.3661\n",
      "Epoch 455/1000\n",
      "1/1 [==============================] - 0s 36ms/step - loss: 0.3776 - accuracy: 0.8511 - precision_2: 0.9960 - recall_2: 0.3562 - val_loss: 0.3669 - val_accuracy: 0.8535 - val_precision_2: 0.9957 - val_recall_2: 0.3664\n",
      "Epoch 456/1000\n",
      "1/1 [==============================] - 0s 36ms/step - loss: 0.3779 - accuracy: 0.8513 - precision_2: 0.9956 - recall_2: 0.3563 - val_loss: 0.3668 - val_accuracy: 0.8532 - val_precision_2: 0.9964 - val_recall_2: 0.3661\n",
      "Epoch 457/1000\n",
      "1/1 [==============================] - 0s 39ms/step - loss: 0.3780 - accuracy: 0.8510 - precision_2: 0.9963 - recall_2: 0.3562 - val_loss: 0.3667 - val_accuracy: 0.8535 - val_precision_2: 0.9958 - val_recall_2: 0.3663\n",
      "Epoch 458/1000\n",
      "1/1 [==============================] - 0s 52ms/step - loss: 0.3775 - accuracy: 0.8516 - precision_2: 0.9956 - recall_2: 0.3565 - val_loss: 0.3664 - val_accuracy: 0.8532 - val_precision_2: 0.9964 - val_recall_2: 0.3661\n",
      "Epoch 459/1000\n",
      "1/1 [==============================] - 0s 30ms/step - loss: 0.3775 - accuracy: 0.8509 - precision_2: 0.9959 - recall_2: 0.3562 - val_loss: 0.3664 - val_accuracy: 0.8533 - val_precision_2: 0.9960 - val_recall_2: 0.3662\n",
      "Epoch 460/1000\n",
      "1/1 [==============================] - 0s 35ms/step - loss: 0.3772 - accuracy: 0.8512 - precision_2: 0.9957 - recall_2: 0.3564 - val_loss: 0.3664 - val_accuracy: 0.8534 - val_precision_2: 0.9960 - val_recall_2: 0.3662\n",
      "Epoch 461/1000\n",
      "1/1 [==============================] - 0s 33ms/step - loss: 0.3774 - accuracy: 0.8512 - precision_2: 0.9958 - recall_2: 0.3561 - val_loss: 0.3663 - val_accuracy: 0.8532 - val_precision_2: 0.9964 - val_recall_2: 0.3661\n",
      "Epoch 462/1000\n",
      "1/1 [==============================] - 0s 32ms/step - loss: 0.3772 - accuracy: 0.8512 - precision_2: 0.9961 - recall_2: 0.3563 - val_loss: 0.3664 - val_accuracy: 0.8535 - val_precision_2: 0.9960 - val_recall_2: 0.3664\n",
      "Epoch 463/1000\n",
      "1/1 [==============================] - 0s 55ms/step - loss: 0.3776 - accuracy: 0.8512 - precision_2: 0.9956 - recall_2: 0.3565 - val_loss: 0.3663 - val_accuracy: 0.8531 - val_precision_2: 0.9964 - val_recall_2: 0.3661\n",
      "Epoch 464/1000\n",
      "1/1 [==============================] - 0s 40ms/step - loss: 0.3770 - accuracy: 0.8510 - precision_2: 0.9957 - recall_2: 0.3559 - val_loss: 0.3662 - val_accuracy: 0.8533 - val_precision_2: 0.9960 - val_recall_2: 0.3664\n",
      "Epoch 465/1000\n",
      "1/1 [==============================] - 0s 42ms/step - loss: 0.3766 - accuracy: 0.8513 - precision_2: 0.9960 - recall_2: 0.3568 - val_loss: 0.3661 - val_accuracy: 0.8533 - val_precision_2: 0.9960 - val_recall_2: 0.3663\n",
      "Epoch 466/1000\n",
      "1/1 [==============================] - 0s 31ms/step - loss: 0.3771 - accuracy: 0.8512 - precision_2: 0.9958 - recall_2: 0.3560 - val_loss: 0.3660 - val_accuracy: 0.8532 - val_precision_2: 0.9964 - val_recall_2: 0.3663\n",
      "Epoch 467/1000\n",
      "1/1 [==============================] - 0s 29ms/step - loss: 0.3771 - accuracy: 0.8511 - precision_2: 0.9960 - recall_2: 0.3561 - val_loss: 0.3662 - val_accuracy: 0.8535 - val_precision_2: 0.9957 - val_recall_2: 0.3664\n",
      "Epoch 468/1000\n",
      "1/1 [==============================] - 0s 36ms/step - loss: 0.3767 - accuracy: 0.8513 - precision_2: 0.9954 - recall_2: 0.3565 - val_loss: 0.3662 - val_accuracy: 0.8531 - val_precision_2: 0.9964 - val_recall_2: 0.3662\n",
      "Epoch 469/1000\n",
      "1/1 [==============================] - 0s 28ms/step - loss: 0.3772 - accuracy: 0.8510 - precision_2: 0.9959 - recall_2: 0.3559 - val_loss: 0.3663 - val_accuracy: 0.8535 - val_precision_2: 0.9957 - val_recall_2: 0.3666\n",
      "Epoch 470/1000\n",
      "1/1 [==============================] - 0s 29ms/step - loss: 0.3769 - accuracy: 0.8513 - precision_2: 0.9952 - recall_2: 0.3569 - val_loss: 0.3659 - val_accuracy: 0.8532 - val_precision_2: 0.9962 - val_recall_2: 0.3663\n",
      "Epoch 471/1000\n",
      "1/1 [==============================] - 0s 36ms/step - loss: 0.3768 - accuracy: 0.8512 - precision_2: 0.9956 - recall_2: 0.3562 - val_loss: 0.3658 - val_accuracy: 0.8535 - val_precision_2: 0.9958 - val_recall_2: 0.3664\n",
      "Epoch 472/1000\n",
      "1/1 [==============================] - 0s 29ms/step - loss: 0.3764 - accuracy: 0.8513 - precision_2: 0.9953 - recall_2: 0.3565 - val_loss: 0.3657 - val_accuracy: 0.8534 - val_precision_2: 0.9958 - val_recall_2: 0.3664\n",
      "Epoch 473/1000\n",
      "1/1 [==============================] - 0s 32ms/step - loss: 0.3765 - accuracy: 0.8513 - precision_2: 0.9953 - recall_2: 0.3565 - val_loss: 0.3658 - val_accuracy: 0.8532 - val_precision_2: 0.9964 - val_recall_2: 0.3664\n",
      "Epoch 474/1000\n",
      "1/1 [==============================] - 0s 42ms/step - loss: 0.3768 - accuracy: 0.8511 - precision_2: 0.9961 - recall_2: 0.3558 - val_loss: 0.3659 - val_accuracy: 0.8535 - val_precision_2: 0.9958 - val_recall_2: 0.3664\n",
      "Epoch 475/1000\n",
      "1/1 [==============================] - 0s 47ms/step - loss: 0.3766 - accuracy: 0.8515 - precision_2: 0.9961 - recall_2: 0.3567 - val_loss: 0.3658 - val_accuracy: 0.8532 - val_precision_2: 0.9964 - val_recall_2: 0.3663\n",
      "Epoch 476/1000\n",
      "1/1 [==============================] - 0s 43ms/step - loss: 0.3766 - accuracy: 0.8511 - precision_2: 0.9965 - recall_2: 0.3561 - val_loss: 0.3657 - val_accuracy: 0.8535 - val_precision_2: 0.9958 - val_recall_2: 0.3664\n",
      "Epoch 477/1000\n",
      "1/1 [==============================] - 0s 43ms/step - loss: 0.3765 - accuracy: 0.8511 - precision_2: 0.9954 - recall_2: 0.3561 - val_loss: 0.3655 - val_accuracy: 0.8533 - val_precision_2: 0.9964 - val_recall_2: 0.3664\n",
      "Epoch 478/1000\n",
      "1/1 [==============================] - 0s 48ms/step - loss: 0.3761 - accuracy: 0.8513 - precision_2: 0.9960 - recall_2: 0.3564 - val_loss: 0.3655 - val_accuracy: 0.8534 - val_precision_2: 0.9961 - val_recall_2: 0.3664\n",
      "Epoch 479/1000\n",
      "1/1 [==============================] - 0s 32ms/step - loss: 0.3761 - accuracy: 0.8511 - precision_2: 0.9957 - recall_2: 0.3562 - val_loss: 0.3655 - val_accuracy: 0.8534 - val_precision_2: 0.9958 - val_recall_2: 0.3664\n",
      "Epoch 480/1000\n",
      "1/1 [==============================] - 0s 40ms/step - loss: 0.3761 - accuracy: 0.8512 - precision_2: 0.9959 - recall_2: 0.3563 - val_loss: 0.3654 - val_accuracy: 0.8533 - val_precision_2: 0.9964 - val_recall_2: 0.3664\n",
      "Epoch 481/1000\n",
      "1/1 [==============================] - 0s 34ms/step - loss: 0.3760 - accuracy: 0.8512 - precision_2: 0.9954 - recall_2: 0.3565 - val_loss: 0.3655 - val_accuracy: 0.8534 - val_precision_2: 0.9958 - val_recall_2: 0.3664\n",
      "Epoch 482/1000\n",
      "1/1 [==============================] - 0s 38ms/step - loss: 0.3760 - accuracy: 0.8513 - precision_2: 0.9954 - recall_2: 0.3566 - val_loss: 0.3654 - val_accuracy: 0.8533 - val_precision_2: 0.9960 - val_recall_2: 0.3664\n",
      "Epoch 483/1000\n",
      "1/1 [==============================] - 0s 33ms/step - loss: 0.3757 - accuracy: 0.8514 - precision_2: 0.9958 - recall_2: 0.3568 - val_loss: 0.3653 - val_accuracy: 0.8534 - val_precision_2: 0.9957 - val_recall_2: 0.3665\n",
      "Epoch 484/1000\n",
      "1/1 [==============================] - 0s 34ms/step - loss: 0.3758 - accuracy: 0.8513 - precision_2: 0.9953 - recall_2: 0.3567 - val_loss: 0.3653 - val_accuracy: 0.8534 - val_precision_2: 0.9958 - val_recall_2: 0.3665\n",
      "Epoch 485/1000\n"
     ]
    },
    {
     "name": "stdout",
     "output_type": "stream",
     "text": [
      "1/1 [==============================] - 0s 35ms/step - loss: 0.3758 - accuracy: 0.8513 - precision_2: 0.9957 - recall_2: 0.3573 - val_loss: 0.3653 - val_accuracy: 0.8534 - val_precision_2: 0.9960 - val_recall_2: 0.3665\n",
      "Epoch 486/1000\n",
      "1/1 [==============================] - 0s 36ms/step - loss: 0.3760 - accuracy: 0.8513 - precision_2: 0.9952 - recall_2: 0.3570 - val_loss: 0.3653 - val_accuracy: 0.8534 - val_precision_2: 0.9960 - val_recall_2: 0.3664\n",
      "Epoch 487/1000\n",
      "1/1 [==============================] - 0s 40ms/step - loss: 0.3756 - accuracy: 0.8513 - precision_2: 0.9952 - recall_2: 0.3565 - val_loss: 0.3653 - val_accuracy: 0.8533 - val_precision_2: 0.9960 - val_recall_2: 0.3664\n",
      "Epoch 488/1000\n",
      "1/1 [==============================] - 0s 36ms/step - loss: 0.3755 - accuracy: 0.8513 - precision_2: 0.9959 - recall_2: 0.3565 - val_loss: 0.3652 - val_accuracy: 0.8534 - val_precision_2: 0.9957 - val_recall_2: 0.3665\n",
      "Epoch 489/1000\n",
      "1/1 [==============================] - 0s 41ms/step - loss: 0.3757 - accuracy: 0.8513 - precision_2: 0.9957 - recall_2: 0.3567 - val_loss: 0.3650 - val_accuracy: 0.8534 - val_precision_2: 0.9958 - val_recall_2: 0.3664\n",
      "Epoch 490/1000\n",
      "1/1 [==============================] - 0s 42ms/step - loss: 0.3754 - accuracy: 0.8513 - precision_2: 0.9961 - recall_2: 0.3569 - val_loss: 0.3650 - val_accuracy: 0.8535 - val_precision_2: 0.9956 - val_recall_2: 0.3665\n",
      "Epoch 491/1000\n",
      "1/1 [==============================] - 0s 33ms/step - loss: 0.3756 - accuracy: 0.8515 - precision_2: 0.9956 - recall_2: 0.3569 - val_loss: 0.3650 - val_accuracy: 0.8534 - val_precision_2: 0.9961 - val_recall_2: 0.3664\n",
      "Epoch 492/1000\n",
      "1/1 [==============================] - 0s 34ms/step - loss: 0.3758 - accuracy: 0.8512 - precision_2: 0.9957 - recall_2: 0.3569 - val_loss: 0.3652 - val_accuracy: 0.8533 - val_precision_2: 0.9957 - val_recall_2: 0.3665\n",
      "Epoch 493/1000\n",
      "1/1 [==============================] - 0s 45ms/step - loss: 0.3754 - accuracy: 0.8511 - precision_2: 0.9953 - recall_2: 0.3568 - val_loss: 0.3651 - val_accuracy: 0.8533 - val_precision_2: 0.9961 - val_recall_2: 0.3664\n",
      "Epoch 494/1000\n",
      "1/1 [==============================] - 0s 33ms/step - loss: 0.3753 - accuracy: 0.8513 - precision_2: 0.9957 - recall_2: 0.3570 - val_loss: 0.3649 - val_accuracy: 0.8535 - val_precision_2: 0.9956 - val_recall_2: 0.3666\n",
      "Epoch 495/1000\n",
      "1/1 [==============================] - 0s 39ms/step - loss: 0.3754 - accuracy: 0.8513 - precision_2: 0.9955 - recall_2: 0.3570 - val_loss: 0.3648 - val_accuracy: 0.8534 - val_precision_2: 0.9957 - val_recall_2: 0.3665\n",
      "Epoch 496/1000\n",
      "1/1 [==============================] - 0s 45ms/step - loss: 0.3752 - accuracy: 0.8515 - precision_2: 0.9956 - recall_2: 0.3569 - val_loss: 0.3647 - val_accuracy: 0.8534 - val_precision_2: 0.9956 - val_recall_2: 0.3666\n",
      "Epoch 497/1000\n",
      "1/1 [==============================] - 0s 38ms/step - loss: 0.3752 - accuracy: 0.8512 - precision_2: 0.9953 - recall_2: 0.3568 - val_loss: 0.3647 - val_accuracy: 0.8534 - val_precision_2: 0.9955 - val_recall_2: 0.3666\n",
      "Epoch 498/1000\n",
      "1/1 [==============================] - 0s 32ms/step - loss: 0.3748 - accuracy: 0.8514 - precision_2: 0.9955 - recall_2: 0.3572 - val_loss: 0.3648 - val_accuracy: 0.8533 - val_precision_2: 0.9960 - val_recall_2: 0.3664\n",
      "Epoch 499/1000\n",
      "1/1 [==============================] - 0s 34ms/step - loss: 0.3749 - accuracy: 0.8513 - precision_2: 0.9958 - recall_2: 0.3570 - val_loss: 0.3649 - val_accuracy: 0.8535 - val_precision_2: 0.9955 - val_recall_2: 0.3666\n",
      "Epoch 500/1000\n",
      "1/1 [==============================] - 0s 45ms/step - loss: 0.3750 - accuracy: 0.8515 - precision_2: 0.9956 - recall_2: 0.3572 - val_loss: 0.3648 - val_accuracy: 0.8534 - val_precision_2: 0.9961 - val_recall_2: 0.3664\n",
      "Epoch 501/1000\n",
      "1/1 [==============================] - 0s 45ms/step - loss: 0.3751 - accuracy: 0.8513 - precision_2: 0.9959 - recall_2: 0.3572 - val_loss: 0.3648 - val_accuracy: 0.8537 - val_precision_2: 0.9953 - val_recall_2: 0.3666\n",
      "Epoch 502/1000\n",
      "1/1 [==============================] - 0s 32ms/step - loss: 0.3750 - accuracy: 0.8515 - precision_2: 0.9950 - recall_2: 0.3576 - val_loss: 0.3646 - val_accuracy: 0.8533 - val_precision_2: 0.9957 - val_recall_2: 0.3664\n",
      "Epoch 503/1000\n",
      "1/1 [==============================] - 0s 35ms/step - loss: 0.3748 - accuracy: 0.8512 - precision_2: 0.9960 - recall_2: 0.3570 - val_loss: 0.3646 - val_accuracy: 0.8537 - val_precision_2: 0.9952 - val_recall_2: 0.3666\n",
      "Epoch 504/1000\n",
      "1/1 [==============================] - 0s 53ms/step - loss: 0.3746 - accuracy: 0.8516 - precision_2: 0.9954 - recall_2: 0.3575 - val_loss: 0.3645 - val_accuracy: 0.8533 - val_precision_2: 0.9960 - val_recall_2: 0.3665\n",
      "Epoch 505/1000\n",
      "1/1 [==============================] - 0s 38ms/step - loss: 0.3745 - accuracy: 0.8513 - precision_2: 0.9957 - recall_2: 0.3567 - val_loss: 0.3645 - val_accuracy: 0.8535 - val_precision_2: 0.9953 - val_recall_2: 0.3666\n",
      "Epoch 506/1000\n",
      "1/1 [==============================] - 0s 35ms/step - loss: 0.3745 - accuracy: 0.8514 - precision_2: 0.9954 - recall_2: 0.3572 - val_loss: 0.3644 - val_accuracy: 0.8534 - val_precision_2: 0.9955 - val_recall_2: 0.3666\n",
      "Epoch 507/1000\n",
      "1/1 [==============================] - 0s 44ms/step - loss: 0.3743 - accuracy: 0.8514 - precision_2: 0.9955 - recall_2: 0.3575 - val_loss: 0.3644 - val_accuracy: 0.8535 - val_precision_2: 0.9955 - val_recall_2: 0.3666\n",
      "Epoch 508/1000\n",
      "1/1 [==============================] - 0s 34ms/step - loss: 0.3743 - accuracy: 0.8515 - precision_2: 0.9956 - recall_2: 0.3574 - val_loss: 0.3642 - val_accuracy: 0.8534 - val_precision_2: 0.9955 - val_recall_2: 0.3666\n",
      "Epoch 509/1000\n",
      "1/1 [==============================] - 0s 38ms/step - loss: 0.3744 - accuracy: 0.8517 - precision_2: 0.9956 - recall_2: 0.3577 - val_loss: 0.3642 - val_accuracy: 0.8534 - val_precision_2: 0.9955 - val_recall_2: 0.3666\n",
      "Epoch 510/1000\n",
      "1/1 [==============================] - 0s 36ms/step - loss: 0.3742 - accuracy: 0.8516 - precision_2: 0.9950 - recall_2: 0.3578 - val_loss: 0.3642 - val_accuracy: 0.8535 - val_precision_2: 0.9955 - val_recall_2: 0.3666\n",
      "Epoch 511/1000\n",
      "1/1 [==============================] - 0s 35ms/step - loss: 0.3739 - accuracy: 0.8517 - precision_2: 0.9953 - recall_2: 0.3577 - val_loss: 0.3641 - val_accuracy: 0.8535 - val_precision_2: 0.9955 - val_recall_2: 0.3666\n",
      "Epoch 512/1000\n",
      "1/1 [==============================] - 0s 28ms/step - loss: 0.3741 - accuracy: 0.8516 - precision_2: 0.9951 - recall_2: 0.3577 - val_loss: 0.3641 - val_accuracy: 0.8534 - val_precision_2: 0.9955 - val_recall_2: 0.3666\n",
      "Epoch 513/1000\n",
      "1/1 [==============================] - 0s 50ms/step - loss: 0.3743 - accuracy: 0.8514 - precision_2: 0.9954 - recall_2: 0.3574 - val_loss: 0.3641 - val_accuracy: 0.8536 - val_precision_2: 0.9955 - val_recall_2: 0.3666\n",
      "Epoch 514/1000\n",
      "1/1 [==============================] - 0s 34ms/step - loss: 0.3739 - accuracy: 0.8516 - precision_2: 0.9953 - recall_2: 0.3579 - val_loss: 0.3640 - val_accuracy: 0.8534 - val_precision_2: 0.9956 - val_recall_2: 0.3666\n",
      "Epoch 515/1000\n",
      "1/1 [==============================] - 0s 31ms/step - loss: 0.3739 - accuracy: 0.8514 - precision_2: 0.9952 - recall_2: 0.3575 - val_loss: 0.3640 - val_accuracy: 0.8535 - val_precision_2: 0.9953 - val_recall_2: 0.3666\n",
      "Epoch 516/1000\n",
      "1/1 [==============================] - 0s 58ms/step - loss: 0.3738 - accuracy: 0.8516 - precision_2: 0.9953 - recall_2: 0.3581 - val_loss: 0.3639 - val_accuracy: 0.8534 - val_precision_2: 0.9956 - val_recall_2: 0.3666\n",
      "Epoch 517/1000\n",
      "1/1 [==============================] - 0s 37ms/step - loss: 0.3740 - accuracy: 0.8514 - precision_2: 0.9957 - recall_2: 0.3575 - val_loss: 0.3639 - val_accuracy: 0.8536 - val_precision_2: 0.9955 - val_recall_2: 0.3667\n",
      "Epoch 518/1000\n",
      "1/1 [==============================] - 0s 34ms/step - loss: 0.3742 - accuracy: 0.8514 - precision_2: 0.9950 - recall_2: 0.3575 - val_loss: 0.3639 - val_accuracy: 0.8534 - val_precision_2: 0.9956 - val_recall_2: 0.3665\n",
      "Epoch 519/1000\n",
      "1/1 [==============================] - 0s 44ms/step - loss: 0.3739 - accuracy: 0.8513 - precision_2: 0.9964 - recall_2: 0.3575 - val_loss: 0.3641 - val_accuracy: 0.8537 - val_precision_2: 0.9951 - val_recall_2: 0.3667\n",
      "Epoch 520/1000\n"
     ]
    },
    {
     "name": "stdout",
     "output_type": "stream",
     "text": [
      "1/1 [==============================] - 0s 35ms/step - loss: 0.3739 - accuracy: 0.8515 - precision_2: 0.9943 - recall_2: 0.3577 - val_loss: 0.3639 - val_accuracy: 0.8534 - val_precision_2: 0.9956 - val_recall_2: 0.3665\n",
      "Epoch 521/1000\n",
      "1/1 [==============================] - 0s 30ms/step - loss: 0.3739 - accuracy: 0.8514 - precision_2: 0.9963 - recall_2: 0.3574 - val_loss: 0.3640 - val_accuracy: 0.8537 - val_precision_2: 0.9951 - val_recall_2: 0.3667\n",
      "Epoch 522/1000\n",
      "1/1 [==============================] - 0s 46ms/step - loss: 0.3740 - accuracy: 0.8518 - precision_2: 0.9948 - recall_2: 0.3582 - val_loss: 0.3638 - val_accuracy: 0.8534 - val_precision_2: 0.9957 - val_recall_2: 0.3665\n",
      "Epoch 523/1000\n",
      "1/1 [==============================] - 0s 27ms/step - loss: 0.3740 - accuracy: 0.8515 - precision_2: 0.9955 - recall_2: 0.3575 - val_loss: 0.3638 - val_accuracy: 0.8536 - val_precision_2: 0.9953 - val_recall_2: 0.3667\n",
      "Epoch 524/1000\n",
      "1/1 [==============================] - 0s 35ms/step - loss: 0.3734 - accuracy: 0.8516 - precision_2: 0.9951 - recall_2: 0.3576 - val_loss: 0.3637 - val_accuracy: 0.8535 - val_precision_2: 0.9953 - val_recall_2: 0.3666\n",
      "Epoch 525/1000\n",
      "1/1 [==============================] - 0s 32ms/step - loss: 0.3736 - accuracy: 0.8513 - precision_2: 0.9956 - recall_2: 0.3577 - val_loss: 0.3635 - val_accuracy: 0.8535 - val_precision_2: 0.9953 - val_recall_2: 0.3667\n",
      "Epoch 526/1000\n",
      "1/1 [==============================] - 0s 37ms/step - loss: 0.3736 - accuracy: 0.8515 - precision_2: 0.9956 - recall_2: 0.3577 - val_loss: 0.3635 - val_accuracy: 0.8538 - val_precision_2: 0.9952 - val_recall_2: 0.3668\n",
      "Epoch 527/1000\n",
      "1/1 [==============================] - 0s 37ms/step - loss: 0.3736 - accuracy: 0.8515 - precision_2: 0.9948 - recall_2: 0.3575 - val_loss: 0.3635 - val_accuracy: 0.8534 - val_precision_2: 0.9955 - val_recall_2: 0.3667\n",
      "Epoch 528/1000\n",
      "1/1 [==============================] - 0s 32ms/step - loss: 0.3737 - accuracy: 0.8514 - precision_2: 0.9954 - recall_2: 0.3579 - val_loss: 0.3638 - val_accuracy: 0.8540 - val_precision_2: 0.9951 - val_recall_2: 0.3668\n",
      "Epoch 529/1000\n",
      "1/1 [==============================] - 0s 43ms/step - loss: 0.3738 - accuracy: 0.8516 - precision_2: 0.9947 - recall_2: 0.3580 - val_loss: 0.3637 - val_accuracy: 0.8534 - val_precision_2: 0.9956 - val_recall_2: 0.3667\n",
      "Epoch 530/1000\n",
      "1/1 [==============================] - 0s 32ms/step - loss: 0.3737 - accuracy: 0.8512 - precision_2: 0.9951 - recall_2: 0.3577 - val_loss: 0.3636 - val_accuracy: 0.8538 - val_precision_2: 0.9951 - val_recall_2: 0.3667\n",
      "Epoch 531/1000\n",
      "1/1 [==============================] - 0s 74ms/step - loss: 0.3736 - accuracy: 0.8516 - precision_2: 0.9947 - recall_2: 0.3582 - val_loss: 0.3633 - val_accuracy: 0.8536 - val_precision_2: 0.9953 - val_recall_2: 0.3667\n",
      "Epoch 532/1000\n",
      "1/1 [==============================] - 0s 70ms/step - loss: 0.3732 - accuracy: 0.8516 - precision_2: 0.9956 - recall_2: 0.3580 - val_loss: 0.3632 - val_accuracy: 0.8536 - val_precision_2: 0.9952 - val_recall_2: 0.3667\n",
      "Epoch 533/1000\n",
      "1/1 [==============================] - 0s 46ms/step - loss: 0.3733 - accuracy: 0.8516 - precision_2: 0.9948 - recall_2: 0.3578 - val_loss: 0.3633 - val_accuracy: 0.8538 - val_precision_2: 0.9951 - val_recall_2: 0.3667\n",
      "Epoch 534/1000\n",
      "1/1 [==============================] - 0s 36ms/step - loss: 0.3731 - accuracy: 0.8517 - precision_2: 0.9952 - recall_2: 0.3583 - val_loss: 0.3633 - val_accuracy: 0.8534 - val_precision_2: 0.9953 - val_recall_2: 0.3667\n",
      "Epoch 535/1000\n",
      "1/1 [==============================] - 0s 32ms/step - loss: 0.3734 - accuracy: 0.8513 - precision_2: 0.9955 - recall_2: 0.3576 - val_loss: 0.3633 - val_accuracy: 0.8537 - val_precision_2: 0.9951 - val_recall_2: 0.3667\n",
      "Epoch 536/1000\n",
      "1/1 [==============================] - 0s 41ms/step - loss: 0.3732 - accuracy: 0.8517 - precision_2: 0.9953 - recall_2: 0.3581 - val_loss: 0.3632 - val_accuracy: 0.8534 - val_precision_2: 0.9955 - val_recall_2: 0.3667\n",
      "Epoch 537/1000\n",
      "1/1 [==============================] - 0s 45ms/step - loss: 0.3732 - accuracy: 0.8513 - precision_2: 0.9955 - recall_2: 0.3578 - val_loss: 0.3632 - val_accuracy: 0.8537 - val_precision_2: 0.9951 - val_recall_2: 0.3667\n",
      "Epoch 538/1000\n",
      "1/1 [==============================] - 0s 47ms/step - loss: 0.3729 - accuracy: 0.8517 - precision_2: 0.9948 - recall_2: 0.3576 - val_loss: 0.3630 - val_accuracy: 0.8536 - val_precision_2: 0.9951 - val_recall_2: 0.3667\n",
      "Epoch 539/1000\n",
      "1/1 [==============================] - 0s 40ms/step - loss: 0.3727 - accuracy: 0.8516 - precision_2: 0.9950 - recall_2: 0.3581 - val_loss: 0.3629 - val_accuracy: 0.8536 - val_precision_2: 0.9951 - val_recall_2: 0.3667\n",
      "Epoch 540/1000\n",
      "1/1 [==============================] - 0s 34ms/step - loss: 0.3729 - accuracy: 0.8516 - precision_2: 0.9950 - recall_2: 0.3578 - val_loss: 0.3629 - val_accuracy: 0.8536 - val_precision_2: 0.9951 - val_recall_2: 0.3667\n",
      "Epoch 541/1000\n",
      "1/1 [==============================] - 0s 35ms/step - loss: 0.3727 - accuracy: 0.8514 - precision_2: 0.9944 - recall_2: 0.3577 - val_loss: 0.3630 - val_accuracy: 0.8535 - val_precision_2: 0.9952 - val_recall_2: 0.3667\n",
      "Epoch 542/1000\n",
      "1/1 [==============================] - 0s 38ms/step - loss: 0.3729 - accuracy: 0.8514 - precision_2: 0.9952 - recall_2: 0.3574 - val_loss: 0.3631 - val_accuracy: 0.8538 - val_precision_2: 0.9951 - val_recall_2: 0.3667\n",
      "Epoch 543/1000\n",
      "1/1 [==============================] - 0s 45ms/step - loss: 0.3727 - accuracy: 0.8519 - precision_2: 0.9949 - recall_2: 0.3584 - val_loss: 0.3630 - val_accuracy: 0.8535 - val_precision_2: 0.9953 - val_recall_2: 0.3667\n",
      "Epoch 544/1000\n",
      "1/1 [==============================] - 0s 50ms/step - loss: 0.3727 - accuracy: 0.8513 - precision_2: 0.9951 - recall_2: 0.3578 - val_loss: 0.3630 - val_accuracy: 0.8539 - val_precision_2: 0.9951 - val_recall_2: 0.3667\n",
      "Epoch 545/1000\n",
      "1/1 [==============================] - 0s 41ms/step - loss: 0.3730 - accuracy: 0.8517 - precision_2: 0.9947 - recall_2: 0.3584 - val_loss: 0.3629 - val_accuracy: 0.8535 - val_precision_2: 0.9956 - val_recall_2: 0.3667\n",
      "Epoch 546/1000\n",
      "1/1 [==============================] - 0s 41ms/step - loss: 0.3728 - accuracy: 0.8513 - precision_2: 0.9953 - recall_2: 0.3579 - val_loss: 0.3629 - val_accuracy: 0.8539 - val_precision_2: 0.9951 - val_recall_2: 0.3667\n",
      "Epoch 547/1000\n",
      "1/1 [==============================] - 0s 36ms/step - loss: 0.3723 - accuracy: 0.8517 - precision_2: 0.9949 - recall_2: 0.3581 - val_loss: 0.3627 - val_accuracy: 0.8536 - val_precision_2: 0.9951 - val_recall_2: 0.3667\n",
      "Epoch 548/1000\n",
      "1/1 [==============================] - 0s 34ms/step - loss: 0.3723 - accuracy: 0.8515 - precision_2: 0.9954 - recall_2: 0.3578 - val_loss: 0.3626 - val_accuracy: 0.8538 - val_precision_2: 0.9951 - val_recall_2: 0.3668\n",
      "Epoch 549/1000\n",
      "1/1 [==============================] - 0s 34ms/step - loss: 0.3727 - accuracy: 0.8518 - precision_2: 0.9944 - recall_2: 0.3584 - val_loss: 0.3627 - val_accuracy: 0.8536 - val_precision_2: 0.9951 - val_recall_2: 0.3667\n",
      "Epoch 550/1000\n",
      "1/1 [==============================] - 0s 41ms/step - loss: 0.3721 - accuracy: 0.8515 - precision_2: 0.9951 - recall_2: 0.3581 - val_loss: 0.3626 - val_accuracy: 0.8536 - val_precision_2: 0.9951 - val_recall_2: 0.3667\n",
      "Epoch 551/1000\n",
      "1/1 [==============================] - 0s 38ms/step - loss: 0.3723 - accuracy: 0.8515 - precision_2: 0.9950 - recall_2: 0.3577 - val_loss: 0.3626 - val_accuracy: 0.8539 - val_precision_2: 0.9951 - val_recall_2: 0.3667\n",
      "Epoch 552/1000\n",
      "1/1 [==============================] - 0s 43ms/step - loss: 0.3721 - accuracy: 0.8517 - precision_2: 0.9951 - recall_2: 0.3582 - val_loss: 0.3625 - val_accuracy: 0.8535 - val_precision_2: 0.9951 - val_recall_2: 0.3667\n",
      "Epoch 553/1000\n",
      "1/1 [==============================] - 0s 33ms/step - loss: 0.3723 - accuracy: 0.8514 - precision_2: 0.9948 - recall_2: 0.3577 - val_loss: 0.3626 - val_accuracy: 0.8539 - val_precision_2: 0.9949 - val_recall_2: 0.3668\n",
      "Epoch 554/1000\n",
      "1/1 [==============================] - 0s 31ms/step - loss: 0.3721 - accuracy: 0.8519 - precision_2: 0.9947 - recall_2: 0.3582 - val_loss: 0.3626 - val_accuracy: 0.8535 - val_precision_2: 0.9951 - val_recall_2: 0.3667\n",
      "Epoch 555/1000\n"
     ]
    },
    {
     "name": "stdout",
     "output_type": "stream",
     "text": [
      "1/1 [==============================] - 0s 49ms/step - loss: 0.3726 - accuracy: 0.8513 - precision_2: 0.9952 - recall_2: 0.3577 - val_loss: 0.3627 - val_accuracy: 0.8538 - val_precision_2: 0.9951 - val_recall_2: 0.3668\n",
      "Epoch 556/1000\n",
      "1/1 [==============================] - 0s 34ms/step - loss: 0.3722 - accuracy: 0.8517 - precision_2: 0.9946 - recall_2: 0.3582 - val_loss: 0.3625 - val_accuracy: 0.8535 - val_precision_2: 0.9952 - val_recall_2: 0.3667\n",
      "Epoch 557/1000\n",
      "1/1 [==============================] - 0s 35ms/step - loss: 0.3724 - accuracy: 0.8515 - precision_2: 0.9946 - recall_2: 0.3581 - val_loss: 0.3625 - val_accuracy: 0.8539 - val_precision_2: 0.9951 - val_recall_2: 0.3668\n",
      "Epoch 558/1000\n",
      "1/1 [==============================] - 0s 40ms/step - loss: 0.3717 - accuracy: 0.8517 - precision_2: 0.9949 - recall_2: 0.3588 - val_loss: 0.3623 - val_accuracy: 0.8538 - val_precision_2: 0.9951 - val_recall_2: 0.3667\n",
      "Epoch 559/1000\n",
      "1/1 [==============================] - 0s 38ms/step - loss: 0.3722 - accuracy: 0.8515 - precision_2: 0.9948 - recall_2: 0.3580 - val_loss: 0.3622 - val_accuracy: 0.8537 - val_precision_2: 0.9951 - val_recall_2: 0.3667\n",
      "Epoch 560/1000\n",
      "1/1 [==============================] - 0s 33ms/step - loss: 0.3719 - accuracy: 0.8515 - precision_2: 0.9952 - recall_2: 0.3579 - val_loss: 0.3623 - val_accuracy: 0.8539 - val_precision_2: 0.9949 - val_recall_2: 0.3668\n",
      "Epoch 561/1000\n",
      "1/1 [==============================] - 0s 38ms/step - loss: 0.3718 - accuracy: 0.8518 - precision_2: 0.9940 - recall_2: 0.3582 - val_loss: 0.3622 - val_accuracy: 0.8536 - val_precision_2: 0.9951 - val_recall_2: 0.3667\n",
      "Epoch 562/1000\n",
      "1/1 [==============================] - 0s 42ms/step - loss: 0.3717 - accuracy: 0.8515 - precision_2: 0.9949 - recall_2: 0.3581 - val_loss: 0.3622 - val_accuracy: 0.8540 - val_precision_2: 0.9949 - val_recall_2: 0.3669\n",
      "Epoch 563/1000\n",
      "1/1 [==============================] - 0s 61ms/step - loss: 0.3721 - accuracy: 0.8518 - precision_2: 0.9943 - recall_2: 0.3591 - val_loss: 0.3621 - val_accuracy: 0.8536 - val_precision_2: 0.9951 - val_recall_2: 0.3667\n",
      "Epoch 564/1000\n",
      "1/1 [==============================] - 0s 36ms/step - loss: 0.3718 - accuracy: 0.8514 - precision_2: 0.9949 - recall_2: 0.3581 - val_loss: 0.3621 - val_accuracy: 0.8539 - val_precision_2: 0.9951 - val_recall_2: 0.3668\n",
      "Epoch 565/1000\n",
      "1/1 [==============================] - 0s 43ms/step - loss: 0.3717 - accuracy: 0.8520 - precision_2: 0.9951 - recall_2: 0.3581 - val_loss: 0.3620 - val_accuracy: 0.8537 - val_precision_2: 0.9951 - val_recall_2: 0.3667\n",
      "Epoch 566/1000\n",
      "1/1 [==============================] - 0s 37ms/step - loss: 0.3716 - accuracy: 0.8516 - precision_2: 0.9949 - recall_2: 0.3585 - val_loss: 0.3620 - val_accuracy: 0.8538 - val_precision_2: 0.9951 - val_recall_2: 0.3668\n",
      "Epoch 567/1000\n",
      "1/1 [==============================] - 0s 36ms/step - loss: 0.3718 - accuracy: 0.8518 - precision_2: 0.9946 - recall_2: 0.3581 - val_loss: 0.3620 - val_accuracy: 0.8539 - val_precision_2: 0.9951 - val_recall_2: 0.3668\n",
      "Epoch 568/1000\n",
      "1/1 [==============================] - 0s 34ms/step - loss: 0.3718 - accuracy: 0.8516 - precision_2: 0.9951 - recall_2: 0.3583 - val_loss: 0.3619 - val_accuracy: 0.8537 - val_precision_2: 0.9951 - val_recall_2: 0.3667\n",
      "Epoch 569/1000\n",
      "1/1 [==============================] - 0s 33ms/step - loss: 0.3716 - accuracy: 0.8516 - precision_2: 0.9947 - recall_2: 0.3584 - val_loss: 0.3619 - val_accuracy: 0.8540 - val_precision_2: 0.9951 - val_recall_2: 0.3668\n",
      "Epoch 570/1000\n",
      "1/1 [==============================] - 0s 35ms/step - loss: 0.3713 - accuracy: 0.8519 - precision_2: 0.9942 - recall_2: 0.3582 - val_loss: 0.3618 - val_accuracy: 0.8536 - val_precision_2: 0.9951 - val_recall_2: 0.3667\n",
      "Epoch 571/1000\n",
      "1/1 [==============================] - 0s 40ms/step - loss: 0.3717 - accuracy: 0.8516 - precision_2: 0.9947 - recall_2: 0.3583 - val_loss: 0.3620 - val_accuracy: 0.8541 - val_precision_2: 0.9951 - val_recall_2: 0.3669\n",
      "Epoch 572/1000\n",
      "1/1 [==============================] - 0s 38ms/step - loss: 0.3716 - accuracy: 0.8518 - precision_2: 0.9944 - recall_2: 0.3587 - val_loss: 0.3619 - val_accuracy: 0.8537 - val_precision_2: 0.9951 - val_recall_2: 0.3667\n",
      "Epoch 573/1000\n",
      "1/1 [==============================] - 0s 43ms/step - loss: 0.3713 - accuracy: 0.8514 - precision_2: 0.9948 - recall_2: 0.3581 - val_loss: 0.3618 - val_accuracy: 0.8539 - val_precision_2: 0.9951 - val_recall_2: 0.3668\n",
      "Epoch 574/1000\n",
      "1/1 [==============================] - 0s 45ms/step - loss: 0.3715 - accuracy: 0.8518 - precision_2: 0.9946 - recall_2: 0.3584 - val_loss: 0.3616 - val_accuracy: 0.8538 - val_precision_2: 0.9951 - val_recall_2: 0.3668\n",
      "Epoch 575/1000\n",
      "1/1 [==============================] - 0s 43ms/step - loss: 0.3712 - accuracy: 0.8515 - precision_2: 0.9952 - recall_2: 0.3580 - val_loss: 0.3615 - val_accuracy: 0.8539 - val_precision_2: 0.9951 - val_recall_2: 0.3668\n",
      "Epoch 576/1000\n",
      "1/1 [==============================] - 0s 41ms/step - loss: 0.3712 - accuracy: 0.8517 - precision_2: 0.9943 - recall_2: 0.3587 - val_loss: 0.3615 - val_accuracy: 0.8539 - val_precision_2: 0.9951 - val_recall_2: 0.3669\n",
      "Epoch 577/1000\n",
      "1/1 [==============================] - 0s 38ms/step - loss: 0.3711 - accuracy: 0.8517 - precision_2: 0.9949 - recall_2: 0.3580 - val_loss: 0.3614 - val_accuracy: 0.8539 - val_precision_2: 0.9951 - val_recall_2: 0.3669\n",
      "Epoch 578/1000\n",
      "1/1 [==============================] - 0s 40ms/step - loss: 0.3708 - accuracy: 0.8518 - precision_2: 0.9944 - recall_2: 0.3587 - val_loss: 0.3614 - val_accuracy: 0.8540 - val_precision_2: 0.9951 - val_recall_2: 0.3669\n",
      "Epoch 579/1000\n",
      "1/1 [==============================] - 0s 45ms/step - loss: 0.3711 - accuracy: 0.8519 - precision_2: 0.9945 - recall_2: 0.3585 - val_loss: 0.3614 - val_accuracy: 0.8538 - val_precision_2: 0.9951 - val_recall_2: 0.3668\n",
      "Epoch 580/1000\n",
      "1/1 [==============================] - 0s 40ms/step - loss: 0.3710 - accuracy: 0.8518 - precision_2: 0.9947 - recall_2: 0.3584 - val_loss: 0.3615 - val_accuracy: 0.8540 - val_precision_2: 0.9951 - val_recall_2: 0.3669\n",
      "Epoch 581/1000\n",
      "1/1 [==============================] - 0s 38ms/step - loss: 0.3709 - accuracy: 0.8519 - precision_2: 0.9951 - recall_2: 0.3584 - val_loss: 0.3615 - val_accuracy: 0.8537 - val_precision_2: 0.9952 - val_recall_2: 0.3667\n",
      "Epoch 582/1000\n",
      "1/1 [==============================] - 0s 34ms/step - loss: 0.3709 - accuracy: 0.8516 - precision_2: 0.9952 - recall_2: 0.3581 - val_loss: 0.3615 - val_accuracy: 0.8541 - val_precision_2: 0.9951 - val_recall_2: 0.3669\n",
      "Epoch 583/1000\n",
      "1/1 [==============================] - 0s 35ms/step - loss: 0.3711 - accuracy: 0.8521 - precision_2: 0.9942 - recall_2: 0.3588 - val_loss: 0.3614 - val_accuracy: 0.8537 - val_precision_2: 0.9951 - val_recall_2: 0.3668\n",
      "Epoch 584/1000\n",
      "1/1 [==============================] - 0s 36ms/step - loss: 0.3708 - accuracy: 0.8519 - precision_2: 0.9948 - recall_2: 0.3582 - val_loss: 0.3615 - val_accuracy: 0.8543 - val_precision_2: 0.9947 - val_recall_2: 0.3669\n",
      "Epoch 585/1000\n",
      "1/1 [==============================] - 0s 44ms/step - loss: 0.3711 - accuracy: 0.8520 - precision_2: 0.9940 - recall_2: 0.3584 - val_loss: 0.3613 - val_accuracy: 0.8537 - val_precision_2: 0.9951 - val_recall_2: 0.3668\n",
      "Epoch 586/1000\n",
      "1/1 [==============================] - 0s 38ms/step - loss: 0.3706 - accuracy: 0.8517 - precision_2: 0.9949 - recall_2: 0.3583 - val_loss: 0.3613 - val_accuracy: 0.8542 - val_precision_2: 0.9948 - val_recall_2: 0.3669\n",
      "Epoch 587/1000\n",
      "1/1 [==============================] - 0s 37ms/step - loss: 0.3709 - accuracy: 0.8520 - precision_2: 0.9939 - recall_2: 0.3589 - val_loss: 0.3613 - val_accuracy: 0.8537 - val_precision_2: 0.9951 - val_recall_2: 0.3668\n",
      "Epoch 588/1000\n",
      "1/1 [==============================] - 0s 37ms/step - loss: 0.3705 - accuracy: 0.8518 - precision_2: 0.9943 - recall_2: 0.3585 - val_loss: 0.3612 - val_accuracy: 0.8540 - val_precision_2: 0.9949 - val_recall_2: 0.3668\n",
      "Epoch 589/1000\n",
      "1/1 [==============================] - 0s 38ms/step - loss: 0.3707 - accuracy: 0.8519 - precision_2: 0.9949 - recall_2: 0.3585 - val_loss: 0.3610 - val_accuracy: 0.8539 - val_precision_2: 0.9951 - val_recall_2: 0.3668\n",
      "Epoch 590/1000\n"
     ]
    },
    {
     "name": "stdout",
     "output_type": "stream",
     "text": [
      "1/1 [==============================] - 0s 35ms/step - loss: 0.3703 - accuracy: 0.8515 - precision_2: 0.9947 - recall_2: 0.3587 - val_loss: 0.3609 - val_accuracy: 0.8540 - val_precision_2: 0.9951 - val_recall_2: 0.3668\n",
      "Epoch 591/1000\n",
      "1/1 [==============================] - 0s 47ms/step - loss: 0.3703 - accuracy: 0.8519 - precision_2: 0.9942 - recall_2: 0.3586 - val_loss: 0.3609 - val_accuracy: 0.8541 - val_precision_2: 0.9951 - val_recall_2: 0.3668\n",
      "Epoch 592/1000\n",
      "1/1 [==============================] - 0s 36ms/step - loss: 0.3704 - accuracy: 0.8519 - precision_2: 0.9936 - recall_2: 0.3587 - val_loss: 0.3609 - val_accuracy: 0.8539 - val_precision_2: 0.9951 - val_recall_2: 0.3668\n",
      "Epoch 593/1000\n",
      "1/1 [==============================] - 0s 62ms/step - loss: 0.3704 - accuracy: 0.8516 - precision_2: 0.9945 - recall_2: 0.3583 - val_loss: 0.3610 - val_accuracy: 0.8541 - val_precision_2: 0.9951 - val_recall_2: 0.3668\n",
      "Epoch 594/1000\n",
      "1/1 [==============================] - 0s 34ms/step - loss: 0.3706 - accuracy: 0.8517 - precision_2: 0.9946 - recall_2: 0.3581 - val_loss: 0.3608 - val_accuracy: 0.8539 - val_precision_2: 0.9951 - val_recall_2: 0.3668\n",
      "Epoch 595/1000\n",
      "1/1 [==============================] - 0s 34ms/step - loss: 0.3703 - accuracy: 0.8517 - precision_2: 0.9949 - recall_2: 0.3586 - val_loss: 0.3608 - val_accuracy: 0.8541 - val_precision_2: 0.9949 - val_recall_2: 0.3669\n",
      "Epoch 596/1000\n",
      "1/1 [==============================] - 0s 68ms/step - loss: 0.3701 - accuracy: 0.8517 - precision_2: 0.9937 - recall_2: 0.3585 - val_loss: 0.3607 - val_accuracy: 0.8540 - val_precision_2: 0.9951 - val_recall_2: 0.3668\n",
      "Epoch 597/1000\n",
      "1/1 [==============================] - 0s 49ms/step - loss: 0.3701 - accuracy: 0.8518 - precision_2: 0.9948 - recall_2: 0.3585 - val_loss: 0.3608 - val_accuracy: 0.8542 - val_precision_2: 0.9949 - val_recall_2: 0.3669\n",
      "Epoch 598/1000\n",
      "1/1 [==============================] - 0s 31ms/step - loss: 0.3702 - accuracy: 0.8519 - precision_2: 0.9941 - recall_2: 0.3587 - val_loss: 0.3608 - val_accuracy: 0.8540 - val_precision_2: 0.9952 - val_recall_2: 0.3668\n",
      "Epoch 599/1000\n",
      "1/1 [==============================] - 0s 31ms/step - loss: 0.3702 - accuracy: 0.8519 - precision_2: 0.9945 - recall_2: 0.3586 - val_loss: 0.3609 - val_accuracy: 0.8542 - val_precision_2: 0.9949 - val_recall_2: 0.3669\n",
      "Epoch 600/1000\n",
      "1/1 [==============================] - 0s 37ms/step - loss: 0.3700 - accuracy: 0.8523 - precision_2: 0.9939 - recall_2: 0.3593 - val_loss: 0.3607 - val_accuracy: 0.8538 - val_precision_2: 0.9952 - val_recall_2: 0.3668\n",
      "Epoch 601/1000\n",
      "1/1 [==============================] - 0s 39ms/step - loss: 0.3701 - accuracy: 0.8518 - precision_2: 0.9947 - recall_2: 0.3583 - val_loss: 0.3610 - val_accuracy: 0.8543 - val_precision_2: 0.9944 - val_recall_2: 0.3669\n",
      "Epoch 602/1000\n",
      "1/1 [==============================] - 0s 57ms/step - loss: 0.3702 - accuracy: 0.8523 - precision_2: 0.9934 - recall_2: 0.3587 - val_loss: 0.3609 - val_accuracy: 0.8538 - val_precision_2: 0.9952 - val_recall_2: 0.3668\n",
      "Epoch 603/1000\n",
      "1/1 [==============================] - 0s 38ms/step - loss: 0.3708 - accuracy: 0.8514 - precision_2: 0.9945 - recall_2: 0.3578 - val_loss: 0.3612 - val_accuracy: 0.8543 - val_precision_2: 0.9944 - val_recall_2: 0.3669\n",
      "Epoch 604/1000\n",
      "1/1 [==============================] - 0s 38ms/step - loss: 0.3705 - accuracy: 0.8523 - precision_2: 0.9939 - recall_2: 0.3594 - val_loss: 0.3610 - val_accuracy: 0.8537 - val_precision_2: 0.9952 - val_recall_2: 0.3668\n",
      "Epoch 605/1000\n",
      "1/1 [==============================] - 0s 32ms/step - loss: 0.3700 - accuracy: 0.8514 - precision_2: 0.9958 - recall_2: 0.3581 - val_loss: 0.3608 - val_accuracy: 0.8542 - val_precision_2: 0.9944 - val_recall_2: 0.3669\n",
      "Epoch 606/1000\n",
      "1/1 [==============================] - 0s 55ms/step - loss: 0.3700 - accuracy: 0.8521 - precision_2: 0.9939 - recall_2: 0.3591 - val_loss: 0.3604 - val_accuracy: 0.8539 - val_precision_2: 0.9952 - val_recall_2: 0.3668\n",
      "Epoch 607/1000\n",
      "1/1 [==============================] - 0s 33ms/step - loss: 0.3701 - accuracy: 0.8515 - precision_2: 0.9941 - recall_2: 0.3580 - val_loss: 0.3603 - val_accuracy: 0.8541 - val_precision_2: 0.9949 - val_recall_2: 0.3669\n",
      "Epoch 608/1000\n",
      "1/1 [==============================] - 0s 35ms/step - loss: 0.3697 - accuracy: 0.8518 - precision_2: 0.9946 - recall_2: 0.3585 - val_loss: 0.3603 - val_accuracy: 0.8541 - val_precision_2: 0.9949 - val_recall_2: 0.3669\n",
      "Epoch 609/1000\n",
      "1/1 [==============================] - 0s 40ms/step - loss: 0.3696 - accuracy: 0.8518 - precision_2: 0.9941 - recall_2: 0.3588 - val_loss: 0.3604 - val_accuracy: 0.8539 - val_precision_2: 0.9952 - val_recall_2: 0.3668\n",
      "Epoch 610/1000\n",
      "1/1 [==============================] - 0s 44ms/step - loss: 0.3697 - accuracy: 0.8517 - precision_2: 0.9947 - recall_2: 0.3586 - val_loss: 0.3605 - val_accuracy: 0.8542 - val_precision_2: 0.9949 - val_recall_2: 0.3669\n",
      "Epoch 611/1000\n",
      "1/1 [==============================] - 0s 46ms/step - loss: 0.3696 - accuracy: 0.8523 - precision_2: 0.9941 - recall_2: 0.3593 - val_loss: 0.3603 - val_accuracy: 0.8540 - val_precision_2: 0.9952 - val_recall_2: 0.3668\n",
      "Epoch 612/1000\n",
      "1/1 [==============================] - 0s 41ms/step - loss: 0.3699 - accuracy: 0.8516 - precision_2: 0.9952 - recall_2: 0.3583 - val_loss: 0.3604 - val_accuracy: 0.8543 - val_precision_2: 0.9948 - val_recall_2: 0.3669\n",
      "Epoch 613/1000\n",
      "1/1 [==============================] - 0s 32ms/step - loss: 0.3699 - accuracy: 0.8521 - precision_2: 0.9943 - recall_2: 0.3588 - val_loss: 0.3603 - val_accuracy: 0.8539 - val_precision_2: 0.9952 - val_recall_2: 0.3668\n",
      "Epoch 614/1000\n",
      "1/1 [==============================] - 0s 32ms/step - loss: 0.3693 - accuracy: 0.8519 - precision_2: 0.9950 - recall_2: 0.3588 - val_loss: 0.3602 - val_accuracy: 0.8542 - val_precision_2: 0.9952 - val_recall_2: 0.3668\n",
      "Epoch 615/1000\n",
      "1/1 [==============================] - 0s 45ms/step - loss: 0.3695 - accuracy: 0.8520 - precision_2: 0.9949 - recall_2: 0.3590 - val_loss: 0.3600 - val_accuracy: 0.8541 - val_precision_2: 0.9952 - val_recall_2: 0.3668\n",
      "Epoch 616/1000\n",
      "1/1 [==============================] - 0s 46ms/step - loss: 0.3694 - accuracy: 0.8520 - precision_2: 0.9945 - recall_2: 0.3585 - val_loss: 0.3599 - val_accuracy: 0.8541 - val_precision_2: 0.9952 - val_recall_2: 0.3669\n",
      "Epoch 617/1000\n",
      "1/1 [==============================] - 0s 46ms/step - loss: 0.3693 - accuracy: 0.8520 - precision_2: 0.9941 - recall_2: 0.3585 - val_loss: 0.3600 - val_accuracy: 0.8542 - val_precision_2: 0.9948 - val_recall_2: 0.3669\n",
      "Epoch 618/1000\n",
      "1/1 [==============================] - 0s 40ms/step - loss: 0.3692 - accuracy: 0.8518 - precision_2: 0.9942 - recall_2: 0.3590 - val_loss: 0.3600 - val_accuracy: 0.8540 - val_precision_2: 0.9952 - val_recall_2: 0.3669\n",
      "Epoch 619/1000\n",
      "1/1 [==============================] - 0s 43ms/step - loss: 0.3691 - accuracy: 0.8519 - precision_2: 0.9949 - recall_2: 0.3587 - val_loss: 0.3601 - val_accuracy: 0.8543 - val_precision_2: 0.9947 - val_recall_2: 0.3669\n",
      "Epoch 620/1000\n",
      "1/1 [==============================] - 0s 40ms/step - loss: 0.3693 - accuracy: 0.8522 - precision_2: 0.9936 - recall_2: 0.3592 - val_loss: 0.3601 - val_accuracy: 0.8540 - val_precision_2: 0.9952 - val_recall_2: 0.3668\n",
      "Epoch 621/1000\n",
      "1/1 [==============================] - 0s 31ms/step - loss: 0.3697 - accuracy: 0.8516 - precision_2: 0.9947 - recall_2: 0.3587 - val_loss: 0.3602 - val_accuracy: 0.8543 - val_precision_2: 0.9947 - val_recall_2: 0.3669\n",
      "Epoch 622/1000\n",
      "1/1 [==============================] - 0s 43ms/step - loss: 0.3694 - accuracy: 0.8522 - precision_2: 0.9936 - recall_2: 0.3589 - val_loss: 0.3599 - val_accuracy: 0.8541 - val_precision_2: 0.9952 - val_recall_2: 0.3668\n",
      "Epoch 623/1000\n",
      "1/1 [==============================] - 0s 45ms/step - loss: 0.3691 - accuracy: 0.8519 - precision_2: 0.9946 - recall_2: 0.3586 - val_loss: 0.3597 - val_accuracy: 0.8543 - val_precision_2: 0.9948 - val_recall_2: 0.3669\n",
      "Epoch 624/1000\n",
      "1/1 [==============================] - 0s 34ms/step - loss: 0.3692 - accuracy: 0.8520 - precision_2: 0.9944 - recall_2: 0.3589 - val_loss: 0.3596 - val_accuracy: 0.8543 - val_precision_2: 0.9949 - val_recall_2: 0.3668\n",
      "Epoch 625/1000\n"
     ]
    },
    {
     "name": "stdout",
     "output_type": "stream",
     "text": [
      "1/1 [==============================] - 0s 48ms/step - loss: 0.3689 - accuracy: 0.8519 - precision_2: 0.9938 - recall_2: 0.3589 - val_loss: 0.3596 - val_accuracy: 0.8541 - val_precision_2: 0.9949 - val_recall_2: 0.3668\n",
      "Epoch 626/1000\n",
      "1/1 [==============================] - 0s 33ms/step - loss: 0.3691 - accuracy: 0.8519 - precision_2: 0.9945 - recall_2: 0.3587 - val_loss: 0.3598 - val_accuracy: 0.8543 - val_precision_2: 0.9947 - val_recall_2: 0.3669\n",
      "Epoch 627/1000\n",
      "1/1 [==============================] - 0s 33ms/step - loss: 0.3692 - accuracy: 0.8523 - precision_2: 0.9940 - recall_2: 0.3591 - val_loss: 0.3598 - val_accuracy: 0.8539 - val_precision_2: 0.9952 - val_recall_2: 0.3668\n",
      "Epoch 628/1000\n",
      "1/1 [==============================] - 0s 34ms/step - loss: 0.3690 - accuracy: 0.8515 - precision_2: 0.9947 - recall_2: 0.3585 - val_loss: 0.3599 - val_accuracy: 0.8542 - val_precision_2: 0.9947 - val_recall_2: 0.3669\n",
      "Epoch 629/1000\n",
      "1/1 [==============================] - 0s 34ms/step - loss: 0.3691 - accuracy: 0.8523 - precision_2: 0.9940 - recall_2: 0.3586 - val_loss: 0.3596 - val_accuracy: 0.8541 - val_precision_2: 0.9952 - val_recall_2: 0.3668\n",
      "Epoch 630/1000\n",
      "1/1 [==============================] - 0s 45ms/step - loss: 0.3693 - accuracy: 0.8517 - precision_2: 0.9941 - recall_2: 0.3582 - val_loss: 0.3595 - val_accuracy: 0.8542 - val_precision_2: 0.9944 - val_recall_2: 0.3669\n",
      "Epoch 631/1000\n",
      "1/1 [==============================] - 0s 44ms/step - loss: 0.3687 - accuracy: 0.8522 - precision_2: 0.9938 - recall_2: 0.3592 - val_loss: 0.3593 - val_accuracy: 0.8542 - val_precision_2: 0.9947 - val_recall_2: 0.3669\n",
      "Epoch 632/1000\n",
      "1/1 [==============================] - 0s 36ms/step - loss: 0.3687 - accuracy: 0.8520 - precision_2: 0.9939 - recall_2: 0.3590 - val_loss: 0.3593 - val_accuracy: 0.8542 - val_precision_2: 0.9948 - val_recall_2: 0.3669\n",
      "Epoch 633/1000\n",
      "1/1 [==============================] - 0s 38ms/step - loss: 0.3690 - accuracy: 0.8518 - precision_2: 0.9941 - recall_2: 0.3588 - val_loss: 0.3595 - val_accuracy: 0.8542 - val_precision_2: 0.9946 - val_recall_2: 0.3669\n",
      "Epoch 634/1000\n",
      "1/1 [==============================] - 0s 29ms/step - loss: 0.3686 - accuracy: 0.8520 - precision_2: 0.9937 - recall_2: 0.3586 - val_loss: 0.3595 - val_accuracy: 0.8541 - val_precision_2: 0.9951 - val_recall_2: 0.3668\n",
      "Epoch 635/1000\n",
      "1/1 [==============================] - 0s 40ms/step - loss: 0.3689 - accuracy: 0.8519 - precision_2: 0.9940 - recall_2: 0.3587 - val_loss: 0.3597 - val_accuracy: 0.8544 - val_precision_2: 0.9944 - val_recall_2: 0.3669\n",
      "Epoch 636/1000\n",
      "1/1 [==============================] - 0s 35ms/step - loss: 0.3687 - accuracy: 0.8522 - precision_2: 0.9940 - recall_2: 0.3592 - val_loss: 0.3594 - val_accuracy: 0.8541 - val_precision_2: 0.9951 - val_recall_2: 0.3669\n",
      "Epoch 637/1000\n",
      "1/1 [==============================] - 0s 38ms/step - loss: 0.3687 - accuracy: 0.8517 - precision_2: 0.9944 - recall_2: 0.3585 - val_loss: 0.3593 - val_accuracy: 0.8544 - val_precision_2: 0.9943 - val_recall_2: 0.3669\n",
      "Epoch 638/1000\n",
      "1/1 [==============================] - 0s 29ms/step - loss: 0.3688 - accuracy: 0.8523 - precision_2: 0.9932 - recall_2: 0.3587 - val_loss: 0.3591 - val_accuracy: 0.8542 - val_precision_2: 0.9949 - val_recall_2: 0.3669\n",
      "Epoch 639/1000\n",
      "1/1 [==============================] - 0s 35ms/step - loss: 0.3686 - accuracy: 0.8518 - precision_2: 0.9944 - recall_2: 0.3587 - val_loss: 0.3591 - val_accuracy: 0.8543 - val_precision_2: 0.9948 - val_recall_2: 0.3669\n",
      "Epoch 640/1000\n",
      "1/1 [==============================] - 0s 39ms/step - loss: 0.3686 - accuracy: 0.8520 - precision_2: 0.9934 - recall_2: 0.3589 - val_loss: 0.3591 - val_accuracy: 0.8542 - val_precision_2: 0.9949 - val_recall_2: 0.3669\n",
      "Epoch 641/1000\n",
      "1/1 [==============================] - 0s 43ms/step - loss: 0.3683 - accuracy: 0.8520 - precision_2: 0.9940 - recall_2: 0.3592 - val_loss: 0.3590 - val_accuracy: 0.8541 - val_precision_2: 0.9949 - val_recall_2: 0.3669\n",
      "Epoch 642/1000\n",
      "1/1 [==============================] - 0s 35ms/step - loss: 0.3683 - accuracy: 0.8519 - precision_2: 0.9941 - recall_2: 0.3586 - val_loss: 0.3590 - val_accuracy: 0.8542 - val_precision_2: 0.9944 - val_recall_2: 0.3669\n",
      "Epoch 643/1000\n",
      "1/1 [==============================] - 0s 44ms/step - loss: 0.3683 - accuracy: 0.8521 - precision_2: 0.9940 - recall_2: 0.3589 - val_loss: 0.3590 - val_accuracy: 0.8541 - val_precision_2: 0.9948 - val_recall_2: 0.3669\n",
      "Epoch 644/1000\n",
      "1/1 [==============================] - 0s 29ms/step - loss: 0.3683 - accuracy: 0.8519 - precision_2: 0.9934 - recall_2: 0.3588 - val_loss: 0.3590 - val_accuracy: 0.8543 - val_precision_2: 0.9943 - val_recall_2: 0.3669\n",
      "Epoch 645/1000\n",
      "1/1 [==============================] - 0s 33ms/step - loss: 0.3684 - accuracy: 0.8521 - precision_2: 0.9935 - recall_2: 0.3593 - val_loss: 0.3589 - val_accuracy: 0.8542 - val_precision_2: 0.9949 - val_recall_2: 0.3669\n",
      "Epoch 646/1000\n",
      "1/1 [==============================] - 0s 38ms/step - loss: 0.3683 - accuracy: 0.8520 - precision_2: 0.9939 - recall_2: 0.3586 - val_loss: 0.3588 - val_accuracy: 0.8544 - val_precision_2: 0.9944 - val_recall_2: 0.3669\n",
      "Epoch 647/1000\n",
      "1/1 [==============================] - 0s 35ms/step - loss: 0.3681 - accuracy: 0.8523 - precision_2: 0.9935 - recall_2: 0.3596 - val_loss: 0.3588 - val_accuracy: 0.8542 - val_precision_2: 0.9949 - val_recall_2: 0.3669\n",
      "Epoch 648/1000\n",
      "1/1 [==============================] - 0s 42ms/step - loss: 0.3680 - accuracy: 0.8520 - precision_2: 0.9941 - recall_2: 0.3590 - val_loss: 0.3588 - val_accuracy: 0.8543 - val_precision_2: 0.9947 - val_recall_2: 0.3669\n",
      "Epoch 649/1000\n",
      "1/1 [==============================] - 0s 26ms/step - loss: 0.3682 - accuracy: 0.8522 - precision_2: 0.9940 - recall_2: 0.3588 - val_loss: 0.3588 - val_accuracy: 0.8542 - val_precision_2: 0.9949 - val_recall_2: 0.3669\n",
      "Epoch 650/1000\n",
      "1/1 [==============================] - 0s 44ms/step - loss: 0.3679 - accuracy: 0.8521 - precision_2: 0.9943 - recall_2: 0.3590 - val_loss: 0.3588 - val_accuracy: 0.8542 - val_precision_2: 0.9948 - val_recall_2: 0.3669\n",
      "Epoch 651/1000\n",
      "1/1 [==============================] - 0s 34ms/step - loss: 0.3681 - accuracy: 0.8522 - precision_2: 0.9940 - recall_2: 0.3594 - val_loss: 0.3586 - val_accuracy: 0.8542 - val_precision_2: 0.9948 - val_recall_2: 0.3669\n",
      "Epoch 652/1000\n",
      "1/1 [==============================] - 0s 34ms/step - loss: 0.3679 - accuracy: 0.8521 - precision_2: 0.9942 - recall_2: 0.3593 - val_loss: 0.3585 - val_accuracy: 0.8543 - val_precision_2: 0.9944 - val_recall_2: 0.3669\n",
      "Epoch 653/1000\n",
      "1/1 [==============================] - 0s 31ms/step - loss: 0.3677 - accuracy: 0.8522 - precision_2: 0.9939 - recall_2: 0.3592 - val_loss: 0.3586 - val_accuracy: 0.8543 - val_precision_2: 0.9946 - val_recall_2: 0.3669\n",
      "Epoch 654/1000\n",
      "1/1 [==============================] - 0s 38ms/step - loss: 0.3676 - accuracy: 0.8521 - precision_2: 0.9937 - recall_2: 0.3589 - val_loss: 0.3586 - val_accuracy: 0.8542 - val_precision_2: 0.9947 - val_recall_2: 0.3669\n",
      "Epoch 655/1000\n",
      "1/1 [==============================] - 0s 38ms/step - loss: 0.3680 - accuracy: 0.8519 - precision_2: 0.9940 - recall_2: 0.3588 - val_loss: 0.3588 - val_accuracy: 0.8544 - val_precision_2: 0.9944 - val_recall_2: 0.3669\n",
      "Epoch 656/1000\n",
      "1/1 [==============================] - 0s 34ms/step - loss: 0.3680 - accuracy: 0.8523 - precision_2: 0.9936 - recall_2: 0.3591 - val_loss: 0.3589 - val_accuracy: 0.8540 - val_precision_2: 0.9949 - val_recall_2: 0.3669\n",
      "Epoch 657/1000\n",
      "1/1 [==============================] - 0s 35ms/step - loss: 0.3681 - accuracy: 0.8520 - precision_2: 0.9945 - recall_2: 0.3587 - val_loss: 0.3593 - val_accuracy: 0.8548 - val_precision_2: 0.9939 - val_recall_2: 0.3671\n",
      "Epoch 658/1000\n",
      "1/1 [==============================] - 0s 47ms/step - loss: 0.3687 - accuracy: 0.8524 - precision_2: 0.9927 - recall_2: 0.3593 - val_loss: 0.3596 - val_accuracy: 0.8539 - val_precision_2: 0.9951 - val_recall_2: 0.3668\n",
      "Epoch 659/1000\n",
      "1/1 [==============================] - 0s 47ms/step - loss: 0.3690 - accuracy: 0.8517 - precision_2: 0.9943 - recall_2: 0.3587 - val_loss: 0.3597 - val_accuracy: 0.8549 - val_precision_2: 0.9939 - val_recall_2: 0.3671\n",
      "Epoch 660/1000\n"
     ]
    },
    {
     "name": "stdout",
     "output_type": "stream",
     "text": [
      "1/1 [==============================] - 0s 39ms/step - loss: 0.3689 - accuracy: 0.8523 - precision_2: 0.9925 - recall_2: 0.3596 - val_loss: 0.3591 - val_accuracy: 0.8540 - val_precision_2: 0.9949 - val_recall_2: 0.3668\n",
      "Epoch 661/1000\n",
      "1/1 [==============================] - 0s 32ms/step - loss: 0.3686 - accuracy: 0.8518 - precision_2: 0.9946 - recall_2: 0.3581 - val_loss: 0.3586 - val_accuracy: 0.8544 - val_precision_2: 0.9947 - val_recall_2: 0.3669\n",
      "Epoch 662/1000\n",
      "1/1 [==============================] - 0s 32ms/step - loss: 0.3677 - accuracy: 0.8523 - precision_2: 0.9939 - recall_2: 0.3592 - val_loss: 0.3584 - val_accuracy: 0.8544 - val_precision_2: 0.9942 - val_recall_2: 0.3669\n",
      "Epoch 663/1000\n",
      "1/1 [==============================] - 0s 33ms/step - loss: 0.3676 - accuracy: 0.8523 - precision_2: 0.9933 - recall_2: 0.3593 - val_loss: 0.3587 - val_accuracy: 0.8541 - val_precision_2: 0.9949 - val_recall_2: 0.3669\n",
      "Epoch 664/1000\n",
      "1/1 [==============================] - 0s 40ms/step - loss: 0.3679 - accuracy: 0.8519 - precision_2: 0.9937 - recall_2: 0.3589 - val_loss: 0.3592 - val_accuracy: 0.8549 - val_precision_2: 0.9937 - val_recall_2: 0.3672\n",
      "Epoch 665/1000\n",
      "1/1 [==============================] - 0s 32ms/step - loss: 0.3686 - accuracy: 0.8525 - precision_2: 0.9921 - recall_2: 0.3601 - val_loss: 0.3594 - val_accuracy: 0.8539 - val_precision_2: 0.9949 - val_recall_2: 0.3668\n",
      "Epoch 666/1000\n",
      "1/1 [==============================] - 0s 31ms/step - loss: 0.3688 - accuracy: 0.8518 - precision_2: 0.9945 - recall_2: 0.3588 - val_loss: 0.3588 - val_accuracy: 0.8545 - val_precision_2: 0.9944 - val_recall_2: 0.3670\n",
      "Epoch 667/1000\n",
      "1/1 [==============================] - 0s 32ms/step - loss: 0.3677 - accuracy: 0.8523 - precision_2: 0.9938 - recall_2: 0.3596 - val_loss: 0.3582 - val_accuracy: 0.8543 - val_precision_2: 0.9949 - val_recall_2: 0.3669\n",
      "Epoch 668/1000\n",
      "1/1 [==============================] - 0s 50ms/step - loss: 0.3673 - accuracy: 0.8521 - precision_2: 0.9942 - recall_2: 0.3592 - val_loss: 0.3582 - val_accuracy: 0.8542 - val_precision_2: 0.9949 - val_recall_2: 0.3669\n",
      "Epoch 669/1000\n",
      "1/1 [==============================] - 0s 41ms/step - loss: 0.3676 - accuracy: 0.8519 - precision_2: 0.9944 - recall_2: 0.3587 - val_loss: 0.3585 - val_accuracy: 0.8548 - val_precision_2: 0.9938 - val_recall_2: 0.3672\n",
      "Epoch 670/1000\n",
      "1/1 [==============================] - 0s 37ms/step - loss: 0.3678 - accuracy: 0.8525 - precision_2: 0.9928 - recall_2: 0.3598 - val_loss: 0.3584 - val_accuracy: 0.8541 - val_precision_2: 0.9949 - val_recall_2: 0.3668\n",
      "Epoch 671/1000\n",
      "1/1 [==============================] - 0s 37ms/step - loss: 0.3676 - accuracy: 0.8519 - precision_2: 0.9946 - recall_2: 0.3588 - val_loss: 0.3581 - val_accuracy: 0.8546 - val_precision_2: 0.9946 - val_recall_2: 0.3670\n",
      "Epoch 672/1000\n",
      "1/1 [==============================] - 0s 56ms/step - loss: 0.3673 - accuracy: 0.8524 - precision_2: 0.9938 - recall_2: 0.3594 - val_loss: 0.3580 - val_accuracy: 0.8544 - val_precision_2: 0.9947 - val_recall_2: 0.3670\n",
      "Epoch 673/1000\n",
      "1/1 [==============================] - 0s 36ms/step - loss: 0.3671 - accuracy: 0.8523 - precision_2: 0.9939 - recall_2: 0.3595 - val_loss: 0.3581 - val_accuracy: 0.8542 - val_precision_2: 0.9948 - val_recall_2: 0.3669\n",
      "Epoch 674/1000\n",
      "1/1 [==============================] - 0s 48ms/step - loss: 0.3673 - accuracy: 0.8522 - precision_2: 0.9939 - recall_2: 0.3590 - val_loss: 0.3582 - val_accuracy: 0.8546 - val_precision_2: 0.9939 - val_recall_2: 0.3671\n",
      "Epoch 675/1000\n",
      "1/1 [==============================] - 0s 32ms/step - loss: 0.3675 - accuracy: 0.8522 - precision_2: 0.9932 - recall_2: 0.3595 - val_loss: 0.3579 - val_accuracy: 0.8543 - val_precision_2: 0.9948 - val_recall_2: 0.3669\n",
      "Epoch 676/1000\n",
      "1/1 [==============================] - 0s 35ms/step - loss: 0.3673 - accuracy: 0.8522 - precision_2: 0.9936 - recall_2: 0.3587 - val_loss: 0.3577 - val_accuracy: 0.8545 - val_precision_2: 0.9946 - val_recall_2: 0.3670\n",
      "Epoch 677/1000\n",
      "1/1 [==============================] - 0s 36ms/step - loss: 0.3671 - accuracy: 0.8522 - precision_2: 0.9933 - recall_2: 0.3594 - val_loss: 0.3577 - val_accuracy: 0.8545 - val_precision_2: 0.9943 - val_recall_2: 0.3670\n",
      "Epoch 678/1000\n",
      "1/1 [==============================] - 0s 40ms/step - loss: 0.3669 - accuracy: 0.8523 - precision_2: 0.9933 - recall_2: 0.3596 - val_loss: 0.3578 - val_accuracy: 0.8542 - val_precision_2: 0.9947 - val_recall_2: 0.3669\n",
      "Epoch 679/1000\n",
      "1/1 [==============================] - 0s 31ms/step - loss: 0.3668 - accuracy: 0.8523 - precision_2: 0.9940 - recall_2: 0.3595 - val_loss: 0.3578 - val_accuracy: 0.8546 - val_precision_2: 0.9941 - val_recall_2: 0.3671\n",
      "Epoch 680/1000\n",
      "1/1 [==============================] - 0s 37ms/step - loss: 0.3668 - accuracy: 0.8526 - precision_2: 0.9926 - recall_2: 0.3603 - val_loss: 0.3577 - val_accuracy: 0.8542 - val_precision_2: 0.9948 - val_recall_2: 0.3670\n",
      "Epoch 681/1000\n",
      "1/1 [==============================] - 0s 32ms/step - loss: 0.3670 - accuracy: 0.8522 - precision_2: 0.9937 - recall_2: 0.3593 - val_loss: 0.3576 - val_accuracy: 0.8545 - val_precision_2: 0.9943 - val_recall_2: 0.3670\n",
      "Epoch 682/1000\n",
      "1/1 [==============================] - 0s 41ms/step - loss: 0.3668 - accuracy: 0.8524 - precision_2: 0.9929 - recall_2: 0.3599 - val_loss: 0.3577 - val_accuracy: 0.8544 - val_precision_2: 0.9944 - val_recall_2: 0.3670\n",
      "Epoch 683/1000\n",
      "1/1 [==============================] - 0s 34ms/step - loss: 0.3667 - accuracy: 0.8523 - precision_2: 0.9935 - recall_2: 0.3595 - val_loss: 0.3577 - val_accuracy: 0.8541 - val_precision_2: 0.9947 - val_recall_2: 0.3669\n",
      "Epoch 684/1000\n",
      "1/1 [==============================] - 0s 33ms/step - loss: 0.3668 - accuracy: 0.8521 - precision_2: 0.9937 - recall_2: 0.3591 - val_loss: 0.3576 - val_accuracy: 0.8546 - val_precision_2: 0.9938 - val_recall_2: 0.3671\n",
      "Epoch 685/1000\n",
      "1/1 [==============================] - 0s 35ms/step - loss: 0.3668 - accuracy: 0.8523 - precision_2: 0.9926 - recall_2: 0.3597 - val_loss: 0.3573 - val_accuracy: 0.8543 - val_precision_2: 0.9943 - val_recall_2: 0.3670\n",
      "Epoch 686/1000\n",
      "1/1 [==============================] - 0s 33ms/step - loss: 0.3666 - accuracy: 0.8523 - precision_2: 0.9932 - recall_2: 0.3595 - val_loss: 0.3572 - val_accuracy: 0.8545 - val_precision_2: 0.9942 - val_recall_2: 0.3671\n",
      "Epoch 687/1000\n",
      "1/1 [==============================] - 0s 34ms/step - loss: 0.3669 - accuracy: 0.8525 - precision_2: 0.9932 - recall_2: 0.3595 - val_loss: 0.3573 - val_accuracy: 0.8546 - val_precision_2: 0.9942 - val_recall_2: 0.3671\n",
      "Epoch 688/1000\n",
      "1/1 [==============================] - 0s 45ms/step - loss: 0.3667 - accuracy: 0.8525 - precision_2: 0.9932 - recall_2: 0.3599 - val_loss: 0.3574 - val_accuracy: 0.8544 - val_precision_2: 0.9947 - val_recall_2: 0.3670\n",
      "Epoch 689/1000\n",
      "1/1 [==============================] - 0s 36ms/step - loss: 0.3665 - accuracy: 0.8522 - precision_2: 0.9937 - recall_2: 0.3594 - val_loss: 0.3575 - val_accuracy: 0.8547 - val_precision_2: 0.9939 - val_recall_2: 0.3672\n",
      "Epoch 690/1000\n",
      "1/1 [==============================] - 0s 44ms/step - loss: 0.3665 - accuracy: 0.8527 - precision_2: 0.9936 - recall_2: 0.3598 - val_loss: 0.3572 - val_accuracy: 0.8545 - val_precision_2: 0.9941 - val_recall_2: 0.3672\n",
      "Epoch 691/1000\n",
      "1/1 [==============================] - 0s 41ms/step - loss: 0.3664 - accuracy: 0.8524 - precision_2: 0.9932 - recall_2: 0.3598 - val_loss: 0.3570 - val_accuracy: 0.8547 - val_precision_2: 0.9939 - val_recall_2: 0.3672\n",
      "Epoch 692/1000\n",
      "1/1 [==============================] - 0s 43ms/step - loss: 0.3667 - accuracy: 0.8525 - precision_2: 0.9928 - recall_2: 0.3599 - val_loss: 0.3570 - val_accuracy: 0.8545 - val_precision_2: 0.9939 - val_recall_2: 0.3672\n",
      "Epoch 693/1000\n",
      "1/1 [==============================] - 0s 42ms/step - loss: 0.3662 - accuracy: 0.8524 - precision_2: 0.9931 - recall_2: 0.3599 - val_loss: 0.3570 - val_accuracy: 0.8544 - val_precision_2: 0.9941 - val_recall_2: 0.3671\n",
      "Epoch 694/1000\n",
      "1/1 [==============================] - 0s 42ms/step - loss: 0.3662 - accuracy: 0.8522 - precision_2: 0.9933 - recall_2: 0.3594 - val_loss: 0.3572 - val_accuracy: 0.8548 - val_precision_2: 0.9937 - val_recall_2: 0.3672\n",
      "Epoch 695/1000\n"
     ]
    },
    {
     "name": "stdout",
     "output_type": "stream",
     "text": [
      "1/1 [==============================] - 0s 38ms/step - loss: 0.3668 - accuracy: 0.8524 - precision_2: 0.9920 - recall_2: 0.3597 - val_loss: 0.3572 - val_accuracy: 0.8543 - val_precision_2: 0.9944 - val_recall_2: 0.3671\n",
      "Epoch 696/1000\n",
      "1/1 [==============================] - 0s 39ms/step - loss: 0.3662 - accuracy: 0.8523 - precision_2: 0.9932 - recall_2: 0.3597 - val_loss: 0.3571 - val_accuracy: 0.8547 - val_precision_2: 0.9939 - val_recall_2: 0.3673\n",
      "Epoch 697/1000\n",
      "1/1 [==============================] - 0s 43ms/step - loss: 0.3662 - accuracy: 0.8526 - precision_2: 0.9928 - recall_2: 0.3598 - val_loss: 0.3568 - val_accuracy: 0.8545 - val_precision_2: 0.9941 - val_recall_2: 0.3671\n",
      "Epoch 698/1000\n",
      "1/1 [==============================] - 0s 58ms/step - loss: 0.3664 - accuracy: 0.8523 - precision_2: 0.9930 - recall_2: 0.3595 - val_loss: 0.3567 - val_accuracy: 0.8547 - val_precision_2: 0.9939 - val_recall_2: 0.3673\n",
      "Epoch 699/1000\n",
      "1/1 [==============================] - 0s 47ms/step - loss: 0.3661 - accuracy: 0.8525 - precision_2: 0.9929 - recall_2: 0.3601 - val_loss: 0.3567 - val_accuracy: 0.8548 - val_precision_2: 0.9939 - val_recall_2: 0.3672\n",
      "Epoch 700/1000\n",
      "1/1 [==============================] - 0s 39ms/step - loss: 0.3661 - accuracy: 0.8525 - precision_2: 0.9922 - recall_2: 0.3601 - val_loss: 0.3569 - val_accuracy: 0.8547 - val_precision_2: 0.9943 - val_recall_2: 0.3671\n",
      "Epoch 701/1000\n",
      "1/1 [==============================] - 0s 30ms/step - loss: 0.3659 - accuracy: 0.8524 - precision_2: 0.9936 - recall_2: 0.3598 - val_loss: 0.3569 - val_accuracy: 0.8548 - val_precision_2: 0.9941 - val_recall_2: 0.3671\n",
      "Epoch 702/1000\n",
      "1/1 [==============================] - 0s 34ms/step - loss: 0.3658 - accuracy: 0.8526 - precision_2: 0.9933 - recall_2: 0.3600 - val_loss: 0.3568 - val_accuracy: 0.8546 - val_precision_2: 0.9943 - val_recall_2: 0.3671\n",
      "Epoch 703/1000\n",
      "1/1 [==============================] - 0s 32ms/step - loss: 0.3660 - accuracy: 0.8523 - precision_2: 0.9935 - recall_2: 0.3600 - val_loss: 0.3567 - val_accuracy: 0.8547 - val_precision_2: 0.9939 - val_recall_2: 0.3671\n",
      "Epoch 704/1000\n",
      "1/1 [==============================] - 0s 31ms/step - loss: 0.3660 - accuracy: 0.8527 - precision_2: 0.9931 - recall_2: 0.3598 - val_loss: 0.3565 - val_accuracy: 0.8546 - val_precision_2: 0.9943 - val_recall_2: 0.3671\n",
      "Epoch 705/1000\n",
      "1/1 [==============================] - 0s 44ms/step - loss: 0.3661 - accuracy: 0.8522 - precision_2: 0.9940 - recall_2: 0.3596 - val_loss: 0.3565 - val_accuracy: 0.8547 - val_precision_2: 0.9942 - val_recall_2: 0.3672\n",
      "Epoch 706/1000\n",
      "1/1 [==============================] - 0s 30ms/step - loss: 0.3656 - accuracy: 0.8524 - precision_2: 0.9932 - recall_2: 0.3599 - val_loss: 0.3565 - val_accuracy: 0.8547 - val_precision_2: 0.9941 - val_recall_2: 0.3672\n",
      "Epoch 707/1000\n",
      "1/1 [==============================] - 0s 37ms/step - loss: 0.3655 - accuracy: 0.8524 - precision_2: 0.9932 - recall_2: 0.3600 - val_loss: 0.3564 - val_accuracy: 0.8548 - val_precision_2: 0.9939 - val_recall_2: 0.3672\n",
      "Epoch 708/1000\n",
      "1/1 [==============================] - 0s 48ms/step - loss: 0.3655 - accuracy: 0.8524 - precision_2: 0.9928 - recall_2: 0.3603 - val_loss: 0.3563 - val_accuracy: 0.8548 - val_precision_2: 0.9938 - val_recall_2: 0.3672\n",
      "Epoch 709/1000\n",
      "1/1 [==============================] - 0s 42ms/step - loss: 0.3659 - accuracy: 0.8523 - precision_2: 0.9931 - recall_2: 0.3598 - val_loss: 0.3563 - val_accuracy: 0.8546 - val_precision_2: 0.9939 - val_recall_2: 0.3672\n",
      "Epoch 710/1000\n",
      "1/1 [==============================] - 0s 42ms/step - loss: 0.3655 - accuracy: 0.8526 - precision_2: 0.9930 - recall_2: 0.3600 - val_loss: 0.3563 - val_accuracy: 0.8546 - val_precision_2: 0.9939 - val_recall_2: 0.3672\n",
      "Epoch 711/1000\n",
      "1/1 [==============================] - 0s 41ms/step - loss: 0.3657 - accuracy: 0.8525 - precision_2: 0.9935 - recall_2: 0.3600 - val_loss: 0.3564 - val_accuracy: 0.8545 - val_precision_2: 0.9941 - val_recall_2: 0.3671\n",
      "Epoch 712/1000\n",
      "1/1 [==============================] - 0s 37ms/step - loss: 0.3655 - accuracy: 0.8523 - precision_2: 0.9931 - recall_2: 0.3595 - val_loss: 0.3564 - val_accuracy: 0.8548 - val_precision_2: 0.9939 - val_recall_2: 0.3673\n",
      "Epoch 713/1000\n",
      "1/1 [==============================] - 0s 32ms/step - loss: 0.3659 - accuracy: 0.8523 - precision_2: 0.9925 - recall_2: 0.3593 - val_loss: 0.3563 - val_accuracy: 0.8546 - val_precision_2: 0.9941 - val_recall_2: 0.3672\n",
      "Epoch 714/1000\n",
      "1/1 [==============================] - 0s 47ms/step - loss: 0.3656 - accuracy: 0.8522 - precision_2: 0.9931 - recall_2: 0.3598 - val_loss: 0.3562 - val_accuracy: 0.8548 - val_precision_2: 0.9939 - val_recall_2: 0.3673\n",
      "Epoch 715/1000\n",
      "1/1 [==============================] - 0s 41ms/step - loss: 0.3654 - accuracy: 0.8525 - precision_2: 0.9925 - recall_2: 0.3600 - val_loss: 0.3561 - val_accuracy: 0.8546 - val_precision_2: 0.9939 - val_recall_2: 0.3672\n",
      "Epoch 716/1000\n",
      "1/1 [==============================] - 0s 39ms/step - loss: 0.3657 - accuracy: 0.8524 - precision_2: 0.9931 - recall_2: 0.3597 - val_loss: 0.3561 - val_accuracy: 0.8547 - val_precision_2: 0.9938 - val_recall_2: 0.3673\n",
      "Epoch 717/1000\n",
      "1/1 [==============================] - 0s 40ms/step - loss: 0.3655 - accuracy: 0.8523 - precision_2: 0.9928 - recall_2: 0.3597 - val_loss: 0.3562 - val_accuracy: 0.8545 - val_precision_2: 0.9939 - val_recall_2: 0.3672\n",
      "Epoch 718/1000\n",
      "1/1 [==============================] - 0s 38ms/step - loss: 0.3654 - accuracy: 0.8524 - precision_2: 0.9925 - recall_2: 0.3599 - val_loss: 0.3562 - val_accuracy: 0.8546 - val_precision_2: 0.9938 - val_recall_2: 0.3673\n",
      "Epoch 719/1000\n",
      "1/1 [==============================] - 0s 33ms/step - loss: 0.3651 - accuracy: 0.8524 - precision_2: 0.9930 - recall_2: 0.3601 - val_loss: 0.3561 - val_accuracy: 0.8546 - val_precision_2: 0.9941 - val_recall_2: 0.3672\n",
      "Epoch 720/1000\n",
      "1/1 [==============================] - 0s 62ms/step - loss: 0.3652 - accuracy: 0.8525 - precision_2: 0.9928 - recall_2: 0.3598 - val_loss: 0.3560 - val_accuracy: 0.8546 - val_precision_2: 0.9938 - val_recall_2: 0.3672\n",
      "Epoch 721/1000\n",
      "1/1 [==============================] - 0s 33ms/step - loss: 0.3654 - accuracy: 0.8526 - precision_2: 0.9932 - recall_2: 0.3596 - val_loss: 0.3559 - val_accuracy: 0.8548 - val_precision_2: 0.9937 - val_recall_2: 0.3672\n",
      "Epoch 722/1000\n",
      "1/1 [==============================] - 0s 37ms/step - loss: 0.3654 - accuracy: 0.8524 - precision_2: 0.9923 - recall_2: 0.3604 - val_loss: 0.3559 - val_accuracy: 0.8545 - val_precision_2: 0.9941 - val_recall_2: 0.3672\n",
      "Epoch 723/1000\n",
      "1/1 [==============================] - 0s 38ms/step - loss: 0.3654 - accuracy: 0.8523 - precision_2: 0.9927 - recall_2: 0.3599 - val_loss: 0.3562 - val_accuracy: 0.8549 - val_precision_2: 0.9937 - val_recall_2: 0.3672\n",
      "Epoch 724/1000\n",
      "1/1 [==============================] - 0s 35ms/step - loss: 0.3653 - accuracy: 0.8527 - precision_2: 0.9916 - recall_2: 0.3603 - val_loss: 0.3565 - val_accuracy: 0.8543 - val_precision_2: 0.9943 - val_recall_2: 0.3671\n",
      "Epoch 725/1000\n",
      "1/1 [==============================] - 0s 36ms/step - loss: 0.3653 - accuracy: 0.8521 - precision_2: 0.9936 - recall_2: 0.3594 - val_loss: 0.3566 - val_accuracy: 0.8553 - val_precision_2: 0.9933 - val_recall_2: 0.3674\n",
      "Epoch 726/1000\n",
      "1/1 [==============================] - 0s 32ms/step - loss: 0.3656 - accuracy: 0.8526 - precision_2: 0.9922 - recall_2: 0.3610 - val_loss: 0.3566 - val_accuracy: 0.8543 - val_precision_2: 0.9943 - val_recall_2: 0.3671\n",
      "Epoch 727/1000\n",
      "1/1 [==============================] - 0s 32ms/step - loss: 0.3656 - accuracy: 0.8522 - precision_2: 0.9936 - recall_2: 0.3596 - val_loss: 0.3566 - val_accuracy: 0.8556 - val_precision_2: 0.9930 - val_recall_2: 0.3676\n",
      "Epoch 728/1000\n",
      "1/1 [==============================] - 0s 34ms/step - loss: 0.3659 - accuracy: 0.8529 - precision_2: 0.9916 - recall_2: 0.3610 - val_loss: 0.3568 - val_accuracy: 0.8543 - val_precision_2: 0.9943 - val_recall_2: 0.3671\n",
      "Epoch 729/1000\n",
      "1/1 [==============================] - 0s 31ms/step - loss: 0.3665 - accuracy: 0.8520 - precision_2: 0.9934 - recall_2: 0.3589 - val_loss: 0.3566 - val_accuracy: 0.8551 - val_precision_2: 0.9934 - val_recall_2: 0.3674\n",
      "Epoch 730/1000\n"
     ]
    },
    {
     "name": "stdout",
     "output_type": "stream",
     "text": [
      "1/1 [==============================] - 0s 34ms/step - loss: 0.3657 - accuracy: 0.8529 - precision_2: 0.9920 - recall_2: 0.3607 - val_loss: 0.3563 - val_accuracy: 0.8543 - val_precision_2: 0.9943 - val_recall_2: 0.3671\n",
      "Epoch 731/1000\n",
      "1/1 [==============================] - 0s 46ms/step - loss: 0.3650 - accuracy: 0.8524 - precision_2: 0.9938 - recall_2: 0.3594 - val_loss: 0.3558 - val_accuracy: 0.8548 - val_precision_2: 0.9939 - val_recall_2: 0.3673\n",
      "Epoch 732/1000\n",
      "1/1 [==============================] - 0s 36ms/step - loss: 0.3649 - accuracy: 0.8523 - precision_2: 0.9928 - recall_2: 0.3597 - val_loss: 0.3555 - val_accuracy: 0.8549 - val_precision_2: 0.9937 - val_recall_2: 0.3675\n",
      "Epoch 733/1000\n",
      "1/1 [==============================] - 0s 38ms/step - loss: 0.3649 - accuracy: 0.8528 - precision_2: 0.9916 - recall_2: 0.3606 - val_loss: 0.3558 - val_accuracy: 0.8545 - val_precision_2: 0.9942 - val_recall_2: 0.3672\n",
      "Epoch 734/1000\n",
      "1/1 [==============================] - 0s 33ms/step - loss: 0.3654 - accuracy: 0.8523 - precision_2: 0.9932 - recall_2: 0.3595 - val_loss: 0.3563 - val_accuracy: 0.8556 - val_precision_2: 0.9933 - val_recall_2: 0.3676\n",
      "Epoch 735/1000\n",
      "1/1 [==============================] - 0s 36ms/step - loss: 0.3656 - accuracy: 0.8528 - precision_2: 0.9916 - recall_2: 0.3611 - val_loss: 0.3568 - val_accuracy: 0.8542 - val_precision_2: 0.9946 - val_recall_2: 0.3671\n",
      "Epoch 736/1000\n",
      "1/1 [==============================] - 0s 37ms/step - loss: 0.3660 - accuracy: 0.8520 - precision_2: 0.9945 - recall_2: 0.3591 - val_loss: 0.3566 - val_accuracy: 0.8550 - val_precision_2: 0.9937 - val_recall_2: 0.3675\n",
      "Epoch 737/1000\n",
      "1/1 [==============================] - 0s 37ms/step - loss: 0.3655 - accuracy: 0.8528 - precision_2: 0.9932 - recall_2: 0.3601 - val_loss: 0.3558 - val_accuracy: 0.8545 - val_precision_2: 0.9943 - val_recall_2: 0.3672\n",
      "Epoch 738/1000\n",
      "1/1 [==============================] - 0s 45ms/step - loss: 0.3649 - accuracy: 0.8523 - precision_2: 0.9941 - recall_2: 0.3594 - val_loss: 0.3553 - val_accuracy: 0.8547 - val_precision_2: 0.9939 - val_recall_2: 0.3673\n",
      "Epoch 739/1000\n",
      "1/1 [==============================] - 0s 39ms/step - loss: 0.3643 - accuracy: 0.8525 - precision_2: 0.9932 - recall_2: 0.3600 - val_loss: 0.3554 - val_accuracy: 0.8554 - val_precision_2: 0.9933 - val_recall_2: 0.3676\n",
      "Epoch 740/1000\n",
      "1/1 [==============================] - 0s 38ms/step - loss: 0.3650 - accuracy: 0.8531 - precision_2: 0.9919 - recall_2: 0.3608 - val_loss: 0.3559 - val_accuracy: 0.8543 - val_precision_2: 0.9943 - val_recall_2: 0.3671\n",
      "Epoch 741/1000\n",
      "1/1 [==============================] - 0s 48ms/step - loss: 0.3653 - accuracy: 0.8524 - precision_2: 0.9942 - recall_2: 0.3597 - val_loss: 0.3561 - val_accuracy: 0.8554 - val_precision_2: 0.9933 - val_recall_2: 0.3676\n",
      "Epoch 742/1000\n",
      "1/1 [==============================] - 0s 41ms/step - loss: 0.3655 - accuracy: 0.8528 - precision_2: 0.9916 - recall_2: 0.3609 - val_loss: 0.3559 - val_accuracy: 0.8544 - val_precision_2: 0.9944 - val_recall_2: 0.3670\n",
      "Epoch 743/1000\n",
      "1/1 [==============================] - 0s 40ms/step - loss: 0.3649 - accuracy: 0.8523 - precision_2: 0.9942 - recall_2: 0.3594 - val_loss: 0.3555 - val_accuracy: 0.8547 - val_precision_2: 0.9941 - val_recall_2: 0.3673\n",
      "Epoch 744/1000\n",
      "1/1 [==============================] - 0s 41ms/step - loss: 0.3644 - accuracy: 0.8527 - precision_2: 0.9939 - recall_2: 0.3598 - val_loss: 0.3552 - val_accuracy: 0.8550 - val_precision_2: 0.9939 - val_recall_2: 0.3674\n",
      "Epoch 745/1000\n",
      "1/1 [==============================] - 0s 42ms/step - loss: 0.3642 - accuracy: 0.8527 - precision_2: 0.9931 - recall_2: 0.3603 - val_loss: 0.3551 - val_accuracy: 0.8546 - val_precision_2: 0.9943 - val_recall_2: 0.3670\n",
      "Epoch 746/1000\n",
      "1/1 [==============================] - 0s 44ms/step - loss: 0.3644 - accuracy: 0.8526 - precision_2: 0.9937 - recall_2: 0.3599 - val_loss: 0.3552 - val_accuracy: 0.8555 - val_precision_2: 0.9933 - val_recall_2: 0.3675\n",
      "Epoch 747/1000\n",
      "1/1 [==============================] - 0s 41ms/step - loss: 0.3647 - accuracy: 0.8531 - precision_2: 0.9920 - recall_2: 0.3610 - val_loss: 0.3551 - val_accuracy: 0.8545 - val_precision_2: 0.9943 - val_recall_2: 0.3670\n",
      "Epoch 748/1000\n",
      "1/1 [==============================] - 0s 33ms/step - loss: 0.3648 - accuracy: 0.8524 - precision_2: 0.9935 - recall_2: 0.3596 - val_loss: 0.3550 - val_accuracy: 0.8549 - val_precision_2: 0.9938 - val_recall_2: 0.3674\n",
      "Epoch 749/1000\n",
      "1/1 [==============================] - 0s 38ms/step - loss: 0.3643 - accuracy: 0.8528 - precision_2: 0.9935 - recall_2: 0.3601 - val_loss: 0.3550 - val_accuracy: 0.8548 - val_precision_2: 0.9941 - val_recall_2: 0.3672\n",
      "Epoch 750/1000\n",
      "1/1 [==============================] - 0s 38ms/step - loss: 0.3642 - accuracy: 0.8526 - precision_2: 0.9931 - recall_2: 0.3598 - val_loss: 0.3551 - val_accuracy: 0.8544 - val_precision_2: 0.9940 - val_recall_2: 0.3670\n",
      "Epoch 751/1000\n",
      "1/1 [==============================] - 0s 39ms/step - loss: 0.3645 - accuracy: 0.8526 - precision_2: 0.9938 - recall_2: 0.3597 - val_loss: 0.3551 - val_accuracy: 0.8552 - val_precision_2: 0.9935 - val_recall_2: 0.3675\n",
      "Epoch 752/1000\n",
      "1/1 [==============================] - 0s 30ms/step - loss: 0.3646 - accuracy: 0.8530 - precision_2: 0.9923 - recall_2: 0.3603 - val_loss: 0.3548 - val_accuracy: 0.8545 - val_precision_2: 0.9941 - val_recall_2: 0.3672\n",
      "Epoch 753/1000\n",
      "1/1 [==============================] - 0s 34ms/step - loss: 0.3644 - accuracy: 0.8526 - precision_2: 0.9932 - recall_2: 0.3599 - val_loss: 0.3546 - val_accuracy: 0.8549 - val_precision_2: 0.9938 - val_recall_2: 0.3675\n",
      "Epoch 754/1000\n",
      "1/1 [==============================] - 0s 33ms/step - loss: 0.3638 - accuracy: 0.8532 - precision_2: 0.9922 - recall_2: 0.3609 - val_loss: 0.3546 - val_accuracy: 0.8549 - val_precision_2: 0.9938 - val_recall_2: 0.3675\n",
      "Epoch 755/1000\n",
      "1/1 [==============================] - 0s 29ms/step - loss: 0.3641 - accuracy: 0.8528 - precision_2: 0.9920 - recall_2: 0.3602 - val_loss: 0.3547 - val_accuracy: 0.8545 - val_precision_2: 0.9939 - val_recall_2: 0.3672\n",
      "Epoch 756/1000\n",
      "1/1 [==============================] - 0s 37ms/step - loss: 0.3638 - accuracy: 0.8527 - precision_2: 0.9931 - recall_2: 0.3601 - val_loss: 0.3548 - val_accuracy: 0.8552 - val_precision_2: 0.9935 - val_recall_2: 0.3676\n",
      "Epoch 757/1000\n",
      "1/1 [==============================] - 0s 40ms/step - loss: 0.3641 - accuracy: 0.8528 - precision_2: 0.9925 - recall_2: 0.3605 - val_loss: 0.3547 - val_accuracy: 0.8545 - val_precision_2: 0.9941 - val_recall_2: 0.3672\n",
      "Epoch 758/1000\n",
      "1/1 [==============================] - 0s 32ms/step - loss: 0.3642 - accuracy: 0.8525 - precision_2: 0.9932 - recall_2: 0.3597 - val_loss: 0.3546 - val_accuracy: 0.8550 - val_precision_2: 0.9938 - val_recall_2: 0.3674\n",
      "Epoch 759/1000\n",
      "1/1 [==============================] - 0s 34ms/step - loss: 0.3639 - accuracy: 0.8528 - precision_2: 0.9922 - recall_2: 0.3603 - val_loss: 0.3544 - val_accuracy: 0.8547 - val_precision_2: 0.9939 - val_recall_2: 0.3673\n",
      "Epoch 760/1000\n",
      "1/1 [==============================] - 0s 38ms/step - loss: 0.3637 - accuracy: 0.8527 - precision_2: 0.9928 - recall_2: 0.3600 - val_loss: 0.3544 - val_accuracy: 0.8547 - val_precision_2: 0.9939 - val_recall_2: 0.3673\n",
      "Epoch 761/1000\n",
      "1/1 [==============================] - 0s 36ms/step - loss: 0.3635 - accuracy: 0.8526 - precision_2: 0.9933 - recall_2: 0.3598 - val_loss: 0.3543 - val_accuracy: 0.8552 - val_precision_2: 0.9934 - val_recall_2: 0.3676\n",
      "Epoch 762/1000\n",
      "1/1 [==============================] - 0s 35ms/step - loss: 0.3637 - accuracy: 0.8529 - precision_2: 0.9922 - recall_2: 0.3606 - val_loss: 0.3542 - val_accuracy: 0.8547 - val_precision_2: 0.9939 - val_recall_2: 0.3674\n",
      "Epoch 763/1000\n",
      "1/1 [==============================] - 0s 31ms/step - loss: 0.3635 - accuracy: 0.8530 - precision_2: 0.9925 - recall_2: 0.3601 - val_loss: 0.3543 - val_accuracy: 0.8552 - val_precision_2: 0.9934 - val_recall_2: 0.3676\n",
      "Epoch 764/1000\n",
      "1/1 [==============================] - 0s 31ms/step - loss: 0.3634 - accuracy: 0.8527 - precision_2: 0.9919 - recall_2: 0.3610 - val_loss: 0.3542 - val_accuracy: 0.8546 - val_precision_2: 0.9939 - val_recall_2: 0.3674\n",
      "Epoch 765/1000\n"
     ]
    },
    {
     "name": "stdout",
     "output_type": "stream",
     "text": [
      "1/1 [==============================] - 0s 32ms/step - loss: 0.3638 - accuracy: 0.8527 - precision_2: 0.9929 - recall_2: 0.3602 - val_loss: 0.3542 - val_accuracy: 0.8548 - val_precision_2: 0.9937 - val_recall_2: 0.3674\n",
      "Epoch 766/1000\n",
      "1/1 [==============================] - 0s 30ms/step - loss: 0.3637 - accuracy: 0.8528 - precision_2: 0.9922 - recall_2: 0.3605 - val_loss: 0.3543 - val_accuracy: 0.8548 - val_precision_2: 0.9935 - val_recall_2: 0.3675\n",
      "Epoch 767/1000\n",
      "1/1 [==============================] - 0s 31ms/step - loss: 0.3634 - accuracy: 0.8529 - precision_2: 0.9927 - recall_2: 0.3604 - val_loss: 0.3542 - val_accuracy: 0.8547 - val_precision_2: 0.9939 - val_recall_2: 0.3674\n",
      "Epoch 768/1000\n",
      "1/1 [==============================] - 0s 31ms/step - loss: 0.3636 - accuracy: 0.8526 - precision_2: 0.9931 - recall_2: 0.3600 - val_loss: 0.3541 - val_accuracy: 0.8553 - val_precision_2: 0.9934 - val_recall_2: 0.3676\n",
      "Epoch 769/1000\n",
      "1/1 [==============================] - 0s 30ms/step - loss: 0.3633 - accuracy: 0.8531 - precision_2: 0.9921 - recall_2: 0.3608 - val_loss: 0.3540 - val_accuracy: 0.8547 - val_precision_2: 0.9938 - val_recall_2: 0.3674\n",
      "Epoch 770/1000\n",
      "1/1 [==============================] - 0s 30ms/step - loss: 0.3636 - accuracy: 0.8527 - precision_2: 0.9922 - recall_2: 0.3600 - val_loss: 0.3539 - val_accuracy: 0.8552 - val_precision_2: 0.9935 - val_recall_2: 0.3676\n",
      "Epoch 771/1000\n",
      "1/1 [==============================] - 0s 31ms/step - loss: 0.3632 - accuracy: 0.8533 - precision_2: 0.9920 - recall_2: 0.3612 - val_loss: 0.3539 - val_accuracy: 0.8548 - val_precision_2: 0.9938 - val_recall_2: 0.3673\n",
      "Epoch 772/1000\n",
      "1/1 [==============================] - 0s 35ms/step - loss: 0.3633 - accuracy: 0.8528 - precision_2: 0.9931 - recall_2: 0.3604 - val_loss: 0.3538 - val_accuracy: 0.8548 - val_precision_2: 0.9938 - val_recall_2: 0.3673\n",
      "Epoch 773/1000\n",
      "1/1 [==============================] - 0s 35ms/step - loss: 0.3633 - accuracy: 0.8527 - precision_2: 0.9929 - recall_2: 0.3599 - val_loss: 0.3539 - val_accuracy: 0.8551 - val_precision_2: 0.9935 - val_recall_2: 0.3675\n",
      "Epoch 774/1000\n",
      "1/1 [==============================] - 0s 36ms/step - loss: 0.3631 - accuracy: 0.8531 - precision_2: 0.9926 - recall_2: 0.3606 - val_loss: 0.3539 - val_accuracy: 0.8547 - val_precision_2: 0.9939 - val_recall_2: 0.3673\n",
      "Epoch 775/1000\n",
      "1/1 [==============================] - 0s 35ms/step - loss: 0.3633 - accuracy: 0.8525 - precision_2: 0.9926 - recall_2: 0.3603 - val_loss: 0.3539 - val_accuracy: 0.8552 - val_precision_2: 0.9930 - val_recall_2: 0.3676\n",
      "Epoch 776/1000\n",
      "1/1 [==============================] - 0s 51ms/step - loss: 0.3636 - accuracy: 0.8528 - precision_2: 0.9914 - recall_2: 0.3607 - val_loss: 0.3539 - val_accuracy: 0.8548 - val_precision_2: 0.9941 - val_recall_2: 0.3673\n",
      "Epoch 777/1000\n",
      "1/1 [==============================] - 0s 33ms/step - loss: 0.3632 - accuracy: 0.8528 - precision_2: 0.9932 - recall_2: 0.3602 - val_loss: 0.3538 - val_accuracy: 0.8552 - val_precision_2: 0.9933 - val_recall_2: 0.3676\n",
      "Epoch 778/1000\n",
      "1/1 [==============================] - 0s 36ms/step - loss: 0.3631 - accuracy: 0.8528 - precision_2: 0.9925 - recall_2: 0.3611 - val_loss: 0.3536 - val_accuracy: 0.8548 - val_precision_2: 0.9937 - val_recall_2: 0.3675\n",
      "Epoch 779/1000\n",
      "1/1 [==============================] - 0s 32ms/step - loss: 0.3631 - accuracy: 0.8528 - precision_2: 0.9925 - recall_2: 0.3604 - val_loss: 0.3536 - val_accuracy: 0.8550 - val_precision_2: 0.9937 - val_recall_2: 0.3676\n",
      "Epoch 780/1000\n",
      "1/1 [==============================] - 0s 35ms/step - loss: 0.3629 - accuracy: 0.8530 - precision_2: 0.9927 - recall_2: 0.3610 - val_loss: 0.3536 - val_accuracy: 0.8551 - val_precision_2: 0.9937 - val_recall_2: 0.3676\n",
      "Epoch 781/1000\n",
      "1/1 [==============================] - 0s 32ms/step - loss: 0.3631 - accuracy: 0.8531 - precision_2: 0.9928 - recall_2: 0.3605 - val_loss: 0.3536 - val_accuracy: 0.8549 - val_precision_2: 0.9941 - val_recall_2: 0.3673\n",
      "Epoch 782/1000\n",
      "1/1 [==============================] - 0s 33ms/step - loss: 0.3631 - accuracy: 0.8527 - precision_2: 0.9931 - recall_2: 0.3600 - val_loss: 0.3536 - val_accuracy: 0.8551 - val_precision_2: 0.9937 - val_recall_2: 0.3676\n",
      "Epoch 783/1000\n",
      "1/1 [==============================] - 0s 41ms/step - loss: 0.3631 - accuracy: 0.8527 - precision_2: 0.9926 - recall_2: 0.3610 - val_loss: 0.3536 - val_accuracy: 0.8549 - val_precision_2: 0.9938 - val_recall_2: 0.3674\n",
      "Epoch 784/1000\n",
      "1/1 [==============================] - 0s 31ms/step - loss: 0.3630 - accuracy: 0.8527 - precision_2: 0.9925 - recall_2: 0.3603 - val_loss: 0.3535 - val_accuracy: 0.8553 - val_precision_2: 0.9934 - val_recall_2: 0.3677\n",
      "Epoch 785/1000\n",
      "1/1 [==============================] - 0s 36ms/step - loss: 0.3628 - accuracy: 0.8530 - precision_2: 0.9924 - recall_2: 0.3607 - val_loss: 0.3535 - val_accuracy: 0.8549 - val_precision_2: 0.9935 - val_recall_2: 0.3676\n",
      "Epoch 786/1000\n",
      "1/1 [==============================] - 0s 41ms/step - loss: 0.3630 - accuracy: 0.8528 - precision_2: 0.9924 - recall_2: 0.3601 - val_loss: 0.3534 - val_accuracy: 0.8550 - val_precision_2: 0.9935 - val_recall_2: 0.3676\n",
      "Epoch 787/1000\n",
      "1/1 [==============================] - 0s 38ms/step - loss: 0.3628 - accuracy: 0.8531 - precision_2: 0.9921 - recall_2: 0.3607 - val_loss: 0.3533 - val_accuracy: 0.8550 - val_precision_2: 0.9939 - val_recall_2: 0.3675\n",
      "Epoch 788/1000\n",
      "1/1 [==============================] - 0s 43ms/step - loss: 0.3628 - accuracy: 0.8531 - precision_2: 0.9928 - recall_2: 0.3607 - val_loss: 0.3532 - val_accuracy: 0.8551 - val_precision_2: 0.9935 - val_recall_2: 0.3676\n",
      "Epoch 789/1000\n",
      "1/1 [==============================] - 0s 37ms/step - loss: 0.3630 - accuracy: 0.8531 - precision_2: 0.9922 - recall_2: 0.3604 - val_loss: 0.3532 - val_accuracy: 0.8551 - val_precision_2: 0.9935 - val_recall_2: 0.3676\n",
      "Epoch 790/1000\n",
      "1/1 [==============================] - 0s 33ms/step - loss: 0.3626 - accuracy: 0.8528 - precision_2: 0.9928 - recall_2: 0.3603 - val_loss: 0.3532 - val_accuracy: 0.8552 - val_precision_2: 0.9934 - val_recall_2: 0.3676\n",
      "Epoch 791/1000\n",
      "1/1 [==============================] - 0s 32ms/step - loss: 0.3626 - accuracy: 0.8532 - precision_2: 0.9926 - recall_2: 0.3606 - val_loss: 0.3532 - val_accuracy: 0.8553 - val_precision_2: 0.9937 - val_recall_2: 0.3676\n",
      "Epoch 792/1000\n",
      "1/1 [==============================] - 0s 33ms/step - loss: 0.3625 - accuracy: 0.8530 - precision_2: 0.9921 - recall_2: 0.3605 - val_loss: 0.3532 - val_accuracy: 0.8550 - val_precision_2: 0.9937 - val_recall_2: 0.3675\n",
      "Epoch 793/1000\n",
      "1/1 [==============================] - 0s 43ms/step - loss: 0.3627 - accuracy: 0.8529 - precision_2: 0.9926 - recall_2: 0.3606 - val_loss: 0.3532 - val_accuracy: 0.8553 - val_precision_2: 0.9937 - val_recall_2: 0.3676\n",
      "Epoch 794/1000\n",
      "1/1 [==============================] - 0s 36ms/step - loss: 0.3622 - accuracy: 0.8531 - precision_2: 0.9927 - recall_2: 0.3612 - val_loss: 0.3531 - val_accuracy: 0.8551 - val_precision_2: 0.9937 - val_recall_2: 0.3676\n",
      "Epoch 795/1000\n",
      "1/1 [==============================] - 0s 43ms/step - loss: 0.3624 - accuracy: 0.8531 - precision_2: 0.9923 - recall_2: 0.3606 - val_loss: 0.3530 - val_accuracy: 0.8554 - val_precision_2: 0.9932 - val_recall_2: 0.3677\n",
      "Epoch 796/1000\n",
      "1/1 [==============================] - 0s 41ms/step - loss: 0.3622 - accuracy: 0.8531 - precision_2: 0.9920 - recall_2: 0.3614 - val_loss: 0.3529 - val_accuracy: 0.8552 - val_precision_2: 0.9933 - val_recall_2: 0.3676\n",
      "Epoch 797/1000\n",
      "1/1 [==============================] - 0s 38ms/step - loss: 0.3623 - accuracy: 0.8528 - precision_2: 0.9918 - recall_2: 0.3608 - val_loss: 0.3529 - val_accuracy: 0.8551 - val_precision_2: 0.9934 - val_recall_2: 0.3676\n",
      "Epoch 798/1000\n",
      "1/1 [==============================] - 0s 36ms/step - loss: 0.3626 - accuracy: 0.8530 - precision_2: 0.9925 - recall_2: 0.3603 - val_loss: 0.3530 - val_accuracy: 0.8553 - val_precision_2: 0.9934 - val_recall_2: 0.3676\n",
      "Epoch 799/1000\n",
      "1/1 [==============================] - 0s 42ms/step - loss: 0.3624 - accuracy: 0.8532 - precision_2: 0.9921 - recall_2: 0.3610 - val_loss: 0.3530 - val_accuracy: 0.8549 - val_precision_2: 0.9939 - val_recall_2: 0.3675\n",
      "Epoch 800/1000\n"
     ]
    },
    {
     "name": "stdout",
     "output_type": "stream",
     "text": [
      "1/1 [==============================] - 0s 46ms/step - loss: 0.3621 - accuracy: 0.8531 - precision_2: 0.9928 - recall_2: 0.3606 - val_loss: 0.3531 - val_accuracy: 0.8555 - val_precision_2: 0.9929 - val_recall_2: 0.3677\n",
      "Epoch 801/1000\n",
      "1/1 [==============================] - 0s 31ms/step - loss: 0.3623 - accuracy: 0.8533 - precision_2: 0.9917 - recall_2: 0.3617 - val_loss: 0.3531 - val_accuracy: 0.8548 - val_precision_2: 0.9939 - val_recall_2: 0.3675\n",
      "Epoch 802/1000\n",
      "1/1 [==============================] - 0s 32ms/step - loss: 0.3627 - accuracy: 0.8528 - precision_2: 0.9931 - recall_2: 0.3603 - val_loss: 0.3533 - val_accuracy: 0.8559 - val_precision_2: 0.9927 - val_recall_2: 0.3679\n",
      "Epoch 803/1000\n",
      "1/1 [==============================] - 0s 30ms/step - loss: 0.3628 - accuracy: 0.8534 - precision_2: 0.9916 - recall_2: 0.3612 - val_loss: 0.3535 - val_accuracy: 0.8547 - val_precision_2: 0.9942 - val_recall_2: 0.3672\n",
      "Epoch 804/1000\n",
      "1/1 [==============================] - 0s 37ms/step - loss: 0.3630 - accuracy: 0.8528 - precision_2: 0.9936 - recall_2: 0.3599 - val_loss: 0.3536 - val_accuracy: 0.8560 - val_precision_2: 0.9927 - val_recall_2: 0.3679\n",
      "Epoch 805/1000\n",
      "1/1 [==============================] - 0s 40ms/step - loss: 0.3627 - accuracy: 0.8534 - precision_2: 0.9915 - recall_2: 0.3613 - val_loss: 0.3536 - val_accuracy: 0.8547 - val_precision_2: 0.9943 - val_recall_2: 0.3673\n",
      "Epoch 806/1000\n",
      "1/1 [==============================] - 0s 33ms/step - loss: 0.3628 - accuracy: 0.8526 - precision_2: 0.9936 - recall_2: 0.3603 - val_loss: 0.3534 - val_accuracy: 0.8562 - val_precision_2: 0.9925 - val_recall_2: 0.3680\n",
      "Epoch 807/1000\n",
      "1/1 [==============================] - 0s 39ms/step - loss: 0.3627 - accuracy: 0.8535 - precision_2: 0.9911 - recall_2: 0.3618 - val_loss: 0.3531 - val_accuracy: 0.8549 - val_precision_2: 0.9942 - val_recall_2: 0.3676\n",
      "Epoch 808/1000\n",
      "1/1 [==============================] - 0s 34ms/step - loss: 0.3627 - accuracy: 0.8525 - precision_2: 0.9938 - recall_2: 0.3600 - val_loss: 0.3528 - val_accuracy: 0.8557 - val_precision_2: 0.9928 - val_recall_2: 0.3677\n",
      "Epoch 809/1000\n",
      "1/1 [==============================] - 0s 39ms/step - loss: 0.3621 - accuracy: 0.8534 - precision_2: 0.9920 - recall_2: 0.3617 - val_loss: 0.3527 - val_accuracy: 0.8551 - val_precision_2: 0.9939 - val_recall_2: 0.3676\n",
      "Epoch 810/1000\n",
      "1/1 [==============================] - 0s 34ms/step - loss: 0.3621 - accuracy: 0.8528 - precision_2: 0.9924 - recall_2: 0.3603 - val_loss: 0.3526 - val_accuracy: 0.8553 - val_precision_2: 0.9934 - val_recall_2: 0.3676\n",
      "Epoch 811/1000\n",
      "1/1 [==============================] - 0s 37ms/step - loss: 0.3619 - accuracy: 0.8529 - precision_2: 0.9922 - recall_2: 0.3604 - val_loss: 0.3525 - val_accuracy: 0.8557 - val_precision_2: 0.9928 - val_recall_2: 0.3678\n",
      "Epoch 812/1000\n",
      "1/1 [==============================] - 0s 36ms/step - loss: 0.3621 - accuracy: 0.8532 - precision_2: 0.9915 - recall_2: 0.3607 - val_loss: 0.3526 - val_accuracy: 0.8550 - val_precision_2: 0.9937 - val_recall_2: 0.3675\n",
      "Epoch 813/1000\n",
      "1/1 [==============================] - 0s 33ms/step - loss: 0.3624 - accuracy: 0.8529 - precision_2: 0.9918 - recall_2: 0.3605 - val_loss: 0.3529 - val_accuracy: 0.8562 - val_precision_2: 0.9925 - val_recall_2: 0.3679\n",
      "Epoch 814/1000\n",
      "1/1 [==============================] - 0s 40ms/step - loss: 0.3621 - accuracy: 0.8535 - precision_2: 0.9915 - recall_2: 0.3616 - val_loss: 0.3531 - val_accuracy: 0.8547 - val_precision_2: 0.9943 - val_recall_2: 0.3673\n",
      "Epoch 815/1000\n",
      "1/1 [==============================] - 0s 45ms/step - loss: 0.3629 - accuracy: 0.8528 - precision_2: 0.9927 - recall_2: 0.3598 - val_loss: 0.3531 - val_accuracy: 0.8560 - val_precision_2: 0.9929 - val_recall_2: 0.3678\n",
      "Epoch 816/1000\n",
      "1/1 [==============================] - 0s 31ms/step - loss: 0.3621 - accuracy: 0.8535 - precision_2: 0.9918 - recall_2: 0.3616 - val_loss: 0.3528 - val_accuracy: 0.8547 - val_precision_2: 0.9943 - val_recall_2: 0.3675\n",
      "Epoch 817/1000\n",
      "1/1 [==============================] - 0s 50ms/step - loss: 0.3624 - accuracy: 0.8527 - precision_2: 0.9930 - recall_2: 0.3600 - val_loss: 0.3524 - val_accuracy: 0.8558 - val_precision_2: 0.9933 - val_recall_2: 0.3677\n",
      "Epoch 818/1000\n",
      "1/1 [==============================] - 0s 46ms/step - loss: 0.3617 - accuracy: 0.8531 - precision_2: 0.9921 - recall_2: 0.3611 - val_loss: 0.3522 - val_accuracy: 0.8553 - val_precision_2: 0.9937 - val_recall_2: 0.3676\n",
      "Epoch 819/1000\n",
      "1/1 [==============================] - 0s 54ms/step - loss: 0.3618 - accuracy: 0.8530 - precision_2: 0.9930 - recall_2: 0.3605 - val_loss: 0.3521 - val_accuracy: 0.8553 - val_precision_2: 0.9934 - val_recall_2: 0.3676\n",
      "Epoch 820/1000\n",
      "1/1 [==============================] - 0s 45ms/step - loss: 0.3615 - accuracy: 0.8533 - precision_2: 0.9925 - recall_2: 0.3610 - val_loss: 0.3522 - val_accuracy: 0.8559 - val_precision_2: 0.9930 - val_recall_2: 0.3677\n",
      "Epoch 821/1000\n",
      "1/1 [==============================] - 0s 38ms/step - loss: 0.3614 - accuracy: 0.8534 - precision_2: 0.9918 - recall_2: 0.3613 - val_loss: 0.3523 - val_accuracy: 0.8551 - val_precision_2: 0.9938 - val_recall_2: 0.3676\n",
      "Epoch 822/1000\n",
      "1/1 [==============================] - 0s 49ms/step - loss: 0.3617 - accuracy: 0.8531 - precision_2: 0.9925 - recall_2: 0.3606 - val_loss: 0.3523 - val_accuracy: 0.8558 - val_precision_2: 0.9930 - val_recall_2: 0.3677\n",
      "Epoch 823/1000\n",
      "1/1 [==============================] - 0s 35ms/step - loss: 0.3615 - accuracy: 0.8537 - precision_2: 0.9915 - recall_2: 0.3617 - val_loss: 0.3522 - val_accuracy: 0.8552 - val_precision_2: 0.9935 - val_recall_2: 0.3676\n",
      "Epoch 824/1000\n",
      "1/1 [==============================] - 0s 49ms/step - loss: 0.3617 - accuracy: 0.8531 - precision_2: 0.9925 - recall_2: 0.3606 - val_loss: 0.3520 - val_accuracy: 0.8556 - val_precision_2: 0.9928 - val_recall_2: 0.3677\n",
      "Epoch 825/1000\n",
      "1/1 [==============================] - 0s 44ms/step - loss: 0.3616 - accuracy: 0.8532 - precision_2: 0.9919 - recall_2: 0.3612 - val_loss: 0.3519 - val_accuracy: 0.8555 - val_precision_2: 0.9930 - val_recall_2: 0.3676\n",
      "Epoch 826/1000\n",
      "1/1 [==============================] - 0s 46ms/step - loss: 0.3613 - accuracy: 0.8535 - precision_2: 0.9925 - recall_2: 0.3613 - val_loss: 0.3519 - val_accuracy: 0.8555 - val_precision_2: 0.9929 - val_recall_2: 0.3677\n",
      "Epoch 827/1000\n",
      "1/1 [==============================] - 0s 44ms/step - loss: 0.3617 - accuracy: 0.8531 - precision_2: 0.9918 - recall_2: 0.3610 - val_loss: 0.3519 - val_accuracy: 0.8556 - val_precision_2: 0.9928 - val_recall_2: 0.3678\n",
      "Epoch 828/1000\n",
      "1/1 [==============================] - 0s 35ms/step - loss: 0.3615 - accuracy: 0.8533 - precision_2: 0.9921 - recall_2: 0.3613 - val_loss: 0.3520 - val_accuracy: 0.8553 - val_precision_2: 0.9930 - val_recall_2: 0.3677\n",
      "Epoch 829/1000\n",
      "1/1 [==============================] - 0s 38ms/step - loss: 0.3617 - accuracy: 0.8529 - precision_2: 0.9925 - recall_2: 0.3610 - val_loss: 0.3520 - val_accuracy: 0.8555 - val_precision_2: 0.9927 - val_recall_2: 0.3678\n",
      "Epoch 830/1000\n",
      "1/1 [==============================] - 0s 35ms/step - loss: 0.3616 - accuracy: 0.8534 - precision_2: 0.9914 - recall_2: 0.3610 - val_loss: 0.3519 - val_accuracy: 0.8553 - val_precision_2: 0.9930 - val_recall_2: 0.3676\n",
      "Epoch 831/1000\n",
      "1/1 [==============================] - 0s 36ms/step - loss: 0.3611 - accuracy: 0.8531 - precision_2: 0.9930 - recall_2: 0.3611 - val_loss: 0.3518 - val_accuracy: 0.8557 - val_precision_2: 0.9928 - val_recall_2: 0.3678\n",
      "Epoch 832/1000\n",
      "1/1 [==============================] - 0s 35ms/step - loss: 0.3613 - accuracy: 0.8537 - precision_2: 0.9921 - recall_2: 0.3616 - val_loss: 0.3517 - val_accuracy: 0.8555 - val_precision_2: 0.9932 - val_recall_2: 0.3676\n",
      "Epoch 833/1000\n",
      "1/1 [==============================] - 0s 32ms/step - loss: 0.3615 - accuracy: 0.8528 - precision_2: 0.9921 - recall_2: 0.3604 - val_loss: 0.3517 - val_accuracy: 0.8557 - val_precision_2: 0.9930 - val_recall_2: 0.3677\n",
      "Epoch 834/1000\n",
      "1/1 [==============================] - 0s 35ms/step - loss: 0.3613 - accuracy: 0.8534 - precision_2: 0.9927 - recall_2: 0.3609 - val_loss: 0.3517 - val_accuracy: 0.8556 - val_precision_2: 0.9932 - val_recall_2: 0.3676\n",
      "Epoch 835/1000\n"
     ]
    },
    {
     "name": "stdout",
     "output_type": "stream",
     "text": [
      "1/1 [==============================] - 0s 35ms/step - loss: 0.3614 - accuracy: 0.8531 - precision_2: 0.9916 - recall_2: 0.3610 - val_loss: 0.3517 - val_accuracy: 0.8555 - val_precision_2: 0.9930 - val_recall_2: 0.3676\n",
      "Epoch 836/1000\n",
      "1/1 [==============================] - 0s 35ms/step - loss: 0.3610 - accuracy: 0.8535 - precision_2: 0.9926 - recall_2: 0.3614 - val_loss: 0.3516 - val_accuracy: 0.8557 - val_precision_2: 0.9930 - val_recall_2: 0.3676\n",
      "Epoch 837/1000\n",
      "1/1 [==============================] - 0s 31ms/step - loss: 0.3612 - accuracy: 0.8533 - precision_2: 0.9925 - recall_2: 0.3614 - val_loss: 0.3515 - val_accuracy: 0.8556 - val_precision_2: 0.9930 - val_recall_2: 0.3676\n",
      "Epoch 838/1000\n",
      "1/1 [==============================] - 0s 37ms/step - loss: 0.3611 - accuracy: 0.8534 - precision_2: 0.9925 - recall_2: 0.3613 - val_loss: 0.3515 - val_accuracy: 0.8558 - val_precision_2: 0.9930 - val_recall_2: 0.3676\n",
      "Epoch 839/1000\n",
      "1/1 [==============================] - 0s 41ms/step - loss: 0.3610 - accuracy: 0.8535 - precision_2: 0.9923 - recall_2: 0.3613 - val_loss: 0.3515 - val_accuracy: 0.8557 - val_precision_2: 0.9930 - val_recall_2: 0.3676\n",
      "Epoch 840/1000\n",
      "1/1 [==============================] - 0s 42ms/step - loss: 0.3609 - accuracy: 0.8534 - precision_2: 0.9918 - recall_2: 0.3613 - val_loss: 0.3516 - val_accuracy: 0.8559 - val_precision_2: 0.9929 - val_recall_2: 0.3677\n",
      "Epoch 841/1000\n",
      "1/1 [==============================] - 0s 35ms/step - loss: 0.3610 - accuracy: 0.8533 - precision_2: 0.9921 - recall_2: 0.3617 - val_loss: 0.3516 - val_accuracy: 0.8554 - val_precision_2: 0.9930 - val_recall_2: 0.3677\n",
      "Epoch 842/1000\n",
      "1/1 [==============================] - 0s 32ms/step - loss: 0.3608 - accuracy: 0.8534 - precision_2: 0.9928 - recall_2: 0.3613 - val_loss: 0.3516 - val_accuracy: 0.8560 - val_precision_2: 0.9928 - val_recall_2: 0.3677\n",
      "Epoch 843/1000\n",
      "1/1 [==============================] - 0s 42ms/step - loss: 0.3611 - accuracy: 0.8532 - precision_2: 0.9924 - recall_2: 0.3615 - val_loss: 0.3514 - val_accuracy: 0.8554 - val_precision_2: 0.9930 - val_recall_2: 0.3677\n",
      "Epoch 844/1000\n",
      "1/1 [==============================] - 0s 44ms/step - loss: 0.3613 - accuracy: 0.8532 - precision_2: 0.9925 - recall_2: 0.3612 - val_loss: 0.3514 - val_accuracy: 0.8561 - val_precision_2: 0.9927 - val_recall_2: 0.3679\n",
      "Epoch 845/1000\n",
      "1/1 [==============================] - 0s 39ms/step - loss: 0.3608 - accuracy: 0.8536 - precision_2: 0.9918 - recall_2: 0.3612 - val_loss: 0.3515 - val_accuracy: 0.8554 - val_precision_2: 0.9932 - val_recall_2: 0.3676\n",
      "Epoch 846/1000\n",
      "1/1 [==============================] - 0s 48ms/step - loss: 0.3612 - accuracy: 0.8532 - precision_2: 0.9921 - recall_2: 0.3606 - val_loss: 0.3516 - val_accuracy: 0.8560 - val_precision_2: 0.9927 - val_recall_2: 0.3679\n",
      "Epoch 847/1000\n",
      "1/1 [==============================] - 0s 46ms/step - loss: 0.3611 - accuracy: 0.8535 - precision_2: 0.9916 - recall_2: 0.3613 - val_loss: 0.3516 - val_accuracy: 0.8552 - val_precision_2: 0.9932 - val_recall_2: 0.3676\n",
      "Epoch 848/1000\n",
      "1/1 [==============================] - 0s 33ms/step - loss: 0.3609 - accuracy: 0.8532 - precision_2: 0.9930 - recall_2: 0.3610 - val_loss: 0.3516 - val_accuracy: 0.8562 - val_precision_2: 0.9924 - val_recall_2: 0.3680\n",
      "Epoch 849/1000\n",
      "1/1 [==============================] - 0s 46ms/step - loss: 0.3609 - accuracy: 0.8534 - precision_2: 0.9911 - recall_2: 0.3620 - val_loss: 0.3515 - val_accuracy: 0.8552 - val_precision_2: 0.9932 - val_recall_2: 0.3676\n",
      "Epoch 850/1000\n",
      "1/1 [==============================] - 0s 38ms/step - loss: 0.3613 - accuracy: 0.8531 - precision_2: 0.9921 - recall_2: 0.3609 - val_loss: 0.3515 - val_accuracy: 0.8566 - val_precision_2: 0.9921 - val_recall_2: 0.3681\n",
      "Epoch 851/1000\n",
      "1/1 [==============================] - 0s 39ms/step - loss: 0.3610 - accuracy: 0.8540 - precision_2: 0.9906 - recall_2: 0.3627 - val_loss: 0.3518 - val_accuracy: 0.8550 - val_precision_2: 0.9933 - val_recall_2: 0.3675\n",
      "Epoch 852/1000\n",
      "1/1 [==============================] - 0s 45ms/step - loss: 0.3615 - accuracy: 0.8530 - precision_2: 0.9928 - recall_2: 0.3609 - val_loss: 0.3521 - val_accuracy: 0.8565 - val_precision_2: 0.9921 - val_recall_2: 0.3681\n",
      "Epoch 853/1000\n",
      "1/1 [==============================] - 0s 37ms/step - loss: 0.3617 - accuracy: 0.8538 - precision_2: 0.9909 - recall_2: 0.3624 - val_loss: 0.3524 - val_accuracy: 0.8548 - val_precision_2: 0.9939 - val_recall_2: 0.3675\n",
      "Epoch 854/1000\n",
      "1/1 [==============================] - 0s 49ms/step - loss: 0.3618 - accuracy: 0.8527 - precision_2: 0.9931 - recall_2: 0.3607 - val_loss: 0.3522 - val_accuracy: 0.8565 - val_precision_2: 0.9921 - val_recall_2: 0.3681\n",
      "Epoch 855/1000\n",
      "1/1 [==============================] - 0s 38ms/step - loss: 0.3621 - accuracy: 0.8538 - precision_2: 0.9902 - recall_2: 0.3622 - val_loss: 0.3520 - val_accuracy: 0.8550 - val_precision_2: 0.9934 - val_recall_2: 0.3675\n",
      "Epoch 856/1000\n",
      "1/1 [==============================] - 0s 33ms/step - loss: 0.3615 - accuracy: 0.8529 - precision_2: 0.9929 - recall_2: 0.3603 - val_loss: 0.3514 - val_accuracy: 0.8564 - val_precision_2: 0.9924 - val_recall_2: 0.3680\n",
      "Epoch 857/1000\n",
      "1/1 [==============================] - 0s 46ms/step - loss: 0.3611 - accuracy: 0.8539 - precision_2: 0.9914 - recall_2: 0.3623 - val_loss: 0.3510 - val_accuracy: 0.8556 - val_precision_2: 0.9929 - val_recall_2: 0.3676\n",
      "Epoch 858/1000\n",
      "1/1 [==============================] - 0s 43ms/step - loss: 0.3607 - accuracy: 0.8533 - precision_2: 0.9919 - recall_2: 0.3612 - val_loss: 0.3509 - val_accuracy: 0.8558 - val_precision_2: 0.9928 - val_recall_2: 0.3678\n",
      "Epoch 859/1000\n",
      "1/1 [==============================] - 0s 40ms/step - loss: 0.3606 - accuracy: 0.8533 - precision_2: 0.9919 - recall_2: 0.3615 - val_loss: 0.3510 - val_accuracy: 0.8560 - val_precision_2: 0.9927 - val_recall_2: 0.3678\n",
      "Epoch 860/1000\n",
      "1/1 [==============================] - 0s 54ms/step - loss: 0.3606 - accuracy: 0.8537 - precision_2: 0.9915 - recall_2: 0.3614 - val_loss: 0.3510 - val_accuracy: 0.8553 - val_precision_2: 0.9932 - val_recall_2: 0.3675\n",
      "Epoch 861/1000\n",
      "1/1 [==============================] - 0s 31ms/step - loss: 0.3606 - accuracy: 0.8531 - precision_2: 0.9929 - recall_2: 0.3605 - val_loss: 0.3512 - val_accuracy: 0.8563 - val_precision_2: 0.9924 - val_recall_2: 0.3680\n",
      "Epoch 862/1000\n",
      "1/1 [==============================] - 0s 39ms/step - loss: 0.3606 - accuracy: 0.8539 - precision_2: 0.9910 - recall_2: 0.3630 - val_loss: 0.3514 - val_accuracy: 0.8551 - val_precision_2: 0.9935 - val_recall_2: 0.3675\n",
      "Epoch 863/1000\n",
      "1/1 [==============================] - 0s 51ms/step - loss: 0.3613 - accuracy: 0.8531 - precision_2: 0.9923 - recall_2: 0.3603 - val_loss: 0.3513 - val_accuracy: 0.8564 - val_precision_2: 0.9921 - val_recall_2: 0.3680\n",
      "Epoch 864/1000\n",
      "1/1 [==============================] - 0s 33ms/step - loss: 0.3612 - accuracy: 0.8538 - precision_2: 0.9905 - recall_2: 0.3625 - val_loss: 0.3512 - val_accuracy: 0.8553 - val_precision_2: 0.9934 - val_recall_2: 0.3675\n",
      "Epoch 865/1000\n",
      "1/1 [==============================] - 0s 33ms/step - loss: 0.3607 - accuracy: 0.8532 - precision_2: 0.9928 - recall_2: 0.3613 - val_loss: 0.3510 - val_accuracy: 0.8563 - val_precision_2: 0.9927 - val_recall_2: 0.3679\n",
      "Epoch 866/1000\n",
      "1/1 [==============================] - 0s 31ms/step - loss: 0.3604 - accuracy: 0.8536 - precision_2: 0.9923 - recall_2: 0.3621 - val_loss: 0.3507 - val_accuracy: 0.8558 - val_precision_2: 0.9926 - val_recall_2: 0.3677\n",
      "Epoch 867/1000\n",
      "1/1 [==============================] - 0s 43ms/step - loss: 0.3607 - accuracy: 0.8532 - precision_2: 0.9921 - recall_2: 0.3609 - val_loss: 0.3506 - val_accuracy: 0.8559 - val_precision_2: 0.9927 - val_recall_2: 0.3678\n",
      "Epoch 868/1000\n",
      "1/1 [==============================] - 0s 35ms/step - loss: 0.3601 - accuracy: 0.8533 - precision_2: 0.9916 - recall_2: 0.3622 - val_loss: 0.3506 - val_accuracy: 0.8563 - val_precision_2: 0.9925 - val_recall_2: 0.3679\n",
      "Epoch 869/1000\n",
      "1/1 [==============================] - 0s 38ms/step - loss: 0.3602 - accuracy: 0.8538 - precision_2: 0.9910 - recall_2: 0.3617 - val_loss: 0.3507 - val_accuracy: 0.8556 - val_precision_2: 0.9930 - val_recall_2: 0.3676\n",
      "Epoch 870/1000\n"
     ]
    },
    {
     "name": "stdout",
     "output_type": "stream",
     "text": [
      "1/1 [==============================] - 0s 32ms/step - loss: 0.3603 - accuracy: 0.8533 - precision_2: 0.9931 - recall_2: 0.3609 - val_loss: 0.3509 - val_accuracy: 0.8564 - val_precision_2: 0.9924 - val_recall_2: 0.3680\n",
      "Epoch 871/1000\n",
      "1/1 [==============================] - 0s 32ms/step - loss: 0.3604 - accuracy: 0.8539 - precision_2: 0.9912 - recall_2: 0.3623 - val_loss: 0.3508 - val_accuracy: 0.8555 - val_precision_2: 0.9930 - val_recall_2: 0.3676\n",
      "Epoch 872/1000\n",
      "1/1 [==============================] - 0s 39ms/step - loss: 0.3605 - accuracy: 0.8530 - precision_2: 0.9923 - recall_2: 0.3608 - val_loss: 0.3506 - val_accuracy: 0.8564 - val_precision_2: 0.9924 - val_recall_2: 0.3680\n",
      "Epoch 873/1000\n",
      "1/1 [==============================] - 0s 33ms/step - loss: 0.3602 - accuracy: 0.8538 - precision_2: 0.9913 - recall_2: 0.3626 - val_loss: 0.3505 - val_accuracy: 0.8558 - val_precision_2: 0.9928 - val_recall_2: 0.3676\n",
      "Epoch 874/1000\n",
      "1/1 [==============================] - 0s 39ms/step - loss: 0.3600 - accuracy: 0.8535 - precision_2: 0.9925 - recall_2: 0.3614 - val_loss: 0.3504 - val_accuracy: 0.8564 - val_precision_2: 0.9927 - val_recall_2: 0.3679\n",
      "Epoch 875/1000\n",
      "1/1 [==============================] - 0s 55ms/step - loss: 0.3601 - accuracy: 0.8536 - precision_2: 0.9915 - recall_2: 0.3621 - val_loss: 0.3504 - val_accuracy: 0.8559 - val_precision_2: 0.9929 - val_recall_2: 0.3676\n",
      "Epoch 876/1000\n",
      "1/1 [==============================] - 0s 47ms/step - loss: 0.3597 - accuracy: 0.8536 - precision_2: 0.9928 - recall_2: 0.3613 - val_loss: 0.3503 - val_accuracy: 0.8559 - val_precision_2: 0.9929 - val_recall_2: 0.3677\n",
      "Epoch 877/1000\n",
      "1/1 [==============================] - 0s 42ms/step - loss: 0.3598 - accuracy: 0.8534 - precision_2: 0.9920 - recall_2: 0.3613 - val_loss: 0.3503 - val_accuracy: 0.8562 - val_precision_2: 0.9927 - val_recall_2: 0.3678\n",
      "Epoch 878/1000\n",
      "1/1 [==============================] - 0s 39ms/step - loss: 0.3598 - accuracy: 0.8537 - precision_2: 0.9919 - recall_2: 0.3620 - val_loss: 0.3503 - val_accuracy: 0.8558 - val_precision_2: 0.9929 - val_recall_2: 0.3676\n",
      "Epoch 879/1000\n",
      "1/1 [==============================] - 0s 33ms/step - loss: 0.3601 - accuracy: 0.8534 - precision_2: 0.9928 - recall_2: 0.3609 - val_loss: 0.3503 - val_accuracy: 0.8563 - val_precision_2: 0.9925 - val_recall_2: 0.3679\n",
      "Epoch 880/1000\n",
      "1/1 [==============================] - 0s 40ms/step - loss: 0.3599 - accuracy: 0.8538 - precision_2: 0.9915 - recall_2: 0.3624 - val_loss: 0.3503 - val_accuracy: 0.8556 - val_precision_2: 0.9932 - val_recall_2: 0.3677\n",
      "Epoch 881/1000\n",
      "1/1 [==============================] - 0s 35ms/step - loss: 0.3599 - accuracy: 0.8534 - precision_2: 0.9928 - recall_2: 0.3612 - val_loss: 0.3503 - val_accuracy: 0.8563 - val_precision_2: 0.9925 - val_recall_2: 0.3679\n",
      "Epoch 882/1000\n",
      "1/1 [==============================] - 0s 36ms/step - loss: 0.3605 - accuracy: 0.8539 - precision_2: 0.9912 - recall_2: 0.3622 - val_loss: 0.3503 - val_accuracy: 0.8555 - val_precision_2: 0.9932 - val_recall_2: 0.3676\n",
      "Epoch 883/1000\n",
      "1/1 [==============================] - 0s 32ms/step - loss: 0.3597 - accuracy: 0.8534 - precision_2: 0.9931 - recall_2: 0.3607 - val_loss: 0.3502 - val_accuracy: 0.8564 - val_precision_2: 0.9927 - val_recall_2: 0.3679\n",
      "Epoch 884/1000\n",
      "1/1 [==============================] - 0s 39ms/step - loss: 0.3597 - accuracy: 0.8537 - precision_2: 0.9911 - recall_2: 0.3626 - val_loss: 0.3501 - val_accuracy: 0.8559 - val_precision_2: 0.9926 - val_recall_2: 0.3677\n",
      "Epoch 885/1000\n",
      "1/1 [==============================] - 0s 37ms/step - loss: 0.3595 - accuracy: 0.8534 - precision_2: 0.9919 - recall_2: 0.3617 - val_loss: 0.3500 - val_accuracy: 0.8564 - val_precision_2: 0.9927 - val_recall_2: 0.3680\n",
      "Epoch 886/1000\n",
      "1/1 [==============================] - 0s 43ms/step - loss: 0.3597 - accuracy: 0.8538 - precision_2: 0.9913 - recall_2: 0.3625 - val_loss: 0.3499 - val_accuracy: 0.8561 - val_precision_2: 0.9927 - val_recall_2: 0.3678\n",
      "Epoch 887/1000\n",
      "1/1 [==============================] - 0s 36ms/step - loss: 0.3596 - accuracy: 0.8538 - precision_2: 0.9914 - recall_2: 0.3617 - val_loss: 0.3499 - val_accuracy: 0.8563 - val_precision_2: 0.9927 - val_recall_2: 0.3678\n",
      "Epoch 888/1000\n",
      "1/1 [==============================] - 0s 31ms/step - loss: 0.3598 - accuracy: 0.8538 - precision_2: 0.9912 - recall_2: 0.3619 - val_loss: 0.3499 - val_accuracy: 0.8564 - val_precision_2: 0.9927 - val_recall_2: 0.3678\n",
      "Epoch 889/1000\n",
      "1/1 [==============================] - 0s 34ms/step - loss: 0.3595 - accuracy: 0.8538 - precision_2: 0.9914 - recall_2: 0.3617 - val_loss: 0.3500 - val_accuracy: 0.8559 - val_precision_2: 0.9926 - val_recall_2: 0.3677\n",
      "Epoch 890/1000\n",
      "1/1 [==============================] - 0s 41ms/step - loss: 0.3596 - accuracy: 0.8534 - precision_2: 0.9917 - recall_2: 0.3612 - val_loss: 0.3500 - val_accuracy: 0.8562 - val_precision_2: 0.9927 - val_recall_2: 0.3679\n",
      "Epoch 891/1000\n",
      "1/1 [==============================] - 0s 36ms/step - loss: 0.3594 - accuracy: 0.8537 - precision_2: 0.9914 - recall_2: 0.3619 - val_loss: 0.3500 - val_accuracy: 0.8558 - val_precision_2: 0.9928 - val_recall_2: 0.3677\n",
      "Epoch 892/1000\n",
      "1/1 [==============================] - 0s 42ms/step - loss: 0.3596 - accuracy: 0.8533 - precision_2: 0.9924 - recall_2: 0.3616 - val_loss: 0.3499 - val_accuracy: 0.8566 - val_precision_2: 0.9924 - val_recall_2: 0.3679\n",
      "Epoch 893/1000\n",
      "1/1 [==============================] - 0s 30ms/step - loss: 0.3593 - accuracy: 0.8538 - precision_2: 0.9913 - recall_2: 0.3625 - val_loss: 0.3498 - val_accuracy: 0.8559 - val_precision_2: 0.9927 - val_recall_2: 0.3678\n",
      "Epoch 894/1000\n",
      "1/1 [==============================] - 0s 39ms/step - loss: 0.3592 - accuracy: 0.8536 - precision_2: 0.9920 - recall_2: 0.3615 - val_loss: 0.3497 - val_accuracy: 0.8566 - val_precision_2: 0.9925 - val_recall_2: 0.3679\n",
      "Epoch 895/1000\n",
      "1/1 [==============================] - 0s 33ms/step - loss: 0.3592 - accuracy: 0.8538 - precision_2: 0.9909 - recall_2: 0.3623 - val_loss: 0.3498 - val_accuracy: 0.8558 - val_precision_2: 0.9926 - val_recall_2: 0.3677\n",
      "Epoch 896/1000\n",
      "1/1 [==============================] - 0s 39ms/step - loss: 0.3592 - accuracy: 0.8535 - precision_2: 0.9919 - recall_2: 0.3615 - val_loss: 0.3498 - val_accuracy: 0.8563 - val_precision_2: 0.9925 - val_recall_2: 0.3679\n",
      "Epoch 897/1000\n",
      "1/1 [==============================] - 0s 42ms/step - loss: 0.3592 - accuracy: 0.8537 - precision_2: 0.9912 - recall_2: 0.3625 - val_loss: 0.3497 - val_accuracy: 0.8558 - val_precision_2: 0.9928 - val_recall_2: 0.3677\n",
      "Epoch 898/1000\n",
      "1/1 [==============================] - 0s 50ms/step - loss: 0.3591 - accuracy: 0.8533 - precision_2: 0.9921 - recall_2: 0.3615 - val_loss: 0.3497 - val_accuracy: 0.8565 - val_precision_2: 0.9923 - val_recall_2: 0.3680\n",
      "Epoch 899/1000\n",
      "1/1 [==============================] - 0s 40ms/step - loss: 0.3595 - accuracy: 0.8539 - precision_2: 0.9908 - recall_2: 0.3626 - val_loss: 0.3498 - val_accuracy: 0.8559 - val_precision_2: 0.9927 - val_recall_2: 0.3678\n",
      "Epoch 900/1000\n",
      "1/1 [==============================] - 0s 43ms/step - loss: 0.3595 - accuracy: 0.8537 - precision_2: 0.9927 - recall_2: 0.3617 - val_loss: 0.3500 - val_accuracy: 0.8568 - val_precision_2: 0.9923 - val_recall_2: 0.3681\n",
      "Epoch 901/1000\n",
      "1/1 [==============================] - 0s 45ms/step - loss: 0.3597 - accuracy: 0.8538 - precision_2: 0.9905 - recall_2: 0.3627 - val_loss: 0.3503 - val_accuracy: 0.8555 - val_precision_2: 0.9930 - val_recall_2: 0.3676\n",
      "Epoch 902/1000\n",
      "1/1 [==============================] - 0s 38ms/step - loss: 0.3601 - accuracy: 0.8534 - precision_2: 0.9925 - recall_2: 0.3609 - val_loss: 0.3505 - val_accuracy: 0.8570 - val_precision_2: 0.9921 - val_recall_2: 0.3681\n",
      "Epoch 903/1000\n",
      "1/1 [==============================] - 0s 40ms/step - loss: 0.3598 - accuracy: 0.8544 - precision_2: 0.9898 - recall_2: 0.3632 - val_loss: 0.3508 - val_accuracy: 0.8553 - val_precision_2: 0.9935 - val_recall_2: 0.3676\n",
      "Epoch 904/1000\n",
      "1/1 [==============================] - 0s 37ms/step - loss: 0.3604 - accuracy: 0.8530 - precision_2: 0.9928 - recall_2: 0.3608 - val_loss: 0.3505 - val_accuracy: 0.8572 - val_precision_2: 0.9920 - val_recall_2: 0.3682\n",
      "Epoch 905/1000\n"
     ]
    },
    {
     "name": "stdout",
     "output_type": "stream",
     "text": [
      "1/1 [==============================] - 0s 37ms/step - loss: 0.3600 - accuracy: 0.8541 - precision_2: 0.9900 - recall_2: 0.3637 - val_loss: 0.3503 - val_accuracy: 0.8554 - val_precision_2: 0.9934 - val_recall_2: 0.3676\n",
      "Epoch 906/1000\n",
      "1/1 [==============================] - 0s 35ms/step - loss: 0.3599 - accuracy: 0.8534 - precision_2: 0.9929 - recall_2: 0.3609 - val_loss: 0.3498 - val_accuracy: 0.8568 - val_precision_2: 0.9924 - val_recall_2: 0.3680\n",
      "Epoch 907/1000\n",
      "1/1 [==============================] - 0s 48ms/step - loss: 0.3594 - accuracy: 0.8539 - precision_2: 0.9908 - recall_2: 0.3630 - val_loss: 0.3494 - val_accuracy: 0.8562 - val_precision_2: 0.9927 - val_recall_2: 0.3678\n",
      "Epoch 908/1000\n",
      "1/1 [==============================] - 0s 30ms/step - loss: 0.3592 - accuracy: 0.8532 - precision_2: 0.9913 - recall_2: 0.3615 - val_loss: 0.3493 - val_accuracy: 0.8562 - val_precision_2: 0.9927 - val_recall_2: 0.3679\n",
      "Epoch 909/1000\n",
      "1/1 [==============================] - 0s 36ms/step - loss: 0.3591 - accuracy: 0.8535 - precision_2: 0.9907 - recall_2: 0.3618 - val_loss: 0.3494 - val_accuracy: 0.8568 - val_precision_2: 0.9923 - val_recall_2: 0.3681\n",
      "Epoch 910/1000\n",
      "1/1 [==============================] - 0s 51ms/step - loss: 0.3591 - accuracy: 0.8538 - precision_2: 0.9903 - recall_2: 0.3628 - val_loss: 0.3497 - val_accuracy: 0.8556 - val_precision_2: 0.9929 - val_recall_2: 0.3677\n",
      "Epoch 911/1000\n",
      "1/1 [==============================] - 0s 36ms/step - loss: 0.3596 - accuracy: 0.8533 - precision_2: 0.9926 - recall_2: 0.3611 - val_loss: 0.3500 - val_accuracy: 0.8571 - val_precision_2: 0.9921 - val_recall_2: 0.3681\n",
      "Epoch 912/1000\n",
      "1/1 [==============================] - 0s 33ms/step - loss: 0.3595 - accuracy: 0.8543 - precision_2: 0.9898 - recall_2: 0.3632 - val_loss: 0.3503 - val_accuracy: 0.8553 - val_precision_2: 0.9933 - val_recall_2: 0.3676\n",
      "Epoch 913/1000\n",
      "1/1 [==============================] - 0s 40ms/step - loss: 0.3600 - accuracy: 0.8533 - precision_2: 0.9924 - recall_2: 0.3608 - val_loss: 0.3501 - val_accuracy: 0.8572 - val_precision_2: 0.9923 - val_recall_2: 0.3682\n",
      "Epoch 914/1000\n",
      "1/1 [==============================] - 0s 38ms/step - loss: 0.3597 - accuracy: 0.8544 - precision_2: 0.9902 - recall_2: 0.3640 - val_loss: 0.3499 - val_accuracy: 0.8555 - val_precision_2: 0.9933 - val_recall_2: 0.3677\n",
      "Epoch 915/1000\n",
      "1/1 [==============================] - 0s 36ms/step - loss: 0.3597 - accuracy: 0.8535 - precision_2: 0.9929 - recall_2: 0.3608 - val_loss: 0.3494 - val_accuracy: 0.8567 - val_precision_2: 0.9924 - val_recall_2: 0.3681\n",
      "Epoch 916/1000\n",
      "1/1 [==============================] - 0s 49ms/step - loss: 0.3590 - accuracy: 0.8541 - precision_2: 0.9901 - recall_2: 0.3632 - val_loss: 0.3490 - val_accuracy: 0.8565 - val_precision_2: 0.9925 - val_recall_2: 0.3680\n",
      "Epoch 917/1000\n",
      "1/1 [==============================] - 0s 38ms/step - loss: 0.3588 - accuracy: 0.8538 - precision_2: 0.9911 - recall_2: 0.3618 - val_loss: 0.3490 - val_accuracy: 0.8561 - val_precision_2: 0.9928 - val_recall_2: 0.3679\n",
      "Epoch 918/1000\n",
      "1/1 [==============================] - 0s 49ms/step - loss: 0.3586 - accuracy: 0.8539 - precision_2: 0.9918 - recall_2: 0.3618 - val_loss: 0.3492 - val_accuracy: 0.8570 - val_precision_2: 0.9924 - val_recall_2: 0.3681\n",
      "Epoch 919/1000\n",
      "1/1 [==============================] - 0s 30ms/step - loss: 0.3591 - accuracy: 0.8542 - precision_2: 0.9898 - recall_2: 0.3631 - val_loss: 0.3496 - val_accuracy: 0.8555 - val_precision_2: 0.9932 - val_recall_2: 0.3677\n",
      "Epoch 920/1000\n",
      "1/1 [==============================] - 0s 40ms/step - loss: 0.3594 - accuracy: 0.8533 - precision_2: 0.9930 - recall_2: 0.3613 - val_loss: 0.3496 - val_accuracy: 0.8570 - val_precision_2: 0.9923 - val_recall_2: 0.3681\n",
      "Epoch 921/1000\n",
      "1/1 [==============================] - 0s 38ms/step - loss: 0.3594 - accuracy: 0.8545 - precision_2: 0.9903 - recall_2: 0.3631 - val_loss: 0.3494 - val_accuracy: 0.8557 - val_precision_2: 0.9932 - val_recall_2: 0.3676\n",
      "Epoch 922/1000\n",
      "1/1 [==============================] - 0s 41ms/step - loss: 0.3590 - accuracy: 0.8535 - precision_2: 0.9923 - recall_2: 0.3612 - val_loss: 0.3490 - val_accuracy: 0.8566 - val_precision_2: 0.9928 - val_recall_2: 0.3679\n",
      "Epoch 923/1000\n",
      "1/1 [==============================] - 0s 47ms/step - loss: 0.3588 - accuracy: 0.8539 - precision_2: 0.9906 - recall_2: 0.3621 - val_loss: 0.3488 - val_accuracy: 0.8566 - val_precision_2: 0.9928 - val_recall_2: 0.3679\n",
      "Epoch 924/1000\n",
      "1/1 [==============================] - 0s 39ms/step - loss: 0.3586 - accuracy: 0.8538 - precision_2: 0.9912 - recall_2: 0.3624 - val_loss: 0.3488 - val_accuracy: 0.8562 - val_precision_2: 0.9929 - val_recall_2: 0.3679\n",
      "Epoch 925/1000\n",
      "1/1 [==============================] - 0s 35ms/step - loss: 0.3588 - accuracy: 0.8538 - precision_2: 0.9917 - recall_2: 0.3621 - val_loss: 0.3490 - val_accuracy: 0.8571 - val_precision_2: 0.9924 - val_recall_2: 0.3681\n",
      "Epoch 926/1000\n",
      "1/1 [==============================] - 0s 40ms/step - loss: 0.3587 - accuracy: 0.8542 - precision_2: 0.9901 - recall_2: 0.3632 - val_loss: 0.3492 - val_accuracy: 0.8560 - val_precision_2: 0.9932 - val_recall_2: 0.3677\n",
      "Epoch 927/1000\n",
      "1/1 [==============================] - 0s 37ms/step - loss: 0.3594 - accuracy: 0.8534 - precision_2: 0.9922 - recall_2: 0.3611 - val_loss: 0.3492 - val_accuracy: 0.8570 - val_precision_2: 0.9925 - val_recall_2: 0.3681\n",
      "Epoch 928/1000\n",
      "1/1 [==============================] - 0s 36ms/step - loss: 0.3589 - accuracy: 0.8544 - precision_2: 0.9904 - recall_2: 0.3633 - val_loss: 0.3490 - val_accuracy: 0.8560 - val_precision_2: 0.9932 - val_recall_2: 0.3677\n",
      "Epoch 929/1000\n",
      "1/1 [==============================] - 0s 35ms/step - loss: 0.3584 - accuracy: 0.8536 - precision_2: 0.9925 - recall_2: 0.3620 - val_loss: 0.3487 - val_accuracy: 0.8567 - val_precision_2: 0.9928 - val_recall_2: 0.3680\n",
      "Epoch 930/1000\n",
      "1/1 [==============================] - 0s 30ms/step - loss: 0.3586 - accuracy: 0.8541 - precision_2: 0.9908 - recall_2: 0.3629 - val_loss: 0.3485 - val_accuracy: 0.8565 - val_precision_2: 0.9929 - val_recall_2: 0.3680\n",
      "Epoch 931/1000\n",
      "1/1 [==============================] - 0s 32ms/step - loss: 0.3584 - accuracy: 0.8539 - precision_2: 0.9918 - recall_2: 0.3626 - val_loss: 0.3485 - val_accuracy: 0.8565 - val_precision_2: 0.9928 - val_recall_2: 0.3680\n",
      "Epoch 932/1000\n",
      "1/1 [==============================] - 0s 36ms/step - loss: 0.3580 - accuracy: 0.8541 - precision_2: 0.9919 - recall_2: 0.3629 - val_loss: 0.3486 - val_accuracy: 0.8568 - val_precision_2: 0.9928 - val_recall_2: 0.3680\n",
      "Epoch 933/1000\n",
      "1/1 [==============================] - 0s 33ms/step - loss: 0.3581 - accuracy: 0.8540 - precision_2: 0.9907 - recall_2: 0.3627 - val_loss: 0.3486 - val_accuracy: 0.8562 - val_precision_2: 0.9930 - val_recall_2: 0.3679\n",
      "Epoch 934/1000\n",
      "1/1 [==============================] - 0s 40ms/step - loss: 0.3580 - accuracy: 0.8539 - precision_2: 0.9919 - recall_2: 0.3623 - val_loss: 0.3485 - val_accuracy: 0.8570 - val_precision_2: 0.9927 - val_recall_2: 0.3682\n",
      "Epoch 935/1000\n",
      "1/1 [==============================] - 0s 34ms/step - loss: 0.3582 - accuracy: 0.8543 - precision_2: 0.9902 - recall_2: 0.3636 - val_loss: 0.3486 - val_accuracy: 0.8561 - val_precision_2: 0.9929 - val_recall_2: 0.3680\n",
      "Epoch 936/1000\n",
      "1/1 [==============================] - 0s 30ms/step - loss: 0.3587 - accuracy: 0.8537 - precision_2: 0.9913 - recall_2: 0.3620 - val_loss: 0.3487 - val_accuracy: 0.8569 - val_precision_2: 0.9927 - val_recall_2: 0.3681\n",
      "Epoch 937/1000\n",
      "1/1 [==============================] - 0s 39ms/step - loss: 0.3585 - accuracy: 0.8540 - precision_2: 0.9906 - recall_2: 0.3629 - val_loss: 0.3486 - val_accuracy: 0.8561 - val_precision_2: 0.9930 - val_recall_2: 0.3678\n",
      "Epoch 938/1000\n",
      "1/1 [==============================] - 0s 33ms/step - loss: 0.3581 - accuracy: 0.8539 - precision_2: 0.9916 - recall_2: 0.3623 - val_loss: 0.3485 - val_accuracy: 0.8567 - val_precision_2: 0.9927 - val_recall_2: 0.3681\n",
      "Epoch 939/1000\n",
      "1/1 [==============================] - 0s 32ms/step - loss: 0.3581 - accuracy: 0.8541 - precision_2: 0.9910 - recall_2: 0.3635 - val_loss: 0.3483 - val_accuracy: 0.8565 - val_precision_2: 0.9928 - val_recall_2: 0.3681\n",
      "Epoch 940/1000\n"
     ]
    },
    {
     "name": "stdout",
     "output_type": "stream",
     "text": [
      "1/1 [==============================] - 0s 35ms/step - loss: 0.3579 - accuracy: 0.8540 - precision_2: 0.9908 - recall_2: 0.3626 - val_loss: 0.3481 - val_accuracy: 0.8566 - val_precision_2: 0.9928 - val_recall_2: 0.3681\n",
      "Epoch 941/1000\n",
      "1/1 [==============================] - 0s 40ms/step - loss: 0.3583 - accuracy: 0.8540 - precision_2: 0.9913 - recall_2: 0.3625 - val_loss: 0.3482 - val_accuracy: 0.8568 - val_precision_2: 0.9928 - val_recall_2: 0.3681\n",
      "Epoch 942/1000\n",
      "1/1 [==============================] - 0s 31ms/step - loss: 0.3582 - accuracy: 0.8543 - precision_2: 0.9907 - recall_2: 0.3630 - val_loss: 0.3483 - val_accuracy: 0.8563 - val_precision_2: 0.9929 - val_recall_2: 0.3679\n",
      "Epoch 943/1000\n",
      "1/1 [==============================] - 0s 32ms/step - loss: 0.3582 - accuracy: 0.8540 - precision_2: 0.9918 - recall_2: 0.3617 - val_loss: 0.3485 - val_accuracy: 0.8567 - val_precision_2: 0.9929 - val_recall_2: 0.3681\n",
      "Epoch 944/1000\n",
      "1/1 [==============================] - 0s 58ms/step - loss: 0.3578 - accuracy: 0.8543 - precision_2: 0.9910 - recall_2: 0.3627 - val_loss: 0.3483 - val_accuracy: 0.8562 - val_precision_2: 0.9929 - val_recall_2: 0.3678\n",
      "Epoch 945/1000\n",
      "1/1 [==============================] - 0s 38ms/step - loss: 0.3580 - accuracy: 0.8537 - precision_2: 0.9919 - recall_2: 0.3615 - val_loss: 0.3481 - val_accuracy: 0.8569 - val_precision_2: 0.9928 - val_recall_2: 0.3681\n",
      "Epoch 946/1000\n",
      "1/1 [==============================] - 0s 34ms/step - loss: 0.3579 - accuracy: 0.8542 - precision_2: 0.9908 - recall_2: 0.3629 - val_loss: 0.3480 - val_accuracy: 0.8567 - val_precision_2: 0.9929 - val_recall_2: 0.3681\n",
      "Epoch 947/1000\n",
      "1/1 [==============================] - 0s 30ms/step - loss: 0.3579 - accuracy: 0.8542 - precision_2: 0.9911 - recall_2: 0.3626 - val_loss: 0.3479 - val_accuracy: 0.8569 - val_precision_2: 0.9928 - val_recall_2: 0.3681\n",
      "Epoch 948/1000\n",
      "1/1 [==============================] - 0s 32ms/step - loss: 0.3579 - accuracy: 0.8543 - precision_2: 0.9909 - recall_2: 0.3627 - val_loss: 0.3480 - val_accuracy: 0.8567 - val_precision_2: 0.9929 - val_recall_2: 0.3680\n",
      "Epoch 949/1000\n",
      "1/1 [==============================] - 0s 38ms/step - loss: 0.3576 - accuracy: 0.8542 - precision_2: 0.9915 - recall_2: 0.3628 - val_loss: 0.3481 - val_accuracy: 0.8564 - val_precision_2: 0.9929 - val_recall_2: 0.3679\n",
      "Epoch 950/1000\n",
      "1/1 [==============================] - 0s 32ms/step - loss: 0.3577 - accuracy: 0.8540 - precision_2: 0.9917 - recall_2: 0.3621 - val_loss: 0.3480 - val_accuracy: 0.8568 - val_precision_2: 0.9927 - val_recall_2: 0.3681\n",
      "Epoch 951/1000\n",
      "1/1 [==============================] - 0s 31ms/step - loss: 0.3576 - accuracy: 0.8543 - precision_2: 0.9909 - recall_2: 0.3630 - val_loss: 0.3479 - val_accuracy: 0.8565 - val_precision_2: 0.9929 - val_recall_2: 0.3679\n",
      "Epoch 952/1000\n",
      "1/1 [==============================] - 0s 31ms/step - loss: 0.3574 - accuracy: 0.8542 - precision_2: 0.9907 - recall_2: 0.3625 - val_loss: 0.3477 - val_accuracy: 0.8569 - val_precision_2: 0.9927 - val_recall_2: 0.3682\n",
      "Epoch 953/1000\n",
      "1/1 [==============================] - 0s 45ms/step - loss: 0.3578 - accuracy: 0.8541 - precision_2: 0.9903 - recall_2: 0.3633 - val_loss: 0.3478 - val_accuracy: 0.8564 - val_precision_2: 0.9929 - val_recall_2: 0.3679\n",
      "Epoch 954/1000\n",
      "1/1 [==============================] - 0s 32ms/step - loss: 0.3578 - accuracy: 0.8539 - precision_2: 0.9915 - recall_2: 0.3625 - val_loss: 0.3479 - val_accuracy: 0.8568 - val_precision_2: 0.9928 - val_recall_2: 0.3681\n",
      "Epoch 955/1000\n",
      "1/1 [==============================] - 0s 32ms/step - loss: 0.3577 - accuracy: 0.8542 - precision_2: 0.9912 - recall_2: 0.3627 - val_loss: 0.3479 - val_accuracy: 0.8564 - val_precision_2: 0.9930 - val_recall_2: 0.3679\n",
      "Epoch 956/1000\n",
      "1/1 [==============================] - 0s 28ms/step - loss: 0.3577 - accuracy: 0.8539 - precision_2: 0.9912 - recall_2: 0.3620 - val_loss: 0.3478 - val_accuracy: 0.8567 - val_precision_2: 0.9928 - val_recall_2: 0.3681\n",
      "Epoch 957/1000\n",
      "1/1 [==============================] - 0s 30ms/step - loss: 0.3574 - accuracy: 0.8545 - precision_2: 0.9907 - recall_2: 0.3624 - val_loss: 0.3476 - val_accuracy: 0.8567 - val_precision_2: 0.9927 - val_recall_2: 0.3681\n",
      "Epoch 958/1000\n",
      "1/1 [==============================] - 0s 41ms/step - loss: 0.3575 - accuracy: 0.8540 - precision_2: 0.9910 - recall_2: 0.3624 - val_loss: 0.3475 - val_accuracy: 0.8569 - val_precision_2: 0.9927 - val_recall_2: 0.3681\n",
      "Epoch 959/1000\n",
      "1/1 [==============================] - 0s 50ms/step - loss: 0.3574 - accuracy: 0.8542 - precision_2: 0.9917 - recall_2: 0.3631 - val_loss: 0.3475 - val_accuracy: 0.8570 - val_precision_2: 0.9927 - val_recall_2: 0.3681\n",
      "Epoch 960/1000\n",
      "1/1 [==============================] - 0s 34ms/step - loss: 0.3575 - accuracy: 0.8542 - precision_2: 0.9903 - recall_2: 0.3631 - val_loss: 0.3476 - val_accuracy: 0.8566 - val_precision_2: 0.9929 - val_recall_2: 0.3680\n",
      "Epoch 961/1000\n",
      "1/1 [==============================] - 0s 34ms/step - loss: 0.3575 - accuracy: 0.8540 - precision_2: 0.9914 - recall_2: 0.3624 - val_loss: 0.3477 - val_accuracy: 0.8570 - val_precision_2: 0.9927 - val_recall_2: 0.3681\n",
      "Epoch 962/1000\n",
      "1/1 [==============================] - 0s 35ms/step - loss: 0.3573 - accuracy: 0.8545 - precision_2: 0.9905 - recall_2: 0.3634 - val_loss: 0.3477 - val_accuracy: 0.8565 - val_precision_2: 0.9930 - val_recall_2: 0.3680\n",
      "Epoch 963/1000\n",
      "1/1 [==============================] - 0s 38ms/step - loss: 0.3578 - accuracy: 0.8539 - precision_2: 0.9919 - recall_2: 0.3624 - val_loss: 0.3476 - val_accuracy: 0.8572 - val_precision_2: 0.9927 - val_recall_2: 0.3681\n",
      "Epoch 964/1000\n",
      "1/1 [==============================] - 0s 31ms/step - loss: 0.3573 - accuracy: 0.8545 - precision_2: 0.9905 - recall_2: 0.3636 - val_loss: 0.3476 - val_accuracy: 0.8565 - val_precision_2: 0.9930 - val_recall_2: 0.3680\n",
      "Epoch 965/1000\n",
      "1/1 [==============================] - 0s 29ms/step - loss: 0.3572 - accuracy: 0.8541 - precision_2: 0.9922 - recall_2: 0.3623 - val_loss: 0.3476 - val_accuracy: 0.8574 - val_precision_2: 0.9927 - val_recall_2: 0.3682\n",
      "Epoch 966/1000\n",
      "1/1 [==============================] - 0s 40ms/step - loss: 0.3578 - accuracy: 0.8543 - precision_2: 0.9899 - recall_2: 0.3637 - val_loss: 0.3477 - val_accuracy: 0.8564 - val_precision_2: 0.9930 - val_recall_2: 0.3679\n",
      "Epoch 967/1000\n",
      "1/1 [==============================] - 0s 36ms/step - loss: 0.3576 - accuracy: 0.8538 - precision_2: 0.9912 - recall_2: 0.3621 - val_loss: 0.3478 - val_accuracy: 0.8575 - val_precision_2: 0.9925 - val_recall_2: 0.3682\n",
      "Epoch 968/1000\n",
      "1/1 [==============================] - 0s 35ms/step - loss: 0.3574 - accuracy: 0.8543 - precision_2: 0.9902 - recall_2: 0.3639 - val_loss: 0.3478 - val_accuracy: 0.8564 - val_precision_2: 0.9930 - val_recall_2: 0.3679\n",
      "Epoch 969/1000\n",
      "1/1 [==============================] - 0s 49ms/step - loss: 0.3577 - accuracy: 0.8538 - precision_2: 0.9919 - recall_2: 0.3620 - val_loss: 0.3477 - val_accuracy: 0.8575 - val_precision_2: 0.9925 - val_recall_2: 0.3683\n",
      "Epoch 970/1000\n",
      "1/1 [==============================] - 0s 48ms/step - loss: 0.3579 - accuracy: 0.8545 - precision_2: 0.9895 - recall_2: 0.3637 - val_loss: 0.3479 - val_accuracy: 0.8563 - val_precision_2: 0.9930 - val_recall_2: 0.3678\n",
      "Epoch 971/1000\n",
      "1/1 [==============================] - 0s 35ms/step - loss: 0.3573 - accuracy: 0.8540 - precision_2: 0.9921 - recall_2: 0.3620 - val_loss: 0.3478 - val_accuracy: 0.8576 - val_precision_2: 0.9927 - val_recall_2: 0.3683\n",
      "Epoch 972/1000\n",
      "1/1 [==============================] - 0s 34ms/step - loss: 0.3577 - accuracy: 0.8543 - precision_2: 0.9899 - recall_2: 0.3640 - val_loss: 0.3479 - val_accuracy: 0.8562 - val_precision_2: 0.9932 - val_recall_2: 0.3678\n",
      "Epoch 973/1000\n",
      "1/1 [==============================] - 0s 34ms/step - loss: 0.3578 - accuracy: 0.8538 - precision_2: 0.9917 - recall_2: 0.3614 - val_loss: 0.3478 - val_accuracy: 0.8576 - val_precision_2: 0.9925 - val_recall_2: 0.3683\n",
      "Epoch 974/1000\n",
      "1/1 [==============================] - 0s 36ms/step - loss: 0.3577 - accuracy: 0.8546 - precision_2: 0.9900 - recall_2: 0.3639 - val_loss: 0.3477 - val_accuracy: 0.8563 - val_precision_2: 0.9932 - val_recall_2: 0.3679\n",
      "Epoch 975/1000\n"
     ]
    },
    {
     "name": "stdout",
     "output_type": "stream",
     "text": [
      "1/1 [==============================] - 0s 39ms/step - loss: 0.3577 - accuracy: 0.8537 - precision_2: 0.9923 - recall_2: 0.3614 - val_loss: 0.3475 - val_accuracy: 0.8575 - val_precision_2: 0.9925 - val_recall_2: 0.3683\n",
      "Epoch 976/1000\n",
      "1/1 [==============================] - 0s 30ms/step - loss: 0.3575 - accuracy: 0.8546 - precision_2: 0.9907 - recall_2: 0.3641 - val_loss: 0.3473 - val_accuracy: 0.8565 - val_precision_2: 0.9930 - val_recall_2: 0.3679\n",
      "Epoch 977/1000\n",
      "1/1 [==============================] - 0s 32ms/step - loss: 0.3571 - accuracy: 0.8541 - precision_2: 0.9917 - recall_2: 0.3619 - val_loss: 0.3471 - val_accuracy: 0.8572 - val_precision_2: 0.9925 - val_recall_2: 0.3681\n",
      "Epoch 978/1000\n",
      "1/1 [==============================] - 0s 45ms/step - loss: 0.3568 - accuracy: 0.8547 - precision_2: 0.9901 - recall_2: 0.3635 - val_loss: 0.3470 - val_accuracy: 0.8567 - val_precision_2: 0.9928 - val_recall_2: 0.3680\n",
      "Epoch 979/1000\n",
      "1/1 [==============================] - 0s 50ms/step - loss: 0.3573 - accuracy: 0.8541 - precision_2: 0.9906 - recall_2: 0.3628 - val_loss: 0.3469 - val_accuracy: 0.8568 - val_precision_2: 0.9928 - val_recall_2: 0.3680\n",
      "Epoch 980/1000\n",
      "1/1 [==============================] - 0s 37ms/step - loss: 0.3570 - accuracy: 0.8541 - precision_2: 0.9906 - recall_2: 0.3626 - val_loss: 0.3470 - val_accuracy: 0.8569 - val_precision_2: 0.9928 - val_recall_2: 0.3680\n",
      "Epoch 981/1000\n",
      "1/1 [==============================] - 0s 35ms/step - loss: 0.3568 - accuracy: 0.8546 - precision_2: 0.9915 - recall_2: 0.3634 - val_loss: 0.3471 - val_accuracy: 0.8566 - val_precision_2: 0.9929 - val_recall_2: 0.3680\n",
      "Epoch 982/1000\n",
      "1/1 [==============================] - 0s 37ms/step - loss: 0.3569 - accuracy: 0.8541 - precision_2: 0.9913 - recall_2: 0.3624 - val_loss: 0.3470 - val_accuracy: 0.8572 - val_precision_2: 0.9928 - val_recall_2: 0.3682\n",
      "Epoch 983/1000\n",
      "1/1 [==============================] - 0s 36ms/step - loss: 0.3572 - accuracy: 0.8542 - precision_2: 0.9906 - recall_2: 0.3634 - val_loss: 0.3469 - val_accuracy: 0.8566 - val_precision_2: 0.9929 - val_recall_2: 0.3680\n",
      "Epoch 984/1000\n",
      "1/1 [==============================] - 0s 36ms/step - loss: 0.3569 - accuracy: 0.8541 - precision_2: 0.9906 - recall_2: 0.3626 - val_loss: 0.3469 - val_accuracy: 0.8573 - val_precision_2: 0.9927 - val_recall_2: 0.3682\n",
      "Epoch 985/1000\n",
      "1/1 [==============================] - 0s 42ms/step - loss: 0.3568 - accuracy: 0.8545 - precision_2: 0.9901 - recall_2: 0.3631 - val_loss: 0.3469 - val_accuracy: 0.8567 - val_precision_2: 0.9929 - val_recall_2: 0.3680\n",
      "Epoch 986/1000\n",
      "1/1 [==============================] - 0s 45ms/step - loss: 0.3566 - accuracy: 0.8541 - precision_2: 0.9911 - recall_2: 0.3630 - val_loss: 0.3469 - val_accuracy: 0.8574 - val_precision_2: 0.9927 - val_recall_2: 0.3682\n",
      "Epoch 987/1000\n",
      "1/1 [==============================] - 0s 35ms/step - loss: 0.3568 - accuracy: 0.8544 - precision_2: 0.9900 - recall_2: 0.3640 - val_loss: 0.3470 - val_accuracy: 0.8566 - val_precision_2: 0.9929 - val_recall_2: 0.3680\n",
      "Epoch 988/1000\n",
      "1/1 [==============================] - 0s 44ms/step - loss: 0.3566 - accuracy: 0.8544 - precision_2: 0.9914 - recall_2: 0.3621 - val_loss: 0.3470 - val_accuracy: 0.8575 - val_precision_2: 0.9925 - val_recall_2: 0.3683\n",
      "Epoch 989/1000\n",
      "1/1 [==============================] - 0s 35ms/step - loss: 0.3572 - accuracy: 0.8545 - precision_2: 0.9890 - recall_2: 0.3643 - val_loss: 0.3472 - val_accuracy: 0.8564 - val_precision_2: 0.9932 - val_recall_2: 0.3680\n",
      "Epoch 990/1000\n",
      "1/1 [==============================] - 0s 54ms/step - loss: 0.3574 - accuracy: 0.8539 - precision_2: 0.9916 - recall_2: 0.3620 - val_loss: 0.3475 - val_accuracy: 0.8579 - val_precision_2: 0.9925 - val_recall_2: 0.3684\n",
      "Epoch 991/1000\n",
      "1/1 [==============================] - 0s 38ms/step - loss: 0.3574 - accuracy: 0.8548 - precision_2: 0.9890 - recall_2: 0.3647 - val_loss: 0.3477 - val_accuracy: 0.8561 - val_precision_2: 0.9937 - val_recall_2: 0.3678\n",
      "Epoch 992/1000\n",
      "1/1 [==============================] - 0s 36ms/step - loss: 0.3575 - accuracy: 0.8539 - precision_2: 0.9931 - recall_2: 0.3618 - val_loss: 0.3478 - val_accuracy: 0.8580 - val_precision_2: 0.9925 - val_recall_2: 0.3685\n",
      "Epoch 993/1000\n",
      "1/1 [==============================] - 0s 40ms/step - loss: 0.3572 - accuracy: 0.8549 - precision_2: 0.9893 - recall_2: 0.3645 - val_loss: 0.3476 - val_accuracy: 0.8563 - val_precision_2: 0.9935 - val_recall_2: 0.3679\n",
      "Epoch 994/1000\n",
      "1/1 [==============================] - 0s 36ms/step - loss: 0.3577 - accuracy: 0.8537 - precision_2: 0.9919 - recall_2: 0.3619 - val_loss: 0.3471 - val_accuracy: 0.8580 - val_precision_2: 0.9925 - val_recall_2: 0.3686\n",
      "Epoch 995/1000\n",
      "1/1 [==============================] - 0s 59ms/step - loss: 0.3569 - accuracy: 0.8548 - precision_2: 0.9899 - recall_2: 0.3642 - val_loss: 0.3467 - val_accuracy: 0.8567 - val_precision_2: 0.9933 - val_recall_2: 0.3679\n",
      "Epoch 996/1000\n",
      "1/1 [==============================] - 0s 38ms/step - loss: 0.3570 - accuracy: 0.8541 - precision_2: 0.9917 - recall_2: 0.3625 - val_loss: 0.3465 - val_accuracy: 0.8576 - val_precision_2: 0.9925 - val_recall_2: 0.3683\n",
      "Epoch 997/1000\n",
      "1/1 [==============================] - 0s 50ms/step - loss: 0.3566 - accuracy: 0.8546 - precision_2: 0.9906 - recall_2: 0.3637 - val_loss: 0.3464 - val_accuracy: 0.8570 - val_precision_2: 0.9928 - val_recall_2: 0.3681\n",
      "Epoch 998/1000\n",
      "1/1 [==============================] - 0s 33ms/step - loss: 0.3565 - accuracy: 0.8544 - precision_2: 0.9910 - recall_2: 0.3628 - val_loss: 0.3464 - val_accuracy: 0.8570 - val_precision_2: 0.9928 - val_recall_2: 0.3681\n",
      "Epoch 999/1000\n",
      "1/1 [==============================] - 0s 38ms/step - loss: 0.3562 - accuracy: 0.8546 - precision_2: 0.9910 - recall_2: 0.3630 - val_loss: 0.3464 - val_accuracy: 0.8573 - val_precision_2: 0.9927 - val_recall_2: 0.3683\n",
      "Epoch 1000/1000\n",
      "1/1 [==============================] - 0s 32ms/step - loss: 0.3566 - accuracy: 0.8545 - precision_2: 0.9904 - recall_2: 0.3638 - val_loss: 0.3464 - val_accuracy: 0.8567 - val_precision_2: 0.9930 - val_recall_2: 0.3681\n"
     ]
    }
   ],
   "source": [
    "with tf.device('/gpu:0'):\n",
    "    tf.keras.backend.clear_session()\n",
    "    training_history = model.fit(dataset_train, epochs=num_epochs.value(), validation_data=dataset_val)"
   ]
  },
  {
   "cell_type": "code",
   "execution_count": 18,
   "metadata": {},
   "outputs": [
    {
     "data": {
      "text/plain": [
       "dict_keys(['loss', 'accuracy', 'precision_2', 'recall_2', 'val_loss', 'val_accuracy', 'val_precision_2', 'val_recall_2'])"
      ]
     },
     "execution_count": 18,
     "metadata": {},
     "output_type": "execute_result"
    }
   ],
   "source": [
    "training_history.history.keys()"
   ]
  },
  {
   "cell_type": "markdown",
   "metadata": {},
   "source": [
    "Below I plot the Accuracy and Loss against the number of epochs on the left and the Precision and Recall against the number of epochs on the right. Based on the two graphs below I can use less epochs to shorten the training time and still achieve convergence. I'll try 800 epochs."
   ]
  },
  {
   "cell_type": "code",
   "execution_count": 19,
   "metadata": {},
   "outputs": [
    {
     "data": {
      "text/plain": [
       "<matplotlib.legend.Legend at 0x7fb93c067700>"
      ]
     },
     "execution_count": 19,
     "metadata": {},
     "output_type": "execute_result"
    },
    {
     "data": {
      "image/png": "[encoded data removed]",
      "text/plain": [
       "<Figure size 1008x576 with 2 Axes>"
      ]
     },
     "metadata": {
      "needs_background": "light"
     },
     "output_type": "display_data"
    }
   ],
   "source": [
    "train_acc = training_history.history['accuracy']\n",
    "train_loss = training_history.history['loss']\n",
    "\n",
    "precision = training_history.history['precision_2']\n",
    "recall = training_history.history['recall_2']\n",
    "\n",
    "epochs_range = range(num_epochs.value())\n",
    "\n",
    "plt.figure(figsize=(14, 8))\n",
    "\n",
    "plt.subplot(1, 2, 1)\n",
    "plt.xlabel('Epochs')\n",
    "plt.ylabel('Percent')\n",
    "plt.plot(epochs_range, train_acc, label='Training Accuracy')\n",
    "plt.plot(epochs_range, train_loss, label='Training Loss')\n",
    "\n",
    "plt.title('Accuracy and Loss')\n",
    "plt.legend()\n",
    "\n",
    "plt.subplot(1, 2, 2)\n",
    "\n",
    "plt.plot(epochs_range, precision, label='Precision')\n",
    "plt.plot(epochs_range, recall, label='Recall')\n",
    "plt.xlabel('Epochs')\n",
    "plt.ylabel('Percent')\n",
    "plt.title('Precision and Recall')\n",
    "plt.legend()"
   ]
  },
  {
   "cell_type": "markdown",
   "metadata": {},
   "source": [
    "Below I evaluate the model on the validation model and also demonstrate the performance increase when using a tensor dataset as opposed to numpy arrays. In the first evaluation I use numpy arrays and process the evaluation on the GPU. The second evaluation I use a tensor dataset on the GPU, and in the third I use a tensor dataset on the CPU. We can see that using a tensor dataset on the GPU yields by far the quickest processing."
   ]
  },
  {
   "cell_type": "markdown",
   "metadata": {},
   "source": [
    "Demonstrating time performance with numpy arrays using the GPU."
   ]
  },
  {
   "cell_type": "code",
   "execution_count": 24,
   "metadata": {},
   "outputs": [
    {
     "name": "stdout",
     "output_type": "stream",
     "text": [
      "2827/2827 [==============================] - 4s 1ms/step - loss: 0.3464 - accuracy: 0.8567 - precision_2: 0.9930 - recall_2: 0.3681\n"
     ]
    },
    {
     "data": {
      "text/plain": [
       "loss           0.346449\n",
       "accuracy       0.856727\n",
       "precision_2    0.993041\n",
       "recall_2       0.368092\n",
       "dtype: float64"
      ]
     },
     "execution_count": 24,
     "metadata": {},
     "output_type": "execute_result"
    }
   ],
   "source": [
    "with tf.device('/gpu:0'):\n",
    "    score = model.evaluate(x_val_n, y_val_n)\n",
    "    score_df = pd.Series(score, index = model.metrics_names)\n",
    "\n",
    "score_df"
   ]
  },
  {
   "cell_type": "markdown",
   "metadata": {},
   "source": [
    "Demonstrating time performance with a tensor dataset using the GPU."
   ]
  },
  {
   "cell_type": "code",
   "execution_count": 27,
   "metadata": {
    "scrolled": true
   },
   "outputs": [
    {
     "name": "stdout",
     "output_type": "stream",
     "text": [
      "1/1 [==============================] - 0s 1ms/step - loss: 0.3464 - accuracy: 0.8567 - precision_2: 0.9930 - recall_2: 0.3681\n"
     ]
    },
    {
     "data": {
      "text/plain": [
       "loss           0.346449\n",
       "accuracy       0.856727\n",
       "precision_2    0.993041\n",
       "recall_2       0.368092\n",
       "dtype: float64"
      ]
     },
     "execution_count": 27,
     "metadata": {},
     "output_type": "execute_result"
    }
   ],
   "source": [
    "with tf.device('/gpu:0'):\n",
    "    score = model.evaluate(dataset_val)\n",
    "    score_df = pd.Series(score, index = model.metrics_names)\n",
    "\n",
    "score_df"
   ]
  },
  {
   "cell_type": "markdown",
   "metadata": {},
   "source": [
    "Demonstrating time performance with a tensor dataset on the CPU."
   ]
  },
  {
   "cell_type": "code",
   "execution_count": 28,
   "metadata": {},
   "outputs": [
    {
     "name": "stdout",
     "output_type": "stream",
     "text": [
      "1/1 [==============================] - 0s 6ms/step - loss: 0.3464 - accuracy: 0.8567 - precision_2: 0.9930 - recall_2: 0.3681\n"
     ]
    },
    {
     "data": {
      "text/plain": [
       "loss           0.346449\n",
       "accuracy       0.856727\n",
       "precision_2    0.993041\n",
       "recall_2       0.368092\n",
       "dtype: float64"
      ]
     },
     "execution_count": 28,
     "metadata": {},
     "output_type": "execute_result"
    }
   ],
   "source": [
    "with tf.device('/cpu:0'):\n",
    "    score = model.evaluate(dataset_val)\n",
    "    score_df = pd.Series(score, index = model.metrics_names)\n",
    "\n",
    "score_df"
   ]
  },
  {
   "cell_type": "markdown",
   "metadata": {},
   "source": [
    "Below I store the predictions on the validation data and use a threshold of 0.7 to determine whether the prediciton is 1 or 0. Predictions greater than or equal to 0.7 are 1 and less than or equal to 0.7 are 0. This is effectively a weighted cost matrix and putting a higher weight on mispredicted positive cases. By doing so I minimize the false positive rate and maximize the specificity."
   ]
  },
  {
   "cell_type": "code",
   "execution_count": 34,
   "metadata": {},
   "outputs": [],
   "source": [
    "y_pred = model.predict(x_val_n)\n",
    "y_pred = np.where(y_pred>=0.7, 1, y_pred)\n",
    "y_pred = np.where(y_pred<0.7, 0, y_pred)\n",
    "pred_results = pd.DataFrame({'y_test': y_val_n.values.flatten().astype('int32'),\n",
    "                             'y_pred': y_pred.flatten().astype('int32') }, index = range(len(y_pred)))"
   ]
  },
  {
   "cell_type": "markdown",
   "metadata": {},
   "source": [
    "Displaying the confusion matrix and metric values from evaluating the neural net with one hidden layer on the validation data below."
   ]
  },
  {
   "cell_type": "code",
   "execution_count": 36,
   "metadata": {},
   "outputs": [
    {
     "data": {
      "text/html": [
       "<div>\n",
       "<style scoped>\n",
       "    .dataframe tbody tr th:only-of-type {\n",
       "        vertical-align: middle;\n",
       "    }\n",
       "\n",
       "    .dataframe tbody tr th {\n",
       "        vertical-align: top;\n",
       "    }\n",
       "\n",
       "    .dataframe thead th {\n",
       "        text-align: right;\n",
       "    }\n",
       "</style>\n",
       "<table border=\"1\" class=\"dataframe\">\n",
       "  <thead>\n",
       "    <tr style=\"text-align: right;\">\n",
       "      <th>y_test</th>\n",
       "      <th>0</th>\n",
       "      <th>1</th>\n",
       "    </tr>\n",
       "    <tr>\n",
       "      <th>y_pred</th>\n",
       "      <th></th>\n",
       "      <th></th>\n",
       "    </tr>\n",
       "  </thead>\n",
       "  <tbody>\n",
       "    <tr>\n",
       "      <th>0</th>\n",
       "      <td>69454</td>\n",
       "      <td>13229</td>\n",
       "    </tr>\n",
       "    <tr>\n",
       "      <th>1</th>\n",
       "      <td>54</td>\n",
       "      <td>7706</td>\n",
       "    </tr>\n",
       "  </tbody>\n",
       "</table>\n",
       "</div>"
      ],
      "text/plain": [
       "y_test      0      1\n",
       "y_pred              \n",
       "0       69454  13229\n",
       "1          54   7706"
      ]
     },
     "execution_count": 36,
     "metadata": {},
     "output_type": "execute_result"
    }
   ],
   "source": [
    "cm = pd.crosstab(pred_results.y_pred, pred_results.y_test)\n",
    "cm"
   ]
  },
  {
   "cell_type": "markdown",
   "metadata": {},
   "source": [
    "Metric Values for the neural net with 1 hidden layer."
   ]
  },
  {
   "cell_type": "code",
   "execution_count": 37,
   "metadata": {},
   "outputs": [
    {
     "name": "stdout",
     "output_type": "stream",
     "text": [
      "Name: Neural Net 1 Hidden Layer\n",
      "Cost Matrix: \n",
      "\n"
     ]
    },
    {
     "data": {
      "text/html": [
       "<div>\n",
       "<style scoped>\n",
       "    .dataframe tbody tr th:only-of-type {\n",
       "        vertical-align: middle;\n",
       "    }\n",
       "\n",
       "    .dataframe tbody tr th {\n",
       "        vertical-align: top;\n",
       "    }\n",
       "\n",
       "    .dataframe thead th {\n",
       "        text-align: right;\n",
       "    }\n",
       "</style>\n",
       "<table border=\"1\" class=\"dataframe\">\n",
       "  <thead>\n",
       "    <tr style=\"text-align: right;\">\n",
       "      <th>y_test</th>\n",
       "      <th>0</th>\n",
       "      <th>1</th>\n",
       "    </tr>\n",
       "    <tr>\n",
       "      <th>y_pred</th>\n",
       "      <th></th>\n",
       "      <th></th>\n",
       "    </tr>\n",
       "  </thead>\n",
       "  <tbody>\n",
       "    <tr>\n",
       "      <th>0</th>\n",
       "      <td>69454</td>\n",
       "      <td>13229</td>\n",
       "    </tr>\n",
       "    <tr>\n",
       "      <th>1</th>\n",
       "      <td>54</td>\n",
       "      <td>7706</td>\n",
       "    </tr>\n",
       "  </tbody>\n",
       "</table>\n",
       "</div>"
      ],
      "text/plain": [
       "y_test      0      1\n",
       "y_pred              \n",
       "0       69454  13229\n",
       "1          54   7706"
      ]
     },
     "metadata": {},
     "output_type": "display_data"
    },
    {
     "name": "stdout",
     "output_type": "stream",
     "text": [
      "Specificity: \n",
      "\n",
      "0.9992231110088048 \n",
      "\n",
      "Sensitivity: \n",
      "\n",
      "0.3680917124432768 \n",
      "\n",
      "Precision: \n",
      "\n",
      "0.9930412371134021 \n",
      "\n",
      "Accuracy: \n",
      "\n",
      "0.8531340181108543 \n",
      "\n"
     ]
    }
   ],
   "source": [
    "metrics = {}\n",
    "metrics['Name'] = \"Neural Net 1 Hidden Layer\"\n",
    "metrics['CM'] = cm\n",
    "metrics['Specificity'] = cm[0][0] / (cm[0][0]+cm[0][1])\n",
    "metrics['Sensitivity'] = cm[1][1] / (cm[1][1] + cm[1][0])\n",
    "metrics['Precision'] = cm[1][1] / (cm[1][1] + cm[0][1])\n",
    "metrics['Accuracy'] = (cm[1][1] + cm[0][0]) / (cm[1][1]+cm[0][0]+cm[1][0]+cm[0][1])\n",
    "for k,v in metrics.items():\n",
    "        if k == 'Name':\n",
    "            print(k + ':', v)\n",
    "        elif k == 'CM':  \n",
    "            print(\"Cost Matrix:\",'\\n')\n",
    "            display(v)\n",
    "        else:\n",
    "            print(k + ':','\\n')\n",
    "            print(v, '\\n')"
   ]
  },
  {
   "cell_type": "markdown",
   "metadata": {},
   "source": [
    "Below I add two more hidden layers and change the number of nodes in the hidden layers. The first hidden layer has 24 nodes, the second layer has 16, and the third hidden layer has 8 nodes. "
   ]
  },
  {
   "cell_type": "code",
   "execution_count": 52,
   "metadata": {},
   "outputs": [],
   "source": [
    "tf.keras.backend.clear_session()\n",
    "def build_model():\n",
    "    \n",
    "    inputs = tf.keras.Input(shape=(x_train_n.shape[1]))\n",
    "    dense_layer1 = keras.layers.Dense(24, activation=tf.nn.relu)\n",
    "    x = dense_layer1(inputs)\n",
    "    dense_layer2 = keras.layers.Dense(16, activation=tf.nn.relu)\n",
    "    x = dense_layer2(x)\n",
    "    dropout_layer = keras.layers.Dropout(0.3)\n",
    "    x = dropout_layer(x)\n",
    "    dense_layer3 = keras.layers.Dense(8, activation=tf.nn.relu)\n",
    "    x = dense_layer3(x)\n",
    "    predictions_layer = keras.layers.Dense(1, activation=tf.nn.sigmoid)\n",
    "    predictions = predictions_layer(x)\n",
    "    model = tf.keras.Model(inputs=inputs, outputs=predictions)\n",
    "    model.summary()\n",
    "    model.compile(optimizer=tf.keras.optimizers.Adam(0.01),\n",
    "                  loss=tf.keras.losses.BinaryCrossentropy(),\n",
    "                  metrics=['accuracy', \n",
    "                           tf.keras.metrics.Precision(0.7),\n",
    "                           tf.keras.metrics.Recall(0.7)\n",
    "                          ])\n",
    "    return model"
   ]
  },
  {
   "cell_type": "markdown",
   "metadata": {},
   "source": [
    "Compiling the model and viewing the summary."
   ]
  },
  {
   "cell_type": "code",
   "execution_count": 53,
   "metadata": {},
   "outputs": [
    {
     "name": "stdout",
     "output_type": "stream",
     "text": [
      "Model: \"model\"\n",
      "_________________________________________________________________\n",
      "Layer (type)                 Output Shape              Param #   \n",
      "=================================================================\n",
      "input_1 (InputLayer)         [(None, 71)]              0         \n",
      "_________________________________________________________________\n",
      "dense (Dense)                (None, 24)                1728      \n",
      "_________________________________________________________________\n",
      "dense_1 (Dense)              (None, 16)                400       \n",
      "_________________________________________________________________\n",
      "dropout (Dropout)            (None, 16)                0         \n",
      "_________________________________________________________________\n",
      "dense_2 (Dense)              (None, 8)                 136       \n",
      "_________________________________________________________________\n",
      "dense_3 (Dense)              (None, 1)                 9         \n",
      "=================================================================\n",
      "Total params: 2,273\n",
      "Trainable params: 2,273\n",
      "Non-trainable params: 0\n",
      "_________________________________________________________________\n"
     ]
    }
   ],
   "source": [
    "model = build_model()"
   ]
  },
  {
   "cell_type": "markdown",
   "metadata": {},
   "source": [
    "Displaying the graph of the larger neural network."
   ]
  },
  {
   "cell_type": "code",
   "execution_count": 54,
   "metadata": {},
   "outputs": [
    {
     "data": {
      "image/png": "[encoded data removed]",
      "text/plain": [
       "<IPython.core.display.Image object>"
      ]
     },
     "execution_count": 54,
     "metadata": {},
     "output_type": "execute_result"
    }
   ],
   "source": [
    "keras.utils.plot_model(model, \"Neural_Net_2.png\", show_shapes=True)"
   ]
  },
  {
   "cell_type": "markdown",
   "metadata": {},
   "source": [
    "Training the larger neural network with the same train data, 1000 epochs, and the validation data. This time I set the `verbose` parameter to 0 so the epoch history isn't printed to screen. "
   ]
  },
  {
   "cell_type": "code",
   "execution_count": 55,
   "metadata": {},
   "outputs": [],
   "source": [
    "with tf.device('/gpu:0'):\n",
    "    training_history = model.fit(dataset_train, epochs=num_epochs.value(), validation_data=dataset_val, verbose=0)"
   ]
  },
  {
   "cell_type": "markdown",
   "metadata": {},
   "source": [
    "Again storing the predictions of the neural net on the validation data. This time the predictions are made from the network with 3 hidden layers."
   ]
  },
  {
   "cell_type": "code",
   "execution_count": 56,
   "metadata": {},
   "outputs": [],
   "source": [
    "y_pred = model.predict(x_val_n)\n",
    "y_pred = np.where(y_pred>=0.7, 1, y_pred)\n",
    "y_pred = np.where(y_pred<0.7, 0, y_pred)\n",
    "pred_results = pd.DataFrame({'y_test': y_val_n.values.flatten().astype('int32'),\n",
    "                             'y_pred': y_pred.flatten().astype('int32') }, index = range(len(y_pred)))"
   ]
  },
  {
   "cell_type": "markdown",
   "metadata": {},
   "source": [
    "Printing the confusion matrix for the evalution on the validation data and the metrics calculated from the matrix."
   ]
  },
  {
   "cell_type": "code",
   "execution_count": 90,
   "metadata": {},
   "outputs": [],
   "source": [
    "cm = pd.crosstab(pred_results.y_pred, pred_results.y_test)"
   ]
  },
  {
   "cell_type": "code",
   "execution_count": 91,
   "metadata": {},
   "outputs": [
    {
     "name": "stdout",
     "output_type": "stream",
     "text": [
      "Name: Neural Net, 3 Hidden Layer\n",
      "Cost Matrix: \n",
      "\n"
     ]
    },
    {
     "data": {
      "text/html": [
       "<div>\n",
       "<style scoped>\n",
       "    .dataframe tbody tr th:only-of-type {\n",
       "        vertical-align: middle;\n",
       "    }\n",
       "\n",
       "    .dataframe tbody tr th {\n",
       "        vertical-align: top;\n",
       "    }\n",
       "\n",
       "    .dataframe thead th {\n",
       "        text-align: right;\n",
       "    }\n",
       "</style>\n",
       "<table border=\"1\" class=\"dataframe\">\n",
       "  <thead>\n",
       "    <tr style=\"text-align: right;\">\n",
       "      <th>y_test</th>\n",
       "      <th>0</th>\n",
       "      <th>1</th>\n",
       "    </tr>\n",
       "    <tr>\n",
       "      <th>y_pred</th>\n",
       "      <th></th>\n",
       "      <th></th>\n",
       "    </tr>\n",
       "  </thead>\n",
       "  <tbody>\n",
       "    <tr>\n",
       "      <th>0</th>\n",
       "      <td>69491</td>\n",
       "      <td>13263</td>\n",
       "    </tr>\n",
       "    <tr>\n",
       "      <th>1</th>\n",
       "      <td>17</td>\n",
       "      <td>7672</td>\n",
       "    </tr>\n",
       "  </tbody>\n",
       "</table>\n",
       "</div>"
      ],
      "text/plain": [
       "y_test      0      1\n",
       "y_pred              \n",
       "0       69491  13263\n",
       "1          17   7672"
      ]
     },
     "metadata": {},
     "output_type": "display_data"
    },
    {
     "name": "stdout",
     "output_type": "stream",
     "text": [
      "Specificity: \n",
      "\n",
      "0.9997554238361052 \n",
      "\n",
      "Sensitivity: \n",
      "\n",
      "0.36646763792691667 \n",
      "\n",
      "Precision: \n",
      "\n",
      "0.9977890492911952 \n",
      "\n",
      "Accuracy: \n",
      "\n",
      "0.8531671881737669 \n",
      "\n"
     ]
    }
   ],
   "source": [
    "nn2_metrics = {}\n",
    "nn2_metrics['Name'] = \"Neural Net, 3 Hidden Layer\"\n",
    "nn2_metrics['CM'] = cm\n",
    "nn2_metrics['Specificity'] = cm[0][0] / (cm[0][0]+cm[0][1])\n",
    "nn2_metrics['Sensitivity'] = cm[1][1] / (cm[1][1] + cm[1][0])\n",
    "nn2_metrics['Precision'] = cm[1][1] / (cm[1][1] + cm[0][1])\n",
    "nn2_metrics['Accuracy'] = (cm[1][1] + cm[0][0]) / (cm[1][1]+cm[0][0]+cm[1][0]+cm[0][1])\n",
    "for k,v in nn2_metrics.items():\n",
    "        if k == 'Name':\n",
    "            print(k + ':', v)\n",
    "        elif k == 'CM':  \n",
    "            print(\"Cost Matrix:\",'\\n')\n",
    "            display(v)\n",
    "        else:\n",
    "            print(k + ':','\\n')\n",
    "            print(v, '\\n')"
   ]
  },
  {
   "cell_type": "markdown",
   "metadata": {},
   "source": [
    "The method `autolabel` below was modified from https://matplotlib.org/3.3.2/gallery/lines_bars_and_markers/barchart.html#sphx-glr-gallery-lines-bars-and-markers-barchart-py so that I can display the values of each bar on the bar chart below. The metric values of the networks with 1 and 3 hidden layers were very close so displaying the actual value helps with interpreting the graph."
   ]
  },
  {
   "cell_type": "code",
   "execution_count": 92,
   "metadata": {},
   "outputs": [],
   "source": [
    "def autolabel(rects):\n",
    "    for rect in rects:\n",
    "        height = rect.get_height()\n",
    "        ax.annotate('{0:.4f}'.format(height),\n",
    "                    xy=(rect.get_x() + rect.get_width() / 2, height),\n",
    "                    xytext=(0, 3),\n",
    "                    textcoords=\"offset points\",\n",
    "                    ha='center', va='bottom')"
   ]
  },
  {
   "cell_type": "markdown",
   "metadata": {},
   "source": [
    "Below I plot the validation metrics from the neural networks built with 1 and 3 hidden layers. The larger network performed slightly better in specificity, precision, and accuracy. Because of these observations I'm going to use the larger network and evalute it on the test data."
   ]
  },
  {
   "cell_type": "code",
   "execution_count": 93,
   "metadata": {},
   "outputs": [
    {
     "data": {
      "image/png": "[encoded data removed]",
      "text/plain": [
       "<Figure size 1152x648 with 1 Axes>"
      ]
     },
     "metadata": {
      "needs_background": "light"
     },
     "output_type": "display_data"
    }
   ],
   "source": [
    "fig, ax = plt.subplots(figsize=(16,9))\n",
    "width = 0.35\n",
    "labels = ['Specificity', 'Sensitivity', 'Precision', 'Accuracy']\n",
    "x = np.arange(len(labels))\n",
    "nn_1_hidden = [metrics['Specificity'], metrics['Sensitivity'], metrics['Precision'], metrics['Accuracy']]\n",
    "nn_3_hidden = [nn2_metrics['Specificity'], nn2_metrics['Sensitivity'], nn2_metrics['Precision'], nn2_metrics['Accuracy']]\n",
    "r1 = ax.bar(x - width/2, nn_1_hidden, width, label='1 Hidden Layer')\n",
    "r2 = ax.bar(x + width/2, nn_3_hidden, width, label='3 Hidden Layers')\n",
    "ax.set_ylabel('Metric Values')\n",
    "ax.set_title('Metrics for Networks with 1 and 3 Hidden Layers')\n",
    "ax.set_xticks(x)\n",
    "ax.set_xticklabels(labels)\n",
    "plt.legend()\n",
    "autolabel(r1)\n",
    "autolabel(r2)\n",
    "plt.show()"
   ]
  },
  {
   "cell_type": "markdown",
   "metadata": {},
   "source": [
    "Evaluating the larger, better performing network on the test data."
   ]
  },
  {
   "cell_type": "code",
   "execution_count": null,
   "metadata": {},
   "outputs": [],
   "source": []
  },
  {
   "cell_type": "code",
   "execution_count": 94,
   "metadata": {},
   "outputs": [],
   "source": [
    "y_pred = model.predict(x_test_n)\n",
    "y_pred = np.where(y_pred>=0.7, 1, y_pred)\n",
    "y_pred = np.where(y_pred<0.7, 0, y_pred)\n",
    "pred_results = pd.DataFrame({'y_test': y_test_n.values.flatten().astype('int32'),\n",
    "                             'y_pred': y_pred.flatten().astype('int32') }, index = range(len(y_pred)))"
   ]
  },
  {
   "cell_type": "code",
   "execution_count": 95,
   "metadata": {},
   "outputs": [
    {
     "name": "stdout",
     "output_type": "stream",
     "text": [
      "Name: Final/Tuned Neural Network\n",
      "Cost Matrix: \n",
      "\n"
     ]
    },
    {
     "data": {
      "text/html": [
       "<div>\n",
       "<style scoped>\n",
       "    .dataframe tbody tr th:only-of-type {\n",
       "        vertical-align: middle;\n",
       "    }\n",
       "\n",
       "    .dataframe tbody tr th {\n",
       "        vertical-align: top;\n",
       "    }\n",
       "\n",
       "    .dataframe thead th {\n",
       "        text-align: right;\n",
       "    }\n",
       "</style>\n",
       "<table border=\"1\" class=\"dataframe\">\n",
       "  <thead>\n",
       "    <tr style=\"text-align: right;\">\n",
       "      <th>y_test</th>\n",
       "      <th>0</th>\n",
       "      <th>1</th>\n",
       "    </tr>\n",
       "    <tr>\n",
       "      <th>y_pred</th>\n",
       "      <th></th>\n",
       "      <th></th>\n",
       "    </tr>\n",
       "  </thead>\n",
       "  <tbody>\n",
       "    <tr>\n",
       "      <th>0</th>\n",
       "      <td>186784</td>\n",
       "      <td>36380</td>\n",
       "    </tr>\n",
       "    <tr>\n",
       "      <th>1</th>\n",
       "      <td>42</td>\n",
       "      <td>20295</td>\n",
       "    </tr>\n",
       "  </tbody>\n",
       "</table>\n",
       "</div>"
      ],
      "text/plain": [
       "y_test       0      1\n",
       "y_pred               \n",
       "0       186784  36380\n",
       "1           42  20295"
      ]
     },
     "metadata": {},
     "output_type": "display_data"
    },
    {
     "name": "stdout",
     "output_type": "stream",
     "text": [
      "Specificity: \n",
      "\n",
      "0.9997751918897798 \n",
      "\n",
      "Sensitivity: \n",
      "\n",
      "0.35809439788266434 \n",
      "\n",
      "Precision: \n",
      "\n",
      "0.9979347986428677 \n",
      "\n",
      "Accuracy: \n",
      "\n",
      "0.8504236122233584 \n",
      "\n"
     ]
    }
   ],
   "source": [
    "cm = pd.crosstab(pred_results.y_pred, pred_results.y_test)\n",
    "nn_metrics = {}\n",
    "nn_metrics['Name'] = \"Final/Tuned Neural Network\"\n",
    "nn_metrics['CM'] = cm\n",
    "nn_metrics['Specificity'] = cm[0][0] / (cm[0][0]+cm[0][1])\n",
    "nn_metrics['Sensitivity'] = cm[1][1] / (cm[1][1] + cm[1][0])\n",
    "nn_metrics['Precision'] = cm[1][1] / (cm[1][1] + cm[0][1])\n",
    "nn_metrics['Accuracy'] = (cm[1][1] + cm[0][0]) / (cm[1][1]+cm[0][0]+cm[1][0]+cm[0][1])\n",
    "for k,v in nn_metrics.items():\n",
    "        if k == 'Name':\n",
    "            print(k + ':', v)\n",
    "        elif k == 'CM':  \n",
    "            print(\"Cost Matrix:\",'\\n')\n",
    "            display(v)\n",
    "        else:\n",
    "            print(k + ':','\\n')\n",
    "            print(v, '\\n')"
   ]
  },
  {
   "cell_type": "markdown",
   "metadata": {},
   "source": [
    "Saving the fit and tuned neural net model to disk."
   ]
  },
  {
   "cell_type": "code",
   "execution_count": 96,
   "metadata": {},
   "outputs": [],
   "source": [
    "model.save('fit-models/neural-net.h5')"
   ]
  },
  {
   "cell_type": "code",
   "execution_count": null,
   "metadata": {},
   "outputs": [],
   "source": [
    "# fpr_mlp, tpr_mlp, thresholds_mlp = roc_curve(pred_results.y_test, pred_results.y_pred)\n",
    "# auc_mlp = auc(fpr_mlp, tpr_mlp)"
   ]
  },
  {
   "cell_type": "markdown",
   "metadata": {},
   "source": [
    "<a id=\"unsupervised\"></a>\n",
    "# Unsupervised"
   ]
  },
  {
   "cell_type": "markdown",
   "metadata": {},
   "source": [
    "<a id=\"gmm\"></a>\n",
    "## Gaussian Mixed Model"
   ]
  },
  {
   "cell_type": "markdown",
   "metadata": {},
   "source": [
    "Instantiating the GMM class for 2 components"
   ]
  },
  {
   "cell_type": "code",
   "execution_count": null,
   "metadata": {},
   "outputs": [],
   "source": [
    "gmm = GMM(2)"
   ]
  },
  {
   "cell_type": "markdown",
   "metadata": {},
   "source": [
    "Fitting the GMM instance with the train data"
   ]
  },
  {
   "cell_type": "code",
   "execution_count": null,
   "metadata": {},
   "outputs": [],
   "source": [
    "gmm.fit(x_train_s)"
   ]
  },
  {
   "cell_type": "markdown",
   "metadata": {},
   "source": [
    "Evaluating the GMM modle on the test data and observing the confusion matrix."
   ]
  },
  {
   "cell_type": "code",
   "execution_count": null,
   "metadata": {},
   "outputs": [],
   "source": [
    "cm = pd.crosstab(gmm.predict(x_test_n).ravel(), y_test_n.values.ravel(), rownames=['pred'], colnames=['actual'])"
   ]
  },
  {
   "cell_type": "markdown",
   "metadata": {},
   "source": [
    "Displaying the confusion matrix"
   ]
  },
  {
   "cell_type": "code",
   "execution_count": null,
   "metadata": {},
   "outputs": [],
   "source": [
    "cm"
   ]
  },
  {
   "cell_type": "markdown",
   "metadata": {},
   "source": [
    "Checking if the model converged during training and it did."
   ]
  },
  {
   "cell_type": "code",
   "execution_count": null,
   "metadata": {},
   "outputs": [],
   "source": [
    "gmm.converged_"
   ]
  },
  {
   "cell_type": "markdown",
   "metadata": {},
   "source": [
    "Accuracy score on the test data."
   ]
  },
  {
   "cell_type": "code",
   "execution_count": null,
   "metadata": {},
   "outputs": [],
   "source": [
    "accuracy_score(y_test_n, gmm.predict(x_test_n))"
   ]
  },
  {
   "cell_type": "markdown",
   "metadata": {},
   "source": [
    "Precision Score on the test data."
   ]
  },
  {
   "cell_type": "code",
   "execution_count": null,
   "metadata": {},
   "outputs": [],
   "source": [
    "precision_score(y_test_n, gmm.predict(x_test_n))"
   ]
  },
  {
   "cell_type": "markdown",
   "metadata": {},
   "source": [
    "Sensitivity of the test data."
   ]
  },
  {
   "cell_type": "code",
   "execution_count": null,
   "metadata": {},
   "outputs": [],
   "source": [
    "print(recall_score(y_test_n, gmm.predict(x_test_n)))\n",
    "sens = cm[1][1] / (cm[1][1] + cm[1][0])\n",
    "print(sens)"
   ]
  },
  {
   "cell_type": "markdown",
   "metadata": {},
   "source": [
    "Specificity of the Test Data."
   ]
  },
  {
   "cell_type": "code",
   "execution_count": null,
   "metadata": {},
   "outputs": [],
   "source": [
    "tnr = cm[0][0] / (cm[0][0]+cm[0][1])\n",
    "tnr"
   ]
  },
  {
   "cell_type": "markdown",
   "metadata": {},
   "source": [
    "Storing the model so I can graph it's ROC Curve later."
   ]
  },
  {
   "cell_type": "code",
   "execution_count": null,
   "metadata": {},
   "outputs": [],
   "source": [
    "gmm_model = gmm"
   ]
  },
  {
   "cell_type": "code",
   "execution_count": null,
   "metadata": {},
   "outputs": [],
   "source": [
    "dump(gmm, 'gmm.joblib')"
   ]
  },
  {
   "cell_type": "markdown",
   "metadata": {},
   "source": [
    "<a id=\"kmean\"></a>\n",
    "## K-Means"
   ]
  },
  {
   "cell_type": "code",
   "execution_count": null,
   "metadata": {},
   "outputs": [],
   "source": [
    "kmeans = KMeans(n_clusters=2, n_init=50, max_iter=500,random_state=10)"
   ]
  },
  {
   "cell_type": "code",
   "execution_count": null,
   "metadata": {},
   "outputs": [],
   "source": [
    "c_space_X = kmeans.fit_transform(x_train_n)"
   ]
  },
  {
   "cell_type": "code",
   "execution_count": null,
   "metadata": {},
   "outputs": [],
   "source": [
    "c_space_X"
   ]
  },
  {
   "cell_type": "code",
   "execution_count": null,
   "metadata": {},
   "outputs": [],
   "source": [
    "plt.scatter(c_space_X[:,0], c_space_X[:,1], c=y_train_n.values)"
   ]
  },
  {
   "cell_type": "code",
   "execution_count": null,
   "metadata": {},
   "outputs": [],
   "source": [
    "cm = pd.crosstab(kmeans.predict(x_test_n).ravel(), y_test_n.values.ravel(), rownames=['pred'], colnames=['actual'])\n",
    "cm"
   ]
  },
  {
   "cell_type": "code",
   "execution_count": null,
   "metadata": {},
   "outputs": [],
   "source": [
    "accuracy_score(y_test_n, kmeans.predict(x_test_n))"
   ]
  },
  {
   "cell_type": "code",
   "execution_count": null,
   "metadata": {},
   "outputs": [],
   "source": [
    "precision_score(y_test_n, kmeans.predict(x_test_n))"
   ]
  },
  {
   "cell_type": "code",
   "execution_count": null,
   "metadata": {},
   "outputs": [],
   "source": [
    "print(recall_score(y_test_n, kmeans.predict(x_test_n)))\n",
    "sens = cm[1][1] / (cm[1][1] + cm[1][0])\n",
    "print(sens)"
   ]
  },
  {
   "cell_type": "code",
   "execution_count": null,
   "metadata": {},
   "outputs": [],
   "source": [
    "tnr = cm[0][0] / (cm[0][0]+cm[0][1])\n",
    "tnr"
   ]
  },
  {
   "cell_type": "code",
   "execution_count": null,
   "metadata": {},
   "outputs": [],
   "source": [
    "dump(kmeans, 'kmeans.joblib')"
   ]
  },
  {
   "cell_type": "code",
   "execution_count": null,
   "metadata": {},
   "outputs": [],
   "source": [
    "df_not_one_hot = pd.read_csv('data/no_one_hot_data.csv')\n",
    "df_X = df_not_one_hot.sample(frac=.60)\n",
    "df_y = df_not_one_hot[\"DNF\"].loc[df_X.index]"
   ]
  },
  {
   "cell_type": "code",
   "execution_count": null,
   "metadata": {},
   "outputs": [],
   "source": [
    "c_space_X = kmeans.fit_transform(df_X.values[:,:-1])"
   ]
  },
  {
   "cell_type": "code",
   "execution_count": null,
   "metadata": {},
   "outputs": [],
   "source": [
    "plt.scatter(c_space_X[:,0], c_space_X[:,1], c=df_y.values)"
   ]
  },
  {
   "cell_type": "markdown",
   "metadata": {},
   "source": [
    "<a id=\"pca\"></a>\n",
    "## Primary Component Analysis"
   ]
  },
  {
   "cell_type": "code",
   "execution_count": null,
   "metadata": {},
   "outputs": [],
   "source": [
    "pca = PCA(2)"
   ]
  },
  {
   "cell_type": "code",
   "execution_count": null,
   "metadata": {},
   "outputs": [],
   "source": [
    "X_pca = pca.fit_transform(x_train_s)"
   ]
  },
  {
   "cell_type": "code",
   "execution_count": null,
   "metadata": {},
   "outputs": [],
   "source": [
    "X_pca"
   ]
  },
  {
   "cell_type": "code",
   "execution_count": null,
   "metadata": {},
   "outputs": [],
   "source": [
    "plt.scatter(X_pca[:,0], X_pca[:,1], c = y_train_s.values)"
   ]
  },
  {
   "cell_type": "code",
   "execution_count": null,
   "metadata": {},
   "outputs": [],
   "source": [
    "pca.score_samples(x_test_s)"
   ]
  },
  {
   "cell_type": "code",
   "execution_count": null,
   "metadata": {},
   "outputs": [],
   "source": [
    "X_pca = pca.fit_transform(df_X.values[:,:-1])"
   ]
  },
  {
   "cell_type": "code",
   "execution_count": null,
   "metadata": {},
   "outputs": [],
   "source": [
    "plt.scatter(X_pca[:,0], X_pca[:,1], c = df_y.values)"
   ]
  },
  {
   "cell_type": "code",
   "execution_count": null,
   "metadata": {},
   "outputs": [],
   "source": [
    "dump(pca,'pca.joblib')"
   ]
  },
  {
   "cell_type": "code",
   "execution_count": null,
   "metadata": {},
   "outputs": [],
   "source": []
  },
  {
   "cell_type": "markdown",
   "metadata": {},
   "source": [
    "<a id=\"ipca\"></a>\n",
    "## Incremental Primary Component Analysis"
   ]
  },
  {
   "cell_type": "code",
   "execution_count": null,
   "metadata": {},
   "outputs": [],
   "source": [
    "ipca = IncrementalPCA(2)"
   ]
  },
  {
   "cell_type": "code",
   "execution_count": null,
   "metadata": {},
   "outputs": [],
   "source": [
    "X_ipca = ipca.fit_transform(x_train_s)"
   ]
  },
  {
   "cell_type": "code",
   "execution_count": null,
   "metadata": {},
   "outputs": [],
   "source": [
    "plt.scatter(X_ipca[:,0], X_ipca[:,1], c = y_train_s.values)"
   ]
  },
  {
   "cell_type": "code",
   "execution_count": null,
   "metadata": {},
   "outputs": [],
   "source": [
    "dump(ipca,'ipca.joblib')"
   ]
  },
  {
   "cell_type": "markdown",
   "metadata": {},
   "source": [
    "<a id=\"results\"></a>\n",
    "# Results"
   ]
  },
  {
   "cell_type": "markdown",
   "metadata": {},
   "source": [
    "<a id='roc'></a>\n",
    "## ROC Curves"
   ]
  },
  {
   "cell_type": "code",
   "execution_count": null,
   "metadata": {},
   "outputs": [],
   "source": [
    "fig, ax = plt.subplots() \n",
    "plot_roc_curve(lr, x_test_n, y_test_n, ax=ax)\n",
    "plot_roc_curve(ada, x_test_s, y_test_s, ax=ax)\n",
    "plot_roc_curve(rf, x_test_s, y_test_s, ax=ax)\n",
    "# ax.plot(fpr_mlp, tpr_mlp, label='Multilayer Perceptron (AUC = {:.2f})'.format(auc_mlp))\n",
    "ax.plot([0,1], [0,1], label='Pure Random Classifier', 'b-')\n",
    "plot_roc_curve(svm, x_test_n, y_test_n, ax=ax)\n",
    "plot_roc_curve(gmm, x_test_s,y_test_s, ax=ax)\n",
    "plt.legend()\n",
    "plt.show()"
   ]
  }
 ],
 "metadata": {
  "kernelspec": {
   "display_name": "Python 3",
   "language": "python",
   "name": "python3"
  },
  "language_info": {
   "codemirror_mode": {
    "name": "ipython",
    "version": 3
   },
   "file_extension": ".py",
   "mimetype": "text/x-python",
   "name": "python",
   "nbconvert_exporter": "python",
   "pygments_lexer": "ipython3",
   "version": "3.8.2"
  }
 },
 "nbformat": 4,
 "nbformat_minor": 4
}
